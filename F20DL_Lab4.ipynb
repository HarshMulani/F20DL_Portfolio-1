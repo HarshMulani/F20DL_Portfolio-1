{
  "nbformat": 4,
  "nbformat_minor": 0,
  "metadata": {
    "colab": {
      "provenance": [],
      "collapsed_sections": []
    },
    "kernelspec": {
      "name": "python3",
      "display_name": "Python 3"
    },
    "language_info": {
      "name": "python"
    }
  },
  "cells": [
    {
      "cell_type": "code",
      "source": [
        "!pip install --upgrade pip"
      ],
      "metadata": {
        "id": "JVA8S480b6lm"
      },
      "execution_count": null,
      "outputs": []
    },
    {
      "cell_type": "code",
      "source": [
        "!pip install rdflib"
      ],
      "metadata": {
        "id": "Hdw6DxL4cUzh"
      },
      "execution_count": null,
      "outputs": []
    },
    {
      "cell_type": "code",
      "source": [
        "!pip install pyshacl"
      ],
      "metadata": {
        "id": "lmRZ70TccdGo"
      },
      "execution_count": null,
      "outputs": []
    },
    {
      "cell_type": "code",
      "source": [
        "!pip install rdflib-jsonld"
      ],
      "metadata": {
        "id": "4ZqVmHRUhF-c"
      },
      "execution_count": null,
      "outputs": []
    },
    {
      "cell_type": "code",
      "source": [
        "!pip install -U seaborn scikit-learn"
      ],
      "metadata": {
        "id": "uDMs33hDcG3i"
      },
      "execution_count": null,
      "outputs": []
    },
    {
      "cell_type": "code",
      "source": [
        "from datetime import date\n",
        "from io import BytesIO\n",
        "from IPython import display\n",
        "from sklearn.datasets import load_breast_cancer\n",
        "from sklearn.ensemble import GradientBoostingClassifier\n",
        "from sklearn.model_selection import train_test_split\n",
        "from sklearn.metrics import plot_roc_curve, plot_confusion_matrix\n",
        "\n",
        "import base64\n",
        "import matplotlib.pyplot as plt\n",
        "import pandas as pd\n",
        "import seaborn as sns\n",
        "import uuid"
      ],
      "metadata": {
        "id": "NLKpsmHncl7H"
      },
      "execution_count": null,
      "outputs": []
    },
    {
      "cell_type": "code",
      "source": [
        "cancer = load_breast_cancer()\n",
        "\n",
        "X = pd.DataFrame(cancer.data, columns=cancer.feature_names)\n",
        "y = pd.Series(cancer.target)\n",
        "\n",
        "X_train, X_test, y_train, y_test = train_test_split(X, y)"
      ],
      "metadata": {
        "id": "A0rMvoZWpgcN"
      },
      "execution_count": null,
      "outputs": []
    },
    {
      "cell_type": "code",
      "source": [
        "X_train.head()"
      ],
      "metadata": {
        "colab": {
          "base_uri": "https://localhost:8080/",
          "height": 314
        },
        "id": "oxJyNLxMllbf",
        "outputId": "5627d008-c2a1-4534-b35a-1270efb9d5cf"
      },
      "execution_count": null,
      "outputs": [
        {
          "output_type": "execute_result",
          "data": {
            "text/plain": [
              "     mean radius  mean texture  mean perimeter  mean area  mean smoothness  \\\n",
              "197       18.080         21.84          117.40     1024.0          0.07371   \n",
              "447       14.800         17.66           95.88      674.8          0.09179   \n",
              "382       12.050         22.72           78.75      447.8          0.06935   \n",
              "273        9.742         15.67           61.50      289.9          0.09037   \n",
              "505        9.676         13.14           64.12      272.5          0.12550   \n",
              "\n",
              "     mean compactness  mean concavity  mean concave points  mean symmetry  \\\n",
              "197           0.08642         0.11030              0.05778         0.1770   \n",
              "447           0.08890         0.04069              0.02260         0.1893   \n",
              "382           0.10730         0.07943              0.02978         0.1203   \n",
              "273           0.04689         0.01103              0.01407         0.2081   \n",
              "505           0.22040         0.11880              0.07038         0.2057   \n",
              "\n",
              "     mean fractal dimension  ...  worst radius  worst texture  \\\n",
              "197                 0.05340  ...         19.76          24.70   \n",
              "447                 0.05886  ...         16.43          22.74   \n",
              "382                 0.06659  ...         12.57          28.71   \n",
              "273                 0.06312  ...         10.75          20.88   \n",
              "505                 0.09575  ...         10.60          18.04   \n",
              "\n",
              "     worst perimeter  worst area  worst smoothness  worst compactness  \\\n",
              "197           129.10      1228.0           0.08822             0.1963   \n",
              "447           105.90       829.5           0.12260             0.1881   \n",
              "382            87.36       488.4           0.08799             0.3214   \n",
              "273            68.09       355.2           0.14670             0.0937   \n",
              "505            69.47       328.1           0.20060             0.3663   \n",
              "\n",
              "     worst concavity  worst concave points  worst symmetry  \\\n",
              "197          0.25350               0.09181          0.2369   \n",
              "447          0.20600               0.08308          0.3600   \n",
              "382          0.29120               0.10920          0.2191   \n",
              "273          0.04043               0.05159          0.2841   \n",
              "505          0.29130               0.10750          0.2848   \n",
              "\n",
              "     worst fractal dimension  \n",
              "197                  0.06558  \n",
              "447                  0.07285  \n",
              "382                  0.09349  \n",
              "273                  0.08175  \n",
              "505                  0.13640  \n",
              "\n",
              "[5 rows x 30 columns]"
            ],
            "text/html": [
              "\n",
              "  <div id=\"df-5888d378-71e3-4691-b36d-1250a3788e6e\">\n",
              "    <div class=\"colab-df-container\">\n",
              "      <div>\n",
              "<style scoped>\n",
              "    .dataframe tbody tr th:only-of-type {\n",
              "        vertical-align: middle;\n",
              "    }\n",
              "\n",
              "    .dataframe tbody tr th {\n",
              "        vertical-align: top;\n",
              "    }\n",
              "\n",
              "    .dataframe thead th {\n",
              "        text-align: right;\n",
              "    }\n",
              "</style>\n",
              "<table border=\"1\" class=\"dataframe\">\n",
              "  <thead>\n",
              "    <tr style=\"text-align: right;\">\n",
              "      <th></th>\n",
              "      <th>mean radius</th>\n",
              "      <th>mean texture</th>\n",
              "      <th>mean perimeter</th>\n",
              "      <th>mean area</th>\n",
              "      <th>mean smoothness</th>\n",
              "      <th>mean compactness</th>\n",
              "      <th>mean concavity</th>\n",
              "      <th>mean concave points</th>\n",
              "      <th>mean symmetry</th>\n",
              "      <th>mean fractal dimension</th>\n",
              "      <th>...</th>\n",
              "      <th>worst radius</th>\n",
              "      <th>worst texture</th>\n",
              "      <th>worst perimeter</th>\n",
              "      <th>worst area</th>\n",
              "      <th>worst smoothness</th>\n",
              "      <th>worst compactness</th>\n",
              "      <th>worst concavity</th>\n",
              "      <th>worst concave points</th>\n",
              "      <th>worst symmetry</th>\n",
              "      <th>worst fractal dimension</th>\n",
              "    </tr>\n",
              "  </thead>\n",
              "  <tbody>\n",
              "    <tr>\n",
              "      <th>197</th>\n",
              "      <td>18.080</td>\n",
              "      <td>21.84</td>\n",
              "      <td>117.40</td>\n",
              "      <td>1024.0</td>\n",
              "      <td>0.07371</td>\n",
              "      <td>0.08642</td>\n",
              "      <td>0.11030</td>\n",
              "      <td>0.05778</td>\n",
              "      <td>0.1770</td>\n",
              "      <td>0.05340</td>\n",
              "      <td>...</td>\n",
              "      <td>19.76</td>\n",
              "      <td>24.70</td>\n",
              "      <td>129.10</td>\n",
              "      <td>1228.0</td>\n",
              "      <td>0.08822</td>\n",
              "      <td>0.1963</td>\n",
              "      <td>0.25350</td>\n",
              "      <td>0.09181</td>\n",
              "      <td>0.2369</td>\n",
              "      <td>0.06558</td>\n",
              "    </tr>\n",
              "    <tr>\n",
              "      <th>447</th>\n",
              "      <td>14.800</td>\n",
              "      <td>17.66</td>\n",
              "      <td>95.88</td>\n",
              "      <td>674.8</td>\n",
              "      <td>0.09179</td>\n",
              "      <td>0.08890</td>\n",
              "      <td>0.04069</td>\n",
              "      <td>0.02260</td>\n",
              "      <td>0.1893</td>\n",
              "      <td>0.05886</td>\n",
              "      <td>...</td>\n",
              "      <td>16.43</td>\n",
              "      <td>22.74</td>\n",
              "      <td>105.90</td>\n",
              "      <td>829.5</td>\n",
              "      <td>0.12260</td>\n",
              "      <td>0.1881</td>\n",
              "      <td>0.20600</td>\n",
              "      <td>0.08308</td>\n",
              "      <td>0.3600</td>\n",
              "      <td>0.07285</td>\n",
              "    </tr>\n",
              "    <tr>\n",
              "      <th>382</th>\n",
              "      <td>12.050</td>\n",
              "      <td>22.72</td>\n",
              "      <td>78.75</td>\n",
              "      <td>447.8</td>\n",
              "      <td>0.06935</td>\n",
              "      <td>0.10730</td>\n",
              "      <td>0.07943</td>\n",
              "      <td>0.02978</td>\n",
              "      <td>0.1203</td>\n",
              "      <td>0.06659</td>\n",
              "      <td>...</td>\n",
              "      <td>12.57</td>\n",
              "      <td>28.71</td>\n",
              "      <td>87.36</td>\n",
              "      <td>488.4</td>\n",
              "      <td>0.08799</td>\n",
              "      <td>0.3214</td>\n",
              "      <td>0.29120</td>\n",
              "      <td>0.10920</td>\n",
              "      <td>0.2191</td>\n",
              "      <td>0.09349</td>\n",
              "    </tr>\n",
              "    <tr>\n",
              "      <th>273</th>\n",
              "      <td>9.742</td>\n",
              "      <td>15.67</td>\n",
              "      <td>61.50</td>\n",
              "      <td>289.9</td>\n",
              "      <td>0.09037</td>\n",
              "      <td>0.04689</td>\n",
              "      <td>0.01103</td>\n",
              "      <td>0.01407</td>\n",
              "      <td>0.2081</td>\n",
              "      <td>0.06312</td>\n",
              "      <td>...</td>\n",
              "      <td>10.75</td>\n",
              "      <td>20.88</td>\n",
              "      <td>68.09</td>\n",
              "      <td>355.2</td>\n",
              "      <td>0.14670</td>\n",
              "      <td>0.0937</td>\n",
              "      <td>0.04043</td>\n",
              "      <td>0.05159</td>\n",
              "      <td>0.2841</td>\n",
              "      <td>0.08175</td>\n",
              "    </tr>\n",
              "    <tr>\n",
              "      <th>505</th>\n",
              "      <td>9.676</td>\n",
              "      <td>13.14</td>\n",
              "      <td>64.12</td>\n",
              "      <td>272.5</td>\n",
              "      <td>0.12550</td>\n",
              "      <td>0.22040</td>\n",
              "      <td>0.11880</td>\n",
              "      <td>0.07038</td>\n",
              "      <td>0.2057</td>\n",
              "      <td>0.09575</td>\n",
              "      <td>...</td>\n",
              "      <td>10.60</td>\n",
              "      <td>18.04</td>\n",
              "      <td>69.47</td>\n",
              "      <td>328.1</td>\n",
              "      <td>0.20060</td>\n",
              "      <td>0.3663</td>\n",
              "      <td>0.29130</td>\n",
              "      <td>0.10750</td>\n",
              "      <td>0.2848</td>\n",
              "      <td>0.13640</td>\n",
              "    </tr>\n",
              "  </tbody>\n",
              "</table>\n",
              "<p>5 rows × 30 columns</p>\n",
              "</div>\n",
              "      <button class=\"colab-df-convert\" onclick=\"convertToInteractive('df-5888d378-71e3-4691-b36d-1250a3788e6e')\"\n",
              "              title=\"Convert this dataframe to an interactive table.\"\n",
              "              style=\"display:none;\">\n",
              "        \n",
              "  <svg xmlns=\"http://www.w3.org/2000/svg\" height=\"24px\"viewBox=\"0 0 24 24\"\n",
              "       width=\"24px\">\n",
              "    <path d=\"M0 0h24v24H0V0z\" fill=\"none\"/>\n",
              "    <path d=\"M18.56 5.44l.94 2.06.94-2.06 2.06-.94-2.06-.94-.94-2.06-.94 2.06-2.06.94zm-11 1L8.5 8.5l.94-2.06 2.06-.94-2.06-.94L8.5 2.5l-.94 2.06-2.06.94zm10 10l.94 2.06.94-2.06 2.06-.94-2.06-.94-.94-2.06-.94 2.06-2.06.94z\"/><path d=\"M17.41 7.96l-1.37-1.37c-.4-.4-.92-.59-1.43-.59-.52 0-1.04.2-1.43.59L10.3 9.45l-7.72 7.72c-.78.78-.78 2.05 0 2.83L4 21.41c.39.39.9.59 1.41.59.51 0 1.02-.2 1.41-.59l7.78-7.78 2.81-2.81c.8-.78.8-2.07 0-2.86zM5.41 20L4 18.59l7.72-7.72 1.47 1.35L5.41 20z\"/>\n",
              "  </svg>\n",
              "      </button>\n",
              "      \n",
              "  <style>\n",
              "    .colab-df-container {\n",
              "      display:flex;\n",
              "      flex-wrap:wrap;\n",
              "      gap: 12px;\n",
              "    }\n",
              "\n",
              "    .colab-df-convert {\n",
              "      background-color: #E8F0FE;\n",
              "      border: none;\n",
              "      border-radius: 50%;\n",
              "      cursor: pointer;\n",
              "      display: none;\n",
              "      fill: #1967D2;\n",
              "      height: 32px;\n",
              "      padding: 0 0 0 0;\n",
              "      width: 32px;\n",
              "    }\n",
              "\n",
              "    .colab-df-convert:hover {\n",
              "      background-color: #E2EBFA;\n",
              "      box-shadow: 0px 1px 2px rgba(60, 64, 67, 0.3), 0px 1px 3px 1px rgba(60, 64, 67, 0.15);\n",
              "      fill: #174EA6;\n",
              "    }\n",
              "\n",
              "    [theme=dark] .colab-df-convert {\n",
              "      background-color: #3B4455;\n",
              "      fill: #D2E3FC;\n",
              "    }\n",
              "\n",
              "    [theme=dark] .colab-df-convert:hover {\n",
              "      background-color: #434B5C;\n",
              "      box-shadow: 0px 1px 3px 1px rgba(0, 0, 0, 0.15);\n",
              "      filter: drop-shadow(0px 1px 2px rgba(0, 0, 0, 0.3));\n",
              "      fill: #FFFFFF;\n",
              "    }\n",
              "  </style>\n",
              "\n",
              "      <script>\n",
              "        const buttonEl =\n",
              "          document.querySelector('#df-5888d378-71e3-4691-b36d-1250a3788e6e button.colab-df-convert');\n",
              "        buttonEl.style.display =\n",
              "          google.colab.kernel.accessAllowed ? 'block' : 'none';\n",
              "\n",
              "        async function convertToInteractive(key) {\n",
              "          const element = document.querySelector('#df-5888d378-71e3-4691-b36d-1250a3788e6e');\n",
              "          const dataTable =\n",
              "            await google.colab.kernel.invokeFunction('convertToInteractive',\n",
              "                                                     [key], {});\n",
              "          if (!dataTable) return;\n",
              "\n",
              "          const docLinkHtml = 'Like what you see? Visit the ' +\n",
              "            '<a target=\"_blank\" href=https://colab.research.google.com/notebooks/data_table.ipynb>data table notebook</a>'\n",
              "            + ' to learn more about interactive tables.';\n",
              "          element.innerHTML = '';\n",
              "          dataTable['output_type'] = 'display_data';\n",
              "          await google.colab.output.renderOutput(dataTable, element);\n",
              "          const docLink = document.createElement('div');\n",
              "          docLink.innerHTML = docLinkHtml;\n",
              "          element.appendChild(docLink);\n",
              "        }\n",
              "      </script>\n",
              "    </div>\n",
              "  </div>\n",
              "  "
            ]
          },
          "metadata": {},
          "execution_count": 13
        }
      ]
    },
    {
      "cell_type": "code",
      "source": [
        "y_train.head()"
      ],
      "metadata": {
        "colab": {
          "base_uri": "https://localhost:8080/"
        },
        "id": "BNmBTltHlqsq",
        "outputId": "d3a8c795-2e7e-4737-f3a7-d0a6ef5a5025"
      },
      "execution_count": null,
      "outputs": [
        {
          "output_type": "execute_result",
          "data": {
            "text/plain": [
              "197    0\n",
              "447    1\n",
              "382    1\n",
              "273    1\n",
              "505    1\n",
              "dtype: int64"
            ]
          },
          "metadata": {},
          "execution_count": 14
        }
      ]
    },
    {
      "cell_type": "markdown",
      "source": [
        "**Plot data**"
      ],
      "metadata": {
        "id": "K7qZzrnylzuj"
      }
    },
    {
      "cell_type": "code",
      "source": [
        "def plot_to_str():\n",
        "    img = BytesIO()\n",
        "    plt.savefig(img, format='png')\n",
        "    return base64.encodebytes(img.getvalue()).decode('utf-8')"
      ],
      "metadata": {
        "id": "FQvWVCEhlt8-"
      },
      "execution_count": null,
      "outputs": []
    },
    {
      "cell_type": "code",
      "source": [
        "sns.displot(x=X_train['mean radius'], hue=y_train)\n",
        "mean_radius_train = plot_to_str()\n",
        "\n",
        "sns.displot(x=X_test['mean radius'], hue=y_test)\n",
        "mean_radius_test = plot_to_str()"
      ],
      "metadata": {
        "colab": {
          "base_uri": "https://localhost:8080/",
          "height": 721
        },
        "id": "zg4BdgNWl7Yf",
        "outputId": "a7c1f7bf-a15d-4ce7-f68c-a10d3b3abb53"
      },
      "execution_count": null,
      "outputs": [
        {
          "output_type": "display_data",
          "data": {
            "text/plain": [
              "<Figure size 402.375x360 with 1 Axes>"
            ],
            "image/png": "[encoded data removed]"
          },
          "metadata": {
            "needs_background": "light"
          }
        },
        {
          "output_type": "display_data",
          "data": {
            "text/plain": [
              "<Figure size 402.375x360 with 1 Axes>"
            ],
            "image/png": "[encoded data removed]"
          },
          "metadata": {
            "needs_background": "light"
          }
        }
      ]
    },
    {
      "cell_type": "code",
      "source": [
        "sns.displot(x=X_train['mean texture'], hue=y_train)\n",
        "mean_texture_train = plot_to_str()\n",
        "\n",
        "sns.displot(x=X_test['mean texture'], hue=y_test)\n",
        "mean_texture_test = plot_to_str()"
      ],
      "metadata": {
        "colab": {
          "base_uri": "https://localhost:8080/",
          "height": 721
        },
        "id": "JS2G9BlZl_ym",
        "outputId": "9b7ddc3f-450a-4828-df11-f7208b116fe8"
      },
      "execution_count": null,
      "outputs": [
        {
          "output_type": "display_data",
          "data": {
            "text/plain": [
              "<Figure size 402.375x360 with 1 Axes>"
            ],
            "image/png": "[encoded data removed]"
          },
          "metadata": {
            "needs_background": "light"
          }
        },
        {
          "output_type": "display_data",
          "data": {
            "text/plain": [
              "<Figure size 402.375x360 with 1 Axes>"
            ],
            "image/png": "[encoded data removed]"
          },
          "metadata": {
            "needs_background": "light"
          }
        }
      ]
    },
    {
      "cell_type": "code",
      "source": [
        "clf = GradientBoostingClassifier().fit(X_train, y_train)"
      ],
      "metadata": {
        "id": "DKeWtfEXmIfs"
      },
      "execution_count": null,
      "outputs": []
    },
    {
      "cell_type": "code",
      "source": [
        "plot_roc_curve(clf, X_test, y_test)\n",
        "roc_curve = plot_to_str()"
      ],
      "metadata": {
        "colab": {
          "base_uri": "https://localhost:8080/",
          "height": 334
        },
        "id": "4uMzpRlwmPki",
        "outputId": "6c776e60-7c6e-4a89-8b85-491db6e7371d"
      },
      "execution_count": null,
      "outputs": [
        {
          "output_type": "stream",
          "name": "stderr",
          "text": [
            "/usr/local/lib/python3.7/dist-packages/sklearn/utils/deprecation.py:87: FutureWarning: Function plot_roc_curve is deprecated; Function :func:`plot_roc_curve` is deprecated in 1.0 and will be removed in 1.2. Use one of the class methods: :meth:`sklearn.metric.RocCurveDisplay.from_predictions` or :meth:`sklearn.metric.RocCurveDisplay.from_estimator`.\n",
            "  warnings.warn(msg, category=FutureWarning)\n"
          ]
        },
        {
          "output_type": "display_data",
          "data": {
            "text/plain": [
              "<Figure size 432x288 with 1 Axes>"
            ],
            "image/png": "[encoded data removed]"
          },
          "metadata": {
            "needs_background": "light"
          }
        }
      ]
    },
    {
      "cell_type": "code",
      "source": [
        "plot_confusion_matrix(clf, X_test, y_test)\n",
        "confusion_matrix = plot_to_str()"
      ],
      "metadata": {
        "colab": {
          "base_uri": "https://localhost:8080/",
          "height": 334
        },
        "id": "4yqV7fqnmT8S",
        "outputId": "895c3098-ce96-492f-d8a9-0292785f3c7c"
      },
      "execution_count": null,
      "outputs": [
        {
          "output_type": "stream",
          "name": "stderr",
          "text": [
            "/usr/local/lib/python3.7/dist-packages/sklearn/utils/deprecation.py:87: FutureWarning: Function plot_confusion_matrix is deprecated; Function `plot_confusion_matrix` is deprecated in 1.0 and will be removed in 1.2. Use one of the class methods: ConfusionMatrixDisplay.from_predictions or ConfusionMatrixDisplay.from_estimator.\n",
            "  warnings.warn(msg, category=FutureWarning)\n"
          ]
        },
        {
          "output_type": "display_data",
          "data": {
            "text/plain": [
              "<Figure size 432x288 with 2 Axes>"
            ],
            "image/png": "[encoded data removed]"
          },
          "metadata": {
            "needs_background": "light"
          }
        }
      ]
    }
  ]
}