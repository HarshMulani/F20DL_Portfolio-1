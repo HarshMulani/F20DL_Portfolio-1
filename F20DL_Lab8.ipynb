{
  "cells": [
    {
      "cell_type": "markdown",
      "id": "alert-synthesis",
      "metadata": {
        "_cell_guid": "b1076dfc-b9ad-4769-8c92-a6c4dae69d19",
        "_uuid": "8f2839f25d086af736a60e9eeb907d3b93b6e0e5",
        "papermill": {
          "duration": 0.06277,
          "end_time": "2021-05-27T10:16:38.749712",
          "exception": false,
          "start_time": "2021-05-27T10:16:38.686942",
          "status": "completed"
        },
        "tags": [],
        "id": "alert-synthesis"
      },
      "source": [
        "# Breast Cancer Classification"
      ]
    },
    {
      "cell_type": "markdown",
      "id": "hollywood-nepal",
      "metadata": {
        "papermill": {
          "duration": 0.06093,
          "end_time": "2021-05-27T10:16:38.997898",
          "exception": false,
          "start_time": "2021-05-27T10:16:38.936968",
          "status": "completed"
        },
        "tags": [],
        "id": "hollywood-nepal"
      },
      "source": [
        "##  Importing Packages"
      ]
    },
    {
      "cell_type": "code",
      "execution_count": 1,
      "id": "determined-fundamental",
      "metadata": {
        "execution": {
          "iopub.execute_input": "2021-05-27T10:16:39.130854Z",
          "iopub.status.busy": "2021-05-27T10:16:39.128871Z",
          "iopub.status.idle": "2021-05-27T10:16:40.018462Z",
          "shell.execute_reply": "2021-05-27T10:16:40.017517Z"
        },
        "papermill": {
          "duration": 0.958883,
          "end_time": "2021-05-27T10:16:40.018651",
          "exception": false,
          "start_time": "2021-05-27T10:16:39.059768",
          "status": "completed"
        },
        "tags": [],
        "id": "determined-fundamental"
      },
      "outputs": [],
      "source": [
        "# Importing libraries\n",
        "\n",
        "import pandas as pd\n",
        "import numpy as np\n",
        "import seaborn as sns\n",
        "import matplotlib.pyplot as plt\n",
        "import missingno as msno\n",
        "\n",
        "import warnings\n",
        "warnings.filterwarnings('ignore')\n",
        "\n",
        "\n",
        "plt.style.use('ggplot')"
      ]
    },
    {
      "cell_type": "markdown",
      "id": "apparent-convenience",
      "metadata": {
        "papermill": {
          "duration": 0.062617,
          "end_time": "2021-05-27T10:16:40.145173",
          "exception": false,
          "start_time": "2021-05-27T10:16:40.082556",
          "status": "completed"
        },
        "tags": [],
        "id": "apparent-convenience"
      },
      "source": [
        "## Load the data"
      ]
    },
    {
      "cell_type": "code",
      "source": [
        "!wget https://www2.macs.hw.ac.uk/~js2001/data.csv --no-check-certificate"
      ],
      "metadata": {
        "colab": {
          "base_uri": "https://localhost:8080/"
        },
        "id": "ditP6TxVftNc",
        "outputId": "f2e7daac-2fa6-4845-baec-d687ee20a742"
      },
      "id": "ditP6TxVftNc",
      "execution_count": 3,
      "outputs": [
        {
          "output_type": "stream",
          "name": "stdout",
          "text": [
            "--2022-10-29 20:47:39--  https://www2.macs.hw.ac.uk/~js2001/data.csv\n",
            "Resolving www2.macs.hw.ac.uk (www2.macs.hw.ac.uk)... 137.195.15.99\n",
            "Connecting to www2.macs.hw.ac.uk (www2.macs.hw.ac.uk)|137.195.15.99|:443... connected.\n",
            "WARNING: cannot verify www2.macs.hw.ac.uk's certificate, issued by ‘CN=GEANT OV RSA CA 4,O=GEANT Vereniging,C=NL’:\n",
            "  Unable to locally verify the issuer's authority.\n",
            "HTTP request sent, awaiting response... 200 OK\n",
            "Length: 125204 (122K) [text/csv]\n",
            "Saving to: ‘data.csv’\n",
            "\n",
            "data.csv            100%[===================>] 122.27K  --.-KB/s    in 0.06s   \n",
            "\n",
            "2022-10-29 20:47:39 (1.92 MB/s) - ‘data.csv’ saved [125204/125204]\n",
            "\n"
          ]
        }
      ]
    },
    {
      "cell_type": "code",
      "execution_count": 4,
      "id": "solved-vintage",
      "metadata": {
        "execution": {
          "iopub.execute_input": "2021-05-27T10:16:40.273145Z",
          "iopub.status.busy": "2021-05-27T10:16:40.272155Z",
          "iopub.status.idle": "2021-05-27T10:16:40.301670Z",
          "shell.execute_reply": "2021-05-27T10:16:40.300998Z"
        },
        "papermill": {
          "duration": 0.094155,
          "end_time": "2021-05-27T10:16:40.301817",
          "exception": false,
          "start_time": "2021-05-27T10:16:40.207662",
          "status": "completed"
        },
        "tags": [],
        "id": "solved-vintage"
      },
      "outputs": [],
      "source": [
        "df = pd.read_csv('data.csv')"
      ]
    },
    {
      "cell_type": "code",
      "execution_count": 5,
      "id": "theoretical-receiver",
      "metadata": {
        "execution": {
          "iopub.execute_input": "2021-05-27T10:16:40.433077Z",
          "iopub.status.busy": "2021-05-27T10:16:40.432127Z",
          "iopub.status.idle": "2021-05-27T10:16:40.480615Z",
          "shell.execute_reply": "2021-05-27T10:16:40.481055Z"
        },
        "papermill": {
          "duration": 0.11542,
          "end_time": "2021-05-27T10:16:40.481256",
          "exception": false,
          "start_time": "2021-05-27T10:16:40.365836",
          "status": "completed"
        },
        "tags": [],
        "colab": {
          "base_uri": "https://localhost:8080/",
          "height": 317
        },
        "id": "theoretical-receiver",
        "outputId": "d2adeedd-fbfa-49af-afab-f4144b17e666"
      },
      "outputs": [
        {
          "output_type": "execute_result",
          "data": {
            "text/plain": [
              "         id diagnosis  radius_mean  texture_mean  perimeter_mean  area_mean  \\\n",
              "0    842302         M        17.99         10.38          122.80     1001.0   \n",
              "1    842517         M        20.57         17.77          132.90     1326.0   \n",
              "2  84300903         M        19.69         21.25          130.00     1203.0   \n",
              "3  84348301         M        11.42         20.38           77.58      386.1   \n",
              "4  84358402         M        20.29         14.34          135.10     1297.0   \n",
              "\n",
              "   smoothness_mean  compactness_mean  concavity_mean  concave points_mean  \\\n",
              "0          0.11840           0.27760          0.3001              0.14710   \n",
              "1          0.08474           0.07864          0.0869              0.07017   \n",
              "2          0.10960           0.15990          0.1974              0.12790   \n",
              "3          0.14250           0.28390          0.2414              0.10520   \n",
              "4          0.10030           0.13280          0.1980              0.10430   \n",
              "\n",
              "   ...  texture_worst  perimeter_worst  area_worst  smoothness_worst  \\\n",
              "0  ...          17.33           184.60      2019.0            0.1622   \n",
              "1  ...          23.41           158.80      1956.0            0.1238   \n",
              "2  ...          25.53           152.50      1709.0            0.1444   \n",
              "3  ...          26.50            98.87       567.7            0.2098   \n",
              "4  ...          16.67           152.20      1575.0            0.1374   \n",
              "\n",
              "   compactness_worst  concavity_worst  concave points_worst  symmetry_worst  \\\n",
              "0             0.6656           0.7119                0.2654          0.4601   \n",
              "1             0.1866           0.2416                0.1860          0.2750   \n",
              "2             0.4245           0.4504                0.2430          0.3613   \n",
              "3             0.8663           0.6869                0.2575          0.6638   \n",
              "4             0.2050           0.4000                0.1625          0.2364   \n",
              "\n",
              "   fractal_dimension_worst  Unnamed: 32  \n",
              "0                  0.11890          NaN  \n",
              "1                  0.08902          NaN  \n",
              "2                  0.08758          NaN  \n",
              "3                  0.17300          NaN  \n",
              "4                  0.07678          NaN  \n",
              "\n",
              "[5 rows x 33 columns]"
            ],
            "text/html": [
              "\n",
              "  <div id=\"df-d1301f8c-33dd-4589-b4e8-62d0e8f3efa8\">\n",
              "    <div class=\"colab-df-container\">\n",
              "      <div>\n",
              "<style scoped>\n",
              "    .dataframe tbody tr th:only-of-type {\n",
              "        vertical-align: middle;\n",
              "    }\n",
              "\n",
              "    .dataframe tbody tr th {\n",
              "        vertical-align: top;\n",
              "    }\n",
              "\n",
              "    .dataframe thead th {\n",
              "        text-align: right;\n",
              "    }\n",
              "</style>\n",
              "<table border=\"1\" class=\"dataframe\">\n",
              "  <thead>\n",
              "    <tr style=\"text-align: right;\">\n",
              "      <th></th>\n",
              "      <th>id</th>\n",
              "      <th>diagnosis</th>\n",
              "      <th>radius_mean</th>\n",
              "      <th>texture_mean</th>\n",
              "      <th>perimeter_mean</th>\n",
              "      <th>area_mean</th>\n",
              "      <th>smoothness_mean</th>\n",
              "      <th>compactness_mean</th>\n",
              "      <th>concavity_mean</th>\n",
              "      <th>concave points_mean</th>\n",
              "      <th>...</th>\n",
              "      <th>texture_worst</th>\n",
              "      <th>perimeter_worst</th>\n",
              "      <th>area_worst</th>\n",
              "      <th>smoothness_worst</th>\n",
              "      <th>compactness_worst</th>\n",
              "      <th>concavity_worst</th>\n",
              "      <th>concave points_worst</th>\n",
              "      <th>symmetry_worst</th>\n",
              "      <th>fractal_dimension_worst</th>\n",
              "      <th>Unnamed: 32</th>\n",
              "    </tr>\n",
              "  </thead>\n",
              "  <tbody>\n",
              "    <tr>\n",
              "      <th>0</th>\n",
              "      <td>842302</td>\n",
              "      <td>M</td>\n",
              "      <td>17.99</td>\n",
              "      <td>10.38</td>\n",
              "      <td>122.80</td>\n",
              "      <td>1001.0</td>\n",
              "      <td>0.11840</td>\n",
              "      <td>0.27760</td>\n",
              "      <td>0.3001</td>\n",
              "      <td>0.14710</td>\n",
              "      <td>...</td>\n",
              "      <td>17.33</td>\n",
              "      <td>184.60</td>\n",
              "      <td>2019.0</td>\n",
              "      <td>0.1622</td>\n",
              "      <td>0.6656</td>\n",
              "      <td>0.7119</td>\n",
              "      <td>0.2654</td>\n",
              "      <td>0.4601</td>\n",
              "      <td>0.11890</td>\n",
              "      <td>NaN</td>\n",
              "    </tr>\n",
              "    <tr>\n",
              "      <th>1</th>\n",
              "      <td>842517</td>\n",
              "      <td>M</td>\n",
              "      <td>20.57</td>\n",
              "      <td>17.77</td>\n",
              "      <td>132.90</td>\n",
              "      <td>1326.0</td>\n",
              "      <td>0.08474</td>\n",
              "      <td>0.07864</td>\n",
              "      <td>0.0869</td>\n",
              "      <td>0.07017</td>\n",
              "      <td>...</td>\n",
              "      <td>23.41</td>\n",
              "      <td>158.80</td>\n",
              "      <td>1956.0</td>\n",
              "      <td>0.1238</td>\n",
              "      <td>0.1866</td>\n",
              "      <td>0.2416</td>\n",
              "      <td>0.1860</td>\n",
              "      <td>0.2750</td>\n",
              "      <td>0.08902</td>\n",
              "      <td>NaN</td>\n",
              "    </tr>\n",
              "    <tr>\n",
              "      <th>2</th>\n",
              "      <td>84300903</td>\n",
              "      <td>M</td>\n",
              "      <td>19.69</td>\n",
              "      <td>21.25</td>\n",
              "      <td>130.00</td>\n",
              "      <td>1203.0</td>\n",
              "      <td>0.10960</td>\n",
              "      <td>0.15990</td>\n",
              "      <td>0.1974</td>\n",
              "      <td>0.12790</td>\n",
              "      <td>...</td>\n",
              "      <td>25.53</td>\n",
              "      <td>152.50</td>\n",
              "      <td>1709.0</td>\n",
              "      <td>0.1444</td>\n",
              "      <td>0.4245</td>\n",
              "      <td>0.4504</td>\n",
              "      <td>0.2430</td>\n",
              "      <td>0.3613</td>\n",
              "      <td>0.08758</td>\n",
              "      <td>NaN</td>\n",
              "    </tr>\n",
              "    <tr>\n",
              "      <th>3</th>\n",
              "      <td>84348301</td>\n",
              "      <td>M</td>\n",
              "      <td>11.42</td>\n",
              "      <td>20.38</td>\n",
              "      <td>77.58</td>\n",
              "      <td>386.1</td>\n",
              "      <td>0.14250</td>\n",
              "      <td>0.28390</td>\n",
              "      <td>0.2414</td>\n",
              "      <td>0.10520</td>\n",
              "      <td>...</td>\n",
              "      <td>26.50</td>\n",
              "      <td>98.87</td>\n",
              "      <td>567.7</td>\n",
              "      <td>0.2098</td>\n",
              "      <td>0.8663</td>\n",
              "      <td>0.6869</td>\n",
              "      <td>0.2575</td>\n",
              "      <td>0.6638</td>\n",
              "      <td>0.17300</td>\n",
              "      <td>NaN</td>\n",
              "    </tr>\n",
              "    <tr>\n",
              "      <th>4</th>\n",
              "      <td>84358402</td>\n",
              "      <td>M</td>\n",
              "      <td>20.29</td>\n",
              "      <td>14.34</td>\n",
              "      <td>135.10</td>\n",
              "      <td>1297.0</td>\n",
              "      <td>0.10030</td>\n",
              "      <td>0.13280</td>\n",
              "      <td>0.1980</td>\n",
              "      <td>0.10430</td>\n",
              "      <td>...</td>\n",
              "      <td>16.67</td>\n",
              "      <td>152.20</td>\n",
              "      <td>1575.0</td>\n",
              "      <td>0.1374</td>\n",
              "      <td>0.2050</td>\n",
              "      <td>0.4000</td>\n",
              "      <td>0.1625</td>\n",
              "      <td>0.2364</td>\n",
              "      <td>0.07678</td>\n",
              "      <td>NaN</td>\n",
              "    </tr>\n",
              "  </tbody>\n",
              "</table>\n",
              "<p>5 rows × 33 columns</p>\n",
              "</div>\n",
              "      <button class=\"colab-df-convert\" onclick=\"convertToInteractive('df-d1301f8c-33dd-4589-b4e8-62d0e8f3efa8')\"\n",
              "              title=\"Convert this dataframe to an interactive table.\"\n",
              "              style=\"display:none;\">\n",
              "        \n",
              "  <svg xmlns=\"http://www.w3.org/2000/svg\" height=\"24px\"viewBox=\"0 0 24 24\"\n",
              "       width=\"24px\">\n",
              "    <path d=\"M0 0h24v24H0V0z\" fill=\"none\"/>\n",
              "    <path d=\"M18.56 5.44l.94 2.06.94-2.06 2.06-.94-2.06-.94-.94-2.06-.94 2.06-2.06.94zm-11 1L8.5 8.5l.94-2.06 2.06-.94-2.06-.94L8.5 2.5l-.94 2.06-2.06.94zm10 10l.94 2.06.94-2.06 2.06-.94-2.06-.94-.94-2.06-.94 2.06-2.06.94z\"/><path d=\"M17.41 7.96l-1.37-1.37c-.4-.4-.92-.59-1.43-.59-.52 0-1.04.2-1.43.59L10.3 9.45l-7.72 7.72c-.78.78-.78 2.05 0 2.83L4 21.41c.39.39.9.59 1.41.59.51 0 1.02-.2 1.41-.59l7.78-7.78 2.81-2.81c.8-.78.8-2.07 0-2.86zM5.41 20L4 18.59l7.72-7.72 1.47 1.35L5.41 20z\"/>\n",
              "  </svg>\n",
              "      </button>\n",
              "      \n",
              "  <style>\n",
              "    .colab-df-container {\n",
              "      display:flex;\n",
              "      flex-wrap:wrap;\n",
              "      gap: 12px;\n",
              "    }\n",
              "\n",
              "    .colab-df-convert {\n",
              "      background-color: #E8F0FE;\n",
              "      border: none;\n",
              "      border-radius: 50%;\n",
              "      cursor: pointer;\n",
              "      display: none;\n",
              "      fill: #1967D2;\n",
              "      height: 32px;\n",
              "      padding: 0 0 0 0;\n",
              "      width: 32px;\n",
              "    }\n",
              "\n",
              "    .colab-df-convert:hover {\n",
              "      background-color: #E2EBFA;\n",
              "      box-shadow: 0px 1px 2px rgba(60, 64, 67, 0.3), 0px 1px 3px 1px rgba(60, 64, 67, 0.15);\n",
              "      fill: #174EA6;\n",
              "    }\n",
              "\n",
              "    [theme=dark] .colab-df-convert {\n",
              "      background-color: #3B4455;\n",
              "      fill: #D2E3FC;\n",
              "    }\n",
              "\n",
              "    [theme=dark] .colab-df-convert:hover {\n",
              "      background-color: #434B5C;\n",
              "      box-shadow: 0px 1px 3px 1px rgba(0, 0, 0, 0.15);\n",
              "      filter: drop-shadow(0px 1px 2px rgba(0, 0, 0, 0.3));\n",
              "      fill: #FFFFFF;\n",
              "    }\n",
              "  </style>\n",
              "\n",
              "      <script>\n",
              "        const buttonEl =\n",
              "          document.querySelector('#df-d1301f8c-33dd-4589-b4e8-62d0e8f3efa8 button.colab-df-convert');\n",
              "        buttonEl.style.display =\n",
              "          google.colab.kernel.accessAllowed ? 'block' : 'none';\n",
              "\n",
              "        async function convertToInteractive(key) {\n",
              "          const element = document.querySelector('#df-d1301f8c-33dd-4589-b4e8-62d0e8f3efa8');\n",
              "          const dataTable =\n",
              "            await google.colab.kernel.invokeFunction('convertToInteractive',\n",
              "                                                     [key], {});\n",
              "          if (!dataTable) return;\n",
              "\n",
              "          const docLinkHtml = 'Like what you see? Visit the ' +\n",
              "            '<a target=\"_blank\" href=https://colab.research.google.com/notebooks/data_table.ipynb>data table notebook</a>'\n",
              "            + ' to learn more about interactive tables.';\n",
              "          element.innerHTML = '';\n",
              "          dataTable['output_type'] = 'display_data';\n",
              "          await google.colab.output.renderOutput(dataTable, element);\n",
              "          const docLink = document.createElement('div');\n",
              "          docLink.innerHTML = docLinkHtml;\n",
              "          element.appendChild(docLink);\n",
              "        }\n",
              "      </script>\n",
              "    </div>\n",
              "  </div>\n",
              "  "
            ]
          },
          "metadata": {},
          "execution_count": 5
        }
      ],
      "source": [
        "df.head()"
      ]
    },
    {
      "cell_type": "markdown",
      "id": "upset-oxygen",
      "metadata": {
        "papermill": {
          "duration": 0.063666,
          "end_time": "2021-05-27T10:16:40.608416",
          "exception": false,
          "start_time": "2021-05-27T10:16:40.544750",
          "status": "completed"
        },
        "tags": [],
        "id": "upset-oxygen"
      },
      "source": [
        "## Data Preprocessing"
      ]
    },
    {
      "cell_type": "code",
      "execution_count": 6,
      "id": "boolean-today",
      "metadata": {
        "execution": {
          "iopub.execute_input": "2021-05-27T10:16:40.738362Z",
          "iopub.status.busy": "2021-05-27T10:16:40.737379Z",
          "iopub.status.idle": "2021-05-27T10:16:40.745822Z",
          "shell.execute_reply": "2021-05-27T10:16:40.745246Z"
        },
        "papermill": {
          "duration": 0.074291,
          "end_time": "2021-05-27T10:16:40.745967",
          "exception": false,
          "start_time": "2021-05-27T10:16:40.671676",
          "status": "completed"
        },
        "tags": [],
        "id": "boolean-today"
      },
      "outputs": [],
      "source": [
        "df.drop(['id', 'Unnamed: 32'], axis = 1, inplace = True)"
      ]
    },
    {
      "cell_type": "code",
      "execution_count": 7,
      "id": "married-benefit",
      "metadata": {
        "execution": {
          "iopub.execute_input": "2021-05-27T10:16:40.877671Z",
          "iopub.status.busy": "2021-05-27T10:16:40.876647Z",
          "iopub.status.idle": "2021-05-27T10:16:40.884310Z",
          "shell.execute_reply": "2021-05-27T10:16:40.884874Z"
        },
        "papermill": {
          "duration": 0.075319,
          "end_time": "2021-05-27T10:16:40.885048",
          "exception": false,
          "start_time": "2021-05-27T10:16:40.809729",
          "status": "completed"
        },
        "tags": [],
        "colab": {
          "base_uri": "https://localhost:8080/"
        },
        "id": "married-benefit",
        "outputId": "e884805c-24c6-4106-e46e-41bd8d4a31e9"
      },
      "outputs": [
        {
          "output_type": "execute_result",
          "data": {
            "text/plain": [
              "array(['M', 'B'], dtype=object)"
            ]
          },
          "metadata": {},
          "execution_count": 7
        }
      ],
      "source": [
        "df.diagnosis.unique()"
      ]
    },
    {
      "cell_type": "code",
      "execution_count": 8,
      "id": "danish-nigeria",
      "metadata": {
        "execution": {
          "iopub.execute_input": "2021-05-27T10:16:41.014538Z",
          "iopub.status.busy": "2021-05-27T10:16:41.013920Z",
          "iopub.status.idle": "2021-05-27T10:16:41.019621Z",
          "shell.execute_reply": "2021-05-27T10:16:41.020158Z"
        },
        "papermill": {
          "duration": 0.072389,
          "end_time": "2021-05-27T10:16:41.020354",
          "exception": false,
          "start_time": "2021-05-27T10:16:40.947965",
          "status": "completed"
        },
        "tags": [],
        "id": "danish-nigeria"
      },
      "outputs": [],
      "source": [
        "df['diagnosis'] = df['diagnosis'].apply(lambda val: 1 if val == 'M' else 0)"
      ]
    },
    {
      "cell_type": "code",
      "execution_count": 9,
      "id": "fancy-movie",
      "metadata": {
        "execution": {
          "iopub.execute_input": "2021-05-27T10:16:41.149309Z",
          "iopub.status.busy": "2021-05-27T10:16:41.148699Z",
          "iopub.status.idle": "2021-05-27T10:16:41.176605Z",
          "shell.execute_reply": "2021-05-27T10:16:41.177133Z"
        },
        "papermill": {
          "duration": 0.093276,
          "end_time": "2021-05-27T10:16:41.177327",
          "exception": false,
          "start_time": "2021-05-27T10:16:41.084051",
          "status": "completed"
        },
        "tags": [],
        "colab": {
          "base_uri": "https://localhost:8080/",
          "height": 317
        },
        "id": "fancy-movie",
        "outputId": "dc0e8de7-9fc1-428f-89e6-4246176f6f65"
      },
      "outputs": [
        {
          "output_type": "execute_result",
          "data": {
            "text/plain": [
              "   diagnosis  radius_mean  texture_mean  perimeter_mean  area_mean  \\\n",
              "0          1        17.99         10.38          122.80     1001.0   \n",
              "1          1        20.57         17.77          132.90     1326.0   \n",
              "2          1        19.69         21.25          130.00     1203.0   \n",
              "3          1        11.42         20.38           77.58      386.1   \n",
              "4          1        20.29         14.34          135.10     1297.0   \n",
              "\n",
              "   smoothness_mean  compactness_mean  concavity_mean  concave points_mean  \\\n",
              "0          0.11840           0.27760          0.3001              0.14710   \n",
              "1          0.08474           0.07864          0.0869              0.07017   \n",
              "2          0.10960           0.15990          0.1974              0.12790   \n",
              "3          0.14250           0.28390          0.2414              0.10520   \n",
              "4          0.10030           0.13280          0.1980              0.10430   \n",
              "\n",
              "   symmetry_mean  ...  radius_worst  texture_worst  perimeter_worst  \\\n",
              "0         0.2419  ...         25.38          17.33           184.60   \n",
              "1         0.1812  ...         24.99          23.41           158.80   \n",
              "2         0.2069  ...         23.57          25.53           152.50   \n",
              "3         0.2597  ...         14.91          26.50            98.87   \n",
              "4         0.1809  ...         22.54          16.67           152.20   \n",
              "\n",
              "   area_worst  smoothness_worst  compactness_worst  concavity_worst  \\\n",
              "0      2019.0            0.1622             0.6656           0.7119   \n",
              "1      1956.0            0.1238             0.1866           0.2416   \n",
              "2      1709.0            0.1444             0.4245           0.4504   \n",
              "3       567.7            0.2098             0.8663           0.6869   \n",
              "4      1575.0            0.1374             0.2050           0.4000   \n",
              "\n",
              "   concave points_worst  symmetry_worst  fractal_dimension_worst  \n",
              "0                0.2654          0.4601                  0.11890  \n",
              "1                0.1860          0.2750                  0.08902  \n",
              "2                0.2430          0.3613                  0.08758  \n",
              "3                0.2575          0.6638                  0.17300  \n",
              "4                0.1625          0.2364                  0.07678  \n",
              "\n",
              "[5 rows x 31 columns]"
            ],
            "text/html": [
              "\n",
              "  <div id=\"df-2ba950be-7299-4405-9de4-89c2b13bc91f\">\n",
              "    <div class=\"colab-df-container\">\n",
              "      <div>\n",
              "<style scoped>\n",
              "    .dataframe tbody tr th:only-of-type {\n",
              "        vertical-align: middle;\n",
              "    }\n",
              "\n",
              "    .dataframe tbody tr th {\n",
              "        vertical-align: top;\n",
              "    }\n",
              "\n",
              "    .dataframe thead th {\n",
              "        text-align: right;\n",
              "    }\n",
              "</style>\n",
              "<table border=\"1\" class=\"dataframe\">\n",
              "  <thead>\n",
              "    <tr style=\"text-align: right;\">\n",
              "      <th></th>\n",
              "      <th>diagnosis</th>\n",
              "      <th>radius_mean</th>\n",
              "      <th>texture_mean</th>\n",
              "      <th>perimeter_mean</th>\n",
              "      <th>area_mean</th>\n",
              "      <th>smoothness_mean</th>\n",
              "      <th>compactness_mean</th>\n",
              "      <th>concavity_mean</th>\n",
              "      <th>concave points_mean</th>\n",
              "      <th>symmetry_mean</th>\n",
              "      <th>...</th>\n",
              "      <th>radius_worst</th>\n",
              "      <th>texture_worst</th>\n",
              "      <th>perimeter_worst</th>\n",
              "      <th>area_worst</th>\n",
              "      <th>smoothness_worst</th>\n",
              "      <th>compactness_worst</th>\n",
              "      <th>concavity_worst</th>\n",
              "      <th>concave points_worst</th>\n",
              "      <th>symmetry_worst</th>\n",
              "      <th>fractal_dimension_worst</th>\n",
              "    </tr>\n",
              "  </thead>\n",
              "  <tbody>\n",
              "    <tr>\n",
              "      <th>0</th>\n",
              "      <td>1</td>\n",
              "      <td>17.99</td>\n",
              "      <td>10.38</td>\n",
              "      <td>122.80</td>\n",
              "      <td>1001.0</td>\n",
              "      <td>0.11840</td>\n",
              "      <td>0.27760</td>\n",
              "      <td>0.3001</td>\n",
              "      <td>0.14710</td>\n",
              "      <td>0.2419</td>\n",
              "      <td>...</td>\n",
              "      <td>25.38</td>\n",
              "      <td>17.33</td>\n",
              "      <td>184.60</td>\n",
              "      <td>2019.0</td>\n",
              "      <td>0.1622</td>\n",
              "      <td>0.6656</td>\n",
              "      <td>0.7119</td>\n",
              "      <td>0.2654</td>\n",
              "      <td>0.4601</td>\n",
              "      <td>0.11890</td>\n",
              "    </tr>\n",
              "    <tr>\n",
              "      <th>1</th>\n",
              "      <td>1</td>\n",
              "      <td>20.57</td>\n",
              "      <td>17.77</td>\n",
              "      <td>132.90</td>\n",
              "      <td>1326.0</td>\n",
              "      <td>0.08474</td>\n",
              "      <td>0.07864</td>\n",
              "      <td>0.0869</td>\n",
              "      <td>0.07017</td>\n",
              "      <td>0.1812</td>\n",
              "      <td>...</td>\n",
              "      <td>24.99</td>\n",
              "      <td>23.41</td>\n",
              "      <td>158.80</td>\n",
              "      <td>1956.0</td>\n",
              "      <td>0.1238</td>\n",
              "      <td>0.1866</td>\n",
              "      <td>0.2416</td>\n",
              "      <td>0.1860</td>\n",
              "      <td>0.2750</td>\n",
              "      <td>0.08902</td>\n",
              "    </tr>\n",
              "    <tr>\n",
              "      <th>2</th>\n",
              "      <td>1</td>\n",
              "      <td>19.69</td>\n",
              "      <td>21.25</td>\n",
              "      <td>130.00</td>\n",
              "      <td>1203.0</td>\n",
              "      <td>0.10960</td>\n",
              "      <td>0.15990</td>\n",
              "      <td>0.1974</td>\n",
              "      <td>0.12790</td>\n",
              "      <td>0.2069</td>\n",
              "      <td>...</td>\n",
              "      <td>23.57</td>\n",
              "      <td>25.53</td>\n",
              "      <td>152.50</td>\n",
              "      <td>1709.0</td>\n",
              "      <td>0.1444</td>\n",
              "      <td>0.4245</td>\n",
              "      <td>0.4504</td>\n",
              "      <td>0.2430</td>\n",
              "      <td>0.3613</td>\n",
              "      <td>0.08758</td>\n",
              "    </tr>\n",
              "    <tr>\n",
              "      <th>3</th>\n",
              "      <td>1</td>\n",
              "      <td>11.42</td>\n",
              "      <td>20.38</td>\n",
              "      <td>77.58</td>\n",
              "      <td>386.1</td>\n",
              "      <td>0.14250</td>\n",
              "      <td>0.28390</td>\n",
              "      <td>0.2414</td>\n",
              "      <td>0.10520</td>\n",
              "      <td>0.2597</td>\n",
              "      <td>...</td>\n",
              "      <td>14.91</td>\n",
              "      <td>26.50</td>\n",
              "      <td>98.87</td>\n",
              "      <td>567.7</td>\n",
              "      <td>0.2098</td>\n",
              "      <td>0.8663</td>\n",
              "      <td>0.6869</td>\n",
              "      <td>0.2575</td>\n",
              "      <td>0.6638</td>\n",
              "      <td>0.17300</td>\n",
              "    </tr>\n",
              "    <tr>\n",
              "      <th>4</th>\n",
              "      <td>1</td>\n",
              "      <td>20.29</td>\n",
              "      <td>14.34</td>\n",
              "      <td>135.10</td>\n",
              "      <td>1297.0</td>\n",
              "      <td>0.10030</td>\n",
              "      <td>0.13280</td>\n",
              "      <td>0.1980</td>\n",
              "      <td>0.10430</td>\n",
              "      <td>0.1809</td>\n",
              "      <td>...</td>\n",
              "      <td>22.54</td>\n",
              "      <td>16.67</td>\n",
              "      <td>152.20</td>\n",
              "      <td>1575.0</td>\n",
              "      <td>0.1374</td>\n",
              "      <td>0.2050</td>\n",
              "      <td>0.4000</td>\n",
              "      <td>0.1625</td>\n",
              "      <td>0.2364</td>\n",
              "      <td>0.07678</td>\n",
              "    </tr>\n",
              "  </tbody>\n",
              "</table>\n",
              "<p>5 rows × 31 columns</p>\n",
              "</div>\n",
              "      <button class=\"colab-df-convert\" onclick=\"convertToInteractive('df-2ba950be-7299-4405-9de4-89c2b13bc91f')\"\n",
              "              title=\"Convert this dataframe to an interactive table.\"\n",
              "              style=\"display:none;\">\n",
              "        \n",
              "  <svg xmlns=\"http://www.w3.org/2000/svg\" height=\"24px\"viewBox=\"0 0 24 24\"\n",
              "       width=\"24px\">\n",
              "    <path d=\"M0 0h24v24H0V0z\" fill=\"none\"/>\n",
              "    <path d=\"M18.56 5.44l.94 2.06.94-2.06 2.06-.94-2.06-.94-.94-2.06-.94 2.06-2.06.94zm-11 1L8.5 8.5l.94-2.06 2.06-.94-2.06-.94L8.5 2.5l-.94 2.06-2.06.94zm10 10l.94 2.06.94-2.06 2.06-.94-2.06-.94-.94-2.06-.94 2.06-2.06.94z\"/><path d=\"M17.41 7.96l-1.37-1.37c-.4-.4-.92-.59-1.43-.59-.52 0-1.04.2-1.43.59L10.3 9.45l-7.72 7.72c-.78.78-.78 2.05 0 2.83L4 21.41c.39.39.9.59 1.41.59.51 0 1.02-.2 1.41-.59l7.78-7.78 2.81-2.81c.8-.78.8-2.07 0-2.86zM5.41 20L4 18.59l7.72-7.72 1.47 1.35L5.41 20z\"/>\n",
              "  </svg>\n",
              "      </button>\n",
              "      \n",
              "  <style>\n",
              "    .colab-df-container {\n",
              "      display:flex;\n",
              "      flex-wrap:wrap;\n",
              "      gap: 12px;\n",
              "    }\n",
              "\n",
              "    .colab-df-convert {\n",
              "      background-color: #E8F0FE;\n",
              "      border: none;\n",
              "      border-radius: 50%;\n",
              "      cursor: pointer;\n",
              "      display: none;\n",
              "      fill: #1967D2;\n",
              "      height: 32px;\n",
              "      padding: 0 0 0 0;\n",
              "      width: 32px;\n",
              "    }\n",
              "\n",
              "    .colab-df-convert:hover {\n",
              "      background-color: #E2EBFA;\n",
              "      box-shadow: 0px 1px 2px rgba(60, 64, 67, 0.3), 0px 1px 3px 1px rgba(60, 64, 67, 0.15);\n",
              "      fill: #174EA6;\n",
              "    }\n",
              "\n",
              "    [theme=dark] .colab-df-convert {\n",
              "      background-color: #3B4455;\n",
              "      fill: #D2E3FC;\n",
              "    }\n",
              "\n",
              "    [theme=dark] .colab-df-convert:hover {\n",
              "      background-color: #434B5C;\n",
              "      box-shadow: 0px 1px 3px 1px rgba(0, 0, 0, 0.15);\n",
              "      filter: drop-shadow(0px 1px 2px rgba(0, 0, 0, 0.3));\n",
              "      fill: #FFFFFF;\n",
              "    }\n",
              "  </style>\n",
              "\n",
              "      <script>\n",
              "        const buttonEl =\n",
              "          document.querySelector('#df-2ba950be-7299-4405-9de4-89c2b13bc91f button.colab-df-convert');\n",
              "        buttonEl.style.display =\n",
              "          google.colab.kernel.accessAllowed ? 'block' : 'none';\n",
              "\n",
              "        async function convertToInteractive(key) {\n",
              "          const element = document.querySelector('#df-2ba950be-7299-4405-9de4-89c2b13bc91f');\n",
              "          const dataTable =\n",
              "            await google.colab.kernel.invokeFunction('convertToInteractive',\n",
              "                                                     [key], {});\n",
              "          if (!dataTable) return;\n",
              "\n",
              "          const docLinkHtml = 'Like what you see? Visit the ' +\n",
              "            '<a target=\"_blank\" href=https://colab.research.google.com/notebooks/data_table.ipynb>data table notebook</a>'\n",
              "            + ' to learn more about interactive tables.';\n",
              "          element.innerHTML = '';\n",
              "          dataTable['output_type'] = 'display_data';\n",
              "          await google.colab.output.renderOutput(dataTable, element);\n",
              "          const docLink = document.createElement('div');\n",
              "          docLink.innerHTML = docLinkHtml;\n",
              "          element.appendChild(docLink);\n",
              "        }\n",
              "      </script>\n",
              "    </div>\n",
              "  </div>\n",
              "  "
            ]
          },
          "metadata": {},
          "execution_count": 9
        }
      ],
      "source": [
        "df.head()"
      ]
    },
    {
      "cell_type": "markdown",
      "id": "therapeutic-beverage",
      "metadata": {
        "papermill": {
          "duration": 0.070509,
          "end_time": "2021-05-27T10:16:45.065250",
          "exception": false,
          "start_time": "2021-05-27T10:16:44.994741",
          "status": "completed"
        },
        "tags": [],
        "id": "therapeutic-beverage"
      },
      "source": [
        "#### There are no missing values in the data."
      ]
    },
    {
      "cell_type": "markdown",
      "id": "sought-neighborhood",
      "metadata": {
        "papermill": {
          "duration": 0.086494,
          "end_time": "2021-05-27T10:16:55.298605",
          "exception": false,
          "start_time": "2021-05-27T10:16:55.212111",
          "status": "completed"
        },
        "tags": [],
        "id": "sought-neighborhood"
      },
      "source": [
        "### We can see that there are many columns which are very highly correlated which causes multicollinearity so we have to remove highly correlated features."
      ]
    },
    {
      "cell_type": "code",
      "execution_count": 14,
      "id": "serial-anger",
      "metadata": {
        "execution": {
          "iopub.execute_input": "2021-05-27T10:16:55.479486Z",
          "iopub.status.busy": "2021-05-27T10:16:55.478586Z",
          "iopub.status.idle": "2021-05-27T10:16:55.496734Z",
          "shell.execute_reply": "2021-05-27T10:16:55.495676Z"
        },
        "papermill": {
          "duration": 0.111743,
          "end_time": "2021-05-27T10:16:55.497126",
          "exception": false,
          "start_time": "2021-05-27T10:16:55.385383",
          "status": "completed"
        },
        "tags": [],
        "colab": {
          "base_uri": "https://localhost:8080/"
        },
        "id": "serial-anger",
        "outputId": "f14a68e5-09fc-4f8b-82a1-a44d18fd1913"
      },
      "outputs": [
        {
          "output_type": "stream",
          "name": "stdout",
          "text": [
            "The reduced dataframe has 23 columns.\n"
          ]
        }
      ],
      "source": [
        "# removing highly correlated features\n",
        "\n",
        "corr_matrix = df.corr().abs() \n",
        "\n",
        "mask = np.triu(np.ones_like(corr_matrix, dtype = bool))\n",
        "tri_df = corr_matrix.mask(mask)\n",
        "\n",
        "to_drop = [x for x in tri_df.columns if any(tri_df[x] > 0.92)]\n",
        "\n",
        "df = df.drop(to_drop, axis = 1)\n",
        "\n",
        "print(f\"The reduced dataframe has {df.shape[1]} columns.\")"
      ]
    },
    {
      "cell_type": "code",
      "execution_count": 15,
      "id": "daily-duncan",
      "metadata": {
        "execution": {
          "iopub.execute_input": "2021-05-27T10:16:55.679061Z",
          "iopub.status.busy": "2021-05-27T10:16:55.678033Z",
          "iopub.status.idle": "2021-05-27T10:16:55.680497Z",
          "shell.execute_reply": "2021-05-27T10:16:55.681022Z"
        },
        "papermill": {
          "duration": 0.095818,
          "end_time": "2021-05-27T10:16:55.681192",
          "exception": false,
          "start_time": "2021-05-27T10:16:55.585374",
          "status": "completed"
        },
        "tags": [],
        "id": "daily-duncan"
      },
      "outputs": [],
      "source": [
        "# creating features and label \n",
        "\n",
        "X = df.drop('diagnosis', axis = 1)\n",
        "y = df['diagnosis']"
      ]
    },
    {
      "cell_type": "code",
      "execution_count": 16,
      "id": "psychological-milton",
      "metadata": {
        "execution": {
          "iopub.execute_input": "2021-05-27T10:16:55.859900Z",
          "iopub.status.busy": "2021-05-27T10:16:55.858873Z",
          "iopub.status.idle": "2021-05-27T10:16:56.096975Z",
          "shell.execute_reply": "2021-05-27T10:16:56.096294Z"
        },
        "papermill": {
          "duration": 0.328449,
          "end_time": "2021-05-27T10:16:56.097185",
          "exception": false,
          "start_time": "2021-05-27T10:16:55.768736",
          "status": "completed"
        },
        "tags": [],
        "id": "psychological-milton"
      },
      "outputs": [],
      "source": [
        "# splitting data into training and test set\n",
        "\n",
        "from sklearn.model_selection import train_test_split\n",
        "\n",
        "X_train, X_test, y_train, y_test = train_test_split(X, y, test_size = 0.30, random_state = 0)"
      ]
    },
    {
      "cell_type": "code",
      "execution_count": 17,
      "id": "intense-harrison",
      "metadata": {
        "execution": {
          "iopub.execute_input": "2021-05-27T10:16:56.280057Z",
          "iopub.status.busy": "2021-05-27T10:16:56.279383Z",
          "iopub.status.idle": "2021-05-27T10:16:56.287654Z",
          "shell.execute_reply": "2021-05-27T10:16:56.287043Z"
        },
        "papermill": {
          "duration": 0.103107,
          "end_time": "2021-05-27T10:16:56.287800",
          "exception": false,
          "start_time": "2021-05-27T10:16:56.184693",
          "status": "completed"
        },
        "tags": [],
        "id": "intense-harrison"
      },
      "outputs": [],
      "source": [
        "# scaling data\n",
        "\n",
        "from sklearn.preprocessing import StandardScaler\n",
        "\n",
        "scaler = StandardScaler()\n",
        "\n",
        "X_train = scaler.fit_transform(X_train)\n",
        "X_test = scaler.transform(X_test)"
      ]
    },
    {
      "cell_type": "markdown",
      "id": "agreed-print",
      "metadata": {
        "papermill": {
          "duration": 0.097403,
          "end_time": "2021-05-27T10:17:06.337415",
          "exception": false,
          "start_time": "2021-05-27T10:17:06.240012",
          "status": "completed"
        },
        "tags": [],
        "id": "agreed-print"
      },
      "source": [
        "# Decision Tree Classifier"
      ]
    },
    {
      "cell_type": "code",
      "execution_count": 21,
      "id": "large-celebration",
      "metadata": {
        "execution": {
          "iopub.execute_input": "2021-05-27T10:17:06.545380Z",
          "iopub.status.busy": "2021-05-27T10:17:06.544560Z",
          "iopub.status.idle": "2021-05-27T10:18:10.699282Z",
          "shell.execute_reply": "2021-05-27T10:18:10.699795Z"
        },
        "papermill": {
          "duration": 64.263936,
          "end_time": "2021-05-27T10:18:10.699980",
          "exception": false,
          "start_time": "2021-05-27T10:17:06.436044",
          "status": "completed"
        },
        "tags": [],
        "colab": {
          "base_uri": "https://localhost:8080/"
        },
        "id": "large-celebration",
        "outputId": "7c4407eb-12c0-4565-a553-d3f6e812549f"
      },
      "outputs": [
        {
          "output_type": "stream",
          "name": "stdout",
          "text": [
            "Fitting 5 folds for each of 8640 candidates, totalling 43200 fits\n"
          ]
        },
        {
          "output_type": "execute_result",
          "data": {
            "text/plain": [
              "GridSearchCV(cv=5, estimator=DecisionTreeClassifier(), n_jobs=-1,\n",
              "             param_grid={'criterion': ['gini', 'entropy'],\n",
              "                         'max_depth': range(2, 32),\n",
              "                         'min_samples_leaf': range(1, 10),\n",
              "                         'min_samples_split': range(2, 10),\n",
              "                         'splitter': ['best', 'random']},\n",
              "             verbose=1)"
            ]
          },
          "metadata": {},
          "execution_count": 21
        }
      ],
      "source": [
        "from sklearn.tree import DecisionTreeClassifier\n",
        "from sklearn.model_selection import GridSearchCV\n",
        "\n",
        "dtc = DecisionTreeClassifier()\n",
        "\n",
        "parameters = {\n",
        "    'criterion' : ['gini', 'entropy'],\n",
        "    'max_depth' : range(2, 32, 1),\n",
        "    'min_samples_leaf' : range(1, 10, 1),\n",
        "    'min_samples_split' : range(2, 10, 1),\n",
        "    'splitter' : ['best', 'random']\n",
        "}\n",
        "\n",
        "grid_search_dt = GridSearchCV(dtc, parameters, cv = 5, n_jobs = -1, verbose = 1)\n",
        "grid_search_dt.fit(X_train, y_train)"
      ]
    },
    {
      "cell_type": "code",
      "execution_count": 22,
      "id": "blind-spain",
      "metadata": {
        "execution": {
          "iopub.execute_input": "2021-05-27T10:18:10.902817Z",
          "iopub.status.busy": "2021-05-27T10:18:10.902153Z",
          "iopub.status.idle": "2021-05-27T10:18:10.906440Z",
          "shell.execute_reply": "2021-05-27T10:18:10.905821Z"
        },
        "papermill": {
          "duration": 0.108014,
          "end_time": "2021-05-27T10:18:10.906583",
          "exception": false,
          "start_time": "2021-05-27T10:18:10.798569",
          "status": "completed"
        },
        "tags": [],
        "colab": {
          "base_uri": "https://localhost:8080/"
        },
        "id": "blind-spain",
        "outputId": "afe36b77-f3a5-43e7-88eb-ce5cd482566c"
      },
      "outputs": [
        {
          "output_type": "execute_result",
          "data": {
            "text/plain": [
              "{'criterion': 'gini',\n",
              " 'max_depth': 4,\n",
              " 'min_samples_leaf': 9,\n",
              " 'min_samples_split': 8,\n",
              " 'splitter': 'random'}"
            ]
          },
          "metadata": {},
          "execution_count": 22
        }
      ],
      "source": [
        "# best parameters\n",
        "\n",
        "grid_search_dt.best_params_"
      ]
    },
    {
      "cell_type": "code",
      "execution_count": 23,
      "id": "generic-navigation",
      "metadata": {
        "execution": {
          "iopub.execute_input": "2021-05-27T10:18:11.109877Z",
          "iopub.status.busy": "2021-05-27T10:18:11.109163Z",
          "iopub.status.idle": "2021-05-27T10:18:11.113877Z",
          "shell.execute_reply": "2021-05-27T10:18:11.114367Z"
        },
        "papermill": {
          "duration": 0.108607,
          "end_time": "2021-05-27T10:18:11.114537",
          "exception": false,
          "start_time": "2021-05-27T10:18:11.005930",
          "status": "completed"
        },
        "tags": [],
        "colab": {
          "base_uri": "https://localhost:8080/"
        },
        "id": "generic-navigation",
        "outputId": "68e703b0-4642-449c-baaf-0d2643d3ecff"
      },
      "outputs": [
        {
          "output_type": "execute_result",
          "data": {
            "text/plain": [
              "0.957373417721519"
            ]
          },
          "metadata": {},
          "execution_count": 23
        }
      ],
      "source": [
        "# best score\n",
        "\n",
        "grid_search_dt.best_score_"
      ]
    },
    {
      "cell_type": "code",
      "execution_count": 24,
      "id": "negative-refrigerator",
      "metadata": {
        "execution": {
          "iopub.execute_input": "2021-05-27T10:18:11.317703Z",
          "iopub.status.busy": "2021-05-27T10:18:11.317014Z",
          "iopub.status.idle": "2021-05-27T10:18:11.324558Z",
          "shell.execute_reply": "2021-05-27T10:18:11.325083Z"
        },
        "papermill": {
          "duration": 0.110313,
          "end_time": "2021-05-27T10:18:11.325286",
          "exception": false,
          "start_time": "2021-05-27T10:18:11.214973",
          "status": "completed"
        },
        "tags": [],
        "colab": {
          "base_uri": "https://localhost:8080/"
        },
        "id": "negative-refrigerator",
        "outputId": "7ce19e02-1fd5-4379-e754-d7dfd2cbf040"
      },
      "outputs": [
        {
          "output_type": "execute_result",
          "data": {
            "text/plain": [
              "DecisionTreeClassifier(criterion='entropy', max_depth=28, min_samples_split=8,\n",
              "                       splitter='random')"
            ]
          },
          "metadata": {},
          "execution_count": 24
        }
      ],
      "source": [
        "dtc = DecisionTreeClassifier(criterion = 'entropy', max_depth = 28, min_samples_leaf = 1, min_samples_split = 8, splitter = 'random')\n",
        "dtc.fit(X_train, y_train)"
      ]
    },
    {
      "cell_type": "code",
      "execution_count": 25,
      "id": "suffering-preview",
      "metadata": {
        "execution": {
          "iopub.execute_input": "2021-05-27T10:18:11.529463Z",
          "iopub.status.busy": "2021-05-27T10:18:11.528845Z",
          "iopub.status.idle": "2021-05-27T10:18:11.532924Z",
          "shell.execute_reply": "2021-05-27T10:18:11.533446Z"
        },
        "papermill": {
          "duration": 0.108055,
          "end_time": "2021-05-27T10:18:11.533627",
          "exception": false,
          "start_time": "2021-05-27T10:18:11.425572",
          "status": "completed"
        },
        "tags": [],
        "id": "suffering-preview"
      },
      "outputs": [],
      "source": [
        "y_pred = dtc.predict(X_test)"
      ]
    },
    {
      "cell_type": "code",
      "source": [
        "from sklearn.metrics import accuracy_score, confusion_matrix, classification_report"
      ],
      "metadata": {
        "id": "9xHgDkUQjKWm"
      },
      "id": "9xHgDkUQjKWm",
      "execution_count": 36,
      "outputs": []
    },
    {
      "cell_type": "code",
      "execution_count": 33,
      "id": "forty-finger",
      "metadata": {
        "execution": {
          "iopub.execute_input": "2021-05-27T10:18:11.737822Z",
          "iopub.status.busy": "2021-05-27T10:18:11.737106Z",
          "iopub.status.idle": "2021-05-27T10:18:11.743990Z",
          "shell.execute_reply": "2021-05-27T10:18:11.744520Z"
        },
        "papermill": {
          "duration": 0.110252,
          "end_time": "2021-05-27T10:18:11.744700",
          "exception": false,
          "start_time": "2021-05-27T10:18:11.634448",
          "status": "completed"
        },
        "tags": [],
        "colab": {
          "base_uri": "https://localhost:8080/"
        },
        "id": "forty-finger",
        "outputId": "80972f72-75fe-468c-e314-f19c21f765c7"
      },
      "outputs": [
        {
          "output_type": "stream",
          "name": "stdout",
          "text": [
            "0.9723618090452262\n",
            "0.9005847953216374\n"
          ]
        }
      ],
      "source": [
        "# accuracy score\n",
        "\n",
        "print(accuracy_score(y_train, dtc.predict(X_train)))\n",
        "\n",
        "dtc_acc = accuracy_score(y_test, dtc.predict(X_test))\n",
        "print(dtc_acc)"
      ]
    },
    {
      "cell_type": "code",
      "execution_count": 34,
      "id": "grave-complexity",
      "metadata": {
        "execution": {
          "iopub.execute_input": "2021-05-27T10:18:11.954202Z",
          "iopub.status.busy": "2021-05-27T10:18:11.953545Z",
          "iopub.status.idle": "2021-05-27T10:18:11.956533Z",
          "shell.execute_reply": "2021-05-27T10:18:11.957129Z"
        },
        "papermill": {
          "duration": 0.112407,
          "end_time": "2021-05-27T10:18:11.957321",
          "exception": false,
          "start_time": "2021-05-27T10:18:11.844914",
          "status": "completed"
        },
        "tags": [],
        "colab": {
          "base_uri": "https://localhost:8080/"
        },
        "id": "grave-complexity",
        "outputId": "33884f70-dfd8-4a2f-a878-f0b0f06ecc41"
      },
      "outputs": [
        {
          "output_type": "stream",
          "name": "stdout",
          "text": [
            "[[98 10]\n",
            " [ 7 56]]\n"
          ]
        }
      ],
      "source": [
        "# confusion matrix\n",
        "\n",
        "print(confusion_matrix(y_test, y_pred))"
      ]
    },
    {
      "cell_type": "markdown",
      "source": [
        "So we got:\n",
        "\n",
        "TP = 56 FP = 10 FN = 7 TN = 98"
      ],
      "metadata": {
        "id": "WsVzMOE8klqF"
      },
      "id": "WsVzMOE8klqF"
    },
    {
      "cell_type": "code",
      "execution_count": 38,
      "id": "prepared-corps",
      "metadata": {
        "execution": {
          "iopub.execute_input": "2021-05-27T10:18:12.166767Z",
          "iopub.status.busy": "2021-05-27T10:18:12.166086Z",
          "iopub.status.idle": "2021-05-27T10:18:12.178259Z",
          "shell.execute_reply": "2021-05-27T10:18:12.177107Z"
        },
        "papermill": {
          "duration": 0.120056,
          "end_time": "2021-05-27T10:18:12.178485",
          "exception": false,
          "start_time": "2021-05-27T10:18:12.058429",
          "status": "completed"
        },
        "tags": [],
        "colab": {
          "base_uri": "https://localhost:8080/"
        },
        "id": "prepared-corps",
        "outputId": "78453d18-69b0-4000-df5f-02922784ed09"
      },
      "outputs": [
        {
          "output_type": "stream",
          "name": "stdout",
          "text": [
            "              precision    recall  f1-score   support\n",
            "\n",
            "           0       0.93      0.91      0.92       108\n",
            "           1       0.85      0.89      0.87        63\n",
            "\n",
            "    accuracy                           0.90       171\n",
            "   macro avg       0.89      0.90      0.89       171\n",
            "weighted avg       0.90      0.90      0.90       171\n",
            "\n"
          ]
        }
      ],
      "source": [
        "# classification report\n",
        "\n",
        "print(classification_report(y_test, y_pred)) #what is the support???"
      ]
    },
    {
      "cell_type": "code",
      "source": [
        "from sklearn.metrics import roc_curve\n",
        "%matplotlib inline\n",
        "y_pred_prob = dtc.predict_proba(X_test)[:,1]\n",
        "fpr, tpr, thresholds = roc_curve(y_test, y_pred_prob)\n",
        "# create plot\n",
        "plt.plot(fpr, tpr, label='ROC curve')\n",
        "plt.plot([0, 1], [0, 1], 'k--', label='Random guess')\n",
        "_ = plt.xlabel('False Positive Rate')\n",
        "_ = plt.ylabel('True Positive Rate')\n",
        "_ = plt.title('ROC Curve')\n",
        "_ = plt.xlim([-0.02, 1])\n",
        "_ = plt.ylim([0, 1.02])\n",
        "_ = plt.legend(loc=\"lower right\")"
      ],
      "metadata": {
        "colab": {
          "base_uri": "https://localhost:8080/",
          "height": 299
        },
        "id": "Sh20UWOckzAT",
        "outputId": "b4539c98-c14e-4609-dfda-ac280de74371"
      },
      "id": "Sh20UWOckzAT",
      "execution_count": 39,
      "outputs": [
        {
          "output_type": "display_data",
          "data": {
            "text/plain": [
              "<Figure size 432x288 with 1 Axes>"
            ],
            "image/png": "[encoded data removed]"
          },
          "metadata": {
            "needs_background": "light"
          }
        }
      ]
    },
    {
      "cell_type": "code",
      "source": [
        "from sklearn.metrics import roc_auc_score\n",
        "\n",
        "roc_auc_score(y_test, y_pred_prob)"
      ],
      "metadata": {
        "colab": {
          "base_uri": "https://localhost:8080/"
        },
        "id": "blal_T2slTgZ",
        "outputId": "8b9bf0b6-563f-467d-cb03-a670c5ba409d"
      },
      "id": "blal_T2slTgZ",
      "execution_count": 40,
      "outputs": [
        {
          "output_type": "execute_result",
          "data": {
            "text/plain": [
              "0.9254850088183421"
            ]
          },
          "metadata": {},
          "execution_count": 40
        }
      ]
    }
  ],
  "metadata": {
    "kernelspec": {
      "display_name": "Python 3",
      "language": "python",
      "name": "python3"
    },
    "language_info": {
      "codemirror_mode": {
        "name": "ipython",
        "version": 3
      },
      "file_extension": ".py",
      "mimetype": "text/x-python",
      "name": "python",
      "nbconvert_exporter": "python",
      "pygments_lexer": "ipython3",
      "version": "3.7.10"
    },
    "papermill": {
      "default_parameters": {},
      "duration": 139.152124,
      "end_time": "2021-05-27T10:18:49.215547",
      "environment_variables": {},
      "exception": null,
      "input_path": "__notebook__.ipynb",
      "output_path": "__notebook__.ipynb",
      "parameters": {},
      "start_time": "2021-05-27T10:16:30.063423",
      "version": "2.3.3"
    },
    "colab": {
      "provenance": [],
      "collapsed_sections": []
    }
  },
  "nbformat": 4,
  "nbformat_minor": 5
}