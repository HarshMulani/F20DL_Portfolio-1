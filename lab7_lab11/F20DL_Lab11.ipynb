{
  "cells": [
    {
      "metadata": {
        "_uuid": "903ad334-b203-4691-9266-f49ac45376ca",
        "_cell_guid": "cb47d76d-e338-4ee8-95dc-b72f5a76c072",
        "trusted": true,
        "id": "sAROxcZr7BW3"
      },
      "cell_type": "markdown",
      "source": [
        "# Import Packages\n",
        "\n",
        "![](https://i.imgur.com/jZqpV51.png)\n"
      ]
    },
    {
      "metadata": {
        "_uuid": "54eb48ef-d874-42ca-b4b3-8204f9251e82",
        "_cell_guid": "230e1aa3-f53b-4ec8-9ca6-6c343e1df0f6",
        "trusted": true,
        "id": "CZfs0LXz7BW6"
      },
      "cell_type": "code",
      "source": [
        "from glob import glob\n",
        "import tensorflow as tf\n",
        "import numpy as np\n",
        "import pandas as pd\n",
        "from keras.applications import VGG16, ResNet101\n",
        "from keras.preprocessing import image\n",
        "from keras.models import Model\n",
        "from keras.layers import *\n",
        "from keras.metrics import categorical_accuracy, top_k_categorical_accuracy\n",
        "\n",
        "import matplotlib.pyplot as plt\n",
        "import seaborn as sns\n",
        "import cv2\n",
        "import h5py"
      ],
      "execution_count": 61,
      "outputs": []
    },
    {
      "cell_type": "markdown",
      "source": [
        "# Initialize the dataset"
      ],
      "metadata": {
        "id": "T427qzmiJ49y"
      }
    },
    {
      "cell_type": "code",
      "source": [
        "! wget --no-check-certificate https://www2.macs.hw.ac.uk/~js2001/Covid19Xray.zip"
      ],
      "metadata": {
        "colab": {
          "base_uri": "https://localhost:8080/"
        },
        "id": "na-zYuyc7XpQ",
        "outputId": "f19ff3ae-12e6-4599-b704-dbc614c656da"
      },
      "execution_count": 2,
      "outputs": [
        {
          "output_type": "stream",
          "name": "stdout",
          "text": [
            "--2022-11-19 17:26:35--  https://www2.macs.hw.ac.uk/~js2001/Covid19Xray.zip\n",
            "Resolving www2.macs.hw.ac.uk (www2.macs.hw.ac.uk)... 137.195.15.99\n",
            "Connecting to www2.macs.hw.ac.uk (www2.macs.hw.ac.uk)|137.195.15.99|:443... connected.\n",
            "WARNING: cannot verify www2.macs.hw.ac.uk's certificate, issued by ‘CN=GEANT OV RSA CA 4,O=GEANT Vereniging,C=NL’:\n",
            "  Unable to locally verify the issuer's authority.\n",
            "HTTP request sent, awaiting response... 200 OK\n",
            "Length: 88393633 (84M) [application/zip]\n",
            "Saving to: ‘Covid19Xray.zip’\n",
            "\n",
            "Covid19Xray.zip     100%[===================>]  84.30M  1.70MB/s    in 51s     \n",
            "\n",
            "2022-11-19 17:27:27 (1.67 MB/s) - ‘Covid19Xray.zip’ saved [88393633/88393633]\n",
            "\n"
          ]
        }
      ]
    },
    {
      "cell_type": "code",
      "source": [
        "! unzip /content/Covid19Xray.zip -d ./"
      ],
      "metadata": {
        "colab": {
          "base_uri": "https://localhost:8080/"
        },
        "id": "XQ0-GhNX7aS4",
        "outputId": "b070783e-c56f-474b-bdb2-f6455885f0b4"
      },
      "execution_count": 3,
      "outputs": [
        {
          "output_type": "stream",
          "name": "stdout",
          "text": [
            "Archive:  /content/Covid19Xray.zip\n",
            "   creating: ./test/\n",
            "   creating: ./test/NORMAL/\n",
            "  inflating: ./test/NORMAL/NORMAL2-IM-0035-0001.jpeg  \n",
            "  inflating: ./test/NORMAL/NORMAL2-IM-0052-0001.jpeg  \n",
            "  inflating: ./test/NORMAL/NORMAL2-IM-0058-0001.jpeg  \n",
            "  inflating: ./test/NORMAL/NORMAL2-IM-0059-0001.jpeg  \n",
            "  inflating: ./test/NORMAL/NORMAL2-IM-0072-0001.jpeg  \n",
            "  inflating: ./test/NORMAL/NORMAL2-IM-0073-0001.jpeg  \n",
            "  inflating: ./test/NORMAL/NORMAL2-IM-0092-0001.jpeg  \n",
            "  inflating: ./test/NORMAL/NORMAL2-IM-0105-0001.jpeg  \n",
            "  inflating: ./test/NORMAL/NORMAL2-IM-0110-0001.jpeg  \n",
            "  inflating: ./test/NORMAL/NORMAL2-IM-0111-0001.jpeg  \n",
            "  inflating: ./test/NORMAL/NORMAL2-IM-0112-0001.jpeg  \n",
            "  inflating: ./test/NORMAL/NORMAL2-IM-0117-0001.jpeg  \n",
            "  inflating: ./test/NORMAL/NORMAL2-IM-0120-0001.jpeg  \n",
            "  inflating: ./test/NORMAL/NORMAL2-IM-0123-0001.jpeg  \n",
            "  inflating: ./test/NORMAL/NORMAL2-IM-0130-0001.jpeg  \n",
            "  inflating: ./test/NORMAL/NORMAL2-IM-0131-0001.jpeg  \n",
            "  inflating: ./test/NORMAL/NORMAL2-IM-0132-0001.jpeg  \n",
            "  inflating: ./test/NORMAL/NORMAL2-IM-0139-0001.jpeg  \n",
            "  inflating: ./test/NORMAL/NORMAL2-IM-0145-0001.jpeg  \n",
            "  inflating: ./test/NORMAL/NORMAL2-IM-0171-0001.jpeg  \n",
            "   creating: ./test/PNEUMONIA/\n",
            "  inflating: ./test/PNEUMONIA/ryct.2020200034.fig2.jpeg  \n",
            "  inflating: ./test/PNEUMONIA/ryct.2020200034.fig5-day0.jpeg  \n",
            "  inflating: ./test/PNEUMONIA/ryct.2020200034.fig5-day4.jpeg  \n",
            "  inflating: ./test/PNEUMONIA/ryct.2020200034.fig5-day7.jpeg  \n",
            "  inflating: ./test/PNEUMONIA/SARS-10.1148rg.242035193-g04mr34g0-Fig8a-day0.jpeg  \n",
            "  inflating: ./test/PNEUMONIA/SARS-10.1148rg.242035193-g04mr34g0-Fig8b-day5.jpeg  \n",
            "  inflating: ./test/PNEUMONIA/SARS-10.1148rg.242035193-g04mr34g0-Fig8c-day10.jpeg  \n",
            "  inflating: ./test/PNEUMONIA/SARS-10.1148rg.242035193-g04mr34g04a-Fig4a-day7.jpeg  \n",
            "  inflating: ./test/PNEUMONIA/SARS-10.1148rg.242035193-g04mr34g04b-Fig4b-day12.jpeg  \n",
            "  inflating: ./test/PNEUMONIA/SARS-10.1148rg.242035193-g04mr34g05x-Fig5-day9.jpeg  \n",
            "  inflating: ./test/PNEUMONIA/SARS-10.1148rg.242035193-g04mr34g07a-Fig7a-day5.jpeg  \n",
            "  inflating: ./test/PNEUMONIA/SARS-10.1148rg.242035193-g04mr34g07b-Fig7b-day12.jpeg  \n",
            "  inflating: ./test/PNEUMONIA/SARS-10.1148rg.242035193-g04mr34g09a-Fig9a-day17.jpeg  \n",
            "  inflating: ./test/PNEUMONIA/SARS-10.1148rg.242035193-g04mr34g09b-Fig9b-day19.jpeg  \n",
            "  inflating: ./test/PNEUMONIA/SARS-10.1148rg.242035193-g04mr34g09c-Fig9c-day27.jpeg  \n",
            "  inflating: ./test/PNEUMONIA/streptococcus-pneumoniae-pneumonia-1.jpg  \n",
            "  inflating: ./test/PNEUMONIA/streptococcus-pneumoniae-pneumonia-temporal-evolution-1-day0.jpg  \n",
            "  inflating: ./test/PNEUMONIA/streptococcus-pneumoniae-pneumonia-temporal-evolution-1-day1.jpg  \n",
            "  inflating: ./test/PNEUMONIA/streptococcus-pneumoniae-pneumonia-temporal-evolution-1-day2.jpg  \n",
            "  inflating: ./test/PNEUMONIA/streptococcus-pneumoniae-pneumonia-temporal-evolution-1-day3.jpg  \n",
            "   creating: ./train/\n",
            "   creating: ./train/NORMAL/\n",
            "  inflating: ./train/NORMAL/IM-0001-0001.jpeg  \n",
            "  inflating: ./train/NORMAL/IM-0003-0001.jpeg  \n",
            "  inflating: ./train/NORMAL/IM-0005-0001.jpeg  \n",
            "  inflating: ./train/NORMAL/IM-0006-0001.jpeg  \n",
            "  inflating: ./train/NORMAL/IM-0007-0001.jpeg  \n",
            "  inflating: ./train/NORMAL/IM-0009-0001.jpeg  \n",
            "  inflating: ./train/NORMAL/IM-0010-0001.jpeg  \n",
            "  inflating: ./train/NORMAL/IM-0011-0001-0001.jpeg  \n",
            "  inflating: ./train/NORMAL/IM-0011-0001-0002.jpeg  \n",
            "  inflating: ./train/NORMAL/IM-0011-0001.jpeg  \n",
            "  inflating: ./train/NORMAL/IM-0013-0001.jpeg  \n",
            "  inflating: ./train/NORMAL/IM-0015-0001.jpeg  \n",
            "  inflating: ./train/NORMAL/IM-0016-0001.jpeg  \n",
            "  inflating: ./train/NORMAL/IM-0017-0001.jpeg  \n",
            "  inflating: ./train/NORMAL/IM-0019-0001.jpeg  \n",
            "  inflating: ./train/NORMAL/IM-0021-0001.jpeg  \n",
            "  inflating: ./train/NORMAL/IM-0022-0001.jpeg  \n",
            "  inflating: ./train/NORMAL/IM-0023-0001.jpeg  \n",
            "  inflating: ./train/NORMAL/IM-0025-0001.jpeg  \n",
            "  inflating: ./train/NORMAL/IM-0027-0001.jpeg  \n",
            "  inflating: ./train/NORMAL/IM-0029-0001.jpeg  \n",
            "  inflating: ./train/NORMAL/IM-0030-0001.jpeg  \n",
            "  inflating: ./train/NORMAL/IM-0031-0001.jpeg  \n",
            "  inflating: ./train/NORMAL/IM-0033-0001-0001.jpeg  \n",
            "  inflating: ./train/NORMAL/IM-0033-0001-0002.jpeg  \n",
            "  inflating: ./train/NORMAL/IM-0033-0001.jpeg  \n",
            "  inflating: ./train/NORMAL/IM-0035-0001.jpeg  \n",
            "  inflating: ./train/NORMAL/IM-0036-0001.jpeg  \n",
            "  inflating: ./train/NORMAL/IM-0037-0001.jpeg  \n",
            "  inflating: ./train/NORMAL/IM-0039-0001.jpeg  \n",
            "  inflating: ./train/NORMAL/IM-0041-0001.jpeg  \n",
            "  inflating: ./train/NORMAL/IM-0043-0001.jpeg  \n",
            "  inflating: ./train/NORMAL/IM-0045-0001.jpeg  \n",
            "  inflating: ./train/NORMAL/IM-0046-0001.jpeg  \n",
            "  inflating: ./train/NORMAL/IM-0049-0001.jpeg  \n",
            "  inflating: ./train/NORMAL/IM-0050-0001.jpeg  \n",
            "  inflating: ./train/NORMAL/IM-0059-0001.jpeg  \n",
            "  inflating: ./train/NORMAL/IM-0061-0001.jpeg  \n",
            "  inflating: ./train/NORMAL/IM-0063-0001.jpeg  \n",
            "  inflating: ./train/NORMAL/IM-0069-0001.jpeg  \n",
            "  inflating: ./train/NORMAL/IM-0070-0001.jpeg  \n",
            "  inflating: ./train/NORMAL/IM-0071-0001.jpeg  \n",
            "  inflating: ./train/NORMAL/IM-0073-0001.jpeg  \n",
            "  inflating: ./train/NORMAL/IM-0075-0001.jpeg  \n",
            "  inflating: ./train/NORMAL/IM-0077-0001.jpeg  \n",
            "  inflating: ./train/NORMAL/IM-0079-0001.jpeg  \n",
            "  inflating: ./train/NORMAL/IM-0081-0001.jpeg  \n",
            "  inflating: ./train/NORMAL/IM-0083-0001.jpeg  \n",
            "  inflating: ./train/NORMAL/IM-0084-0001.jpeg  \n",
            "  inflating: ./train/NORMAL/IM-0085-0001.jpeg  \n",
            "  inflating: ./train/NORMAL/IM-0086-0001.jpeg  \n",
            "  inflating: ./train/NORMAL/IM-0087-0001.jpeg  \n",
            "  inflating: ./train/NORMAL/IM-0089-0001.jpeg  \n",
            "  inflating: ./train/NORMAL/IM-0091-0001.jpeg  \n",
            "  inflating: ./train/NORMAL/IM-0093-0001.jpeg  \n",
            "  inflating: ./train/NORMAL/IM-0095-0001.jpeg  \n",
            "  inflating: ./train/NORMAL/IM-0097-0001.jpeg  \n",
            "  inflating: ./train/NORMAL/IM-0099-0001.jpeg  \n",
            "  inflating: ./train/NORMAL/IM-0101-0001.jpeg  \n",
            "  inflating: ./train/NORMAL/IM-0102-0001.jpeg  \n",
            "  inflating: ./train/NORMAL/IM-0103-0001.jpeg  \n",
            "  inflating: ./train/NORMAL/IM-0105-0001.jpeg  \n",
            "  inflating: ./train/NORMAL/IM-0107-0001.jpeg  \n",
            "  inflating: ./train/NORMAL/IM-0110-0001.jpeg  \n",
            "  inflating: ./train/NORMAL/IM-0111-0001.jpeg  \n",
            "  inflating: ./train/NORMAL/NORMAL2-IM-0007-0001.jpeg  \n",
            "  inflating: ./train/NORMAL/NORMAL2-IM-0012-0001.jpeg  \n",
            "  inflating: ./train/NORMAL/NORMAL2-IM-0013-0001.jpeg  \n",
            "  inflating: ./train/NORMAL/NORMAL2-IM-0023-0001.jpeg  \n",
            "  inflating: ./train/NORMAL/NORMAL2-IM-0027-0001.jpeg  \n",
            "  inflating: ./train/NORMAL/NORMAL2-IM-0028-0001.jpeg  \n",
            "  inflating: ./train/NORMAL/NORMAL2-IM-0029-0001.jpeg  \n",
            "  inflating: ./train/NORMAL/NORMAL2-IM-0030-0001.jpeg  \n",
            "  inflating: ./train/NORMAL/NORMAL2-IM-0033-0001.jpeg  \n",
            "   creating: ./train/PNEUMONIA/\n",
            "  inflating: ./train/PNEUMONIA/01E392EE-69F9-4E33-BFCE-E5C968654078.jpeg  \n",
            "  inflating: ./train/PNEUMONIA/1-s2.0-S0140673620303706-fx1_lrg.jpg  \n",
            "  inflating: ./train/PNEUMONIA/1-s2.0-S1684118220300608-main.pdf-001.jpg  \n",
            "  inflating: ./train/PNEUMONIA/1-s2.0-S1684118220300608-main.pdf-002.jpg  \n",
            "  inflating: ./train/PNEUMONIA/1-s2.0-S1684118220300682-main.pdf-002-a1.png  \n",
            "  inflating: ./train/PNEUMONIA/1-s2.0-S1684118220300682-main.pdf-002-a2.png  \n",
            "  inflating: ./train/PNEUMONIA/1-s2.0-S1684118220300682-main.pdf-003-b1.png  \n",
            "  inflating: ./train/PNEUMONIA/1-s2.0-S1684118220300682-main.pdf-003-b2.png  \n",
            "  inflating: ./train/PNEUMONIA/1312A392-67A3-4EBF-9319-810CF6DA5EF6.jpeg  \n",
            "  inflating: ./train/PNEUMONIA/171CB377-62FF-4B76-906C-F3787A01CB2E.jpeg  \n",
            "  inflating: ./train/PNEUMONIA/1B734A89-A1BF-49A8-A1D3-66FAFA4FAC5D.jpeg  \n",
            "  inflating: ./train/PNEUMONIA/23E99E2E-447C-46E5-8EB2-D35D12473C39.png  \n",
            "  inflating: ./train/PNEUMONIA/2C10A413-AABE-4807-8CCE-6A2025594067.jpeg  \n",
            "  inflating: ./train/PNEUMONIA/2C26F453-AF3B-4517-BB9E-802CF2179543.jpeg  \n",
            "  inflating: ./train/PNEUMONIA/31BA3780-2323-493F-8AED-62081B9C383B.jpeg  \n",
            "  inflating: ./train/PNEUMONIA/39EE8E69-5801-48DE-B6E3-BE7D1BCF3092.jpeg  \n",
            "  inflating: ./train/PNEUMONIA/41591_2020_819_Fig1_HTML.webp-day10.png  \n",
            "  inflating: ./train/PNEUMONIA/41591_2020_819_Fig1_HTML.webp-day5.png  \n",
            "  inflating: ./train/PNEUMONIA/446B2CB6-B572-40AB-B01F-1910CA07086A.jpeg  \n",
            "  inflating: ./train/PNEUMONIA/5931B64A-7B97-485D-BE60-3F1EA76BC4F0.jpeg  \n",
            "  inflating: ./train/PNEUMONIA/5CBC2E94-D358-401E-8928-965CCD965C5C.jpeg  \n",
            "  inflating: ./train/PNEUMONIA/5e6dd879fde9502400e58b2f.jpeg  \n",
            "  inflating: ./train/PNEUMONIA/6CB4EFC6-68FA-4CD5-940C-BEFA8DAFE9A7.jpeg  \n",
            "  inflating: ./train/PNEUMONIA/7AF6C1AF-D249-4BD2-8C26-449304105D03.jpeg  \n",
            "  inflating: ./train/PNEUMONIA/7C69C012-7479-493F-8722-ABC29C60A2DD.jpeg  \n",
            "  inflating: ./train/PNEUMONIA/7D2CF6CE-F529-4470-8356-D33FFAF98600.jpeg  \n",
            "  inflating: ./train/PNEUMONIA/7E335538-2F86-424E-A0AB-6397783A38D0.jpeg  \n",
            "  inflating: ./train/PNEUMONIA/7EF28E12-F628-4BEC-A8C5-E6277C2E4F60.png  \n",
            "  inflating: ./train/PNEUMONIA/80446565-E090-4187-A031-9D3CEAA586C8.jpeg  \n",
            "  inflating: ./train/PNEUMONIA/85E52EB3-56E9-4D67-82DA-DEA247C82886.jpeg  \n",
            "  inflating: ./train/PNEUMONIA/8FDE8DBA-CFBD-4B4C-B1A4-6F36A93B7E87.jpeg  \n",
            "  inflating: ./train/PNEUMONIA/93FE0BB1-022D-4F24-9727-987A07975FFB.jpeg  \n",
            "  inflating: ./train/PNEUMONIA/9C34AF49-E589-44D5-92D3-168B3B04E4A6.jpeg  \n",
            "  inflating: ./train/PNEUMONIA/acute-respiratory-distress-syndrome-ards-1.jpg  \n",
            "  inflating: ./train/PNEUMONIA/all14238-fig-0001-m-b.jpg  \n",
            "  inflating: ./train/PNEUMONIA/all14238-fig-0001-m-c.jpg  \n",
            "  inflating: ./train/PNEUMONIA/all14238-fig-0002-m-e.jpg  \n",
            "  inflating: ./train/PNEUMONIA/ards-secondary-to-tiger-snake-bite.png  \n",
            "  inflating: ./train/PNEUMONIA/ARDSSevere.png  \n",
            "  inflating: ./train/PNEUMONIA/auntminnie-2020_01_31_20_24_2322_2020_01_31_x-ray_coronavirus_US.jpg  \n",
            "  inflating: ./train/PNEUMONIA/auntminnie-b-2020_01_28_23_51_6665_2020_01_28_Vietnam_coronavirus.jpeg  \n",
            "  inflating: ./train/PNEUMONIA/auntminnie-c-2020_01_28_23_51_6665_2020_01_28_Vietnam_coronavirus.jpeg  \n",
            "  inflating: ./train/PNEUMONIA/auntminnie-d-2020_01_28_23_51_6665_2020_01_28_Vietnam_coronavirus.jpeg  \n",
            "  inflating: ./train/PNEUMONIA/B59DD164-51D5-40DF-A926-6A42DD52EBE8.jpeg  \n",
            "  inflating: ./train/PNEUMONIA/C6EA0BE5-B01E-4113-B194-18D956675E25.jpeg  \n",
            "  inflating: ./train/PNEUMONIA/CD50BA96-6982-4C80-AE7B-5F67ACDBFA56.jpeg  \n",
            "  inflating: ./train/PNEUMONIA/covid-19-pneumonia-12.jpg  \n",
            "  inflating: ./train/PNEUMONIA/covid-19-pneumonia-14-PA.png  \n",
            "  inflating: ./train/PNEUMONIA/covid-19-pneumonia-15-PA.jpg  \n",
            "  inflating: ./train/PNEUMONIA/covid-19-pneumonia-7-PA.jpg  \n",
            "  inflating: ./train/PNEUMONIA/E1724330-1866-4581-8CD8-CEC9B8AFEDDE.jpeg  \n",
            "  inflating: ./train/PNEUMONIA/E63574A7-4188-4C8D-8D17-9D67A18A1AFA.jpeg  \n",
            "  inflating: ./train/PNEUMONIA/F051E018-DAD1-4506-AD43-BE4CA29E960B.jpeg  \n",
            "  inflating: ./train/PNEUMONIA/F4341CE7-73C9-45C6-99C8-8567A5484B63.jpeg  \n",
            "  inflating: ./train/PNEUMONIA/F63AB6CE-1968-4154-A70F-913AF154F53D.jpeg  \n",
            "  inflating: ./train/PNEUMONIA/jkms-35-e79-g001-l-a.jpg  \n",
            "  inflating: ./train/PNEUMONIA/jkms-35-e79-g001-l-b.jpg  \n",
            "  inflating: ./train/PNEUMONIA/jkms-35-e79-g001-l-c.jpg  \n",
            "  inflating: ./train/PNEUMONIA/kjr-21-e24-g001-l-a.jpg  \n",
            "  inflating: ./train/PNEUMONIA/kjr-21-e24-g002-l-a.jpg  \n",
            "  inflating: ./train/PNEUMONIA/kjr-21-e24-g003-l-a.jpg  \n",
            "  inflating: ./train/PNEUMONIA/kjr-21-e25-g001-l-a.jpg  \n",
            "  inflating: ./train/PNEUMONIA/lancet-case2a.jpg  \n",
            "  inflating: ./train/PNEUMONIA/MERS-CoV-1-s2.0-S0378603X1500248X-gr4e.jpg  \n",
            "  inflating: ./train/PNEUMONIA/nCoV-radiol.2020200269.fig1-day7.jpeg  \n",
            "  inflating: ./train/PNEUMONIA/nCoV-Snohomish-20382862_web1_M1-Lungs-EDH-200201-640x300@2x.jpg  \n",
            "  inflating: ./train/PNEUMONIA/nejmc2001573_f1a.jpeg  \n",
            "  inflating: ./train/PNEUMONIA/nejmc2001573_f1b.jpeg  \n",
            "  inflating: ./train/PNEUMONIA/nejmoa2001191_f1-PA.jpeg  \n",
            "  inflating: ./train/PNEUMONIA/nejmoa2001191_f3-PA.jpeg  \n",
            "  inflating: ./train/PNEUMONIA/nejmoa2001191_f4.jpeg  \n",
            "  inflating: ./train/PNEUMONIA/nejmoa2001191_f5-PA.jpeg  \n",
            "  inflating: ./train/PNEUMONIA/pneumocystis-pneumonia-2-PA.png  \n",
            "  inflating: ./train/PNEUMONIA/ryct.2020200028.fig1a.jpeg  \n"
          ]
        }
      ]
    },
    {
      "cell_type": "code",
      "source": [
        "folder = glob('/content/train/*')"
      ],
      "metadata": {
        "id": "pvSOFUVl8IOz"
      },
      "execution_count": 7,
      "outputs": []
    },
    {
      "metadata": {
        "_uuid": "aea1e733-70a9-4300-ba7b-17d9f56cefba",
        "_cell_guid": "ca13d8a8-d9c2-49a4-8817-0fdfec08a057",
        "trusted": true,
        "id": "Go92E0SM7BW-"
      },
      "cell_type": "code",
      "source": [
        "IMAGE_SIZE = [224,224]"
      ],
      "execution_count": 4,
      "outputs": []
    },
    {
      "metadata": {
        "_uuid": "c7cfebf3-9f47-490f-b08c-6eaaaeb2b1a8",
        "_cell_guid": "3a482b17-357f-4189-8eee-a99904d420c3",
        "trusted": true,
        "id": "rF0JAq6y7BW-"
      },
      "cell_type": "code",
      "source": [
        "#use VGG to load images\n",
        "vgg = VGG16(input_shape = IMAGE_SIZE + [3], weights='imagenet', include_top=False)\n",
        "\n",
        "for layer in vgg.layers:\n",
        "    layer.trainable = False"
      ],
      "execution_count": 10,
      "outputs": []
    },
    {
      "metadata": {
        "_uuid": "a4470abc-5088-4bb8-92e6-b698e9be1156",
        "_cell_guid": "e82d7933-819f-44b3-9bfc-0f444a71a9e9",
        "trusted": true,
        "id": "8nYZ6-w_7BW-"
      },
      "cell_type": "code",
      "source": [
        "x = Flatten()(vgg.output)\n",
        "preds = Dense(512, activation='relu')(x)\n",
        "predictions = Dense(len(folder), activation='softmax')(preds)\n",
        "\n",
        "vgg_model = Model(inputs=vgg.input, outputs=predictions)"
      ],
      "execution_count": 8,
      "outputs": []
    },
    {
      "metadata": {
        "_uuid": "ba9e2d54-a0be-402f-bd34-7bfa27238721",
        "_cell_guid": "416df342-06a0-4382-b9ce-692f002e1e36",
        "trusted": true,
        "id": "P-3S-of77BW_"
      },
      "cell_type": "code",
      "source": [
        "vgg_model.compile(loss='categorical_crossentropy',\n",
        "  optimizer='adam',\n",
        "  metrics=[categorical_accuracy])"
      ],
      "execution_count": 9,
      "outputs": []
    },
    {
      "cell_type": "markdown",
      "source": [
        "# Build Model epoche = 1 Verbose = 1"
      ],
      "metadata": {
        "id": "bCodNpRL8RPH"
      }
    },
    {
      "metadata": {
        "_uuid": "c3468567-58c4-4d79-9306-7bd5048b0a9c",
        "_cell_guid": "c667d8d1-ce21-4c69-8d7b-02950db86336",
        "trusted": true,
        "id": "--sS3ezH7BW_"
      },
      "cell_type": "code",
      "source": [
        "test_datagen = ImageDataGenerator(rescale = 1./255)\n",
        "train_datagen = ImageDataGenerator(rescale = 1./255,\n",
        "                                   shear_range = 0.2,\n",
        "                                   zoom_range = 0.2,\n",
        "                                   horizontal_flip = True)"
      ],
      "execution_count": 62,
      "outputs": []
    },
    {
      "metadata": {
        "_uuid": "fafc96fa-c7ae-47e2-b80c-f58ef983acf2",
        "_cell_guid": "4e38fdb0-c3e7-4a76-9850-2f98cefcb7af",
        "trusted": true,
        "colab": {
          "base_uri": "https://localhost:8080/"
        },
        "id": "p6BHiQcY7BW_",
        "outputId": "ca5f423e-a965-40fb-c378-c33f76a91d9e"
      },
      "cell_type": "code",
      "source": [
        "train_set = train_datagen.flow_from_directory('/content/train', \n",
        "                                              target_size = (224, 224),\n",
        "                                              batch_size = 32, \n",
        "                                              class_mode = 'categorical'\n",
        "                                             )\n",
        "\n",
        "# for test data\n",
        "test_set = test_datagen.flow_from_directory('/content/test',\n",
        "                                            target_size = (224, 224),\n",
        "                                            batch_size = 32,\n",
        "                                            class_mode = 'categorical'\n",
        "                                           )"
      ],
      "execution_count": 63,
      "outputs": [
        {
          "output_type": "stream",
          "name": "stdout",
          "text": [
            "Found 148 images belonging to 2 classes.\n",
            "Found 40 images belonging to 2 classes.\n"
          ]
        }
      ]
    },
    {
      "metadata": {
        "_uuid": "3d09b505-5c6a-4573-b55d-d80b61365ce5",
        "_cell_guid": "211ccea4-0f8d-4f1d-bd32-aa7b6c737e9c",
        "trusted": true,
        "colab": {
          "base_uri": "https://localhost:8080/"
        },
        "id": "CTwcxMPj7BXA",
        "outputId": "d5d6600c-4b8e-4ada-dab3-04c06273f21b"
      },
      "cell_type": "code",
      "source": [
        "filepath = \"vgg16_model.h5\"\n",
        "checkpoint = tf.keras.callbacks.ModelCheckpoint(filepath, monitor='val_categorical_accuracy', verbose=1, \n",
        "                             save_best_only=True, mode='max')\n",
        "\n",
        "reduce_lr = tf.keras.callbacks.ReduceLROnPlateau(monitor='val_categorical_accuracy', factor=0.5, patience=2, \n",
        "                                   verbose=1, mode='max', min_lr=0.00001)\n",
        "                              \n",
        "                              \n",
        "callbacks_list = [checkpoint, reduce_lr]\n",
        "\n",
        "history = vgg_model.fit_generator(train_set, steps_per_epoch=len(train_set), \n",
        "                              #class_weight=class_weights,\n",
        "                    validation_data=test_set,\n",
        "                    validation_steps=len(test_set),\n",
        "                    epochs=1, verbose=1,\n",
        "                   callbacks=callbacks_list)"
      ],
      "execution_count": 17,
      "outputs": [
        {
          "output_type": "stream",
          "name": "stderr",
          "text": [
            "/usr/local/lib/python3.7/dist-packages/ipykernel_launcher.py:16: UserWarning: `Model.fit_generator` is deprecated and will be removed in a future version. Please use `Model.fit`, which supports generators.\n",
            "  app.launch_new_instance()\n"
          ]
        },
        {
          "output_type": "stream",
          "name": "stdout",
          "text": [
            "5/5 [==============================] - ETA: 0s - loss: 8.5908 - categorical_accuracy: 0.5000  \n",
            "Epoch 1: val_categorical_accuracy improved from -inf to 0.50000, saving model to vgg16_model.h5\n",
            "5/5 [==============================] - 115s 24s/step - loss: 8.5908 - categorical_accuracy: 0.5000 - val_loss: 3.4470 - val_categorical_accuracy: 0.5000 - lr: 0.0010\n"
          ]
        }
      ]
    },
    {
      "metadata": {
        "_uuid": "9d7aa6eb-6bfc-42a3-bfd2-94f1fc01a067",
        "_cell_guid": "1259d738-f941-430a-851a-c0147c381556",
        "trusted": true,
        "colab": {
          "base_uri": "https://localhost:8080/"
        },
        "id": "jTW_Vj9v7BXA",
        "outputId": "eb4a4385-50df-400e-8f56-08c76ce546d4"
      },
      "cell_type": "code",
      "source": [
        "y_pred = vgg_model.predict_generator(test_set)"
      ],
      "execution_count": 18,
      "outputs": [
        {
          "output_type": "stream",
          "name": "stderr",
          "text": [
            "/usr/local/lib/python3.7/dist-packages/ipykernel_launcher.py:1: UserWarning: `Model.predict_generator` is deprecated and will be removed in a future version. Please use `Model.predict`, which supports generators.\n",
            "  \"\"\"Entry point for launching an IPython kernel.\n"
          ]
        }
      ]
    },
    {
      "metadata": {
        "_uuid": "a47d4852-c1b1-44bc-b8f1-e33b9476353f",
        "_cell_guid": "4b3c2c42-fde6-4c46-b288-5f7e4abdc8b6",
        "trusted": true,
        "colab": {
          "base_uri": "https://localhost:8080/"
        },
        "id": "QBquDoZw7BXA",
        "outputId": "14ea2765-3472-45b9-8985-901d8bb289bb"
      },
      "cell_type": "code",
      "source": [
        "y_pred = np.argmax(y_pred, axis=1)\n",
        "y_pred"
      ],
      "execution_count": 19,
      "outputs": [
        {
          "output_type": "execute_result",
          "data": {
            "text/plain": [
              "array([1, 1, 1, 1, 1, 1, 1, 1, 1, 1, 1, 1, 1, 1, 1, 1, 1, 1, 1, 1, 1, 1,\n",
              "       1, 1, 1, 1, 1, 1, 1, 1, 1, 1, 1, 1, 1, 1, 1, 1, 1, 1])"
            ]
          },
          "metadata": {},
          "execution_count": 19
        }
      ]
    },
    {
      "metadata": {
        "_uuid": "dac072e3-cf9e-40e0-aa9c-f2d899c71393",
        "_cell_guid": "4b3ae957-6ecd-4a6b-bc9c-bedf47ed33e5",
        "trusted": true,
        "colab": {
          "base_uri": "https://localhost:8080/"
        },
        "id": "oXm6BwTz7BXB",
        "outputId": "0659fd01-0c79-451e-afcf-fc69b57e9c57"
      },
      "cell_type": "code",
      "source": [
        "test_set.class_indices"
      ],
      "execution_count": 20,
      "outputs": [
        {
          "output_type": "execute_result",
          "data": {
            "text/plain": [
              "{'NORMAL': 0, 'PNEUMONIA': 1}"
            ]
          },
          "metadata": {},
          "execution_count": 20
        }
      ]
    },
    {
      "metadata": {
        "_uuid": "5dc9990d-3236-4832-ae68-ee17538476a8",
        "_cell_guid": "a9b6f607-2adf-49df-8363-dc82fa0706ff",
        "trusted": true,
        "colab": {
          "base_uri": "https://localhost:8080/"
        },
        "id": "y4ZiuSlC7BXB",
        "outputId": "640b3855-23f1-4eae-9ae4-333fda85ff2b"
      },
      "cell_type": "code",
      "source": [
        "batch_size = 32\n",
        "val_steps = np.ceil(len(test_set) / batch_size)\n",
        "\n",
        "val_loss, val_cat_acc = \\\n",
        "vgg_model.evaluate_generator(test_set, \n",
        "                        steps=val_steps)\n",
        "\n",
        "print('val_loss:', val_loss)\n",
        "print('val_cat_acc:', val_cat_acc)"
      ],
      "execution_count": 21,
      "outputs": [
        {
          "output_type": "stream",
          "name": "stderr",
          "text": [
            "/usr/local/lib/python3.7/dist-packages/ipykernel_launcher.py:6: UserWarning: `Model.evaluate_generator` is deprecated and will be removed in a future version. Please use `Model.evaluate`, which supports generators.\n",
            "  \n"
          ]
        },
        {
          "output_type": "stream",
          "name": "stdout",
          "text": [
            "val_loss: 3.6371066570281982\n",
            "val_cat_acc: 0.46875\n"
          ]
        }
      ]
    },
    {
      "metadata": {
        "_uuid": "1abdecd5-1bc2-4381-a803-8857b9f2248a",
        "_cell_guid": "21e72d4e-d23e-4e4b-a0a8-cebefed47b73",
        "trusted": true,
        "colab": {
          "base_uri": "https://localhost:8080/"
        },
        "id": "MatkSYtd7BXB",
        "outputId": "5152cdb8-bada-469a-fd58-9a2bce0368a4"
      },
      "cell_type": "code",
      "source": [
        "vgg_model.load_weights('vgg16_model.h5')\n",
        "\n",
        "val_loss, val_cat_acc = \\\n",
        "vgg_model.evaluate_generator(test_set, \n",
        "                        steps=val_steps)\n",
        "\n",
        "print('val_loss:', val_loss)\n",
        "print('val_cat_acc:', val_cat_acc)"
      ],
      "execution_count": 22,
      "outputs": [
        {
          "output_type": "stream",
          "name": "stderr",
          "text": [
            "/usr/local/lib/python3.7/dist-packages/ipykernel_launcher.py:5: UserWarning: `Model.evaluate_generator` is deprecated and will be removed in a future version. Please use `Model.evaluate`, which supports generators.\n",
            "  \"\"\"\n"
          ]
        },
        {
          "output_type": "stream",
          "name": "stdout",
          "text": [
            "val_loss: 3.6818487644195557\n",
            "val_cat_acc: 0.46875\n"
          ]
        }
      ]
    },
    {
      "metadata": {
        "_uuid": "f8755657-fd09-422c-8d47-3792c3f88f60",
        "_cell_guid": "5ad9b537-1fe7-4f0f-8481-0073eb3a4476",
        "trusted": true,
        "id": "2rWcBKmm7BXC"
      },
      "cell_type": "markdown",
      "source": [
        "## Confusion Matrix and ROC Graph"
      ]
    },
    {
      "metadata": {
        "_uuid": "2f3b75b7-23ad-4d59-ab3e-2abdc48c3c20",
        "_cell_guid": "09a07708-0f79-4ff5-ae0b-4ded7d5b455f",
        "trusted": true,
        "colab": {
          "base_uri": "https://localhost:8080/"
        },
        "id": "hMcM09SH7BXC",
        "outputId": "dd0c5f5c-38e7-429c-d2ab-feba9b52f963"
      },
      "cell_type": "code",
      "source": [
        "from sklearn.metrics import confusion_matrix, classification_report\n",
        "\n",
        "cm = confusion_matrix(test_set.classes,y_pred)\n",
        "cm"
      ],
      "execution_count": 23,
      "outputs": [
        {
          "output_type": "execute_result",
          "data": {
            "text/plain": [
              "array([[ 0, 20],\n",
              "       [ 0, 20]])"
            ]
          },
          "metadata": {},
          "execution_count": 23
        }
      ]
    },
    {
      "metadata": {
        "_uuid": "ce6ef536-92b1-4a7d-b889-e39d215d185b",
        "_cell_guid": "6e7f667a-eb54-40c1-a11e-bed369257b7a",
        "trusted": true,
        "colab": {
          "base_uri": "https://localhost:8080/"
        },
        "id": "QRyIBZQh7BXC",
        "outputId": "050099cb-5c15-4412-d9fb-426088b0757d"
      },
      "cell_type": "code",
      "source": [
        "tn, fp, fn, tp = cm.ravel()\n",
        "print('False Positives : {}'.format(fp))\n",
        "print('False Negatives: {}'. format(fn))\n",
        "print('True Positives : {}'.format(tp))\n",
        "print('True Negatives : {}'.format(tn))"
      ],
      "execution_count": 44,
      "outputs": [
        {
          "output_type": "stream",
          "name": "stdout",
          "text": [
            "False Positives : 20\n",
            "False Negatives: 0\n",
            "True Positives : 20\n",
            "True Negatives : 0\n"
          ]
        }
      ]
    },
    {
      "metadata": {
        "_uuid": "7c977777-f1e1-4ac3-aa4d-7fbe9b58008e",
        "_cell_guid": "2b528332-465c-42d4-9207-4623cf8211b5",
        "trusted": true,
        "colab": {
          "base_uri": "https://localhost:8080/",
          "height": 287
        },
        "id": "hfUHYOUm7BXC",
        "outputId": "6f3e5dda-7ac2-4c9d-e425-8614221d377c"
      },
      "cell_type": "code",
      "source": [
        "sns.heatmap(cm, annot=True, cmap='coolwarm')"
      ],
      "execution_count": 43,
      "outputs": [
        {
          "output_type": "execute_result",
          "data": {
            "text/plain": [
              "<matplotlib.axes._subplots.AxesSubplot at 0x7f3b18b8df50>"
            ]
          },
          "metadata": {},
          "execution_count": 43
        },
        {
          "output_type": "display_data",
          "data": {
            "text/plain": [
              "<Figure size 432x288 with 2 Axes>"
            ],
            "image/png": "[encoded data removed]"
          },
          "metadata": {
            "needs_background": "light"
          }
        }
      ]
    },
    {
      "cell_type": "code",
      "source": [
        "print(\"Our model's accuracy is {}%\".format(((cm[0][0] + cm[1][1])/40)*100))"
      ],
      "metadata": {
        "colab": {
          "base_uri": "https://localhost:8080/"
        },
        "id": "5eD1v1-SBtNw",
        "outputId": "d06bc104-5c81-424f-f877-6c92d941f588"
      },
      "execution_count": 45,
      "outputs": [
        {
          "output_type": "stream",
          "name": "stdout",
          "text": [
            "Our model's accuracy is 50.0%\n"
          ]
        }
      ]
    },
    {
      "metadata": {
        "_uuid": "fe61a64e-cf71-4f15-b233-1657d860cd3c",
        "_cell_guid": "9bf08b30-90c1-4d77-9214-39add1a7b0d5",
        "trusted": true,
        "colab": {
          "base_uri": "https://localhost:8080/"
        },
        "id": "Wog3zzlm7BXD",
        "outputId": "27b60134-1d5a-42b3-e1a9-247ddb75890a"
      },
      "cell_type": "code",
      "source": [
        "print('The Classification Report : \\n{}'.format(classification_report(test_set.classes,y_pred)))"
      ],
      "execution_count": 26,
      "outputs": [
        {
          "output_type": "stream",
          "name": "stdout",
          "text": [
            "The Classification Report : \n",
            "              precision    recall  f1-score   support\n",
            "\n",
            "           0       0.00      0.00      0.00        20\n",
            "           1       0.50      1.00      0.67        20\n",
            "\n",
            "    accuracy                           0.50        40\n",
            "   macro avg       0.25      0.50      0.33        40\n",
            "weighted avg       0.25      0.50      0.33        40\n",
            "\n"
          ]
        },
        {
          "output_type": "stream",
          "name": "stderr",
          "text": [
            "/usr/local/lib/python3.7/dist-packages/sklearn/metrics/_classification.py:1318: UndefinedMetricWarning: Precision and F-score are ill-defined and being set to 0.0 in labels with no predicted samples. Use `zero_division` parameter to control this behavior.\n",
            "  _warn_prf(average, modifier, msg_start, len(result))\n",
            "/usr/local/lib/python3.7/dist-packages/sklearn/metrics/_classification.py:1318: UndefinedMetricWarning: Precision and F-score are ill-defined and being set to 0.0 in labels with no predicted samples. Use `zero_division` parameter to control this behavior.\n",
            "  _warn_prf(average, modifier, msg_start, len(result))\n",
            "/usr/local/lib/python3.7/dist-packages/sklearn/metrics/_classification.py:1318: UndefinedMetricWarning: Precision and F-score are ill-defined and being set to 0.0 in labels with no predicted samples. Use `zero_division` parameter to control this behavior.\n",
            "  _warn_prf(average, modifier, msg_start, len(result))\n"
          ]
        }
      ]
    },
    {
      "cell_type": "code",
      "source": [
        "from sklearn.metrics import roc_curve\n",
        "%matplotlib inline\n",
        "fpr, tpr, thresholds = roc_curve(test_set.classes, y_pred)\n",
        "# create plot\n",
        "plt.plot(fpr, tpr, label='ROC curve')\n",
        "plt.plot([0, 1], [0, 1], 'k--', label='Random guess')\n",
        "_ = plt.xlabel('False Positive Rate')\n",
        "_ = plt.ylabel('True Positive Rate')\n",
        "_ = plt.title('ROC Curve')\n",
        "_ = plt.xlim([-0.02, 1])\n",
        "_ = plt.ylim([0, 1.02])\n",
        "_ = plt.legend(loc=\"lower right\")"
      ],
      "metadata": {
        "colab": {
          "base_uri": "https://localhost:8080/",
          "height": 295
        },
        "id": "xyh9SCOhB9Dp",
        "outputId": "b5279040-dfc4-4052-eb6b-354169f6119d"
      },
      "execution_count": 58,
      "outputs": [
        {
          "output_type": "display_data",
          "data": {
            "text/plain": [
              "<Figure size 432x288 with 1 Axes>"
            ],
            "image/png": "[encoded data removed]"
          },
          "metadata": {
            "needs_background": "light"
          }
        }
      ]
    },
    {
      "cell_type": "code",
      "source": [
        "from sklearn.metrics import roc_auc_score\n",
        "\n",
        "roc_auc_score(test_set.classes, y_pred)"
      ],
      "metadata": {
        "colab": {
          "base_uri": "https://localhost:8080/"
        },
        "id": "GCRfsZURJk7f",
        "outputId": "5226cca0-7246-431b-f213-2cf484ee9c08"
      },
      "execution_count": 59,
      "outputs": [
        {
          "output_type": "execute_result",
          "data": {
            "text/plain": [
              "0.5"
            ]
          },
          "metadata": {},
          "execution_count": 59
        }
      ]
    },
    {
      "cell_type": "markdown",
      "source": [
        "# Build Model epoche = 5 Verbose = 5"
      ],
      "metadata": {
        "id": "-3OFgSSxLBA4"
      }
    },
    {
      "metadata": {
        "_uuid": "c3468567-58c4-4d79-9306-7bd5048b0a9c",
        "_cell_guid": "c667d8d1-ce21-4c69-8d7b-02950db86336",
        "trusted": true,
        "id": "9IPH8iypLBBB"
      },
      "cell_type": "code",
      "source": [
        "test_datagen = ImageDataGenerator(rescale = 1./255)\n",
        "train_datagen = ImageDataGenerator(rescale = 1./255,\n",
        "                                   shear_range = 0.2,\n",
        "                                   zoom_range = 0.2,\n",
        "                                   horizontal_flip = True)"
      ],
      "execution_count": 64,
      "outputs": []
    },
    {
      "metadata": {
        "_uuid": "fafc96fa-c7ae-47e2-b80c-f58ef983acf2",
        "_cell_guid": "4e38fdb0-c3e7-4a76-9850-2f98cefcb7af",
        "trusted": true,
        "colab": {
          "base_uri": "https://localhost:8080/"
        },
        "outputId": "c051e30e-fefc-48d8-cd09-43a3de23ced6",
        "id": "tLipbEjILBBB"
      },
      "cell_type": "code",
      "source": [
        "train_set = train_datagen.flow_from_directory('/content/train', \n",
        "                                              target_size = (224, 224),\n",
        "                                              batch_size = 32, \n",
        "                                              class_mode = 'categorical'\n",
        "                                             )\n",
        "\n",
        "# for test data\n",
        "test_set = test_datagen.flow_from_directory('/content/test',\n",
        "                                            target_size = (224, 224),\n",
        "                                            batch_size = 32,\n",
        "                                            class_mode = 'categorical'\n",
        "                                           )"
      ],
      "execution_count": 65,
      "outputs": [
        {
          "output_type": "stream",
          "name": "stdout",
          "text": [
            "Found 148 images belonging to 2 classes.\n",
            "Found 40 images belonging to 2 classes.\n"
          ]
        }
      ]
    },
    {
      "metadata": {
        "_uuid": "3d09b505-5c6a-4573-b55d-d80b61365ce5",
        "_cell_guid": "211ccea4-0f8d-4f1d-bd32-aa7b6c737e9c",
        "trusted": true,
        "colab": {
          "base_uri": "https://localhost:8080/"
        },
        "outputId": "a2310fbb-7234-453e-b0df-d112156698a9",
        "id": "60_SPw2tLBBC"
      },
      "cell_type": "code",
      "source": [
        "filepath = \"vgg16_model_1.h5\"\n",
        "checkpoint = tf.keras.callbacks.ModelCheckpoint(filepath, monitor='val_categorical_accuracy', verbose=1, \n",
        "                             save_best_only=True, mode='max')\n",
        "\n",
        "reduce_lr = tf.keras.callbacks.ReduceLROnPlateau(monitor='val_categorical_accuracy', factor=0.5, patience=2, \n",
        "                                   verbose=1, mode='max', min_lr=0.00001)\n",
        "                              \n",
        "                              \n",
        "callbacks_list = [checkpoint, reduce_lr]\n",
        "\n",
        "history = vgg_model.fit_generator(train_set, steps_per_epoch=len(train_set), \n",
        "                              #class_weight=class_weights,\n",
        "                    validation_data=test_set,\n",
        "                    validation_steps=len(test_set),\n",
        "                    epochs=5, verbose=5,\n",
        "                   callbacks=callbacks_list)"
      ],
      "execution_count": 66,
      "outputs": [
        {
          "output_type": "stream",
          "name": "stderr",
          "text": [
            "/usr/local/lib/python3.7/dist-packages/ipykernel_launcher.py:16: UserWarning: `Model.fit_generator` is deprecated and will be removed in a future version. Please use `Model.fit`, which supports generators.\n",
            "  app.launch_new_instance()\n"
          ]
        },
        {
          "output_type": "stream",
          "name": "stdout",
          "text": [
            "Epoch 1/5\n",
            "\n",
            "Epoch 1: val_categorical_accuracy improved from -inf to 0.50000, saving model to vgg16_model_1.h5\n",
            "Epoch 2/5\n",
            "\n",
            "Epoch 2: val_categorical_accuracy improved from 0.50000 to 0.90000, saving model to vgg16_model_1.h5\n",
            "Epoch 3/5\n",
            "\n",
            "Epoch 3: val_categorical_accuracy improved from 0.90000 to 0.95000, saving model to vgg16_model_1.h5\n",
            "Epoch 4/5\n",
            "\n",
            "Epoch 4: val_categorical_accuracy did not improve from 0.95000\n",
            "Epoch 5/5\n",
            "\n",
            "Epoch 5: val_categorical_accuracy improved from 0.95000 to 1.00000, saving model to vgg16_model_1.h5\n"
          ]
        }
      ]
    },
    {
      "metadata": {
        "_uuid": "9d7aa6eb-6bfc-42a3-bfd2-94f1fc01a067",
        "_cell_guid": "1259d738-f941-430a-851a-c0147c381556",
        "trusted": true,
        "colab": {
          "base_uri": "https://localhost:8080/"
        },
        "outputId": "0621dfa8-8243-4257-b2b0-be1732203f38",
        "id": "XoVgNGh6LBBC"
      },
      "cell_type": "code",
      "source": [
        "y_pred = vgg_model.predict_generator(test_set)"
      ],
      "execution_count": 67,
      "outputs": [
        {
          "output_type": "stream",
          "name": "stderr",
          "text": [
            "/usr/local/lib/python3.7/dist-packages/ipykernel_launcher.py:1: UserWarning: `Model.predict_generator` is deprecated and will be removed in a future version. Please use `Model.predict`, which supports generators.\n",
            "  \"\"\"Entry point for launching an IPython kernel.\n"
          ]
        }
      ]
    },
    {
      "metadata": {
        "_uuid": "a47d4852-c1b1-44bc-b8f1-e33b9476353f",
        "_cell_guid": "4b3c2c42-fde6-4c46-b288-5f7e4abdc8b6",
        "trusted": true,
        "colab": {
          "base_uri": "https://localhost:8080/"
        },
        "outputId": "2f793ca4-b236-41b9-bdb8-eef0fbb8b35d",
        "id": "GQq0Qy49LBBC"
      },
      "cell_type": "code",
      "source": [
        "y_pred = np.argmax(y_pred, axis=1)\n",
        "y_pred"
      ],
      "execution_count": 68,
      "outputs": [
        {
          "output_type": "execute_result",
          "data": {
            "text/plain": [
              "array([0, 1, 0, 0, 0, 1, 1, 0, 0, 1, 1, 0, 1, 1, 1, 0, 1, 0, 1, 0, 1, 0,\n",
              "       0, 0, 0, 1, 0, 1, 0, 0, 0, 1, 1, 0, 1, 0, 1, 1, 1, 1])"
            ]
          },
          "metadata": {},
          "execution_count": 68
        }
      ]
    },
    {
      "metadata": {
        "_uuid": "dac072e3-cf9e-40e0-aa9c-f2d899c71393",
        "_cell_guid": "4b3ae957-6ecd-4a6b-bc9c-bedf47ed33e5",
        "trusted": true,
        "colab": {
          "base_uri": "https://localhost:8080/"
        },
        "outputId": "23505be3-dc48-4ef2-9e4c-e616f0925f01",
        "id": "fnJ_pXQsLBBC"
      },
      "cell_type": "code",
      "source": [
        "test_set.class_indices"
      ],
      "execution_count": 69,
      "outputs": [
        {
          "output_type": "execute_result",
          "data": {
            "text/plain": [
              "{'NORMAL': 0, 'PNEUMONIA': 1}"
            ]
          },
          "metadata": {},
          "execution_count": 69
        }
      ]
    },
    {
      "metadata": {
        "_uuid": "5dc9990d-3236-4832-ae68-ee17538476a8",
        "_cell_guid": "a9b6f607-2adf-49df-8363-dc82fa0706ff",
        "trusted": true,
        "colab": {
          "base_uri": "https://localhost:8080/"
        },
        "outputId": "3cf7b9a1-7061-4045-e17f-10e6679aea9f",
        "id": "_P7p0JLaLBBC"
      },
      "cell_type": "code",
      "source": [
        "batch_size = 32\n",
        "val_steps = np.ceil(len(test_set) / batch_size)\n",
        "\n",
        "val_loss, val_cat_acc = \\\n",
        "vgg_model.evaluate_generator(test_set, \n",
        "                        steps=val_steps)\n",
        "\n",
        "print('val_loss:', val_loss)\n",
        "print('val_cat_acc:', val_cat_acc)"
      ],
      "execution_count": 70,
      "outputs": [
        {
          "output_type": "stream",
          "name": "stderr",
          "text": [
            "/usr/local/lib/python3.7/dist-packages/ipykernel_launcher.py:6: UserWarning: `Model.evaluate_generator` is deprecated and will be removed in a future version. Please use `Model.evaluate`, which supports generators.\n",
            "  \n"
          ]
        },
        {
          "output_type": "stream",
          "name": "stdout",
          "text": [
            "val_loss: 0.09297025203704834\n",
            "val_cat_acc: 1.0\n"
          ]
        }
      ]
    },
    {
      "metadata": {
        "_uuid": "1abdecd5-1bc2-4381-a803-8857b9f2248a",
        "_cell_guid": "21e72d4e-d23e-4e4b-a0a8-cebefed47b73",
        "trusted": true,
        "colab": {
          "base_uri": "https://localhost:8080/"
        },
        "outputId": "42000791-ea02-4014-f330-152fe5c2fb53",
        "id": "K0KVh4wlLBBC"
      },
      "cell_type": "code",
      "source": [
        "vgg_model.load_weights('vgg16_model_1.h5')\n",
        "\n",
        "val_loss, val_cat_acc = \\\n",
        "vgg_model.evaluate_generator(test_set, \n",
        "                        steps=val_steps)\n",
        "\n",
        "print('val_loss:', val_loss)\n",
        "print('val_cat_acc:', val_cat_acc)"
      ],
      "execution_count": 71,
      "outputs": [
        {
          "output_type": "stream",
          "name": "stderr",
          "text": [
            "/usr/local/lib/python3.7/dist-packages/ipykernel_launcher.py:5: UserWarning: `Model.evaluate_generator` is deprecated and will be removed in a future version. Please use `Model.evaluate`, which supports generators.\n",
            "  \"\"\"\n"
          ]
        },
        {
          "output_type": "stream",
          "name": "stdout",
          "text": [
            "val_loss: 0.07915050536394119\n",
            "val_cat_acc: 1.0\n"
          ]
        }
      ]
    },
    {
      "metadata": {
        "_uuid": "f8755657-fd09-422c-8d47-3792c3f88f60",
        "_cell_guid": "5ad9b537-1fe7-4f0f-8481-0073eb3a4476",
        "trusted": true,
        "id": "6kH2yDaBLBBD"
      },
      "cell_type": "markdown",
      "source": [
        "## Confusion Matrix and ROC Graph"
      ]
    },
    {
      "metadata": {
        "_uuid": "2f3b75b7-23ad-4d59-ab3e-2abdc48c3c20",
        "_cell_guid": "09a07708-0f79-4ff5-ae0b-4ded7d5b455f",
        "trusted": true,
        "colab": {
          "base_uri": "https://localhost:8080/"
        },
        "outputId": "6fb49226-7f05-436a-b0d0-5c2a772093d2",
        "id": "wh_NNPPWLBBD"
      },
      "cell_type": "code",
      "source": [
        "from sklearn.metrics import confusion_matrix, classification_report\n",
        "\n",
        "cm = confusion_matrix(test_set.classes,y_pred)\n",
        "cm"
      ],
      "execution_count": 72,
      "outputs": [
        {
          "output_type": "execute_result",
          "data": {
            "text/plain": [
              "array([[10, 10],\n",
              "       [10, 10]])"
            ]
          },
          "metadata": {},
          "execution_count": 72
        }
      ]
    },
    {
      "metadata": {
        "_uuid": "ce6ef536-92b1-4a7d-b889-e39d215d185b",
        "_cell_guid": "6e7f667a-eb54-40c1-a11e-bed369257b7a",
        "trusted": true,
        "colab": {
          "base_uri": "https://localhost:8080/"
        },
        "outputId": "890479ad-e5bc-48b0-d82a-04b10fb76e3f",
        "id": "jQ-CH2KXLBBD"
      },
      "cell_type": "code",
      "source": [
        "tn, fp, fn, tp = cm.ravel()\n",
        "print('False Positives : {}'.format(fp))\n",
        "print('False Negatives: {}'. format(fn))\n",
        "print('True Positives : {}'.format(tp))\n",
        "print('True Negatives : {}'.format(tn))"
      ],
      "execution_count": 73,
      "outputs": [
        {
          "output_type": "stream",
          "name": "stdout",
          "text": [
            "False Positives : 10\n",
            "False Negatives: 10\n",
            "True Positives : 10\n",
            "True Negatives : 10\n"
          ]
        }
      ]
    },
    {
      "metadata": {
        "_uuid": "7c977777-f1e1-4ac3-aa4d-7fbe9b58008e",
        "_cell_guid": "2b528332-465c-42d4-9207-4623cf8211b5",
        "trusted": true,
        "colab": {
          "base_uri": "https://localhost:8080/",
          "height": 287
        },
        "outputId": "30f2963d-93ea-46dd-be7f-31475494505e",
        "id": "5RqbgiYzLBBD"
      },
      "cell_type": "code",
      "source": [
        "sns.heatmap(cm, annot=True)"
      ],
      "execution_count": 79,
      "outputs": [
        {
          "output_type": "execute_result",
          "data": {
            "text/plain": [
              "<matplotlib.axes._subplots.AxesSubplot at 0x7f3b17f33f90>"
            ]
          },
          "metadata": {},
          "execution_count": 79
        },
        {
          "output_type": "display_data",
          "data": {
            "text/plain": [
              "<Figure size 432x288 with 2 Axes>"
            ],
            "image/png": "[encoded data removed]"
          },
          "metadata": {
            "needs_background": "light"
          }
        }
      ]
    },
    {
      "cell_type": "code",
      "source": [
        "print(\"Our model's accuracy is {}%\".format(((cm[0][0] + cm[1][1])/40)*100))"
      ],
      "metadata": {
        "colab": {
          "base_uri": "https://localhost:8080/"
        },
        "outputId": "4d6ee89f-7e96-4cbe-c193-7cf08a41363e",
        "id": "NWxek9smLBBD"
      },
      "execution_count": 80,
      "outputs": [
        {
          "output_type": "stream",
          "name": "stdout",
          "text": [
            "Our model's accuracy is 50.0%\n"
          ]
        }
      ]
    },
    {
      "metadata": {
        "_uuid": "fe61a64e-cf71-4f15-b233-1657d860cd3c",
        "_cell_guid": "9bf08b30-90c1-4d77-9214-39add1a7b0d5",
        "trusted": true,
        "colab": {
          "base_uri": "https://localhost:8080/"
        },
        "outputId": "7b4de901-63f7-4bd4-d1ef-fc29f7210210",
        "id": "U2qqmdRxLBBD"
      },
      "cell_type": "code",
      "source": [
        "print('The Classification Report : \\n{}'.format(classification_report(test_set.classes,y_pred)))"
      ],
      "execution_count": 81,
      "outputs": [
        {
          "output_type": "stream",
          "name": "stdout",
          "text": [
            "The Classification Report : \n",
            "              precision    recall  f1-score   support\n",
            "\n",
            "           0       0.50      0.50      0.50        20\n",
            "           1       0.50      0.50      0.50        20\n",
            "\n",
            "    accuracy                           0.50        40\n",
            "   macro avg       0.50      0.50      0.50        40\n",
            "weighted avg       0.50      0.50      0.50        40\n",
            "\n"
          ]
        }
      ]
    },
    {
      "cell_type": "code",
      "source": [
        "y_pred"
      ],
      "metadata": {
        "colab": {
          "base_uri": "https://localhost:8080/"
        },
        "id": "2TaDflFBPn7x",
        "outputId": "c1f0a12d-07ec-4a3d-e014-10a34caa7cc6"
      },
      "execution_count": 82,
      "outputs": [
        {
          "output_type": "execute_result",
          "data": {
            "text/plain": [
              "array([0, 1, 0, 0, 0, 1, 1, 0, 0, 1, 1, 0, 1, 1, 1, 0, 1, 0, 1, 0, 1, 0,\n",
              "       0, 0, 0, 1, 0, 1, 0, 0, 0, 1, 1, 0, 1, 0, 1, 1, 1, 1])"
            ]
          },
          "metadata": {},
          "execution_count": 82
        }
      ]
    },
    {
      "cell_type": "code",
      "source": [
        "from sklearn.metrics import roc_auc_score\n",
        "\n",
        "roc_auc_score(test_set.classes, y_pred)"
      ],
      "metadata": {
        "colab": {
          "base_uri": "https://localhost:8080/"
        },
        "outputId": "afb952d1-3ff8-4302-91d4-6af687da31a6",
        "id": "VbPvfsS8LBBE"
      },
      "execution_count": 84,
      "outputs": [
        {
          "output_type": "execute_result",
          "data": {
            "text/plain": [
              "0.5"
            ]
          },
          "metadata": {},
          "execution_count": 84
        }
      ]
    },
    {
      "cell_type": "markdown",
      "source": [
        "# Build Model epoche = 10 Verbose = 10"
      ],
      "metadata": {
        "id": "vp-WkFXAP7Xz"
      }
    },
    {
      "metadata": {
        "_uuid": "c3468567-58c4-4d79-9306-7bd5048b0a9c",
        "_cell_guid": "c667d8d1-ce21-4c69-8d7b-02950db86336",
        "trusted": true,
        "id": "pRrXRctNP7Xz"
      },
      "cell_type": "code",
      "source": [
        "test_datagen = ImageDataGenerator(rescale = 1./255)\n",
        "train_datagen = ImageDataGenerator(rescale = 1./255,\n",
        "                                   shear_range = 0.2,\n",
        "                                   zoom_range = 0.2,\n",
        "                                   horizontal_flip = True)"
      ],
      "execution_count": 85,
      "outputs": []
    },
    {
      "metadata": {
        "_uuid": "fafc96fa-c7ae-47e2-b80c-f58ef983acf2",
        "_cell_guid": "4e38fdb0-c3e7-4a76-9850-2f98cefcb7af",
        "trusted": true,
        "colab": {
          "base_uri": "https://localhost:8080/"
        },
        "outputId": "0c572426-43a1-4c49-a9b8-8ad95400a490",
        "id": "9v31axKcP7X0"
      },
      "cell_type": "code",
      "source": [
        "train_set = train_datagen.flow_from_directory('/content/train', \n",
        "                                              target_size = (224, 224),\n",
        "                                              batch_size = 32, \n",
        "                                              class_mode = 'categorical'\n",
        "                                             )\n",
        "\n",
        "# for test data\n",
        "test_set = test_datagen.flow_from_directory('/content/test',\n",
        "                                            target_size = (224, 224),\n",
        "                                            batch_size = 32,\n",
        "                                            class_mode = 'categorical'\n",
        "                                           )"
      ],
      "execution_count": 86,
      "outputs": [
        {
          "output_type": "stream",
          "name": "stdout",
          "text": [
            "Found 148 images belonging to 2 classes.\n",
            "Found 40 images belonging to 2 classes.\n"
          ]
        }
      ]
    },
    {
      "metadata": {
        "_uuid": "3d09b505-5c6a-4573-b55d-d80b61365ce5",
        "_cell_guid": "211ccea4-0f8d-4f1d-bd32-aa7b6c737e9c",
        "trusted": true,
        "colab": {
          "base_uri": "https://localhost:8080/"
        },
        "outputId": "e1d40353-96a7-428c-9c86-46702a10926a",
        "id": "wFhrg2qFP7X0"
      },
      "cell_type": "code",
      "source": [
        "filepath = \"vgg16_model_2.h5\"\n",
        "checkpoint = tf.keras.callbacks.ModelCheckpoint(filepath, monitor='val_categorical_accuracy', verbose=1, \n",
        "                             save_best_only=True, mode='max')\n",
        "\n",
        "reduce_lr = tf.keras.callbacks.ReduceLROnPlateau(monitor='val_categorical_accuracy', factor=0.5, patience=2, \n",
        "                                   verbose=1, mode='max', min_lr=0.00001)\n",
        "                              \n",
        "                              \n",
        "callbacks_list = [checkpoint, reduce_lr]\n",
        "\n",
        "history = vgg_model.fit_generator(train_set, steps_per_epoch=len(train_set), \n",
        "                              #class_weight=class_weights,\n",
        "                    validation_data=test_set,\n",
        "                    validation_steps=len(test_set),\n",
        "                    epochs=10, verbose=10,\n",
        "                   callbacks=callbacks_list)"
      ],
      "execution_count": 87,
      "outputs": [
        {
          "output_type": "stream",
          "name": "stderr",
          "text": [
            "/usr/local/lib/python3.7/dist-packages/ipykernel_launcher.py:16: UserWarning: `Model.fit_generator` is deprecated and will be removed in a future version. Please use `Model.fit`, which supports generators.\n",
            "  app.launch_new_instance()\n"
          ]
        },
        {
          "output_type": "stream",
          "name": "stdout",
          "text": [
            "Epoch 1/10\n",
            "\n",
            "Epoch 1: val_categorical_accuracy improved from -inf to 0.95000, saving model to vgg16_model_2.h5\n",
            "Epoch 2/10\n",
            "\n",
            "Epoch 2: val_categorical_accuracy did not improve from 0.95000\n",
            "Epoch 3/10\n",
            "\n",
            "Epoch 3: val_categorical_accuracy did not improve from 0.95000\n",
            "\n",
            "Epoch 3: ReduceLROnPlateau reducing learning rate to 0.0005000000237487257.\n",
            "Epoch 4/10\n",
            "\n",
            "Epoch 4: val_categorical_accuracy improved from 0.95000 to 0.97500, saving model to vgg16_model_2.h5\n",
            "Epoch 5/10\n",
            "\n",
            "Epoch 5: val_categorical_accuracy did not improve from 0.97500\n",
            "Epoch 6/10\n",
            "\n",
            "Epoch 6: val_categorical_accuracy improved from 0.97500 to 1.00000, saving model to vgg16_model_2.h5\n",
            "Epoch 7/10\n",
            "\n",
            "Epoch 7: val_categorical_accuracy did not improve from 1.00000\n",
            "Epoch 8/10\n",
            "\n",
            "Epoch 8: val_categorical_accuracy did not improve from 1.00000\n",
            "\n",
            "Epoch 8: ReduceLROnPlateau reducing learning rate to 0.0002500000118743628.\n",
            "Epoch 9/10\n",
            "\n",
            "Epoch 9: val_categorical_accuracy did not improve from 1.00000\n",
            "Epoch 10/10\n",
            "\n",
            "Epoch 10: val_categorical_accuracy did not improve from 1.00000\n",
            "\n",
            "Epoch 10: ReduceLROnPlateau reducing learning rate to 0.0001250000059371814.\n"
          ]
        }
      ]
    },
    {
      "metadata": {
        "_uuid": "9d7aa6eb-6bfc-42a3-bfd2-94f1fc01a067",
        "_cell_guid": "1259d738-f941-430a-851a-c0147c381556",
        "trusted": true,
        "colab": {
          "base_uri": "https://localhost:8080/"
        },
        "outputId": "eda59e12-7c6d-4dbb-b2eb-221d79fd0683",
        "id": "J7eDXaDcP7X0"
      },
      "cell_type": "code",
      "source": [
        "y_pred = vgg_model.predict_generator(test_set)"
      ],
      "execution_count": 88,
      "outputs": [
        {
          "output_type": "stream",
          "name": "stderr",
          "text": [
            "/usr/local/lib/python3.7/dist-packages/ipykernel_launcher.py:1: UserWarning: `Model.predict_generator` is deprecated and will be removed in a future version. Please use `Model.predict`, which supports generators.\n",
            "  \"\"\"Entry point for launching an IPython kernel.\n"
          ]
        }
      ]
    },
    {
      "metadata": {
        "_uuid": "a47d4852-c1b1-44bc-b8f1-e33b9476353f",
        "_cell_guid": "4b3c2c42-fde6-4c46-b288-5f7e4abdc8b6",
        "trusted": true,
        "colab": {
          "base_uri": "https://localhost:8080/"
        },
        "outputId": "5c81a45e-7c59-47db-b89b-0b7bc544fc67",
        "id": "p5BK2N2mP7X0"
      },
      "cell_type": "code",
      "source": [
        "y_pred = np.argmax(y_pred, axis=1)\n",
        "y_pred"
      ],
      "execution_count": 89,
      "outputs": [
        {
          "output_type": "execute_result",
          "data": {
            "text/plain": [
              "array([1, 0, 1, 0, 1, 0, 1, 0, 0, 1, 1, 0, 0, 0, 1, 1, 1, 0, 0, 0, 0, 1,\n",
              "       0, 0, 0, 1, 1, 0, 1, 1, 1, 0, 0, 1, 0, 1, 1, 0, 1, 1])"
            ]
          },
          "metadata": {},
          "execution_count": 89
        }
      ]
    },
    {
      "metadata": {
        "_uuid": "dac072e3-cf9e-40e0-aa9c-f2d899c71393",
        "_cell_guid": "4b3ae957-6ecd-4a6b-bc9c-bedf47ed33e5",
        "trusted": true,
        "colab": {
          "base_uri": "https://localhost:8080/"
        },
        "outputId": "25a15c73-1d48-4a4f-ed57-3f9918d4f344",
        "id": "WWY2KnchP7X0"
      },
      "cell_type": "code",
      "source": [
        "test_set.class_indices"
      ],
      "execution_count": 90,
      "outputs": [
        {
          "output_type": "execute_result",
          "data": {
            "text/plain": [
              "{'NORMAL': 0, 'PNEUMONIA': 1}"
            ]
          },
          "metadata": {},
          "execution_count": 90
        }
      ]
    },
    {
      "metadata": {
        "_uuid": "5dc9990d-3236-4832-ae68-ee17538476a8",
        "_cell_guid": "a9b6f607-2adf-49df-8363-dc82fa0706ff",
        "trusted": true,
        "colab": {
          "base_uri": "https://localhost:8080/"
        },
        "outputId": "4b020052-9b26-4afa-f670-d5e934c1f645",
        "id": "C-1ROENgP7X0"
      },
      "cell_type": "code",
      "source": [
        "batch_size = 32\n",
        "val_steps = np.ceil(len(test_set) / batch_size)\n",
        "\n",
        "val_loss, val_cat_acc = \\\n",
        "vgg_model.evaluate_generator(test_set, \n",
        "                        steps=val_steps)\n",
        "\n",
        "print('val_loss:', val_loss)\n",
        "print('val_cat_acc:', val_cat_acc)"
      ],
      "execution_count": 91,
      "outputs": [
        {
          "output_type": "stream",
          "name": "stderr",
          "text": [
            "/usr/local/lib/python3.7/dist-packages/ipykernel_launcher.py:6: UserWarning: `Model.evaluate_generator` is deprecated and will be removed in a future version. Please use `Model.evaluate`, which supports generators.\n",
            "  \n"
          ]
        },
        {
          "output_type": "stream",
          "name": "stdout",
          "text": [
            "val_loss: 0.06526544690132141\n",
            "val_cat_acc: 1.0\n"
          ]
        }
      ]
    },
    {
      "metadata": {
        "_uuid": "1abdecd5-1bc2-4381-a803-8857b9f2248a",
        "_cell_guid": "21e72d4e-d23e-4e4b-a0a8-cebefed47b73",
        "trusted": true,
        "colab": {
          "base_uri": "https://localhost:8080/"
        },
        "outputId": "5d22a35d-f16b-4858-eba1-21da5c7cc9ac",
        "id": "GfAgNMAXP7X1"
      },
      "cell_type": "code",
      "source": [
        "vgg_model.load_weights('vgg16_model_2.h5')\n",
        "\n",
        "val_loss, val_cat_acc = \\\n",
        "vgg_model.evaluate_generator(test_set, \n",
        "                        steps=val_steps)\n",
        "\n",
        "print('val_loss:', val_loss)\n",
        "print('val_cat_acc:', val_cat_acc)"
      ],
      "execution_count": 92,
      "outputs": [
        {
          "output_type": "stream",
          "name": "stderr",
          "text": [
            "/usr/local/lib/python3.7/dist-packages/ipykernel_launcher.py:5: UserWarning: `Model.evaluate_generator` is deprecated and will be removed in a future version. Please use `Model.evaluate`, which supports generators.\n",
            "  \"\"\"\n"
          ]
        },
        {
          "output_type": "stream",
          "name": "stdout",
          "text": [
            "val_loss: 0.08113817870616913\n",
            "val_cat_acc: 1.0\n"
          ]
        }
      ]
    },
    {
      "metadata": {
        "_uuid": "f8755657-fd09-422c-8d47-3792c3f88f60",
        "_cell_guid": "5ad9b537-1fe7-4f0f-8481-0073eb3a4476",
        "trusted": true,
        "id": "XgfXd04HP7X1"
      },
      "cell_type": "markdown",
      "source": [
        "## Confusion Matrix and ROC Graph"
      ]
    },
    {
      "metadata": {
        "_uuid": "2f3b75b7-23ad-4d59-ab3e-2abdc48c3c20",
        "_cell_guid": "09a07708-0f79-4ff5-ae0b-4ded7d5b455f",
        "trusted": true,
        "colab": {
          "base_uri": "https://localhost:8080/"
        },
        "outputId": "bbc858da-e250-4c9d-b217-0e2ed462ec05",
        "id": "eFeOD66nP7X1"
      },
      "cell_type": "code",
      "source": [
        "from sklearn.metrics import confusion_matrix, classification_report\n",
        "\n",
        "cm = confusion_matrix(test_set.classes,y_pred)\n",
        "cm"
      ],
      "execution_count": 93,
      "outputs": [
        {
          "output_type": "execute_result",
          "data": {
            "text/plain": [
              "array([[11,  9],\n",
              "       [ 9, 11]])"
            ]
          },
          "metadata": {},
          "execution_count": 93
        }
      ]
    },
    {
      "metadata": {
        "_uuid": "ce6ef536-92b1-4a7d-b889-e39d215d185b",
        "_cell_guid": "6e7f667a-eb54-40c1-a11e-bed369257b7a",
        "trusted": true,
        "colab": {
          "base_uri": "https://localhost:8080/"
        },
        "outputId": "2d5bd0f8-a9b1-4305-cd65-bce96be5dfa6",
        "id": "17uAy4vOP7X1"
      },
      "cell_type": "code",
      "source": [
        "tn, fp, fn, tp = cm.ravel()\n",
        "print('False Positives : {}'.format(fp))\n",
        "print('False Negatives: {}'. format(fn))\n",
        "print('True Positives : {}'.format(tp))\n",
        "print('True Negatives : {}'.format(tn))"
      ],
      "execution_count": 94,
      "outputs": [
        {
          "output_type": "stream",
          "name": "stdout",
          "text": [
            "False Positives : 9\n",
            "False Negatives: 9\n",
            "True Positives : 11\n",
            "True Negatives : 11\n"
          ]
        }
      ]
    },
    {
      "metadata": {
        "_uuid": "7c977777-f1e1-4ac3-aa4d-7fbe9b58008e",
        "_cell_guid": "2b528332-465c-42d4-9207-4623cf8211b5",
        "trusted": true,
        "colab": {
          "base_uri": "https://localhost:8080/",
          "height": 287
        },
        "outputId": "3dde0b87-95cc-4f43-a0ec-f2a038052cca",
        "id": "I-c4rFS8P7X1"
      },
      "cell_type": "code",
      "source": [
        "sns.heatmap(cm, annot=True)"
      ],
      "execution_count": 95,
      "outputs": [
        {
          "output_type": "execute_result",
          "data": {
            "text/plain": [
              "<matplotlib.axes._subplots.AxesSubplot at 0x7f3b20fc7890>"
            ]
          },
          "metadata": {},
          "execution_count": 95
        },
        {
          "output_type": "display_data",
          "data": {
            "text/plain": [
              "<Figure size 432x288 with 2 Axes>"
            ],
            "image/png": "[encoded data removed]"
          },
          "metadata": {
            "needs_background": "light"
          }
        }
      ]
    },
    {
      "cell_type": "code",
      "source": [
        "print(\"Our model's accuracy is {}%\".format(((cm[0][0] + cm[1][1])/40)*100))"
      ],
      "metadata": {
        "colab": {
          "base_uri": "https://localhost:8080/"
        },
        "outputId": "661fdae1-c6e1-4395-9d37-8c6129329122",
        "id": "uUOzhH1NP7X1"
      },
      "execution_count": 96,
      "outputs": [
        {
          "output_type": "stream",
          "name": "stdout",
          "text": [
            "Our model's accuracy is 55.00000000000001%\n"
          ]
        }
      ]
    },
    {
      "metadata": {
        "_uuid": "fe61a64e-cf71-4f15-b233-1657d860cd3c",
        "_cell_guid": "9bf08b30-90c1-4d77-9214-39add1a7b0d5",
        "trusted": true,
        "colab": {
          "base_uri": "https://localhost:8080/"
        },
        "outputId": "a06cb6d9-b89a-4005-ebc7-0cc67cc5ecb3",
        "id": "wI9hauDGP7X1"
      },
      "cell_type": "code",
      "source": [
        "print('The Classification Report : \\n{}'.format(classification_report(test_set.classes,y_pred)))"
      ],
      "execution_count": 97,
      "outputs": [
        {
          "output_type": "stream",
          "name": "stdout",
          "text": [
            "The Classification Report : \n",
            "              precision    recall  f1-score   support\n",
            "\n",
            "           0       0.55      0.55      0.55        20\n",
            "           1       0.55      0.55      0.55        20\n",
            "\n",
            "    accuracy                           0.55        40\n",
            "   macro avg       0.55      0.55      0.55        40\n",
            "weighted avg       0.55      0.55      0.55        40\n",
            "\n"
          ]
        }
      ]
    },
    {
      "cell_type": "code",
      "source": [
        "from sklearn.metrics import roc_curve\n",
        "%matplotlib inline\n",
        "fpr, tpr, thresholds = roc_curve(test_set.classes, y_pred)\n",
        "# create plot\n",
        "plt.plot(fpr, tpr, label='ROC curve')\n",
        "plt.plot([0, 1], [0, 1], 'k--', label='Random guess')\n",
        "_ = plt.xlabel('False Positive Rate')\n",
        "_ = plt.ylabel('True Positive Rate')\n",
        "_ = plt.title('ROC Curve')\n",
        "_ = plt.xlim([-0.02, 1])\n",
        "_ = plt.ylim([0, 1.02])\n",
        "_ = plt.legend(loc=\"lower right\")"
      ],
      "metadata": {
        "colab": {
          "base_uri": "https://localhost:8080/",
          "height": 295
        },
        "id": "jf8S4MV-bgix",
        "outputId": "3341709b-4473-4f11-90e9-4eca14a0f344"
      },
      "execution_count": 101,
      "outputs": [
        {
          "output_type": "display_data",
          "data": {
            "text/plain": [
              "<Figure size 432x288 with 1 Axes>"
            ],
            "image/png": "[encoded data removed]"
          },
          "metadata": {
            "needs_background": "light"
          }
        }
      ]
    },
    {
      "cell_type": "code",
      "source": [
        "from sklearn.metrics import roc_auc_score\n",
        "\n",
        "roc_auc_score(test_set.classes, y_pred)"
      ],
      "metadata": {
        "colab": {
          "base_uri": "https://localhost:8080/"
        },
        "outputId": "d67a9d5e-7f6b-4fbc-ee8e-c2c58f0ccdac",
        "id": "w-dWbACfP7X2"
      },
      "execution_count": 100,
      "outputs": [
        {
          "output_type": "execute_result",
          "data": {
            "text/plain": [
              "0.55"
            ]
          },
          "metadata": {},
          "execution_count": 100
        }
      ]
    }
  ],
  "metadata": {
    "kernelspec": {
      "name": "python3",
      "display_name": "Python 3",
      "language": "python"
    },
    "language_info": {
      "name": "python",
      "version": "3.7.6",
      "mimetype": "text/x-python",
      "codemirror_mode": {
        "name": "ipython",
        "version": 3
      },
      "pygments_lexer": "ipython3",
      "nbconvert_exporter": "python",
      "file_extension": ".py"
    },
    "colab": {
      "provenance": [],
      "collapsed_sections": [
        "T427qzmiJ49y",
        "bCodNpRL8RPH",
        "-3OFgSSxLBA4",
        "vp-WkFXAP7Xz"
      ]
    }
  },
  "nbformat": 4,
  "nbformat_minor": 0
}