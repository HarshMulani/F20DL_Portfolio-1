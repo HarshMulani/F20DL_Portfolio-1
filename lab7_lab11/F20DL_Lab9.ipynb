{
  "cells": [
    {
      "cell_type": "markdown",
      "id": "alert-synthesis",
      "metadata": {
        "_cell_guid": "b1076dfc-b9ad-4769-8c92-a6c4dae69d19",
        "_uuid": "8f2839f25d086af736a60e9eeb907d3b93b6e0e5",
        "papermill": {
          "duration": 0.06277,
          "end_time": "2021-05-27T10:16:38.749712",
          "exception": false,
          "start_time": "2021-05-27T10:16:38.686942",
          "status": "completed"
        },
        "tags": [],
        "id": "alert-synthesis"
      },
      "source": [
        "# Breast Cancer Linear and Logistic Regression"
      ]
    },
    {
      "cell_type": "markdown",
      "id": "hollywood-nepal",
      "metadata": {
        "papermill": {
          "duration": 0.06093,
          "end_time": "2021-05-27T10:16:38.997898",
          "exception": false,
          "start_time": "2021-05-27T10:16:38.936968",
          "status": "completed"
        },
        "tags": [],
        "id": "hollywood-nepal"
      },
      "source": [
        "##  Importing Packages"
      ]
    },
    {
      "cell_type": "code",
      "execution_count": 43,
      "id": "determined-fundamental",
      "metadata": {
        "execution": {
          "iopub.execute_input": "2021-05-27T10:16:39.130854Z",
          "iopub.status.busy": "2021-05-27T10:16:39.128871Z",
          "iopub.status.idle": "2021-05-27T10:16:40.018462Z",
          "shell.execute_reply": "2021-05-27T10:16:40.017517Z"
        },
        "papermill": {
          "duration": 0.958883,
          "end_time": "2021-05-27T10:16:40.018651",
          "exception": false,
          "start_time": "2021-05-27T10:16:39.059768",
          "status": "completed"
        },
        "tags": [],
        "id": "determined-fundamental"
      },
      "outputs": [],
      "source": [
        "# Importing libraries\n",
        "\n",
        "import pandas as pd\n",
        "import numpy as np\n",
        "import seaborn as sns\n",
        "import matplotlib.pyplot as plt\n",
        "import missingno as msno\n",
        "import warnings\n",
        "warnings.filterwarnings('ignore')\n",
        "\n",
        "\n",
        "plt.style.use('ggplot')"
      ]
    },
    {
      "cell_type": "markdown",
      "id": "apparent-convenience",
      "metadata": {
        "papermill": {
          "duration": 0.062617,
          "end_time": "2021-05-27T10:16:40.145173",
          "exception": false,
          "start_time": "2021-05-27T10:16:40.082556",
          "status": "completed"
        },
        "tags": [],
        "id": "apparent-convenience"
      },
      "source": [
        "## Load the data"
      ]
    },
    {
      "cell_type": "code",
      "source": [
        "!wget https://www2.macs.hw.ac.uk/~js2001/data.csv --no-check-certificate"
      ],
      "metadata": {
        "colab": {
          "base_uri": "https://localhost:8080/"
        },
        "id": "ditP6TxVftNc",
        "outputId": "31967c67-204d-46b1-b4d7-ec13ba5f4bc6"
      },
      "id": "ditP6TxVftNc",
      "execution_count": 44,
      "outputs": [
        {
          "output_type": "stream",
          "name": "stdout",
          "text": [
            "--2022-11-10 12:04:11--  https://www2.macs.hw.ac.uk/~js2001/data.csv\n",
            "Resolving www2.macs.hw.ac.uk (www2.macs.hw.ac.uk)... 137.195.15.99\n",
            "Connecting to www2.macs.hw.ac.uk (www2.macs.hw.ac.uk)|137.195.15.99|:443... connected.\n",
            "WARNING: cannot verify www2.macs.hw.ac.uk's certificate, issued by ‘CN=GEANT OV RSA CA 4,O=GEANT Vereniging,C=NL’:\n",
            "  Unable to locally verify the issuer's authority.\n",
            "HTTP request sent, awaiting response... 200 OK\n",
            "Length: 125204 (122K) [text/csv]\n",
            "Saving to: ‘data.csv.1’\n",
            "\n",
            "data.csv.1          100%[===================>] 122.27K   374KB/s    in 0.3s    \n",
            "\n",
            "2022-11-10 12:04:12 (374 KB/s) - ‘data.csv.1’ saved [125204/125204]\n",
            "\n"
          ]
        }
      ]
    },
    {
      "cell_type": "code",
      "execution_count": 45,
      "id": "solved-vintage",
      "metadata": {
        "execution": {
          "iopub.execute_input": "2021-05-27T10:16:40.273145Z",
          "iopub.status.busy": "2021-05-27T10:16:40.272155Z",
          "iopub.status.idle": "2021-05-27T10:16:40.301670Z",
          "shell.execute_reply": "2021-05-27T10:16:40.300998Z"
        },
        "papermill": {
          "duration": 0.094155,
          "end_time": "2021-05-27T10:16:40.301817",
          "exception": false,
          "start_time": "2021-05-27T10:16:40.207662",
          "status": "completed"
        },
        "tags": [],
        "id": "solved-vintage"
      },
      "outputs": [],
      "source": [
        "df = pd.read_csv('data.csv')"
      ]
    },
    {
      "cell_type": "code",
      "execution_count": 46,
      "id": "theoretical-receiver",
      "metadata": {
        "execution": {
          "iopub.execute_input": "2021-05-27T10:16:40.433077Z",
          "iopub.status.busy": "2021-05-27T10:16:40.432127Z",
          "iopub.status.idle": "2021-05-27T10:16:40.480615Z",
          "shell.execute_reply": "2021-05-27T10:16:40.481055Z"
        },
        "papermill": {
          "duration": 0.11542,
          "end_time": "2021-05-27T10:16:40.481256",
          "exception": false,
          "start_time": "2021-05-27T10:16:40.365836",
          "status": "completed"
        },
        "tags": [],
        "colab": {
          "base_uri": "https://localhost:8080/",
          "height": 317
        },
        "id": "theoretical-receiver",
        "outputId": "4e69a632-8bbc-45bb-fb6f-f47176ac8990"
      },
      "outputs": [
        {
          "output_type": "execute_result",
          "data": {
            "text/plain": [
              "         id diagnosis  radius_mean  texture_mean  perimeter_mean  area_mean  \\\n",
              "0    842302         M        17.99         10.38          122.80     1001.0   \n",
              "1    842517         M        20.57         17.77          132.90     1326.0   \n",
              "2  84300903         M        19.69         21.25          130.00     1203.0   \n",
              "3  84348301         M        11.42         20.38           77.58      386.1   \n",
              "4  84358402         M        20.29         14.34          135.10     1297.0   \n",
              "\n",
              "   smoothness_mean  compactness_mean  concavity_mean  concave points_mean  \\\n",
              "0          0.11840           0.27760          0.3001              0.14710   \n",
              "1          0.08474           0.07864          0.0869              0.07017   \n",
              "2          0.10960           0.15990          0.1974              0.12790   \n",
              "3          0.14250           0.28390          0.2414              0.10520   \n",
              "4          0.10030           0.13280          0.1980              0.10430   \n",
              "\n",
              "   ...  texture_worst  perimeter_worst  area_worst  smoothness_worst  \\\n",
              "0  ...          17.33           184.60      2019.0            0.1622   \n",
              "1  ...          23.41           158.80      1956.0            0.1238   \n",
              "2  ...          25.53           152.50      1709.0            0.1444   \n",
              "3  ...          26.50            98.87       567.7            0.2098   \n",
              "4  ...          16.67           152.20      1575.0            0.1374   \n",
              "\n",
              "   compactness_worst  concavity_worst  concave points_worst  symmetry_worst  \\\n",
              "0             0.6656           0.7119                0.2654          0.4601   \n",
              "1             0.1866           0.2416                0.1860          0.2750   \n",
              "2             0.4245           0.4504                0.2430          0.3613   \n",
              "3             0.8663           0.6869                0.2575          0.6638   \n",
              "4             0.2050           0.4000                0.1625          0.2364   \n",
              "\n",
              "   fractal_dimension_worst  Unnamed: 32  \n",
              "0                  0.11890          NaN  \n",
              "1                  0.08902          NaN  \n",
              "2                  0.08758          NaN  \n",
              "3                  0.17300          NaN  \n",
              "4                  0.07678          NaN  \n",
              "\n",
              "[5 rows x 33 columns]"
            ],
            "text/html": [
              "\n",
              "  <div id=\"df-cf9adf34-f2ee-47d9-b135-f327fe64993a\">\n",
              "    <div class=\"colab-df-container\">\n",
              "      <div>\n",
              "<style scoped>\n",
              "    .dataframe tbody tr th:only-of-type {\n",
              "        vertical-align: middle;\n",
              "    }\n",
              "\n",
              "    .dataframe tbody tr th {\n",
              "        vertical-align: top;\n",
              "    }\n",
              "\n",
              "    .dataframe thead th {\n",
              "        text-align: right;\n",
              "    }\n",
              "</style>\n",
              "<table border=\"1\" class=\"dataframe\">\n",
              "  <thead>\n",
              "    <tr style=\"text-align: right;\">\n",
              "      <th></th>\n",
              "      <th>id</th>\n",
              "      <th>diagnosis</th>\n",
              "      <th>radius_mean</th>\n",
              "      <th>texture_mean</th>\n",
              "      <th>perimeter_mean</th>\n",
              "      <th>area_mean</th>\n",
              "      <th>smoothness_mean</th>\n",
              "      <th>compactness_mean</th>\n",
              "      <th>concavity_mean</th>\n",
              "      <th>concave points_mean</th>\n",
              "      <th>...</th>\n",
              "      <th>texture_worst</th>\n",
              "      <th>perimeter_worst</th>\n",
              "      <th>area_worst</th>\n",
              "      <th>smoothness_worst</th>\n",
              "      <th>compactness_worst</th>\n",
              "      <th>concavity_worst</th>\n",
              "      <th>concave points_worst</th>\n",
              "      <th>symmetry_worst</th>\n",
              "      <th>fractal_dimension_worst</th>\n",
              "      <th>Unnamed: 32</th>\n",
              "    </tr>\n",
              "  </thead>\n",
              "  <tbody>\n",
              "    <tr>\n",
              "      <th>0</th>\n",
              "      <td>842302</td>\n",
              "      <td>M</td>\n",
              "      <td>17.99</td>\n",
              "      <td>10.38</td>\n",
              "      <td>122.80</td>\n",
              "      <td>1001.0</td>\n",
              "      <td>0.11840</td>\n",
              "      <td>0.27760</td>\n",
              "      <td>0.3001</td>\n",
              "      <td>0.14710</td>\n",
              "      <td>...</td>\n",
              "      <td>17.33</td>\n",
              "      <td>184.60</td>\n",
              "      <td>2019.0</td>\n",
              "      <td>0.1622</td>\n",
              "      <td>0.6656</td>\n",
              "      <td>0.7119</td>\n",
              "      <td>0.2654</td>\n",
              "      <td>0.4601</td>\n",
              "      <td>0.11890</td>\n",
              "      <td>NaN</td>\n",
              "    </tr>\n",
              "    <tr>\n",
              "      <th>1</th>\n",
              "      <td>842517</td>\n",
              "      <td>M</td>\n",
              "      <td>20.57</td>\n",
              "      <td>17.77</td>\n",
              "      <td>132.90</td>\n",
              "      <td>1326.0</td>\n",
              "      <td>0.08474</td>\n",
              "      <td>0.07864</td>\n",
              "      <td>0.0869</td>\n",
              "      <td>0.07017</td>\n",
              "      <td>...</td>\n",
              "      <td>23.41</td>\n",
              "      <td>158.80</td>\n",
              "      <td>1956.0</td>\n",
              "      <td>0.1238</td>\n",
              "      <td>0.1866</td>\n",
              "      <td>0.2416</td>\n",
              "      <td>0.1860</td>\n",
              "      <td>0.2750</td>\n",
              "      <td>0.08902</td>\n",
              "      <td>NaN</td>\n",
              "    </tr>\n",
              "    <tr>\n",
              "      <th>2</th>\n",
              "      <td>84300903</td>\n",
              "      <td>M</td>\n",
              "      <td>19.69</td>\n",
              "      <td>21.25</td>\n",
              "      <td>130.00</td>\n",
              "      <td>1203.0</td>\n",
              "      <td>0.10960</td>\n",
              "      <td>0.15990</td>\n",
              "      <td>0.1974</td>\n",
              "      <td>0.12790</td>\n",
              "      <td>...</td>\n",
              "      <td>25.53</td>\n",
              "      <td>152.50</td>\n",
              "      <td>1709.0</td>\n",
              "      <td>0.1444</td>\n",
              "      <td>0.4245</td>\n",
              "      <td>0.4504</td>\n",
              "      <td>0.2430</td>\n",
              "      <td>0.3613</td>\n",
              "      <td>0.08758</td>\n",
              "      <td>NaN</td>\n",
              "    </tr>\n",
              "    <tr>\n",
              "      <th>3</th>\n",
              "      <td>84348301</td>\n",
              "      <td>M</td>\n",
              "      <td>11.42</td>\n",
              "      <td>20.38</td>\n",
              "      <td>77.58</td>\n",
              "      <td>386.1</td>\n",
              "      <td>0.14250</td>\n",
              "      <td>0.28390</td>\n",
              "      <td>0.2414</td>\n",
              "      <td>0.10520</td>\n",
              "      <td>...</td>\n",
              "      <td>26.50</td>\n",
              "      <td>98.87</td>\n",
              "      <td>567.7</td>\n",
              "      <td>0.2098</td>\n",
              "      <td>0.8663</td>\n",
              "      <td>0.6869</td>\n",
              "      <td>0.2575</td>\n",
              "      <td>0.6638</td>\n",
              "      <td>0.17300</td>\n",
              "      <td>NaN</td>\n",
              "    </tr>\n",
              "    <tr>\n",
              "      <th>4</th>\n",
              "      <td>84358402</td>\n",
              "      <td>M</td>\n",
              "      <td>20.29</td>\n",
              "      <td>14.34</td>\n",
              "      <td>135.10</td>\n",
              "      <td>1297.0</td>\n",
              "      <td>0.10030</td>\n",
              "      <td>0.13280</td>\n",
              "      <td>0.1980</td>\n",
              "      <td>0.10430</td>\n",
              "      <td>...</td>\n",
              "      <td>16.67</td>\n",
              "      <td>152.20</td>\n",
              "      <td>1575.0</td>\n",
              "      <td>0.1374</td>\n",
              "      <td>0.2050</td>\n",
              "      <td>0.4000</td>\n",
              "      <td>0.1625</td>\n",
              "      <td>0.2364</td>\n",
              "      <td>0.07678</td>\n",
              "      <td>NaN</td>\n",
              "    </tr>\n",
              "  </tbody>\n",
              "</table>\n",
              "<p>5 rows × 33 columns</p>\n",
              "</div>\n",
              "      <button class=\"colab-df-convert\" onclick=\"convertToInteractive('df-cf9adf34-f2ee-47d9-b135-f327fe64993a')\"\n",
              "              title=\"Convert this dataframe to an interactive table.\"\n",
              "              style=\"display:none;\">\n",
              "        \n",
              "  <svg xmlns=\"http://www.w3.org/2000/svg\" height=\"24px\"viewBox=\"0 0 24 24\"\n",
              "       width=\"24px\">\n",
              "    <path d=\"M0 0h24v24H0V0z\" fill=\"none\"/>\n",
              "    <path d=\"M18.56 5.44l.94 2.06.94-2.06 2.06-.94-2.06-.94-.94-2.06-.94 2.06-2.06.94zm-11 1L8.5 8.5l.94-2.06 2.06-.94-2.06-.94L8.5 2.5l-.94 2.06-2.06.94zm10 10l.94 2.06.94-2.06 2.06-.94-2.06-.94-.94-2.06-.94 2.06-2.06.94z\"/><path d=\"M17.41 7.96l-1.37-1.37c-.4-.4-.92-.59-1.43-.59-.52 0-1.04.2-1.43.59L10.3 9.45l-7.72 7.72c-.78.78-.78 2.05 0 2.83L4 21.41c.39.39.9.59 1.41.59.51 0 1.02-.2 1.41-.59l7.78-7.78 2.81-2.81c.8-.78.8-2.07 0-2.86zM5.41 20L4 18.59l7.72-7.72 1.47 1.35L5.41 20z\"/>\n",
              "  </svg>\n",
              "      </button>\n",
              "      \n",
              "  <style>\n",
              "    .colab-df-container {\n",
              "      display:flex;\n",
              "      flex-wrap:wrap;\n",
              "      gap: 12px;\n",
              "    }\n",
              "\n",
              "    .colab-df-convert {\n",
              "      background-color: #E8F0FE;\n",
              "      border: none;\n",
              "      border-radius: 50%;\n",
              "      cursor: pointer;\n",
              "      display: none;\n",
              "      fill: #1967D2;\n",
              "      height: 32px;\n",
              "      padding: 0 0 0 0;\n",
              "      width: 32px;\n",
              "    }\n",
              "\n",
              "    .colab-df-convert:hover {\n",
              "      background-color: #E2EBFA;\n",
              "      box-shadow: 0px 1px 2px rgba(60, 64, 67, 0.3), 0px 1px 3px 1px rgba(60, 64, 67, 0.15);\n",
              "      fill: #174EA6;\n",
              "    }\n",
              "\n",
              "    [theme=dark] .colab-df-convert {\n",
              "      background-color: #3B4455;\n",
              "      fill: #D2E3FC;\n",
              "    }\n",
              "\n",
              "    [theme=dark] .colab-df-convert:hover {\n",
              "      background-color: #434B5C;\n",
              "      box-shadow: 0px 1px 3px 1px rgba(0, 0, 0, 0.15);\n",
              "      filter: drop-shadow(0px 1px 2px rgba(0, 0, 0, 0.3));\n",
              "      fill: #FFFFFF;\n",
              "    }\n",
              "  </style>\n",
              "\n",
              "      <script>\n",
              "        const buttonEl =\n",
              "          document.querySelector('#df-cf9adf34-f2ee-47d9-b135-f327fe64993a button.colab-df-convert');\n",
              "        buttonEl.style.display =\n",
              "          google.colab.kernel.accessAllowed ? 'block' : 'none';\n",
              "\n",
              "        async function convertToInteractive(key) {\n",
              "          const element = document.querySelector('#df-cf9adf34-f2ee-47d9-b135-f327fe64993a');\n",
              "          const dataTable =\n",
              "            await google.colab.kernel.invokeFunction('convertToInteractive',\n",
              "                                                     [key], {});\n",
              "          if (!dataTable) return;\n",
              "\n",
              "          const docLinkHtml = 'Like what you see? Visit the ' +\n",
              "            '<a target=\"_blank\" href=https://colab.research.google.com/notebooks/data_table.ipynb>data table notebook</a>'\n",
              "            + ' to learn more about interactive tables.';\n",
              "          element.innerHTML = '';\n",
              "          dataTable['output_type'] = 'display_data';\n",
              "          await google.colab.output.renderOutput(dataTable, element);\n",
              "          const docLink = document.createElement('div');\n",
              "          docLink.innerHTML = docLinkHtml;\n",
              "          element.appendChild(docLink);\n",
              "        }\n",
              "      </script>\n",
              "    </div>\n",
              "  </div>\n",
              "  "
            ]
          },
          "metadata": {},
          "execution_count": 46
        }
      ],
      "source": [
        "df.head()"
      ]
    },
    {
      "cell_type": "markdown",
      "id": "upset-oxygen",
      "metadata": {
        "papermill": {
          "duration": 0.063666,
          "end_time": "2021-05-27T10:16:40.608416",
          "exception": false,
          "start_time": "2021-05-27T10:16:40.544750",
          "status": "completed"
        },
        "tags": [],
        "id": "upset-oxygen"
      },
      "source": [
        "## Data Preprocessing"
      ]
    },
    {
      "cell_type": "code",
      "execution_count": 47,
      "id": "boolean-today",
      "metadata": {
        "execution": {
          "iopub.execute_input": "2021-05-27T10:16:40.738362Z",
          "iopub.status.busy": "2021-05-27T10:16:40.737379Z",
          "iopub.status.idle": "2021-05-27T10:16:40.745822Z",
          "shell.execute_reply": "2021-05-27T10:16:40.745246Z"
        },
        "papermill": {
          "duration": 0.074291,
          "end_time": "2021-05-27T10:16:40.745967",
          "exception": false,
          "start_time": "2021-05-27T10:16:40.671676",
          "status": "completed"
        },
        "tags": [],
        "id": "boolean-today"
      },
      "outputs": [],
      "source": [
        "df.drop(['id', 'Unnamed: 32'], axis = 1, inplace = True)"
      ]
    },
    {
      "cell_type": "code",
      "execution_count": 48,
      "id": "married-benefit",
      "metadata": {
        "execution": {
          "iopub.execute_input": "2021-05-27T10:16:40.877671Z",
          "iopub.status.busy": "2021-05-27T10:16:40.876647Z",
          "iopub.status.idle": "2021-05-27T10:16:40.884310Z",
          "shell.execute_reply": "2021-05-27T10:16:40.884874Z"
        },
        "papermill": {
          "duration": 0.075319,
          "end_time": "2021-05-27T10:16:40.885048",
          "exception": false,
          "start_time": "2021-05-27T10:16:40.809729",
          "status": "completed"
        },
        "tags": [],
        "colab": {
          "base_uri": "https://localhost:8080/"
        },
        "id": "married-benefit",
        "outputId": "c8d97e18-98bc-4a69-9de6-35056e2819fe"
      },
      "outputs": [
        {
          "output_type": "execute_result",
          "data": {
            "text/plain": [
              "array(['M', 'B'], dtype=object)"
            ]
          },
          "metadata": {},
          "execution_count": 48
        }
      ],
      "source": [
        "df.diagnosis.unique()"
      ]
    },
    {
      "cell_type": "code",
      "execution_count": 49,
      "id": "danish-nigeria",
      "metadata": {
        "execution": {
          "iopub.execute_input": "2021-05-27T10:16:41.014538Z",
          "iopub.status.busy": "2021-05-27T10:16:41.013920Z",
          "iopub.status.idle": "2021-05-27T10:16:41.019621Z",
          "shell.execute_reply": "2021-05-27T10:16:41.020158Z"
        },
        "papermill": {
          "duration": 0.072389,
          "end_time": "2021-05-27T10:16:41.020354",
          "exception": false,
          "start_time": "2021-05-27T10:16:40.947965",
          "status": "completed"
        },
        "tags": [],
        "id": "danish-nigeria"
      },
      "outputs": [],
      "source": [
        "df['diagnosis'] = df['diagnosis'].apply(lambda val: 1 if val == 'M' else 0)"
      ]
    },
    {
      "cell_type": "code",
      "execution_count": 50,
      "id": "fancy-movie",
      "metadata": {
        "execution": {
          "iopub.execute_input": "2021-05-27T10:16:41.149309Z",
          "iopub.status.busy": "2021-05-27T10:16:41.148699Z",
          "iopub.status.idle": "2021-05-27T10:16:41.176605Z",
          "shell.execute_reply": "2021-05-27T10:16:41.177133Z"
        },
        "papermill": {
          "duration": 0.093276,
          "end_time": "2021-05-27T10:16:41.177327",
          "exception": false,
          "start_time": "2021-05-27T10:16:41.084051",
          "status": "completed"
        },
        "tags": [],
        "colab": {
          "base_uri": "https://localhost:8080/",
          "height": 317
        },
        "id": "fancy-movie",
        "outputId": "49937ba7-e271-4c53-bd79-058c711508ce"
      },
      "outputs": [
        {
          "output_type": "execute_result",
          "data": {
            "text/plain": [
              "   diagnosis  radius_mean  texture_mean  perimeter_mean  area_mean  \\\n",
              "0          1        17.99         10.38          122.80     1001.0   \n",
              "1          1        20.57         17.77          132.90     1326.0   \n",
              "2          1        19.69         21.25          130.00     1203.0   \n",
              "3          1        11.42         20.38           77.58      386.1   \n",
              "4          1        20.29         14.34          135.10     1297.0   \n",
              "\n",
              "   smoothness_mean  compactness_mean  concavity_mean  concave points_mean  \\\n",
              "0          0.11840           0.27760          0.3001              0.14710   \n",
              "1          0.08474           0.07864          0.0869              0.07017   \n",
              "2          0.10960           0.15990          0.1974              0.12790   \n",
              "3          0.14250           0.28390          0.2414              0.10520   \n",
              "4          0.10030           0.13280          0.1980              0.10430   \n",
              "\n",
              "   symmetry_mean  ...  radius_worst  texture_worst  perimeter_worst  \\\n",
              "0         0.2419  ...         25.38          17.33           184.60   \n",
              "1         0.1812  ...         24.99          23.41           158.80   \n",
              "2         0.2069  ...         23.57          25.53           152.50   \n",
              "3         0.2597  ...         14.91          26.50            98.87   \n",
              "4         0.1809  ...         22.54          16.67           152.20   \n",
              "\n",
              "   area_worst  smoothness_worst  compactness_worst  concavity_worst  \\\n",
              "0      2019.0            0.1622             0.6656           0.7119   \n",
              "1      1956.0            0.1238             0.1866           0.2416   \n",
              "2      1709.0            0.1444             0.4245           0.4504   \n",
              "3       567.7            0.2098             0.8663           0.6869   \n",
              "4      1575.0            0.1374             0.2050           0.4000   \n",
              "\n",
              "   concave points_worst  symmetry_worst  fractal_dimension_worst  \n",
              "0                0.2654          0.4601                  0.11890  \n",
              "1                0.1860          0.2750                  0.08902  \n",
              "2                0.2430          0.3613                  0.08758  \n",
              "3                0.2575          0.6638                  0.17300  \n",
              "4                0.1625          0.2364                  0.07678  \n",
              "\n",
              "[5 rows x 31 columns]"
            ],
            "text/html": [
              "\n",
              "  <div id=\"df-ef257b41-9a04-4538-9fb9-294dbcc433e5\">\n",
              "    <div class=\"colab-df-container\">\n",
              "      <div>\n",
              "<style scoped>\n",
              "    .dataframe tbody tr th:only-of-type {\n",
              "        vertical-align: middle;\n",
              "    }\n",
              "\n",
              "    .dataframe tbody tr th {\n",
              "        vertical-align: top;\n",
              "    }\n",
              "\n",
              "    .dataframe thead th {\n",
              "        text-align: right;\n",
              "    }\n",
              "</style>\n",
              "<table border=\"1\" class=\"dataframe\">\n",
              "  <thead>\n",
              "    <tr style=\"text-align: right;\">\n",
              "      <th></th>\n",
              "      <th>diagnosis</th>\n",
              "      <th>radius_mean</th>\n",
              "      <th>texture_mean</th>\n",
              "      <th>perimeter_mean</th>\n",
              "      <th>area_mean</th>\n",
              "      <th>smoothness_mean</th>\n",
              "      <th>compactness_mean</th>\n",
              "      <th>concavity_mean</th>\n",
              "      <th>concave points_mean</th>\n",
              "      <th>symmetry_mean</th>\n",
              "      <th>...</th>\n",
              "      <th>radius_worst</th>\n",
              "      <th>texture_worst</th>\n",
              "      <th>perimeter_worst</th>\n",
              "      <th>area_worst</th>\n",
              "      <th>smoothness_worst</th>\n",
              "      <th>compactness_worst</th>\n",
              "      <th>concavity_worst</th>\n",
              "      <th>concave points_worst</th>\n",
              "      <th>symmetry_worst</th>\n",
              "      <th>fractal_dimension_worst</th>\n",
              "    </tr>\n",
              "  </thead>\n",
              "  <tbody>\n",
              "    <tr>\n",
              "      <th>0</th>\n",
              "      <td>1</td>\n",
              "      <td>17.99</td>\n",
              "      <td>10.38</td>\n",
              "      <td>122.80</td>\n",
              "      <td>1001.0</td>\n",
              "      <td>0.11840</td>\n",
              "      <td>0.27760</td>\n",
              "      <td>0.3001</td>\n",
              "      <td>0.14710</td>\n",
              "      <td>0.2419</td>\n",
              "      <td>...</td>\n",
              "      <td>25.38</td>\n",
              "      <td>17.33</td>\n",
              "      <td>184.60</td>\n",
              "      <td>2019.0</td>\n",
              "      <td>0.1622</td>\n",
              "      <td>0.6656</td>\n",
              "      <td>0.7119</td>\n",
              "      <td>0.2654</td>\n",
              "      <td>0.4601</td>\n",
              "      <td>0.11890</td>\n",
              "    </tr>\n",
              "    <tr>\n",
              "      <th>1</th>\n",
              "      <td>1</td>\n",
              "      <td>20.57</td>\n",
              "      <td>17.77</td>\n",
              "      <td>132.90</td>\n",
              "      <td>1326.0</td>\n",
              "      <td>0.08474</td>\n",
              "      <td>0.07864</td>\n",
              "      <td>0.0869</td>\n",
              "      <td>0.07017</td>\n",
              "      <td>0.1812</td>\n",
              "      <td>...</td>\n",
              "      <td>24.99</td>\n",
              "      <td>23.41</td>\n",
              "      <td>158.80</td>\n",
              "      <td>1956.0</td>\n",
              "      <td>0.1238</td>\n",
              "      <td>0.1866</td>\n",
              "      <td>0.2416</td>\n",
              "      <td>0.1860</td>\n",
              "      <td>0.2750</td>\n",
              "      <td>0.08902</td>\n",
              "    </tr>\n",
              "    <tr>\n",
              "      <th>2</th>\n",
              "      <td>1</td>\n",
              "      <td>19.69</td>\n",
              "      <td>21.25</td>\n",
              "      <td>130.00</td>\n",
              "      <td>1203.0</td>\n",
              "      <td>0.10960</td>\n",
              "      <td>0.15990</td>\n",
              "      <td>0.1974</td>\n",
              "      <td>0.12790</td>\n",
              "      <td>0.2069</td>\n",
              "      <td>...</td>\n",
              "      <td>23.57</td>\n",
              "      <td>25.53</td>\n",
              "      <td>152.50</td>\n",
              "      <td>1709.0</td>\n",
              "      <td>0.1444</td>\n",
              "      <td>0.4245</td>\n",
              "      <td>0.4504</td>\n",
              "      <td>0.2430</td>\n",
              "      <td>0.3613</td>\n",
              "      <td>0.08758</td>\n",
              "    </tr>\n",
              "    <tr>\n",
              "      <th>3</th>\n",
              "      <td>1</td>\n",
              "      <td>11.42</td>\n",
              "      <td>20.38</td>\n",
              "      <td>77.58</td>\n",
              "      <td>386.1</td>\n",
              "      <td>0.14250</td>\n",
              "      <td>0.28390</td>\n",
              "      <td>0.2414</td>\n",
              "      <td>0.10520</td>\n",
              "      <td>0.2597</td>\n",
              "      <td>...</td>\n",
              "      <td>14.91</td>\n",
              "      <td>26.50</td>\n",
              "      <td>98.87</td>\n",
              "      <td>567.7</td>\n",
              "      <td>0.2098</td>\n",
              "      <td>0.8663</td>\n",
              "      <td>0.6869</td>\n",
              "      <td>0.2575</td>\n",
              "      <td>0.6638</td>\n",
              "      <td>0.17300</td>\n",
              "    </tr>\n",
              "    <tr>\n",
              "      <th>4</th>\n",
              "      <td>1</td>\n",
              "      <td>20.29</td>\n",
              "      <td>14.34</td>\n",
              "      <td>135.10</td>\n",
              "      <td>1297.0</td>\n",
              "      <td>0.10030</td>\n",
              "      <td>0.13280</td>\n",
              "      <td>0.1980</td>\n",
              "      <td>0.10430</td>\n",
              "      <td>0.1809</td>\n",
              "      <td>...</td>\n",
              "      <td>22.54</td>\n",
              "      <td>16.67</td>\n",
              "      <td>152.20</td>\n",
              "      <td>1575.0</td>\n",
              "      <td>0.1374</td>\n",
              "      <td>0.2050</td>\n",
              "      <td>0.4000</td>\n",
              "      <td>0.1625</td>\n",
              "      <td>0.2364</td>\n",
              "      <td>0.07678</td>\n",
              "    </tr>\n",
              "  </tbody>\n",
              "</table>\n",
              "<p>5 rows × 31 columns</p>\n",
              "</div>\n",
              "      <button class=\"colab-df-convert\" onclick=\"convertToInteractive('df-ef257b41-9a04-4538-9fb9-294dbcc433e5')\"\n",
              "              title=\"Convert this dataframe to an interactive table.\"\n",
              "              style=\"display:none;\">\n",
              "        \n",
              "  <svg xmlns=\"http://www.w3.org/2000/svg\" height=\"24px\"viewBox=\"0 0 24 24\"\n",
              "       width=\"24px\">\n",
              "    <path d=\"M0 0h24v24H0V0z\" fill=\"none\"/>\n",
              "    <path d=\"M18.56 5.44l.94 2.06.94-2.06 2.06-.94-2.06-.94-.94-2.06-.94 2.06-2.06.94zm-11 1L8.5 8.5l.94-2.06 2.06-.94-2.06-.94L8.5 2.5l-.94 2.06-2.06.94zm10 10l.94 2.06.94-2.06 2.06-.94-2.06-.94-.94-2.06-.94 2.06-2.06.94z\"/><path d=\"M17.41 7.96l-1.37-1.37c-.4-.4-.92-.59-1.43-.59-.52 0-1.04.2-1.43.59L10.3 9.45l-7.72 7.72c-.78.78-.78 2.05 0 2.83L4 21.41c.39.39.9.59 1.41.59.51 0 1.02-.2 1.41-.59l7.78-7.78 2.81-2.81c.8-.78.8-2.07 0-2.86zM5.41 20L4 18.59l7.72-7.72 1.47 1.35L5.41 20z\"/>\n",
              "  </svg>\n",
              "      </button>\n",
              "      \n",
              "  <style>\n",
              "    .colab-df-container {\n",
              "      display:flex;\n",
              "      flex-wrap:wrap;\n",
              "      gap: 12px;\n",
              "    }\n",
              "\n",
              "    .colab-df-convert {\n",
              "      background-color: #E8F0FE;\n",
              "      border: none;\n",
              "      border-radius: 50%;\n",
              "      cursor: pointer;\n",
              "      display: none;\n",
              "      fill: #1967D2;\n",
              "      height: 32px;\n",
              "      padding: 0 0 0 0;\n",
              "      width: 32px;\n",
              "    }\n",
              "\n",
              "    .colab-df-convert:hover {\n",
              "      background-color: #E2EBFA;\n",
              "      box-shadow: 0px 1px 2px rgba(60, 64, 67, 0.3), 0px 1px 3px 1px rgba(60, 64, 67, 0.15);\n",
              "      fill: #174EA6;\n",
              "    }\n",
              "\n",
              "    [theme=dark] .colab-df-convert {\n",
              "      background-color: #3B4455;\n",
              "      fill: #D2E3FC;\n",
              "    }\n",
              "\n",
              "    [theme=dark] .colab-df-convert:hover {\n",
              "      background-color: #434B5C;\n",
              "      box-shadow: 0px 1px 3px 1px rgba(0, 0, 0, 0.15);\n",
              "      filter: drop-shadow(0px 1px 2px rgba(0, 0, 0, 0.3));\n",
              "      fill: #FFFFFF;\n",
              "    }\n",
              "  </style>\n",
              "\n",
              "      <script>\n",
              "        const buttonEl =\n",
              "          document.querySelector('#df-ef257b41-9a04-4538-9fb9-294dbcc433e5 button.colab-df-convert');\n",
              "        buttonEl.style.display =\n",
              "          google.colab.kernel.accessAllowed ? 'block' : 'none';\n",
              "\n",
              "        async function convertToInteractive(key) {\n",
              "          const element = document.querySelector('#df-ef257b41-9a04-4538-9fb9-294dbcc433e5');\n",
              "          const dataTable =\n",
              "            await google.colab.kernel.invokeFunction('convertToInteractive',\n",
              "                                                     [key], {});\n",
              "          if (!dataTable) return;\n",
              "\n",
              "          const docLinkHtml = 'Like what you see? Visit the ' +\n",
              "            '<a target=\"_blank\" href=https://colab.research.google.com/notebooks/data_table.ipynb>data table notebook</a>'\n",
              "            + ' to learn more about interactive tables.';\n",
              "          element.innerHTML = '';\n",
              "          dataTable['output_type'] = 'display_data';\n",
              "          await google.colab.output.renderOutput(dataTable, element);\n",
              "          const docLink = document.createElement('div');\n",
              "          docLink.innerHTML = docLinkHtml;\n",
              "          element.appendChild(docLink);\n",
              "        }\n",
              "      </script>\n",
              "    </div>\n",
              "  </div>\n",
              "  "
            ]
          },
          "metadata": {},
          "execution_count": 50
        }
      ],
      "source": [
        "df.head()"
      ]
    },
    {
      "cell_type": "code",
      "source": [
        "df.describe()\n",
        "plt.hist(df['diagnosis'])\n",
        "plt.title('Diagnosis (M=1 , B=0)')\n",
        "plt.show()"
      ],
      "metadata": {
        "colab": {
          "base_uri": "https://localhost:8080/",
          "height": 282
        },
        "id": "aWJpRpmk18gl",
        "outputId": "7e5ce4da-800e-44b9-db89-d945a10fb80d"
      },
      "id": "aWJpRpmk18gl",
      "execution_count": 51,
      "outputs": [
        {
          "output_type": "display_data",
          "data": {
            "text/plain": [
              "<Figure size 432x288 with 1 Axes>"
            ],
            "image/png": "[encoded data removed]"
          },
          "metadata": {}
        }
      ]
    },
    {
      "cell_type": "markdown",
      "source": [
        "Creating a test set and a training set"
      ],
      "metadata": {
        "id": "aHs3D74y2Qd1"
      },
      "id": "aHs3D74y2Qd1"
    },
    {
      "cell_type": "code",
      "source": [
        "from sklearn.model_selection import train_test_split\n",
        "X = df.iloc[:,:-1]\n",
        "y = df.iloc[:,-1]\n",
        "X_train, X_test, y_train, y_test = train_test_split(X,y,test_size=0.1,random_state= 10)"
      ],
      "metadata": {
        "id": "44boWLV_2WUC"
      },
      "id": "44boWLV_2WUC",
      "execution_count": 52,
      "outputs": []
    },
    {
      "cell_type": "markdown",
      "source": [
        "## Linear Regression"
      ],
      "metadata": {
        "id": "s3Qkf4DUvUni"
      },
      "id": "s3Qkf4DUvUni"
    },
    {
      "cell_type": "code",
      "source": [
        "from sklearn.linear_model import LinearRegression\n",
        "lr = LinearRegression()\n",
        "lr.fit(X_train,y_train)\n",
        "y_predict = lr.predict(X_test)\n",
        "print(\"Linear Regression's Accuracy is:{}\".format(lr.score(X_test,y_test)))"
      ],
      "metadata": {
        "colab": {
          "base_uri": "https://localhost:8080/"
        },
        "id": "44O9-GJvvTIs",
        "outputId": "00f50388-d07a-4a73-b973-22d63b34d38d"
      },
      "id": "44O9-GJvvTIs",
      "execution_count": 53,
      "outputs": [
        {
          "output_type": "stream",
          "name": "stdout",
          "text": [
            "Linear Regression's Accuracy is:0.8566203245942927\n"
          ]
        }
      ]
    },
    {
      "cell_type": "code",
      "source": [
        "from sklearn.metrics import mean_squared_error\n",
        "\n",
        "MSE = mean_squared_error(y_test,y_predict)\n",
        "MSE"
      ],
      "metadata": {
        "colab": {
          "base_uri": "https://localhost:8080/"
        },
        "id": "Z6gaQNoK4brO",
        "outputId": "331d7b1a-3b0c-4a81-d25b-b9c424fa4ec7"
      },
      "id": "Z6gaQNoK4brO",
      "execution_count": 54,
      "outputs": [
        {
          "output_type": "execute_result",
          "data": {
            "text/plain": [
              "5.617526054432188e-05"
            ]
          },
          "metadata": {},
          "execution_count": 54
        }
      ]
    },
    {
      "cell_type": "code",
      "source": [
        "from sklearn.feature_selection import f_regression as fr\n",
        "result = fr(X,y)\n",
        "f_score = result[0]\n",
        "p_values = result[1]\n",
        "\n",
        "columns = list(X.columns)\n",
        "print(\" \")\n",
        "print(\" \")\n",
        "print(\" \")\n",
        "\n",
        "print(\"     Features                     \",\"F-Score  \",\"P-Values\")\n",
        "print(\"     ------------                   --------  ---------\")\n",
        "\n",
        "for i in range(0,len(columns)):\n",
        "    f1 = \"%4.2f\" % f_score[i]\n",
        "    p1 = \"%2.6f\" % p_values[i]\n",
        "    print(\"    \",columns[i].ljust(25),f1.rjust(12),\"\",p1.rjust(8))"
      ],
      "metadata": {
        "colab": {
          "base_uri": "https://localhost:8080/"
        },
        "id": "lnBfXx_W4p3H",
        "outputId": "32342a96-8a9a-4963-cdf6-d937469d8aff"
      },
      "id": "lnBfXx_W4p3H",
      "execution_count": 55,
      "outputs": [
        {
          "output_type": "stream",
          "name": "stdout",
          "text": [
            " \n",
            " \n",
            " \n",
            "     Features                      F-Score   P-Values\n",
            "     ------------                   --------  ---------\n",
            "     diagnosis                        66.44  0.000000\n",
            "     radius_mean                       0.03  0.866442\n",
            "     texture_mean                      8.17  0.004408\n",
            "     perimeter_mean                    1.48  0.224329\n",
            "     area_mean                         0.01  0.929114\n",
            "     smoothness_mean                 188.31  0.000000\n",
            "     compactness_mean                507.87  0.000000\n",
            "     concavity_mean                  204.59  0.000000\n",
            "     concave points_mean              89.18  0.000000\n",
            "     symmetry_mean                   134.91  0.000000\n",
            "     fractal_dimension_mean          811.70  0.000000\n",
            "     radius_se                         1.40  0.237880\n",
            "     texture_se                        1.18  0.276947\n",
            "     perimeter_se                      4.17  0.041637\n",
            "     area_se                           0.17  0.676320\n",
            "     smoothness_se                     5.90  0.015452\n",
            "     compactness_se                  304.30  0.000000\n",
            "     concavity_se                    135.61  0.000000\n",
            "     concave points_se                60.56  0.000000\n",
            "     symmetry_se                       3.48  0.062711\n",
            "     fractal_dimension_se            304.86  0.000000\n",
            "     radius_worst                      5.00  0.025740\n",
            "     texture_worst                    28.60  0.000000\n",
            "     perimeter_worst                  11.16  0.000889\n",
            "     area_worst                        3.62  0.057602\n",
            "     smoothness_worst                349.67  0.000000\n",
            "     compactness_worst              1085.28  0.000000\n",
            "     concavity_worst                 505.44  0.000000\n",
            "     concave points_worst            200.50  0.000000\n",
            "     symmetry_worst                  230.78  0.000000\n"
          ]
        }
      ]
    },
    {
      "cell_type": "code",
      "source": [
        "#we just need to keep the p value > 0.5 features\n",
        "new_features = []\n",
        "\n",
        "for j in range(0, len(columns)):\n",
        "      if float(result[1][j]) <= 0.5:\n",
        "        new_features.append(X.columns[j])\n",
        "new_features"
      ],
      "metadata": {
        "colab": {
          "base_uri": "https://localhost:8080/"
        },
        "id": "DGH7Y-y36EOb",
        "outputId": "50066965-27fb-4eff-e7b5-33e857b186f8"
      },
      "id": "DGH7Y-y36EOb",
      "execution_count": 56,
      "outputs": [
        {
          "output_type": "execute_result",
          "data": {
            "text/plain": [
              "['diagnosis',\n",
              " 'texture_mean',\n",
              " 'perimeter_mean',\n",
              " 'smoothness_mean',\n",
              " 'compactness_mean',\n",
              " 'concavity_mean',\n",
              " 'concave points_mean',\n",
              " 'symmetry_mean',\n",
              " 'fractal_dimension_mean',\n",
              " 'radius_se',\n",
              " 'texture_se',\n",
              " 'perimeter_se',\n",
              " 'smoothness_se',\n",
              " 'compactness_se',\n",
              " 'concavity_se',\n",
              " 'concave points_se',\n",
              " 'symmetry_se',\n",
              " 'fractal_dimension_se',\n",
              " 'radius_worst',\n",
              " 'texture_worst',\n",
              " 'perimeter_worst',\n",
              " 'area_worst',\n",
              " 'smoothness_worst',\n",
              " 'compactness_worst',\n",
              " 'concavity_worst',\n",
              " 'concave points_worst',\n",
              " 'symmetry_worst']"
            ]
          },
          "metadata": {},
          "execution_count": 56
        }
      ]
    },
    {
      "cell_type": "code",
      "source": [
        "X_train_lr = X_train[new_features]\n",
        "X_test_lr = X_test[new_features]\n",
        "lr_new = LinearRegression()\n",
        "lr_new.fit(X_train_lr,y_train)\n",
        "new_y_predict = lr_new.predict(X_test_lr)\n",
        "MSE_new = mean_squared_error(y_test,new_y_predict)\n",
        "MSE_new"
      ],
      "metadata": {
        "colab": {
          "base_uri": "https://localhost:8080/"
        },
        "id": "tBdcLFuAKX0Y",
        "outputId": "2ade6151-142f-4270-9cbd-d177ff6a772c"
      },
      "id": "tBdcLFuAKX0Y",
      "execution_count": 57,
      "outputs": [
        {
          "output_type": "execute_result",
          "data": {
            "text/plain": [
              "5.874104075536601e-05"
            ]
          },
          "metadata": {},
          "execution_count": 57
        }
      ]
    },
    {
      "cell_type": "markdown",
      "source": [
        "## Logistic Regression"
      ],
      "metadata": {
        "id": "e6MEaTdIvfRy"
      },
      "id": "e6MEaTdIvfRy"
    },
    {
      "cell_type": "markdown",
      "source": [
        "Logistic regression is widely used for classification of discrete data. In this case we will use it for binary (1,0) classification."
      ],
      "metadata": {
        "id": "uGz_xJq221qC"
      },
      "id": "uGz_xJq221qC"
    },
    {
      "cell_type": "code",
      "source": [
        "#we select x,y axis and we normalize our data\n",
        "y = df.diagnosis.values\n",
        "x_data = df.drop(\"diagnosis\",axis=1)\n",
        "x = (x_data-np.min(x_data))/(np.max(x_data)-np.min(x_data))\n",
        "x_train,x_test,y_train,y_test = train_test_split(x,y)"
      ],
      "metadata": {
        "id": "aXH7obMPUeUz"
      },
      "id": "aXH7obMPUeUz",
      "execution_count": 58,
      "outputs": []
    },
    {
      "cell_type": "code",
      "source": [
        "from sklearn.linear_model import LogisticRegression\n",
        "lgr = LogisticRegression(max_iter = 200)\n",
        "lgr.fit(x_train,y_train)\n",
        "print(\"Logistic Regression's Accuracy is:{}\".format(lgr.score(x_test,y_test)))"
      ],
      "metadata": {
        "colab": {
          "base_uri": "https://localhost:8080/"
        },
        "id": "qIBnMIKpUqF3",
        "outputId": "51ba1d30-3fb6-4bd0-db31-5dbdbf1cd821"
      },
      "id": "qIBnMIKpUqF3",
      "execution_count": 59,
      "outputs": [
        {
          "output_type": "stream",
          "name": "stdout",
          "text": [
            "Logistic Regression's Accuracy is:0.993006993006993\n"
          ]
        }
      ]
    },
    {
      "cell_type": "code",
      "source": [
        "from sklearn.metrics import confusion_matrix\n",
        "import seaborn as sns\n",
        "y_true = y_test \n",
        "y_pred = lgr.predict(x_test) #Predict data for eveluating \n",
        "cm = confusion_matrix(y_true,y_pred)\n",
        "\n",
        "f,ax = plt.subplots(figsize = (5,5))\n",
        "sns.heatmap(cm,annot = True,linewidth = 1,fmt =\".0f\",ax = ax)"
      ],
      "metadata": {
        "colab": {
          "base_uri": "https://localhost:8080/",
          "height": 338
        },
        "id": "mqU_1zlZVolu",
        "outputId": "0d74df69-2e3b-4beb-d9c1-5d369b3b0b84"
      },
      "id": "mqU_1zlZVolu",
      "execution_count": 60,
      "outputs": [
        {
          "output_type": "execute_result",
          "data": {
            "text/plain": [
              "<matplotlib.axes._subplots.AxesSubplot at 0x7f3aadecc810>"
            ]
          },
          "metadata": {},
          "execution_count": 60
        },
        {
          "output_type": "display_data",
          "data": {
            "text/plain": [
              "<Figure size 360x360 with 2 Axes>"
            ],
            "image/png": "[encoded data removed]"
          },
          "metadata": {}
        }
      ]
    },
    {
      "cell_type": "code",
      "source": [
        "MSE_logr = mean_squared_error(y_test,y_pred)\n",
        "MSE_logr #??? why so low"
      ],
      "metadata": {
        "colab": {
          "base_uri": "https://localhost:8080/"
        },
        "id": "z22yBUckVgrS",
        "outputId": "05a43edf-6592-45f1-a724-652dfeb3c519"
      },
      "id": "z22yBUckVgrS",
      "execution_count": 61,
      "outputs": [
        {
          "output_type": "execute_result",
          "data": {
            "text/plain": [
              "0.006993006993006993"
            ]
          },
          "metadata": {},
          "execution_count": 61
        }
      ]
    },
    {
      "cell_type": "markdown",
      "source": [
        "## Optional Part"
      ],
      "metadata": {
        "id": "h1xp3b8VXJbW"
      },
      "id": "h1xp3b8VXJbW"
    },
    {
      "cell_type": "code",
      "source": [
        "x = (x_data -np.min(x_data))/(np.max(x_data)-np.min(x_data)).values\n",
        "x_train, x_test, y_train, y_test = train_test_split(x, y, test_size=0.15, random_state=42)\n",
        "\n",
        "x_train = x_train.T\n",
        "x_test = x_test.T\n",
        "y_train = y_train.T\n",
        "y_test = y_test.T\n",
        "\n",
        "print(\"x train: \",x_train.shape)\n",
        "print(\"x test: \",x_test.shape)\n",
        "print(\"y train: \",y_train.shape)\n",
        "print(\"y test: \",y_test.shape)"
      ],
      "metadata": {
        "colab": {
          "base_uri": "https://localhost:8080/"
        },
        "id": "62Ya2ZxeXFZS",
        "outputId": "bbdaf203-b64d-47dc-8415-241aa214c28c"
      },
      "id": "62Ya2ZxeXFZS",
      "execution_count": 62,
      "outputs": [
        {
          "output_type": "stream",
          "name": "stdout",
          "text": [
            "x train:  (30, 483)\n",
            "x test:  (30, 86)\n",
            "y train:  (483,)\n",
            "y test:  (86,)\n"
          ]
        }
      ]
    },
    {
      "cell_type": "code",
      "source": [
        "def initialize_weights_and_bias(dimension):\n",
        "    w = np.full((dimension,1),0.01)\n",
        "    b = 0.0\n",
        "    return w, b\n",
        "def sigmoid(z):\n",
        "    y_head = 1/(1+np.exp(-z))\n",
        "    return y_head\n",
        "def forward_backward_propagation(w,b,x_train,y_train):\n",
        "    # forward propagation\n",
        "    z = np.dot(w.T,x_train) + b\n",
        "    y_head = sigmoid(z)\n",
        "    loss = -y_train*np.log(y_head)-(1-y_train)*np.log(1-y_head)\n",
        "    cost = (np.sum(loss))/x_train.shape[1]      \n",
        "    # backward propagation\n",
        "    derivative_weight = (np.dot(x_train,((y_head-y_train).T)))/x_train.shape[1] \n",
        "    derivative_bias = np.sum(y_head-y_train)/x_train.shape[1]                 \n",
        "    gradients = {\"derivative_weight\": derivative_weight,\"derivative_bias\": derivative_bias}\n",
        "    return cost,gradients\n",
        "def update(w, b, x_train, y_train, learning_rate,number_of_iterarion):\n",
        "    cost_list = []\n",
        "    cost_list2 = []\n",
        "    index = []\n",
        "    # updating(learning) parameters is number_of_iterarion times\n",
        "    for i in range(number_of_iterarion):\n",
        "        # make forward and backward propagation and find cost and gradients\n",
        "        cost,gradients = forward_backward_propagation(w,b,x_train,y_train)\n",
        "        cost_list.append(cost)\n",
        "        # lets update\n",
        "        w = w - learning_rate * gradients[\"derivative_weight\"]\n",
        "        b = b - learning_rate * gradients[\"derivative_bias\"]\n",
        "        if i % 10 == 0:\n",
        "            cost_list2.append(cost)\n",
        "            index.append(i)\n",
        "            print (\"Cost after iteration %i: %f\" %(i, cost))\n",
        "    # we update(learn) parameters weights and bias\n",
        "    parameters = {\"weight\": w,\"bias\": b}\n",
        "    plt.plot(index,cost_list2)\n",
        "    plt.xticks(index,rotation='vertical')\n",
        "    plt.xlabel(\"Number of Iterarion\")\n",
        "    plt.ylabel(\"Cost\")\n",
        "    plt.show()\n",
        "    return parameters, gradients, cost_list"
      ],
      "metadata": {
        "id": "VNkhvYGGXvoD"
      },
      "id": "VNkhvYGGXvoD",
      "execution_count": 63,
      "outputs": []
    },
    {
      "cell_type": "code",
      "source": [
        "def predict(w,b,x_test):\n",
        "    # x_test is a input for forward propagation\n",
        "    z = sigmoid(np.dot(w.T,x_test)+b)\n",
        "    Y_prediction = np.zeros((1,x_test.shape[1]))\n",
        "    # if z is bigger than 0.5, our prediction is sign one (y_head=1),\n",
        "    # if z is smaller than 0.5, our prediction is sign zero (y_head=0),\n",
        "    for i in range(z.shape[1]):\n",
        "        if z[0,i]<= 0.5:\n",
        "            Y_prediction[0,i] = 0\n",
        "        else:\n",
        "            Y_prediction[0,i] = 1\n",
        "\n",
        "    return Y_prediction"
      ],
      "metadata": {
        "id": "XnUQdpJwYN2s"
      },
      "id": "XnUQdpJwYN2s",
      "execution_count": 64,
      "outputs": []
    },
    {
      "cell_type": "code",
      "source": [
        "def logistic_regression(x_train, y_train, x_test, y_test, learning_rate ,  num_iterations):\n",
        "    # initialize\n",
        "    dimension =  x_train.shape[0]\n",
        "    w,b = initialize_weights_and_bias(dimension)\n",
        "    # do not change learning rate\n",
        "    parameters, gradients, cost_list = update(w, b, x_train, y_train, learning_rate,num_iterations)\n",
        "    \n",
        "    y_prediction_test = predict(parameters[\"weight\"],parameters[\"bias\"],x_test)\n",
        "    y_prediction_train = predict(parameters[\"weight\"],parameters[\"bias\"],x_train)\n",
        "\n",
        "    # Print train/test Errors\n",
        "    print(\"train accuracy: {} %\".format(100 - np.mean(np.abs(y_prediction_train - y_train)) * 100))\n",
        "    print(\"test accuracy: {} %\".format(100 - np.mean(np.abs(y_prediction_test - y_test)) * 100))"
      ],
      "metadata": {
        "id": "e4epY3TtYXkz"
      },
      "id": "e4epY3TtYXkz",
      "execution_count": 65,
      "outputs": []
    },
    {
      "cell_type": "code",
      "source": [
        "x_train.shape[1]"
      ],
      "metadata": {
        "colab": {
          "base_uri": "https://localhost:8080/"
        },
        "id": "VQpnK6wtZIZm",
        "outputId": "e4e7d9d0-d7dd-4a37-93ed-8859ccf43b56"
      },
      "id": "VQpnK6wtZIZm",
      "execution_count": 66,
      "outputs": [
        {
          "output_type": "execute_result",
          "data": {
            "text/plain": [
              "483"
            ]
          },
          "metadata": {},
          "execution_count": 66
        }
      ]
    },
    {
      "cell_type": "markdown",
      "source": [
        "### Learning Rate is 1, Number of iterations is 100, Batch size (30, 483)"
      ],
      "metadata": {
        "id": "I2j3n6NKY2ES"
      },
      "id": "I2j3n6NKY2ES"
    },
    {
      "cell_type": "code",
      "source": [
        "logistic_regression(x_train, y_train, x_test, y_test,learning_rate = 1, num_iterations = 100) "
      ],
      "metadata": {
        "colab": {
          "base_uri": "https://localhost:8080/",
          "height": 504
        },
        "id": "HkzR34q9Y0hT",
        "outputId": "9200b0da-ab9d-4258-8b1a-42fb06853571"
      },
      "id": "HkzR34q9Y0hT",
      "execution_count": 67,
      "outputs": [
        {
          "output_type": "stream",
          "name": "stdout",
          "text": [
            "Cost after iteration 0: 0.692836\n",
            "Cost after iteration 10: 0.498576\n",
            "Cost after iteration 20: 0.404996\n",
            "Cost after iteration 30: 0.350059\n",
            "Cost after iteration 40: 0.313747\n",
            "Cost after iteration 50: 0.287767\n",
            "Cost after iteration 60: 0.268114\n",
            "Cost after iteration 70: 0.252627\n",
            "Cost after iteration 80: 0.240036\n",
            "Cost after iteration 90: 0.229543\n"
          ]
        },
        {
          "output_type": "display_data",
          "data": {
            "text/plain": [
              "<Figure size 432x288 with 1 Axes>"
            ],
            "image/png": "[encoded data removed]"
          },
          "metadata": {}
        },
        {
          "output_type": "stream",
          "name": "stdout",
          "text": [
            "train accuracy: 94.40993788819875 %\n",
            "test accuracy: 94.18604651162791 %\n"
          ]
        }
      ]
    },
    {
      "cell_type": "code",
      "source": [
        "from sklearn import linear_model\n",
        "logreg = linear_model.LogisticRegression(random_state = 42,max_iter= 150)\n",
        "print(\"test accuracy: {} \".format(logreg.fit(x_train.T, y_train.T).score(x_test.T, y_test.T)))\n",
        "print(\"train accuracy: {} \".format(logreg.fit(x_train.T, y_train.T).score(x_train.T, y_train.T)))"
      ],
      "metadata": {
        "colab": {
          "base_uri": "https://localhost:8080/"
        },
        "id": "rOMLypZ9Yd1L",
        "outputId": "729e6d10-b0de-469c-9822-37a58eb15cf0"
      },
      "id": "rOMLypZ9Yd1L",
      "execution_count": 68,
      "outputs": [
        {
          "output_type": "stream",
          "name": "stdout",
          "text": [
            "test accuracy: 0.9767441860465116 \n",
            "train accuracy: 0.968944099378882 \n"
          ]
        }
      ]
    },
    {
      "cell_type": "markdown",
      "source": [
        "### Learning Rate is 0.5, Number of iterations is 1000, Batch size (30, 483)"
      ],
      "metadata": {
        "id": "JlSdzKalaZzl"
      },
      "id": "JlSdzKalaZzl"
    },
    {
      "cell_type": "code",
      "source": [
        "logistic_regression(x_train, y_train, x_test, y_test,learning_rate = 0.5, num_iterations = 1000) "
      ],
      "metadata": {
        "colab": {
          "base_uri": "https://localhost:8080/",
          "height": 1000
        },
        "id": "YH9XzOUoamVe",
        "outputId": "3a0df669-79f7-4904-feef-2020db6ab5b0"
      },
      "id": "YH9XzOUoamVe",
      "execution_count": 69,
      "outputs": [
        {
          "output_type": "stream",
          "name": "stdout",
          "text": [
            "Cost after iteration 0: 0.692836\n",
            "Cost after iteration 10: 0.575708\n",
            "Cost after iteration 20: 0.499805\n",
            "Cost after iteration 30: 0.446038\n",
            "Cost after iteration 40: 0.406171\n",
            "Cost after iteration 50: 0.375453\n",
            "Cost after iteration 60: 0.351033\n",
            "Cost after iteration 70: 0.331122\n",
            "Cost after iteration 80: 0.314544\n",
            "Cost after iteration 90: 0.300500\n",
            "Cost after iteration 100: 0.288426\n",
            "Cost after iteration 110: 0.277916\n",
            "Cost after iteration 120: 0.268668\n",
            "Cost after iteration 130: 0.260455\n",
            "Cost after iteration 140: 0.253100\n",
            "Cost after iteration 150: 0.246466\n",
            "Cost after iteration 160: 0.240444\n",
            "Cost after iteration 170: 0.234946\n",
            "Cost after iteration 180: 0.229900\n",
            "Cost after iteration 190: 0.225248\n",
            "Cost after iteration 200: 0.220940\n",
            "Cost after iteration 210: 0.216936\n",
            "Cost after iteration 220: 0.213202\n",
            "Cost after iteration 230: 0.209708\n",
            "Cost after iteration 240: 0.206429\n",
            "Cost after iteration 250: 0.203343\n",
            "Cost after iteration 260: 0.200431\n",
            "Cost after iteration 270: 0.197679\n",
            "Cost after iteration 280: 0.195070\n",
            "Cost after iteration 290: 0.192593\n",
            "Cost after iteration 300: 0.190237\n",
            "Cost after iteration 310: 0.187991\n",
            "Cost after iteration 320: 0.185848\n",
            "Cost after iteration 330: 0.183799\n",
            "Cost after iteration 340: 0.181837\n",
            "Cost after iteration 350: 0.179956\n",
            "Cost after iteration 360: 0.178151\n",
            "Cost after iteration 370: 0.176417\n",
            "Cost after iteration 380: 0.174748\n",
            "Cost after iteration 390: 0.173140\n",
            "Cost after iteration 400: 0.171590\n",
            "Cost after iteration 410: 0.170095\n",
            "Cost after iteration 420: 0.168650\n",
            "Cost after iteration 430: 0.167253\n",
            "Cost after iteration 440: 0.165902\n",
            "Cost after iteration 450: 0.164594\n",
            "Cost after iteration 460: 0.163326\n",
            "Cost after iteration 470: 0.162096\n",
            "Cost after iteration 480: 0.160903\n",
            "Cost after iteration 490: 0.159745\n",
            "Cost after iteration 500: 0.158619\n",
            "Cost after iteration 510: 0.157525\n",
            "Cost after iteration 520: 0.156460\n",
            "Cost after iteration 530: 0.155424\n",
            "Cost after iteration 540: 0.154415\n",
            "Cost after iteration 550: 0.153433\n",
            "Cost after iteration 560: 0.152475\n",
            "Cost after iteration 570: 0.151540\n",
            "Cost after iteration 580: 0.150629\n",
            "Cost after iteration 590: 0.149739\n",
            "Cost after iteration 600: 0.148871\n",
            "Cost after iteration 610: 0.148022\n",
            "Cost after iteration 620: 0.147193\n",
            "Cost after iteration 630: 0.146383\n",
            "Cost after iteration 640: 0.145590\n",
            "Cost after iteration 650: 0.144815\n",
            "Cost after iteration 660: 0.144056\n",
            "Cost after iteration 670: 0.143313\n",
            "Cost after iteration 680: 0.142586\n",
            "Cost after iteration 690: 0.141874\n",
            "Cost after iteration 700: 0.141176\n",
            "Cost after iteration 710: 0.140492\n",
            "Cost after iteration 720: 0.139821\n",
            "Cost after iteration 730: 0.139164\n",
            "Cost after iteration 740: 0.138519\n",
            "Cost after iteration 750: 0.137886\n",
            "Cost after iteration 760: 0.137265\n",
            "Cost after iteration 770: 0.136656\n",
            "Cost after iteration 780: 0.136057\n",
            "Cost after iteration 790: 0.135470\n",
            "Cost after iteration 800: 0.134892\n",
            "Cost after iteration 810: 0.134325\n",
            "Cost after iteration 820: 0.133768\n",
            "Cost after iteration 830: 0.133220\n",
            "Cost after iteration 840: 0.132682\n",
            "Cost after iteration 850: 0.132153\n",
            "Cost after iteration 860: 0.131632\n",
            "Cost after iteration 870: 0.131120\n",
            "Cost after iteration 880: 0.130616\n",
            "Cost after iteration 890: 0.130121\n",
            "Cost after iteration 900: 0.129633\n",
            "Cost after iteration 910: 0.129153\n",
            "Cost after iteration 920: 0.128680\n",
            "Cost after iteration 930: 0.128215\n",
            "Cost after iteration 940: 0.127756\n",
            "Cost after iteration 950: 0.127305\n",
            "Cost after iteration 960: 0.126861\n",
            "Cost after iteration 970: 0.126423\n",
            "Cost after iteration 980: 0.125991\n",
            "Cost after iteration 990: 0.125566\n"
          ]
        },
        {
          "output_type": "display_data",
          "data": {
            "text/plain": [
              "<Figure size 432x288 with 1 Axes>"
            ],
            "image/png": "[encoded data removed]"
          },
          "metadata": {}
        },
        {
          "output_type": "stream",
          "name": "stdout",
          "text": [
            "train accuracy: 97.10144927536231 %\n",
            "test accuracy: 95.34883720930233 %\n"
          ]
        }
      ]
    },
    {
      "cell_type": "code",
      "source": [
        "logreg = linear_model.LogisticRegression(random_state = 42,max_iter= 150)\n",
        "print(\"test accuracy: {} \".format(logreg.fit(x_train.T, y_train.T).score(x_test.T, y_test.T)))\n",
        "print(\"train accuracy: {} \".format(logreg.fit(x_train.T, y_train.T).score(x_train.T, y_train.T)))"
      ],
      "metadata": {
        "colab": {
          "base_uri": "https://localhost:8080/"
        },
        "id": "DUYYwqjYazpS",
        "outputId": "506eeb33-ea12-4b60-9419-d9418e7f8b0c"
      },
      "id": "DUYYwqjYazpS",
      "execution_count": 70,
      "outputs": [
        {
          "output_type": "stream",
          "name": "stdout",
          "text": [
            "test accuracy: 0.9767441860465116 \n",
            "train accuracy: 0.968944099378882 \n"
          ]
        }
      ]
    },
    {
      "cell_type": "markdown",
      "source": [
        "### Learning Rate is 2, Number of iterations is 50, Batch size (30, 483)"
      ],
      "metadata": {
        "id": "F12HHnFKbAwE"
      },
      "id": "F12HHnFKbAwE"
    },
    {
      "cell_type": "code",
      "source": [
        "logistic_regression(x_train, y_train, x_test, y_test,learning_rate = 2, num_iterations = 50) "
      ],
      "metadata": {
        "colab": {
          "base_uri": "https://localhost:8080/",
          "height": 413
        },
        "id": "VfnUzYklbFuc",
        "outputId": "8e6afd69-2a5f-435c-bde1-0c7b9f5325fa"
      },
      "id": "VfnUzYklbFuc",
      "execution_count": 71,
      "outputs": [
        {
          "output_type": "stream",
          "name": "stdout",
          "text": [
            "Cost after iteration 0: 0.692836\n",
            "Cost after iteration 10: 0.402587\n",
            "Cost after iteration 20: 0.312132\n",
            "Cost after iteration 30: 0.266997\n",
            "Cost after iteration 40: 0.239213\n"
          ]
        },
        {
          "output_type": "display_data",
          "data": {
            "text/plain": [
              "<Figure size 432x288 with 1 Axes>"
            ],
            "image/png": "[encoded data removed]"
          },
          "metadata": {}
        },
        {
          "output_type": "stream",
          "name": "stdout",
          "text": [
            "train accuracy: 94.40993788819875 %\n",
            "test accuracy: 94.18604651162791 %\n"
          ]
        }
      ]
    }
  ],
  "metadata": {
    "kernelspec": {
      "display_name": "Python 3",
      "language": "python",
      "name": "python3"
    },
    "language_info": {
      "codemirror_mode": {
        "name": "ipython",
        "version": 3
      },
      "file_extension": ".py",
      "mimetype": "text/x-python",
      "name": "python",
      "nbconvert_exporter": "python",
      "pygments_lexer": "ipython3",
      "version": "3.7.10"
    },
    "papermill": {
      "default_parameters": {},
      "duration": 139.152124,
      "end_time": "2021-05-27T10:18:49.215547",
      "environment_variables": {},
      "exception": null,
      "input_path": "__notebook__.ipynb",
      "output_path": "__notebook__.ipynb",
      "parameters": {},
      "start_time": "2021-05-27T10:16:30.063423",
      "version": "2.3.3"
    },
    "colab": {
      "provenance": [],
      "collapsed_sections": []
    }
  },
  "nbformat": 4,
  "nbformat_minor": 5
}