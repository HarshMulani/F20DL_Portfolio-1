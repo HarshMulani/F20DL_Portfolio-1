{
  "cells": [
    {
      "cell_type": "markdown",
      "source": [
        "# Processing of data set"
      ],
      "metadata": {
        "id": "ZNkT9EpbG1Lo"
      }
    },
    {
      "cell_type": "code",
      "source": [
        "!wget https://www2.macs.hw.ac.uk/~js2001/data.csv --no-check-certificate"
      ],
      "metadata": {
        "colab": {
          "base_uri": "https://localhost:8080/"
        },
        "id": "ZDQpCY3dG5LY",
        "outputId": "69c54827-9b1a-4532-a6ef-dcd487c67697"
      },
      "execution_count": 1,
      "outputs": [
        {
          "output_type": "stream",
          "name": "stdout",
          "text": [
            "--2022-11-15 16:27:01--  https://www2.macs.hw.ac.uk/~js2001/data.csv\n",
            "Resolving www2.macs.hw.ac.uk (www2.macs.hw.ac.uk)... 137.195.15.99\n",
            "Connecting to www2.macs.hw.ac.uk (www2.macs.hw.ac.uk)|137.195.15.99|:443... connected.\n",
            "WARNING: cannot verify www2.macs.hw.ac.uk's certificate, issued by ‘CN=GEANT OV RSA CA 4,O=GEANT Vereniging,C=NL’:\n",
            "  Unable to locally verify the issuer's authority.\n",
            "HTTP request sent, awaiting response... 200 OK\n",
            "Length: 125204 (122K) [text/csv]\n",
            "Saving to: ‘data.csv.2’\n",
            "\n",
            "data.csv.2          100%[===================>] 122.27K   264KB/s    in 0.5s    \n",
            "\n",
            "2022-11-15 16:27:02 (264 KB/s) - ‘data.csv.2’ saved [125204/125204]\n",
            "\n"
          ]
        }
      ]
    },
    {
      "metadata": {
        "_uuid": "e43e4e6f84cb95700e1d05f07f20fb740bcdfd31",
        "_cell_guid": "0de730e5-6631-4d4f-882e-4c34b4a0c37a",
        "id": "cRISxkE8Gjc7"
      },
      "cell_type": "markdown",
      "source": [
        "Attribute Information:\n",
        "\n",
        "All feature values are recoded with four significant digits.\n",
        "\n",
        "Missing attribute values: none\n",
        "\n",
        "Class distribution: 357 benign, 212 malignant"
      ]
    },
    {
      "metadata": {
        "_uuid": "6f747b567b4b89f9aaa48e503ddddabf214cb278",
        "_cell_guid": "466b1182-f052-4452-abb5-4fbe3cd92095",
        "trusted": true,
        "collapsed": true,
        "id": "tPLSHut4Gjc7"
      },
      "cell_type": "code",
      "source": [
        "# Importing libraries\n",
        "import pandas as pd\n",
        "import numpy as np\n",
        "import matplotlib.pyplot as plt\n",
        "import seaborn as sns\n",
        "\n",
        "# Importing data\n",
        "data = pd.read_csv('data.csv')\n",
        "del data['Unnamed: 32']\n",
        "X = data.iloc[:, 2:].values\n",
        "y = data.iloc[:, 1].values"
      ],
      "execution_count": 2,
      "outputs": []
    },
    {
      "cell_type": "code",
      "source": [
        "from sklearn.preprocessing import LabelEncoder\n",
        "labelencoder_X_1 = LabelEncoder()\n",
        "y = labelencoder_X_1.fit_transform(y)"
      ],
      "metadata": {
        "id": "ZbEhZDEkF0AB"
      },
      "execution_count": 3,
      "outputs": []
    },
    {
      "cell_type": "code",
      "source": [
        "# Splitting the dataset into the Training set and Test set\n",
        "from sklearn.model_selection import train_test_split\n",
        "X_train, X_test, y_train, y_test = train_test_split(X, y, test_size = 0.1, random_state = 0)"
      ],
      "metadata": {
        "id": "dmJDoHgHF1TA"
      },
      "execution_count": 4,
      "outputs": []
    },
    {
      "cell_type": "code",
      "source": [
        "#Feature Scaling\n",
        "from sklearn.preprocessing import StandardScaler\n",
        "sc = StandardScaler()\n",
        "X_train = sc.fit_transform(X_train)\n",
        "X_test = sc.transform(X_test)"
      ],
      "metadata": {
        "id": "0oXgBVVGF28h"
      },
      "execution_count": 5,
      "outputs": []
    },
    {
      "metadata": {
        "_uuid": "d9f057a42b57df5d2ad73b20fc6d81b5e33628e9",
        "_cell_guid": "a0d8f2ca-a51c-44e5-9399-345ec7f36509",
        "id": "WevbdvjcGjc8"
      },
      "cell_type": "markdown",
      "source": [
        "# Construction of ANN\n",
        "we will use Keras and its packages"
      ]
    },
    {
      "metadata": {
        "_uuid": "c01850e3c738b8a55146cce28e5f6fe82378032e",
        "_cell_guid": "51ab3d86-d1fd-40b6-a463-012e24a5c0a0",
        "trusted": true,
        "scrolled": false,
        "id": "5ILombVfGjc8"
      },
      "cell_type": "code",
      "source": [
        "import keras\n",
        "from keras.models import Sequential\n",
        "from keras.layers import Dense, Dropout"
      ],
      "execution_count": 6,
      "outputs": []
    },
    {
      "metadata": {
        "_uuid": "f07a3637824959ff96269ff3806b994c4f64d117",
        "_cell_guid": "5e19dee2-9602-42c9-bc3b-41d912e0aa1d",
        "trusted": true,
        "collapsed": true,
        "id": "ahLSoohqGjc9"
      },
      "cell_type": "code",
      "source": [
        "# Initialising the ANN\n",
        "classifier = Sequential()"
      ],
      "execution_count": 7,
      "outputs": []
    },
    {
      "metadata": {
        "_uuid": "cce53ac057db311d8221c027afe2d286bf0a5b51",
        "_cell_guid": "b1338309-a776-44b0-b04a-a8bdbf25d10e",
        "trusted": true,
        "id": "Dl2XIsh0Gjc9"
      },
      "cell_type": "code",
      "source": [
        "# Adding the input layer and the first hidden layer\n",
        "classifier.add(Dense(units=16, activation='relu', input_dim=30))\n",
        "# Adding dropout to prevent overfitting\n",
        "classifier.add(Dropout(0.1))"
      ],
      "execution_count": 8,
      "outputs": []
    },
    {
      "metadata": {
        "_uuid": "3d42817e7446a061dca811ea75ece45b15a4fdd9",
        "_cell_guid": "dd954d81-d773-4e90-aaa3-34d1dcb99e68",
        "id": "VbMyIjYvGjc9"
      },
      "cell_type": "markdown",
      "source": [
        "input_dim - number of columns of the dataset \n",
        "\n",
        "output_dim - number of outputs to be fed to the next layer, if any\n",
        "\n",
        "activation - activation function which is ReLU in this case\n",
        "\n",
        "init - the way in which weights should be provided to an ANN"
      ]
    },
    {
      "metadata": {
        "_uuid": "6105fb90265fdd6082648004657d55a43b187217",
        "_cell_guid": "7d6c2e16-5ffb-43b1-b238-c7434faa8808",
        "trusted": true,
        "id": "06Q8mdJQGjc9"
      },
      "cell_type": "code",
      "source": [
        "# Adding the second hidden layer\n",
        "classifier.add(Dense(units=16, activation='relu'))\n",
        "# Adding dropout to prevent overfitting\n",
        "classifier.add(Dropout(0.1))"
      ],
      "execution_count": 9,
      "outputs": []
    },
    {
      "metadata": {
        "_uuid": "ed51c97f1ea1a10af8bee99604de076b92cb2627",
        "_cell_guid": "628b8221-c76b-40bd-b5b9-b5aff04cbf31",
        "trusted": true,
        "id": "4d--vye-Gjc-"
      },
      "cell_type": "code",
      "source": [
        "# Adding the output layer\n",
        "classifier.add(Dense(units=1, activation='sigmoid'))"
      ],
      "execution_count": 10,
      "outputs": []
    },
    {
      "metadata": {
        "_uuid": "01ff691f323d264792730ae9d3af72a1e9106271",
        "collapsed": true,
        "_cell_guid": "9fc5ca11-edd6-4ddd-92b0-c5b6866abbec",
        "trusted": true,
        "id": "j_9O-ObzGjc-"
      },
      "cell_type": "code",
      "source": [
        "# Compiling the ANN\n",
        "classifier.compile(optimizer='adam', loss='binary_crossentropy', metrics=['accuracy'])"
      ],
      "execution_count": 11,
      "outputs": []
    },
    {
      "metadata": {
        "_uuid": "d198bbf1616b2bcd99d138f24559d0eff2a07d01",
        "_cell_guid": "6375e2f2-5cf5-42e4-a199-338dbc34a07a",
        "id": "qsw4fvZ-Gjc-"
      },
      "cell_type": "markdown",
      "source": [
        "# 1st Traning batch_size=100 and epochs=5\n",
        "\n",
        "Optimizer is chosen as adam for gradient descent.\n",
        "\n",
        "Binary_crossentropy is the loss function used. "
      ]
    },
    {
      "metadata": {
        "_uuid": "6e2d2d3f17102bc9c4e8f093c914c58412b28ee3",
        "trusted": true,
        "_cell_guid": "deb09534-714c-4fd2-bac5-d5dff9c474ef",
        "scrolled": true,
        "colab": {
          "base_uri": "https://localhost:8080/"
        },
        "id": "qYQmv8R9Gjc-",
        "outputId": "f4842fc1-b787-462e-deba-f884a113df4a"
      },
      "cell_type": "code",
      "source": [
        "classifier.fit(X_train, y_train, batch_size=100, epochs=5)"
      ],
      "execution_count": 12,
      "outputs": [
        {
          "output_type": "stream",
          "name": "stdout",
          "text": [
            "Epoch 1/5\n",
            "6/6 [==============================] - 1s 5ms/step - loss: 0.5881 - accuracy: 0.7656\n",
            "Epoch 2/5\n",
            "6/6 [==============================] - 0s 4ms/step - loss: 0.5512 - accuracy: 0.8184\n",
            "Epoch 3/5\n",
            "6/6 [==============================] - 0s 3ms/step - loss: 0.4991 - accuracy: 0.8516\n",
            "Epoch 4/5\n",
            "6/6 [==============================] - 0s 3ms/step - loss: 0.4747 - accuracy: 0.8672\n",
            "Epoch 5/5\n",
            "6/6 [==============================] - 0s 3ms/step - loss: 0.4301 - accuracy: 0.8945\n"
          ]
        },
        {
          "output_type": "execute_result",
          "data": {
            "text/plain": [
              "<keras.callbacks.History at 0x7f3018a34f10>"
            ]
          },
          "metadata": {},
          "execution_count": 12
        }
      ]
    },
    {
      "metadata": {
        "_uuid": "e700dd6d93bfc99f1fb10a1914c33764df95b79f",
        "_cell_guid": "91cb842e-c693-4ddc-938e-b25dd5fd8d64",
        "id": "lDaGaz8RGjc_"
      },
      "cell_type": "markdown",
      "source": [
        "Batch size defines number of samples that going to be propagated through the network.\n",
        "\n",
        "An Epoch is a complete pass through all the training data."
      ]
    },
    {
      "metadata": {
        "_uuid": "2a668b12248656821e4797a95ed0a878a63d8ee1",
        "_cell_guid": "cc405d00-4e8c-4882-8251-d83d4b269895",
        "trusted": true,
        "colab": {
          "base_uri": "https://localhost:8080/"
        },
        "id": "hkwGoLOGGjc_",
        "outputId": "8191697a-04ee-49fd-d344-c3532f0e794d"
      },
      "cell_type": "code",
      "source": [
        "# Predicting the Test set results\n",
        "y_pred = classifier.predict(X_test)\n",
        "y_pred = (y_pred > 0.5)"
      ],
      "execution_count": 13,
      "outputs": [
        {
          "output_type": "stream",
          "name": "stdout",
          "text": [
            "2/2 [==============================] - 0s 8ms/step\n"
          ]
        }
      ]
    },
    {
      "metadata": {
        "_uuid": "b4c8343b16d7022ccb77f8e64f46e96ac5fbe41c",
        "_cell_guid": "22c127bd-8608-4d8e-909b-4b90b7e24fee",
        "trusted": true,
        "colab": {
          "base_uri": "https://localhost:8080/"
        },
        "id": "XDVx1S0yGjc_",
        "outputId": "de2676ef-cd4a-482c-a0b2-34b3234de7a1"
      },
      "cell_type": "code",
      "source": [
        "from sklearn.metrics import accuracy_score, confusion_matrix, classification_report\n",
        "cm = confusion_matrix(y_test, y_pred)\n",
        "cm"
      ],
      "execution_count": 14,
      "outputs": [
        {
          "output_type": "execute_result",
          "data": {
            "text/plain": [
              "array([[31,  4],\n",
              "       [ 2, 20]])"
            ]
          },
          "metadata": {},
          "execution_count": 14
        }
      ]
    },
    {
      "cell_type": "code",
      "source": [
        "sns.heatmap(cm,annot=True)\n",
        "plt.show"
      ],
      "metadata": {
        "colab": {
          "base_uri": "https://localhost:8080/",
          "height": 283
        },
        "id": "L14kTEmxEHiS",
        "outputId": "2d92edfb-bff6-4c3d-80d7-35c4671b90e8"
      },
      "execution_count": 15,
      "outputs": [
        {
          "output_type": "execute_result",
          "data": {
            "text/plain": [
              "<function matplotlib.pyplot.show(*args, **kw)>"
            ]
          },
          "metadata": {},
          "execution_count": 15
        },
        {
          "output_type": "display_data",
          "data": {
            "text/plain": [
              "<Figure size 432x288 with 2 Axes>"
            ],
            "image/png": "[encoded data removed]"
          },
          "metadata": {
            "needs_background": "light"
          }
        }
      ]
    },
    {
      "cell_type": "code",
      "source": [
        "# classification report\n",
        "\n",
        "print(classification_report(y_test, y_pred))"
      ],
      "metadata": {
        "colab": {
          "base_uri": "https://localhost:8080/"
        },
        "id": "KfOHklrXEEnG",
        "outputId": "e8d89bcc-0672-4e83-96a8-b0b1472cbb41"
      },
      "execution_count": 16,
      "outputs": [
        {
          "output_type": "stream",
          "name": "stdout",
          "text": [
            "              precision    recall  f1-score   support\n",
            "\n",
            "           0       0.94      0.89      0.91        35\n",
            "           1       0.83      0.91      0.87        22\n",
            "\n",
            "    accuracy                           0.89        57\n",
            "   macro avg       0.89      0.90      0.89        57\n",
            "weighted avg       0.90      0.89      0.90        57\n",
            "\n"
          ]
        }
      ]
    },
    {
      "metadata": {
        "_uuid": "5ed1db854bfc4bc4fb49782e7adcaaf25fe9d41e",
        "_cell_guid": "2d631e23-de49-42ff-94e3-528f4131e97e",
        "trusted": true,
        "colab": {
          "base_uri": "https://localhost:8080/"
        },
        "id": "TgRsHAjdGjc_",
        "outputId": "f73fb484-553c-4971-b382-a80fc261aaea"
      },
      "cell_type": "code",
      "source": [
        "print(\"Our model's accuracy is {}%\".format(((cm[0][0] + cm[1][1])/57)*100))"
      ],
      "execution_count": 17,
      "outputs": [
        {
          "output_type": "stream",
          "name": "stdout",
          "text": [
            "Our model's accuracy is 89.47368421052632%\n"
          ]
        }
      ]
    },
    {
      "cell_type": "code",
      "source": [
        "#same like y_pred_prob = classifier.predict_proba(X_test)[:,1]\n",
        "def predict_prob(number):\n",
        "  return [number[0],1-number[0]]\n",
        "\n",
        "y_pred_prob = np.array(list(map(predict_prob, classifier.predict(X_test))))\n",
        "y_pred_prob = np.argmax(y_pred_prob,axis=1)\n",
        "y_pred_prob"
      ],
      "metadata": {
        "colab": {
          "base_uri": "https://localhost:8080/"
        },
        "id": "8CJVOWtIKxtl",
        "outputId": "c5d8c46a-66ac-4e7a-c557-b62a8582bacd"
      },
      "execution_count": 36,
      "outputs": [
        {
          "output_type": "stream",
          "name": "stdout",
          "text": [
            "2/2 [==============================] - 0s 10ms/step\n"
          ]
        },
        {
          "output_type": "execute_result",
          "data": {
            "text/plain": [
              "array([0, 1, 1, 1, 1, 1, 1, 1, 1, 1, 0, 1, 1, 1, 0, 0, 0, 0, 0, 0, 0, 0,\n",
              "       1, 1, 0, 1, 1, 0, 1, 0, 1, 0, 1, 0, 1, 0, 1, 0, 1, 0, 1, 1, 1, 1,\n",
              "       0, 0, 1, 1, 1, 0, 0, 0, 0, 1, 1, 1, 1])"
            ]
          },
          "metadata": {},
          "execution_count": 36
        }
      ]
    },
    {
      "metadata": {
        "trusted": true,
        "_uuid": "837036fec6bd2c2ee831bd3232804b001e472678",
        "colab": {
          "base_uri": "https://localhost:8080/",
          "height": 295
        },
        "id": "P_ZuokvoGjc_",
        "outputId": "dc3b4ea7-a7af-44f0-a997-f401fe3c313a"
      },
      "cell_type": "code",
      "source": [
        "from sklearn.metrics import roc_curve\n",
        "%matplotlib inline\n",
        "fpr, tpr, thresholds = roc_curve(y_test, y_pred_prob)\n",
        "# create plot\n",
        "plt.plot(fpr, tpr, label='ROC curve')\n",
        "plt.plot([0, 1], [0, 1], 'k--', label='Random guess')\n",
        "_ = plt.xlabel('False Positive Rate')\n",
        "_ = plt.ylabel('True Positive Rate')\n",
        "_ = plt.title('ROC Curve')\n",
        "_ = plt.xlim([-0.02, 1])\n",
        "_ = plt.ylim([0, 1.02])\n",
        "_ = plt.legend(loc=\"lower right\")"
      ],
      "execution_count": 34,
      "outputs": [
        {
          "output_type": "display_data",
          "data": {
            "text/plain": [
              "<Figure size 432x288 with 1 Axes>"
            ],
            "image/png": "[encoded data removed]"
          },
          "metadata": {
            "needs_background": "light"
          }
        }
      ]
    },
    {
      "cell_type": "code",
      "source": [
        "from sklearn.metrics import roc_auc_score\n",
        "\n",
        "roc_auc_score(y_test, y_pred_prob)"
      ],
      "metadata": {
        "colab": {
          "base_uri": "https://localhost:8080/"
        },
        "id": "_fk_gZ9aNAaC",
        "outputId": "7aa4af32-1e01-485d-e8ec-8a1b901a86bf"
      },
      "execution_count": 35,
      "outputs": [
        {
          "output_type": "execute_result",
          "data": {
            "text/plain": [
              "0.1025974025974026"
            ]
          },
          "metadata": {},
          "execution_count": 35
        }
      ]
    },
    {
      "metadata": {
        "_uuid": "d198bbf1616b2bcd99d138f24559d0eff2a07d01",
        "_cell_guid": "6375e2f2-5cf5-42e4-a199-338dbc34a07a",
        "id": "l-qSytfrOEYJ"
      },
      "cell_type": "markdown",
      "source": [
        "# 2nd Traning batch_size=100 and epochs=10"
      ]
    },
    {
      "metadata": {
        "_uuid": "6e2d2d3f17102bc9c4e8f093c914c58412b28ee3",
        "trusted": true,
        "_cell_guid": "deb09534-714c-4fd2-bac5-d5dff9c474ef",
        "scrolled": true,
        "colab": {
          "base_uri": "https://localhost:8080/"
        },
        "outputId": "89d5baf4-47a6-46ef-8a89-886f559e8276",
        "id": "87zYVnO7OEYK"
      },
      "cell_type": "code",
      "source": [
        "classifier.fit(X_train, y_train, batch_size=100, epochs=10)"
      ],
      "execution_count": 50,
      "outputs": [
        {
          "output_type": "stream",
          "name": "stdout",
          "text": [
            "Epoch 1/10\n",
            "6/6 [==============================] - 0s 3ms/step - loss: 0.1319 - accuracy: 0.9648\n",
            "Epoch 2/10\n",
            "6/6 [==============================] - 0s 3ms/step - loss: 0.1188 - accuracy: 0.9668\n",
            "Epoch 3/10\n",
            "6/6 [==============================] - 0s 2ms/step - loss: 0.1229 - accuracy: 0.9668\n",
            "Epoch 4/10\n",
            "6/6 [==============================] - 0s 2ms/step - loss: 0.1245 - accuracy: 0.9648\n",
            "Epoch 5/10\n",
            "6/6 [==============================] - 0s 2ms/step - loss: 0.1130 - accuracy: 0.9668\n",
            "Epoch 6/10\n",
            "6/6 [==============================] - 0s 2ms/step - loss: 0.1100 - accuracy: 0.9590\n",
            "Epoch 7/10\n",
            "6/6 [==============================] - 0s 3ms/step - loss: 0.1085 - accuracy: 0.9805\n",
            "Epoch 8/10\n",
            "6/6 [==============================] - 0s 4ms/step - loss: 0.1034 - accuracy: 0.9688\n",
            "Epoch 9/10\n",
            "6/6 [==============================] - 0s 3ms/step - loss: 0.0947 - accuracy: 0.9785\n",
            "Epoch 10/10\n",
            "6/6 [==============================] - 0s 3ms/step - loss: 0.1001 - accuracy: 0.9688\n"
          ]
        },
        {
          "output_type": "execute_result",
          "data": {
            "text/plain": [
              "<keras.callbacks.History at 0x7f3011330a90>"
            ]
          },
          "metadata": {},
          "execution_count": 50
        }
      ]
    },
    {
      "metadata": {
        "_uuid": "e700dd6d93bfc99f1fb10a1914c33764df95b79f",
        "_cell_guid": "91cb842e-c693-4ddc-938e-b25dd5fd8d64",
        "id": "R9XqloByOEYL"
      },
      "cell_type": "markdown",
      "source": [
        "Batch size defines number of samples that going to be propagated through the network.\n",
        "\n",
        "An Epoch is a complete pass through all the training data."
      ]
    },
    {
      "metadata": {
        "_uuid": "2a668b12248656821e4797a95ed0a878a63d8ee1",
        "_cell_guid": "cc405d00-4e8c-4882-8251-d83d4b269895",
        "trusted": true,
        "colab": {
          "base_uri": "https://localhost:8080/"
        },
        "outputId": "ab75d2fe-a605-4a1c-9cd3-c46b51b9ecb7",
        "id": "bfQ3PAhGOEYL"
      },
      "cell_type": "code",
      "source": [
        "# Predicting the Test set results\n",
        "y_pred_b = classifier.predict(X_test)\n",
        "y_pred_b = (y_pred_b > 0.5)"
      ],
      "execution_count": 51,
      "outputs": [
        {
          "output_type": "stream",
          "name": "stdout",
          "text": [
            "2/2 [==============================] - 0s 4ms/step\n"
          ]
        }
      ]
    },
    {
      "metadata": {
        "_uuid": "b4c8343b16d7022ccb77f8e64f46e96ac5fbe41c",
        "_cell_guid": "22c127bd-8608-4d8e-909b-4b90b7e24fee",
        "trusted": true,
        "colab": {
          "base_uri": "https://localhost:8080/"
        },
        "outputId": "46e140a9-60f0-4c59-eca8-316827f49986",
        "id": "0D3Ixw9fOEYM"
      },
      "cell_type": "code",
      "source": [
        "from sklearn.metrics import accuracy_score, confusion_matrix, classification_report\n",
        "cm_b = confusion_matrix(y_test, y_pred_b)\n",
        "cm_b"
      ],
      "execution_count": 52,
      "outputs": [
        {
          "output_type": "execute_result",
          "data": {
            "text/plain": [
              "array([[32,  3],\n",
              "       [ 0, 22]])"
            ]
          },
          "metadata": {},
          "execution_count": 52
        }
      ]
    },
    {
      "cell_type": "code",
      "source": [
        "sns.heatmap(cm_b,annot=True)\n",
        "plt.show"
      ],
      "metadata": {
        "colab": {
          "base_uri": "https://localhost:8080/",
          "height": 283
        },
        "outputId": "a4f68e99-4b13-4ce6-e92c-b03df6b73d00",
        "id": "LfnKhN9uOEYM"
      },
      "execution_count": 53,
      "outputs": [
        {
          "output_type": "execute_result",
          "data": {
            "text/plain": [
              "<function matplotlib.pyplot.show(*args, **kw)>"
            ]
          },
          "metadata": {},
          "execution_count": 53
        },
        {
          "output_type": "display_data",
          "data": {
            "text/plain": [
              "<Figure size 432x288 with 2 Axes>"
            ],
            "image/png": "[encoded data removed]"
          },
          "metadata": {
            "needs_background": "light"
          }
        }
      ]
    },
    {
      "cell_type": "code",
      "source": [
        "# classification report\n",
        "\n",
        "print(classification_report(y_test, y_pred_b))"
      ],
      "metadata": {
        "colab": {
          "base_uri": "https://localhost:8080/"
        },
        "outputId": "92019c4b-4581-42ac-bd06-1ba55d127851",
        "id": "Kh9kWQZFOEYN"
      },
      "execution_count": 54,
      "outputs": [
        {
          "output_type": "stream",
          "name": "stdout",
          "text": [
            "              precision    recall  f1-score   support\n",
            "\n",
            "           0       1.00      0.91      0.96        35\n",
            "           1       0.88      1.00      0.94        22\n",
            "\n",
            "    accuracy                           0.95        57\n",
            "   macro avg       0.94      0.96      0.95        57\n",
            "weighted avg       0.95      0.95      0.95        57\n",
            "\n"
          ]
        }
      ]
    },
    {
      "metadata": {
        "_uuid": "5ed1db854bfc4bc4fb49782e7adcaaf25fe9d41e",
        "_cell_guid": "2d631e23-de49-42ff-94e3-528f4131e97e",
        "trusted": true,
        "colab": {
          "base_uri": "https://localhost:8080/"
        },
        "outputId": "506f832a-0060-4ee8-9712-e6fa7f168952",
        "id": "Xvq1YBNEOEYN"
      },
      "cell_type": "code",
      "source": [
        "print(\"Our model's accuracy is {}%\".format(((cm_b[0][0] + cm_b[1][1])/57)*100))"
      ],
      "execution_count": 55,
      "outputs": [
        {
          "output_type": "stream",
          "name": "stdout",
          "text": [
            "Our model's accuracy is 94.73684210526315%\n"
          ]
        }
      ]
    },
    {
      "cell_type": "code",
      "source": [
        "y_pred_prob_b = np.array(list(map(predict_prob, classifier.predict(X_test))))\n",
        "y_pred_prob_b = np.argmax(y_pred_prob_b,axis=1)\n",
        "y_pred_prob_b"
      ],
      "metadata": {
        "colab": {
          "base_uri": "https://localhost:8080/"
        },
        "outputId": "ea7c5ea6-e844-4999-8427-9ba3049e5b14",
        "id": "Xx249oZ5OEYN"
      },
      "execution_count": 56,
      "outputs": [
        {
          "output_type": "stream",
          "name": "stdout",
          "text": [
            "2/2 [==============================] - 0s 12ms/step\n"
          ]
        },
        {
          "output_type": "execute_result",
          "data": {
            "text/plain": [
              "array([0, 1, 1, 1, 1, 1, 1, 1, 1, 1, 0, 1, 1, 0, 0, 0, 1, 0, 0, 0, 0, 0,\n",
              "       1, 1, 0, 1, 1, 0, 1, 0, 1, 0, 1, 0, 1, 0, 1, 0, 1, 0, 0, 1, 0, 1,\n",
              "       1, 0, 1, 1, 1, 0, 0, 0, 0, 1, 1, 1, 1])"
            ]
          },
          "metadata": {},
          "execution_count": 56
        }
      ]
    },
    {
      "metadata": {
        "trusted": true,
        "_uuid": "837036fec6bd2c2ee831bd3232804b001e472678",
        "colab": {
          "base_uri": "https://localhost:8080/",
          "height": 295
        },
        "outputId": "72d066ff-2a7a-4e72-bcd0-8e3ffe179863",
        "id": "NZNoRSPEOEYO"
      },
      "cell_type": "code",
      "source": [
        "from sklearn.metrics import roc_curve\n",
        "%matplotlib inline\n",
        "fpr, tpr, thresholds = roc_curve(y_test, y_pred_prob_b)\n",
        "# create plot\n",
        "plt.plot(fpr, tpr, label='ROC curve')\n",
        "plt.plot([0, 1], [0, 1], 'k--', label='Random guess')\n",
        "_ = plt.xlabel('False Positive Rate')\n",
        "_ = plt.ylabel('True Positive Rate')\n",
        "_ = plt.title('ROC Curve')\n",
        "_ = plt.xlim([-0.02, 1])\n",
        "_ = plt.ylim([0, 1.02])\n",
        "_ = plt.legend(loc=\"lower right\")"
      ],
      "execution_count": 57,
      "outputs": [
        {
          "output_type": "display_data",
          "data": {
            "text/plain": [
              "<Figure size 432x288 with 1 Axes>"
            ],
            "image/png": "[encoded data removed]"
          },
          "metadata": {
            "needs_background": "light"
          }
        }
      ]
    },
    {
      "cell_type": "code",
      "source": [
        "from sklearn.metrics import roc_auc_score\n",
        "\n",
        "roc_auc_score(y_test, y_pred_prob_b)"
      ],
      "metadata": {
        "colab": {
          "base_uri": "https://localhost:8080/"
        },
        "outputId": "1acaf642-aa15-4d99-a31b-9f91f8aea67b",
        "id": "M73GhZzwOEYO"
      },
      "execution_count": 58,
      "outputs": [
        {
          "output_type": "execute_result",
          "data": {
            "text/plain": [
              "0.04285714285714287"
            ]
          },
          "metadata": {},
          "execution_count": 58
        }
      ]
    },
    {
      "metadata": {
        "_uuid": "d198bbf1616b2bcd99d138f24559d0eff2a07d01",
        "_cell_guid": "6375e2f2-5cf5-42e4-a199-338dbc34a07a",
        "id": "MM_OoK4DPg32"
      },
      "cell_type": "markdown",
      "source": [
        "# 3rd Traning batch_size=10 and epochs=10"
      ]
    },
    {
      "metadata": {
        "_uuid": "6e2d2d3f17102bc9c4e8f093c914c58412b28ee3",
        "trusted": true,
        "_cell_guid": "deb09534-714c-4fd2-bac5-d5dff9c474ef",
        "scrolled": true,
        "colab": {
          "base_uri": "https://localhost:8080/"
        },
        "outputId": "a9c9843f-001f-4aba-f0bb-a53c5f6998bb",
        "id": "eHooi8YZPg38"
      },
      "cell_type": "code",
      "source": [
        "classifier.fit(X_train, y_train, batch_size=10, epochs=10)"
      ],
      "execution_count": 59,
      "outputs": [
        {
          "output_type": "stream",
          "name": "stdout",
          "text": [
            "Epoch 1/10\n",
            "52/52 [==============================] - 0s 2ms/step - loss: 0.0915 - accuracy: 0.9727\n",
            "Epoch 2/10\n",
            "52/52 [==============================] - 0s 2ms/step - loss: 0.0769 - accuracy: 0.9824\n",
            "Epoch 3/10\n",
            "52/52 [==============================] - 0s 2ms/step - loss: 0.0807 - accuracy: 0.9766\n",
            "Epoch 4/10\n",
            "52/52 [==============================] - 0s 2ms/step - loss: 0.0725 - accuracy: 0.9746\n",
            "Epoch 5/10\n",
            "52/52 [==============================] - 0s 2ms/step - loss: 0.0704 - accuracy: 0.9844\n",
            "Epoch 6/10\n",
            "52/52 [==============================] - 0s 2ms/step - loss: 0.0634 - accuracy: 0.9824\n",
            "Epoch 7/10\n",
            "52/52 [==============================] - 0s 2ms/step - loss: 0.0621 - accuracy: 0.9824\n",
            "Epoch 8/10\n",
            "52/52 [==============================] - 0s 2ms/step - loss: 0.0547 - accuracy: 0.9863\n",
            "Epoch 9/10\n",
            "52/52 [==============================] - 0s 2ms/step - loss: 0.0468 - accuracy: 0.9883\n",
            "Epoch 10/10\n",
            "52/52 [==============================] - 0s 2ms/step - loss: 0.0595 - accuracy: 0.9805\n"
          ]
        },
        {
          "output_type": "execute_result",
          "data": {
            "text/plain": [
              "<keras.callbacks.History at 0x7f30115774d0>"
            ]
          },
          "metadata": {},
          "execution_count": 59
        }
      ]
    },
    {
      "metadata": {
        "_uuid": "e700dd6d93bfc99f1fb10a1914c33764df95b79f",
        "_cell_guid": "91cb842e-c693-4ddc-938e-b25dd5fd8d64",
        "id": "1Xu-_0RvPg38"
      },
      "cell_type": "markdown",
      "source": [
        "Batch size defines number of samples that going to be propagated through the network.\n",
        "\n",
        "An Epoch is a complete pass through all the training data."
      ]
    },
    {
      "metadata": {
        "_uuid": "2a668b12248656821e4797a95ed0a878a63d8ee1",
        "_cell_guid": "cc405d00-4e8c-4882-8251-d83d4b269895",
        "trusted": true,
        "colab": {
          "base_uri": "https://localhost:8080/"
        },
        "outputId": "0f0b323a-dacb-4eec-e844-0e227f81c2ee",
        "id": "4G-orox9Pg38"
      },
      "cell_type": "code",
      "source": [
        "# Predicting the Test set results\n",
        "y_pred_c = classifier.predict(X_test)\n",
        "y_pred_c = (y_pred_c > 0.5)"
      ],
      "execution_count": 60,
      "outputs": [
        {
          "output_type": "stream",
          "name": "stdout",
          "text": [
            "2/2 [==============================] - 0s 6ms/step\n"
          ]
        }
      ]
    },
    {
      "metadata": {
        "_uuid": "b4c8343b16d7022ccb77f8e64f46e96ac5fbe41c",
        "_cell_guid": "22c127bd-8608-4d8e-909b-4b90b7e24fee",
        "trusted": true,
        "colab": {
          "base_uri": "https://localhost:8080/"
        },
        "outputId": "34a87b48-5bcc-466e-e4c4-c2b56dcf4489",
        "id": "HYnZlGykPg38"
      },
      "cell_type": "code",
      "source": [
        "cm_c = confusion_matrix(y_test, y_pred_c)\n",
        "cm_c"
      ],
      "execution_count": 61,
      "outputs": [
        {
          "output_type": "execute_result",
          "data": {
            "text/plain": [
              "array([[34,  1],\n",
              "       [ 0, 22]])"
            ]
          },
          "metadata": {},
          "execution_count": 61
        }
      ]
    },
    {
      "cell_type": "code",
      "source": [
        "sns.heatmap(cm_c,annot=True)\n",
        "plt.show"
      ],
      "metadata": {
        "colab": {
          "base_uri": "https://localhost:8080/",
          "height": 283
        },
        "outputId": "6a099738-0968-4c90-ab64-e0eaa6df8af5",
        "id": "vOgvWGP6Pg39"
      },
      "execution_count": 62,
      "outputs": [
        {
          "output_type": "execute_result",
          "data": {
            "text/plain": [
              "<function matplotlib.pyplot.show(*args, **kw)>"
            ]
          },
          "metadata": {},
          "execution_count": 62
        },
        {
          "output_type": "display_data",
          "data": {
            "text/plain": [
              "<Figure size 432x288 with 2 Axes>"
            ],
            "image/png": "[encoded data removed]"
          },
          "metadata": {
            "needs_background": "light"
          }
        }
      ]
    },
    {
      "cell_type": "code",
      "source": [
        "# classification report\n",
        "\n",
        "print(classification_report(y_test, y_pred_c))"
      ],
      "metadata": {
        "colab": {
          "base_uri": "https://localhost:8080/"
        },
        "outputId": "d6fa12ad-3f65-44ec-c4d0-cffbbe42ebdf",
        "id": "HilfXgBpPg39"
      },
      "execution_count": 63,
      "outputs": [
        {
          "output_type": "stream",
          "name": "stdout",
          "text": [
            "              precision    recall  f1-score   support\n",
            "\n",
            "           0       1.00      0.97      0.99        35\n",
            "           1       0.96      1.00      0.98        22\n",
            "\n",
            "    accuracy                           0.98        57\n",
            "   macro avg       0.98      0.99      0.98        57\n",
            "weighted avg       0.98      0.98      0.98        57\n",
            "\n"
          ]
        }
      ]
    },
    {
      "metadata": {
        "_uuid": "5ed1db854bfc4bc4fb49782e7adcaaf25fe9d41e",
        "_cell_guid": "2d631e23-de49-42ff-94e3-528f4131e97e",
        "trusted": true,
        "colab": {
          "base_uri": "https://localhost:8080/"
        },
        "outputId": "aa4bf4c9-7682-483e-f4c8-f71afab22161",
        "id": "aiM2GbsIPg39"
      },
      "cell_type": "code",
      "source": [
        "print(\"Our model's accuracy is {}%\".format(((cm_c[0][0] + cm_c[1][1])/57)*100))"
      ],
      "execution_count": 64,
      "outputs": [
        {
          "output_type": "stream",
          "name": "stdout",
          "text": [
            "Our model's accuracy is 98.24561403508771%\n"
          ]
        }
      ]
    },
    {
      "cell_type": "code",
      "source": [
        "y_pred_prob_c = np.array(list(map(predict_prob, classifier.predict(X_test))))\n",
        "y_pred_prob_c = np.argmax(y_pred_prob_c,axis=1)\n",
        "y_pred_prob_c"
      ],
      "metadata": {
        "colab": {
          "base_uri": "https://localhost:8080/"
        },
        "outputId": "a5d6c58f-50c5-4378-da13-227037ecde7a",
        "id": "FZZZ94qsPg3-"
      },
      "execution_count": 65,
      "outputs": [
        {
          "output_type": "stream",
          "name": "stdout",
          "text": [
            "2/2 [==============================] - 0s 9ms/step\n"
          ]
        },
        {
          "output_type": "execute_result",
          "data": {
            "text/plain": [
              "array([0, 1, 1, 1, 1, 1, 1, 1, 1, 1, 1, 1, 1, 0, 1, 0, 1, 0, 0, 0, 0, 0,\n",
              "       1, 1, 0, 1, 1, 0, 1, 0, 1, 0, 1, 0, 1, 0, 1, 0, 1, 0, 0, 1, 0, 1,\n",
              "       1, 0, 1, 1, 1, 0, 0, 0, 0, 1, 1, 1, 1])"
            ]
          },
          "metadata": {},
          "execution_count": 65
        }
      ]
    },
    {
      "metadata": {
        "trusted": true,
        "_uuid": "837036fec6bd2c2ee831bd3232804b001e472678",
        "colab": {
          "base_uri": "https://localhost:8080/",
          "height": 295
        },
        "outputId": "ca83cafd-d09d-427d-a6a3-7b1578d2f9a5",
        "id": "z_hGrKtzPg3-"
      },
      "cell_type": "code",
      "source": [
        "from sklearn.metrics import roc_curve\n",
        "%matplotlib inline\n",
        "fpr, tpr, thresholds = roc_curve(y_test, y_pred_prob_c)\n",
        "# create plot\n",
        "plt.plot(fpr, tpr, label='ROC curve')\n",
        "plt.plot([0, 1], [0, 1], 'k--', label='Random guess')\n",
        "_ = plt.xlabel('False Positive Rate')\n",
        "_ = plt.ylabel('True Positive Rate')\n",
        "_ = plt.title('ROC Curve')\n",
        "_ = plt.xlim([-0.02, 1])\n",
        "_ = plt.ylim([0, 1.02])\n",
        "_ = plt.legend(loc=\"lower right\")"
      ],
      "execution_count": 66,
      "outputs": [
        {
          "output_type": "display_data",
          "data": {
            "text/plain": [
              "<Figure size 432x288 with 1 Axes>"
            ],
            "image/png": "[encoded data removed]"
          },
          "metadata": {
            "needs_background": "light"
          }
        }
      ]
    },
    {
      "cell_type": "code",
      "source": [
        "from sklearn.metrics import roc_auc_score\n",
        "\n",
        "roc_auc_score(y_test, y_pred_prob_c)"
      ],
      "metadata": {
        "colab": {
          "base_uri": "https://localhost:8080/"
        },
        "outputId": "02cf4fc6-c69a-4dad-cce8-d240de25b361",
        "id": "bjCXVmyrPg3_"
      },
      "execution_count": 68,
      "outputs": [
        {
          "output_type": "execute_result",
          "data": {
            "text/plain": [
              "0.01428571428571429"
            ]
          },
          "metadata": {},
          "execution_count": 68
        }
      ]
    },
    {
      "metadata": {
        "_uuid": "d198bbf1616b2bcd99d138f24559d0eff2a07d01",
        "_cell_guid": "6375e2f2-5cf5-42e4-a199-338dbc34a07a",
        "id": "Q6oaVkC1QNKY"
      },
      "cell_type": "markdown",
      "source": [
        "# 4th Traning batch_size=100 and epochs=100"
      ]
    },
    {
      "metadata": {
        "_uuid": "6e2d2d3f17102bc9c4e8f093c914c58412b28ee3",
        "trusted": true,
        "_cell_guid": "deb09534-714c-4fd2-bac5-d5dff9c474ef",
        "scrolled": true,
        "colab": {
          "base_uri": "https://localhost:8080/"
        },
        "outputId": "c45efa1c-f6ed-4f3d-a998-75ec9db61942",
        "id": "_Jbi_5DxQNKZ"
      },
      "cell_type": "code",
      "source": [
        "classifier.fit(X_train, y_train, batch_size=100, epochs=100)"
      ],
      "execution_count": 69,
      "outputs": [
        {
          "output_type": "stream",
          "name": "stdout",
          "text": [
            "Epoch 1/100\n",
            "6/6 [==============================] - 0s 3ms/step - loss: 0.0523 - accuracy: 0.9883\n",
            "Epoch 2/100\n",
            "6/6 [==============================] - 0s 3ms/step - loss: 0.0542 - accuracy: 0.9863\n",
            "Epoch 3/100\n",
            "6/6 [==============================] - 0s 2ms/step - loss: 0.0532 - accuracy: 0.9844\n",
            "Epoch 4/100\n",
            "6/6 [==============================] - 0s 3ms/step - loss: 0.0521 - accuracy: 0.9863\n",
            "Epoch 5/100\n",
            "6/6 [==============================] - 0s 3ms/step - loss: 0.0487 - accuracy: 0.9863\n",
            "Epoch 6/100\n",
            "6/6 [==============================] - 0s 3ms/step - loss: 0.0548 - accuracy: 0.9805\n",
            "Epoch 7/100\n",
            "6/6 [==============================] - 0s 4ms/step - loss: 0.0548 - accuracy: 0.9844\n",
            "Epoch 8/100\n",
            "6/6 [==============================] - 0s 3ms/step - loss: 0.0507 - accuracy: 0.9863\n",
            "Epoch 9/100\n",
            "6/6 [==============================] - 0s 3ms/step - loss: 0.0542 - accuracy: 0.9883\n",
            "Epoch 10/100\n",
            "6/6 [==============================] - 0s 3ms/step - loss: 0.0502 - accuracy: 0.9902\n",
            "Epoch 11/100\n",
            "6/6 [==============================] - 0s 3ms/step - loss: 0.0511 - accuracy: 0.9785\n",
            "Epoch 12/100\n",
            "6/6 [==============================] - 0s 3ms/step - loss: 0.0477 - accuracy: 0.9863\n",
            "Epoch 13/100\n",
            "6/6 [==============================] - 0s 3ms/step - loss: 0.0529 - accuracy: 0.9805\n",
            "Epoch 14/100\n",
            "6/6 [==============================] - 0s 3ms/step - loss: 0.0487 - accuracy: 0.9883\n",
            "Epoch 15/100\n",
            "6/6 [==============================] - 0s 3ms/step - loss: 0.0526 - accuracy: 0.9824\n",
            "Epoch 16/100\n",
            "6/6 [==============================] - 0s 3ms/step - loss: 0.0461 - accuracy: 0.9902\n",
            "Epoch 17/100\n",
            "6/6 [==============================] - 0s 3ms/step - loss: 0.0496 - accuracy: 0.9844\n",
            "Epoch 18/100\n",
            "6/6 [==============================] - 0s 3ms/step - loss: 0.0478 - accuracy: 0.9883\n",
            "Epoch 19/100\n",
            "6/6 [==============================] - 0s 3ms/step - loss: 0.0487 - accuracy: 0.9883\n",
            "Epoch 20/100\n",
            "6/6 [==============================] - 0s 3ms/step - loss: 0.0545 - accuracy: 0.9883\n",
            "Epoch 21/100\n",
            "6/6 [==============================] - 0s 3ms/step - loss: 0.0500 - accuracy: 0.9844\n",
            "Epoch 22/100\n",
            "6/6 [==============================] - 0s 3ms/step - loss: 0.0487 - accuracy: 0.9883\n",
            "Epoch 23/100\n",
            "6/6 [==============================] - 0s 3ms/step - loss: 0.0457 - accuracy: 0.9844\n",
            "Epoch 24/100\n",
            "6/6 [==============================] - 0s 4ms/step - loss: 0.0458 - accuracy: 0.9863\n",
            "Epoch 25/100\n",
            "6/6 [==============================] - 0s 3ms/step - loss: 0.0491 - accuracy: 0.9902\n",
            "Epoch 26/100\n",
            "6/6 [==============================] - 0s 3ms/step - loss: 0.0432 - accuracy: 0.9922\n",
            "Epoch 27/100\n",
            "6/6 [==============================] - 0s 3ms/step - loss: 0.0417 - accuracy: 0.9902\n",
            "Epoch 28/100\n",
            "6/6 [==============================] - 0s 3ms/step - loss: 0.0479 - accuracy: 0.9824\n",
            "Epoch 29/100\n",
            "6/6 [==============================] - 0s 3ms/step - loss: 0.0497 - accuracy: 0.9922\n",
            "Epoch 30/100\n",
            "6/6 [==============================] - 0s 3ms/step - loss: 0.0441 - accuracy: 0.9863\n",
            "Epoch 31/100\n",
            "6/6 [==============================] - 0s 3ms/step - loss: 0.0446 - accuracy: 0.9824\n",
            "Epoch 32/100\n",
            "6/6 [==============================] - 0s 3ms/step - loss: 0.0468 - accuracy: 0.9883\n",
            "Epoch 33/100\n",
            "6/6 [==============================] - 0s 3ms/step - loss: 0.0364 - accuracy: 0.9883\n",
            "Epoch 34/100\n",
            "6/6 [==============================] - 0s 3ms/step - loss: 0.0407 - accuracy: 0.9922\n",
            "Epoch 35/100\n",
            "6/6 [==============================] - 0s 3ms/step - loss: 0.0453 - accuracy: 0.9883\n",
            "Epoch 36/100\n",
            "6/6 [==============================] - 0s 3ms/step - loss: 0.0456 - accuracy: 0.9844\n",
            "Epoch 37/100\n",
            "6/6 [==============================] - 0s 3ms/step - loss: 0.0515 - accuracy: 0.9902\n",
            "Epoch 38/100\n",
            "6/6 [==============================] - 0s 3ms/step - loss: 0.0443 - accuracy: 0.9902\n",
            "Epoch 39/100\n",
            "6/6 [==============================] - 0s 4ms/step - loss: 0.0475 - accuracy: 0.9844\n",
            "Epoch 40/100\n",
            "6/6 [==============================] - 0s 3ms/step - loss: 0.0402 - accuracy: 0.9883\n",
            "Epoch 41/100\n",
            "6/6 [==============================] - 0s 3ms/step - loss: 0.0438 - accuracy: 0.9902\n",
            "Epoch 42/100\n",
            "6/6 [==============================] - 0s 3ms/step - loss: 0.0471 - accuracy: 0.9844\n",
            "Epoch 43/100\n",
            "6/6 [==============================] - 0s 3ms/step - loss: 0.0512 - accuracy: 0.9844\n",
            "Epoch 44/100\n",
            "6/6 [==============================] - 0s 3ms/step - loss: 0.0440 - accuracy: 0.9863\n",
            "Epoch 45/100\n",
            "6/6 [==============================] - 0s 3ms/step - loss: 0.0426 - accuracy: 0.9902\n",
            "Epoch 46/100\n",
            "6/6 [==============================] - 0s 3ms/step - loss: 0.0481 - accuracy: 0.9863\n",
            "Epoch 47/100\n",
            "6/6 [==============================] - 0s 3ms/step - loss: 0.0438 - accuracy: 0.9883\n",
            "Epoch 48/100\n",
            "6/6 [==============================] - 0s 4ms/step - loss: 0.0439 - accuracy: 0.9902\n",
            "Epoch 49/100\n",
            "6/6 [==============================] - 0s 4ms/step - loss: 0.0366 - accuracy: 0.9922\n",
            "Epoch 50/100\n",
            "6/6 [==============================] - 0s 5ms/step - loss: 0.0451 - accuracy: 0.9902\n",
            "Epoch 51/100\n",
            "6/6 [==============================] - 0s 6ms/step - loss: 0.0460 - accuracy: 0.9883\n",
            "Epoch 52/100\n",
            "6/6 [==============================] - 0s 4ms/step - loss: 0.0410 - accuracy: 0.9863\n",
            "Epoch 53/100\n",
            "6/6 [==============================] - 0s 4ms/step - loss: 0.0433 - accuracy: 0.9922\n",
            "Epoch 54/100\n",
            "6/6 [==============================] - 0s 4ms/step - loss: 0.0457 - accuracy: 0.9863\n",
            "Epoch 55/100\n",
            "6/6 [==============================] - 0s 4ms/step - loss: 0.0394 - accuracy: 0.9844\n",
            "Epoch 56/100\n",
            "6/6 [==============================] - 0s 4ms/step - loss: 0.0395 - accuracy: 0.9902\n",
            "Epoch 57/100\n",
            "6/6 [==============================] - 0s 6ms/step - loss: 0.0410 - accuracy: 0.9902\n",
            "Epoch 58/100\n",
            "6/6 [==============================] - 0s 3ms/step - loss: 0.0472 - accuracy: 0.9863\n",
            "Epoch 59/100\n",
            "6/6 [==============================] - 0s 4ms/step - loss: 0.0450 - accuracy: 0.9883\n",
            "Epoch 60/100\n",
            "6/6 [==============================] - 0s 7ms/step - loss: 0.0432 - accuracy: 0.9883\n",
            "Epoch 61/100\n",
            "6/6 [==============================] - 0s 6ms/step - loss: 0.0373 - accuracy: 0.9902\n",
            "Epoch 62/100\n",
            "6/6 [==============================] - 0s 6ms/step - loss: 0.0411 - accuracy: 0.9883\n",
            "Epoch 63/100\n",
            "6/6 [==============================] - 0s 4ms/step - loss: 0.0368 - accuracy: 0.9922\n",
            "Epoch 64/100\n",
            "6/6 [==============================] - 0s 4ms/step - loss: 0.0451 - accuracy: 0.9883\n",
            "Epoch 65/100\n",
            "6/6 [==============================] - 0s 4ms/step - loss: 0.0400 - accuracy: 0.9883\n",
            "Epoch 66/100\n",
            "6/6 [==============================] - 0s 4ms/step - loss: 0.0481 - accuracy: 0.9824\n",
            "Epoch 67/100\n",
            "6/6 [==============================] - 0s 3ms/step - loss: 0.0445 - accuracy: 0.9844\n",
            "Epoch 68/100\n",
            "6/6 [==============================] - 0s 6ms/step - loss: 0.0401 - accuracy: 0.9922\n",
            "Epoch 69/100\n",
            "6/6 [==============================] - 0s 4ms/step - loss: 0.0370 - accuracy: 0.9902\n",
            "Epoch 70/100\n",
            "6/6 [==============================] - 0s 7ms/step - loss: 0.0453 - accuracy: 0.9883\n",
            "Epoch 71/100\n",
            "6/6 [==============================] - 0s 4ms/step - loss: 0.0397 - accuracy: 0.9902\n",
            "Epoch 72/100\n",
            "6/6 [==============================] - 0s 4ms/step - loss: 0.0446 - accuracy: 0.9844\n",
            "Epoch 73/100\n",
            "6/6 [==============================] - 0s 4ms/step - loss: 0.0392 - accuracy: 0.9902\n",
            "Epoch 74/100\n",
            "6/6 [==============================] - 0s 5ms/step - loss: 0.0405 - accuracy: 0.9863\n",
            "Epoch 75/100\n",
            "6/6 [==============================] - 0s 4ms/step - loss: 0.0487 - accuracy: 0.9844\n",
            "Epoch 76/100\n",
            "6/6 [==============================] - 0s 4ms/step - loss: 0.0386 - accuracy: 0.9902\n",
            "Epoch 77/100\n",
            "6/6 [==============================] - 0s 4ms/step - loss: 0.0321 - accuracy: 0.9941\n",
            "Epoch 78/100\n",
            "6/6 [==============================] - 0s 4ms/step - loss: 0.0436 - accuracy: 0.9883\n",
            "Epoch 79/100\n",
            "6/6 [==============================] - 0s 4ms/step - loss: 0.0378 - accuracy: 0.9902\n",
            "Epoch 80/100\n",
            "6/6 [==============================] - 0s 4ms/step - loss: 0.0351 - accuracy: 0.9883\n",
            "Epoch 81/100\n",
            "6/6 [==============================] - 0s 4ms/step - loss: 0.0458 - accuracy: 0.9844\n",
            "Epoch 82/100\n",
            "6/6 [==============================] - 0s 4ms/step - loss: 0.0461 - accuracy: 0.9863\n",
            "Epoch 83/100\n",
            "6/6 [==============================] - 0s 5ms/step - loss: 0.0400 - accuracy: 0.9863\n",
            "Epoch 84/100\n",
            "6/6 [==============================] - 0s 8ms/step - loss: 0.0373 - accuracy: 0.9902\n",
            "Epoch 85/100\n",
            "6/6 [==============================] - 0s 6ms/step - loss: 0.0407 - accuracy: 0.9883\n",
            "Epoch 86/100\n",
            "6/6 [==============================] - 0s 6ms/step - loss: 0.0405 - accuracy: 0.9863\n",
            "Epoch 87/100\n",
            "6/6 [==============================] - 0s 5ms/step - loss: 0.0426 - accuracy: 0.9883\n",
            "Epoch 88/100\n",
            "6/6 [==============================] - 0s 4ms/step - loss: 0.0356 - accuracy: 0.9902\n",
            "Epoch 89/100\n",
            "6/6 [==============================] - 0s 3ms/step - loss: 0.0364 - accuracy: 0.9922\n",
            "Epoch 90/100\n",
            "6/6 [==============================] - 0s 4ms/step - loss: 0.0439 - accuracy: 0.9844\n",
            "Epoch 91/100\n",
            "6/6 [==============================] - 0s 4ms/step - loss: 0.0341 - accuracy: 0.9922\n",
            "Epoch 92/100\n",
            "6/6 [==============================] - 0s 4ms/step - loss: 0.0362 - accuracy: 0.9883\n",
            "Epoch 93/100\n",
            "6/6 [==============================] - 0s 3ms/step - loss: 0.0385 - accuracy: 0.9883\n",
            "Epoch 94/100\n",
            "6/6 [==============================] - 0s 4ms/step - loss: 0.0372 - accuracy: 0.9883\n",
            "Epoch 95/100\n",
            "6/6 [==============================] - 0s 4ms/step - loss: 0.0466 - accuracy: 0.9824\n",
            "Epoch 96/100\n",
            "6/6 [==============================] - 0s 4ms/step - loss: 0.0386 - accuracy: 0.9883\n",
            "Epoch 97/100\n",
            "6/6 [==============================] - 0s 4ms/step - loss: 0.0465 - accuracy: 0.9863\n",
            "Epoch 98/100\n",
            "6/6 [==============================] - 0s 3ms/step - loss: 0.0360 - accuracy: 0.9902\n",
            "Epoch 99/100\n",
            "6/6 [==============================] - 0s 3ms/step - loss: 0.0345 - accuracy: 0.9922\n",
            "Epoch 100/100\n",
            "6/6 [==============================] - 0s 3ms/step - loss: 0.0321 - accuracy: 0.9902\n"
          ]
        },
        {
          "output_type": "execute_result",
          "data": {
            "text/plain": [
              "<keras.callbacks.History at 0x7f30113837d0>"
            ]
          },
          "metadata": {},
          "execution_count": 69
        }
      ]
    },
    {
      "metadata": {
        "_uuid": "e700dd6d93bfc99f1fb10a1914c33764df95b79f",
        "_cell_guid": "91cb842e-c693-4ddc-938e-b25dd5fd8d64",
        "id": "9V51SDQKQNKZ"
      },
      "cell_type": "markdown",
      "source": [
        "Batch size defines number of samples that going to be propagated through the network.\n",
        "\n",
        "An Epoch is a complete pass through all the training data."
      ]
    },
    {
      "metadata": {
        "_uuid": "2a668b12248656821e4797a95ed0a878a63d8ee1",
        "_cell_guid": "cc405d00-4e8c-4882-8251-d83d4b269895",
        "trusted": true,
        "colab": {
          "base_uri": "https://localhost:8080/"
        },
        "outputId": "180b2847-03ca-4c18-cd29-cf552c79dab9",
        "id": "XdFTNhLDQNKZ"
      },
      "cell_type": "code",
      "source": [
        "# Predicting the Test set results\n",
        "y_pred_d = classifier.predict(X_test)\n",
        "y_pred_d = (y_pred_d > 0.5)"
      ],
      "execution_count": 70,
      "outputs": [
        {
          "output_type": "stream",
          "name": "stdout",
          "text": [
            "2/2 [==============================] - 0s 14ms/step\n"
          ]
        }
      ]
    },
    {
      "metadata": {
        "_uuid": "b4c8343b16d7022ccb77f8e64f46e96ac5fbe41c",
        "_cell_guid": "22c127bd-8608-4d8e-909b-4b90b7e24fee",
        "trusted": true,
        "colab": {
          "base_uri": "https://localhost:8080/"
        },
        "outputId": "cbae8c05-1b75-4f72-eabf-11da32cd23c5",
        "id": "_kE4dCPsQNKZ"
      },
      "cell_type": "code",
      "source": [
        "cm_d = confusion_matrix(y_test, y_pred_d)\n",
        "cm_d"
      ],
      "execution_count": 71,
      "outputs": [
        {
          "output_type": "execute_result",
          "data": {
            "text/plain": [
              "array([[34,  1],\n",
              "       [ 0, 22]])"
            ]
          },
          "metadata": {},
          "execution_count": 71
        }
      ]
    },
    {
      "cell_type": "code",
      "source": [
        "sns.heatmap(cm_d,annot=True)\n",
        "plt.show"
      ],
      "metadata": {
        "colab": {
          "base_uri": "https://localhost:8080/",
          "height": 283
        },
        "outputId": "95609060-9a89-45b9-e73b-a51c0a4c2822",
        "id": "24JNjUXEQNKZ"
      },
      "execution_count": 72,
      "outputs": [
        {
          "output_type": "execute_result",
          "data": {
            "text/plain": [
              "<function matplotlib.pyplot.show(*args, **kw)>"
            ]
          },
          "metadata": {},
          "execution_count": 72
        },
        {
          "output_type": "display_data",
          "data": {
            "text/plain": [
              "<Figure size 432x288 with 2 Axes>"
            ],
            "image/png": "[encoded data removed]"
          },
          "metadata": {
            "needs_background": "light"
          }
        }
      ]
    },
    {
      "cell_type": "code",
      "source": [
        "# classification report\n",
        "\n",
        "print(classification_report(y_test, y_pred_d))"
      ],
      "metadata": {
        "colab": {
          "base_uri": "https://localhost:8080/"
        },
        "outputId": "a786b9ed-4319-4423-c07d-e8a3fc4bfb15",
        "id": "6Ua3r2sOQNKa"
      },
      "execution_count": 73,
      "outputs": [
        {
          "output_type": "stream",
          "name": "stdout",
          "text": [
            "              precision    recall  f1-score   support\n",
            "\n",
            "           0       1.00      0.97      0.99        35\n",
            "           1       0.96      1.00      0.98        22\n",
            "\n",
            "    accuracy                           0.98        57\n",
            "   macro avg       0.98      0.99      0.98        57\n",
            "weighted avg       0.98      0.98      0.98        57\n",
            "\n"
          ]
        }
      ]
    },
    {
      "metadata": {
        "_uuid": "5ed1db854bfc4bc4fb49782e7adcaaf25fe9d41e",
        "_cell_guid": "2d631e23-de49-42ff-94e3-528f4131e97e",
        "trusted": true,
        "colab": {
          "base_uri": "https://localhost:8080/"
        },
        "outputId": "99c75343-4b21-43f2-d6e1-367bc4390679",
        "id": "Z7Ww3wd8QNKa"
      },
      "cell_type": "code",
      "source": [
        "print(\"Our model's accuracy is {}%\".format(((cm_d[0][0] + cm_d[1][1])/57)*100))"
      ],
      "execution_count": 74,
      "outputs": [
        {
          "output_type": "stream",
          "name": "stdout",
          "text": [
            "Our model's accuracy is 98.24561403508771%\n"
          ]
        }
      ]
    },
    {
      "cell_type": "code",
      "source": [
        "y_pred_prob_d = np.array(list(map(predict_prob, classifier.predict(X_test))))\n",
        "y_pred_prob_d = np.argmax(y_pred_prob_d,axis=1)\n",
        "y_pred_prob_d"
      ],
      "metadata": {
        "colab": {
          "base_uri": "https://localhost:8080/"
        },
        "outputId": "627399e8-0d3e-4493-8fb7-1fcecec7502d",
        "id": "v73lBofnQNKa"
      },
      "execution_count": 75,
      "outputs": [
        {
          "output_type": "stream",
          "name": "stdout",
          "text": [
            "2/2 [==============================] - 0s 7ms/step\n"
          ]
        },
        {
          "output_type": "execute_result",
          "data": {
            "text/plain": [
              "array([0, 1, 1, 1, 1, 1, 1, 1, 1, 1, 1, 1, 1, 0, 1, 0, 1, 0, 0, 0, 0, 0,\n",
              "       1, 1, 0, 1, 1, 0, 1, 0, 1, 0, 1, 0, 1, 0, 1, 0, 1, 0, 0, 1, 0, 1,\n",
              "       1, 0, 1, 1, 1, 0, 0, 0, 0, 1, 1, 1, 1])"
            ]
          },
          "metadata": {},
          "execution_count": 75
        }
      ]
    },
    {
      "metadata": {
        "trusted": true,
        "_uuid": "837036fec6bd2c2ee831bd3232804b001e472678",
        "colab": {
          "base_uri": "https://localhost:8080/",
          "height": 295
        },
        "outputId": "26861ba6-6da5-4809-8d8d-fb42c8c15fa3",
        "id": "DIpjiICYQNKa"
      },
      "cell_type": "code",
      "source": [
        "%matplotlib inline\n",
        "fpr, tpr, thresholds = roc_curve(y_test, y_pred_prob_d)\n",
        "# create plot\n",
        "plt.plot(fpr, tpr, label='ROC curve')\n",
        "plt.plot([0, 1], [0, 1], 'k--', label='Random guess')\n",
        "_ = plt.xlabel('False Positive Rate')\n",
        "_ = plt.ylabel('True Positive Rate')\n",
        "_ = plt.title('ROC Curve')\n",
        "_ = plt.xlim([-0.02, 1])\n",
        "_ = plt.ylim([0, 1.02])\n",
        "_ = plt.legend(loc=\"lower right\")"
      ],
      "execution_count": 79,
      "outputs": [
        {
          "output_type": "display_data",
          "data": {
            "text/plain": [
              "<Figure size 432x288 with 1 Axes>"
            ],
            "image/png": "[encoded data removed]"
          },
          "metadata": {
            "needs_background": "light"
          }
        }
      ]
    },
    {
      "cell_type": "code",
      "source": [
        "roc_auc_score(y_test, y_pred_prob_d)"
      ],
      "metadata": {
        "colab": {
          "base_uri": "https://localhost:8080/"
        },
        "outputId": "80311d99-5fe9-4a3a-9d81-9bc8b5edf37b",
        "id": "CGgj3qIyQNKa"
      },
      "execution_count": 80,
      "outputs": [
        {
          "output_type": "execute_result",
          "data": {
            "text/plain": [
              "0.01428571428571429"
            ]
          },
          "metadata": {},
          "execution_count": 80
        }
      ]
    },
    {
      "metadata": {
        "_uuid": "d198bbf1616b2bcd99d138f24559d0eff2a07d01",
        "_cell_guid": "6375e2f2-5cf5-42e4-a199-338dbc34a07a",
        "id": "TUOXIGeQQzXd"
      },
      "cell_type": "markdown",
      "source": [
        "# 5th Traning batch_size=10 and epochs=100"
      ]
    },
    {
      "metadata": {
        "_uuid": "6e2d2d3f17102bc9c4e8f093c914c58412b28ee3",
        "trusted": true,
        "_cell_guid": "deb09534-714c-4fd2-bac5-d5dff9c474ef",
        "scrolled": true,
        "colab": {
          "base_uri": "https://localhost:8080/"
        },
        "outputId": "ccbedf18-e6ca-4ed9-d2e2-3c0b99755abf",
        "id": "ERUhNLxCQzXi"
      },
      "cell_type": "code",
      "source": [
        "classifier.fit(X_train, y_train, batch_size=10, epochs=100)"
      ],
      "execution_count": 81,
      "outputs": [
        {
          "output_type": "stream",
          "name": "stdout",
          "text": [
            "Epoch 1/100\n",
            "52/52 [==============================] - 0s 2ms/step - loss: 0.0412 - accuracy: 0.9883\n",
            "Epoch 2/100\n",
            "52/52 [==============================] - 0s 2ms/step - loss: 0.0333 - accuracy: 0.9883\n",
            "Epoch 3/100\n",
            "52/52 [==============================] - 0s 2ms/step - loss: 0.0285 - accuracy: 0.9902\n",
            "Epoch 4/100\n",
            "52/52 [==============================] - 0s 2ms/step - loss: 0.0268 - accuracy: 0.9941\n",
            "Epoch 5/100\n",
            "52/52 [==============================] - 0s 2ms/step - loss: 0.0383 - accuracy: 0.9902\n",
            "Epoch 6/100\n",
            "52/52 [==============================] - 0s 2ms/step - loss: 0.0268 - accuracy: 0.9883\n",
            "Epoch 7/100\n",
            "52/52 [==============================] - 0s 2ms/step - loss: 0.0338 - accuracy: 0.9902\n",
            "Epoch 8/100\n",
            "52/52 [==============================] - 0s 2ms/step - loss: 0.0297 - accuracy: 0.9922\n",
            "Epoch 9/100\n",
            "52/52 [==============================] - 0s 2ms/step - loss: 0.0258 - accuracy: 0.9902\n",
            "Epoch 10/100\n",
            "52/52 [==============================] - 0s 2ms/step - loss: 0.0258 - accuracy: 0.9922\n",
            "Epoch 11/100\n",
            "52/52 [==============================] - 0s 2ms/step - loss: 0.0291 - accuracy: 0.9902\n",
            "Epoch 12/100\n",
            "52/52 [==============================] - 0s 2ms/step - loss: 0.0269 - accuracy: 0.9883\n",
            "Epoch 13/100\n",
            "52/52 [==============================] - 0s 2ms/step - loss: 0.0196 - accuracy: 0.9941\n",
            "Epoch 14/100\n",
            "52/52 [==============================] - 0s 2ms/step - loss: 0.0259 - accuracy: 0.9941\n",
            "Epoch 15/100\n",
            "52/52 [==============================] - 0s 2ms/step - loss: 0.0230 - accuracy: 0.9902\n",
            "Epoch 16/100\n",
            "52/52 [==============================] - 0s 2ms/step - loss: 0.0281 - accuracy: 0.9902\n",
            "Epoch 17/100\n",
            "52/52 [==============================] - 0s 2ms/step - loss: 0.0289 - accuracy: 0.9883\n",
            "Epoch 18/100\n",
            "52/52 [==============================] - 0s 2ms/step - loss: 0.0281 - accuracy: 0.9883\n",
            "Epoch 19/100\n",
            "52/52 [==============================] - 0s 2ms/step - loss: 0.0255 - accuracy: 0.9922\n",
            "Epoch 20/100\n",
            "52/52 [==============================] - 0s 2ms/step - loss: 0.0252 - accuracy: 0.9902\n",
            "Epoch 21/100\n",
            "52/52 [==============================] - 0s 2ms/step - loss: 0.0289 - accuracy: 0.9922\n",
            "Epoch 22/100\n",
            "52/52 [==============================] - 0s 2ms/step - loss: 0.0269 - accuracy: 0.9863\n",
            "Epoch 23/100\n",
            "52/52 [==============================] - 0s 2ms/step - loss: 0.0159 - accuracy: 0.9941\n",
            "Epoch 24/100\n",
            "52/52 [==============================] - 0s 2ms/step - loss: 0.0142 - accuracy: 0.9941\n",
            "Epoch 25/100\n",
            "52/52 [==============================] - 0s 2ms/step - loss: 0.0190 - accuracy: 0.9922\n",
            "Epoch 26/100\n",
            "52/52 [==============================] - 0s 2ms/step - loss: 0.0129 - accuracy: 0.9980\n",
            "Epoch 27/100\n",
            "52/52 [==============================] - 0s 2ms/step - loss: 0.0137 - accuracy: 0.9961\n",
            "Epoch 28/100\n",
            "52/52 [==============================] - 0s 3ms/step - loss: 0.0153 - accuracy: 0.9961\n",
            "Epoch 29/100\n",
            "52/52 [==============================] - 0s 3ms/step - loss: 0.0144 - accuracy: 0.9961\n",
            "Epoch 30/100\n",
            "52/52 [==============================] - 0s 5ms/step - loss: 0.0126 - accuracy: 0.9980\n",
            "Epoch 31/100\n",
            "52/52 [==============================] - 0s 5ms/step - loss: 0.0144 - accuracy: 0.9941\n",
            "Epoch 32/100\n",
            "52/52 [==============================] - 0s 4ms/step - loss: 0.0148 - accuracy: 0.9941\n",
            "Epoch 33/100\n",
            "52/52 [==============================] - 0s 4ms/step - loss: 0.0089 - accuracy: 0.9980\n",
            "Epoch 34/100\n",
            "52/52 [==============================] - 0s 4ms/step - loss: 0.0117 - accuracy: 0.9980\n",
            "Epoch 35/100\n",
            "52/52 [==============================] - 0s 5ms/step - loss: 0.0220 - accuracy: 0.9902\n",
            "Epoch 36/100\n",
            "52/52 [==============================] - 0s 5ms/step - loss: 0.0124 - accuracy: 0.9961\n",
            "Epoch 37/100\n",
            "52/52 [==============================] - 0s 3ms/step - loss: 0.0117 - accuracy: 0.9961\n",
            "Epoch 38/100\n",
            "52/52 [==============================] - 0s 5ms/step - loss: 0.0218 - accuracy: 0.9902\n",
            "Epoch 39/100\n",
            "52/52 [==============================] - 0s 3ms/step - loss: 0.0101 - accuracy: 0.9961\n",
            "Epoch 40/100\n",
            "52/52 [==============================] - 0s 3ms/step - loss: 0.0098 - accuracy: 0.9961\n",
            "Epoch 41/100\n",
            "52/52 [==============================] - 0s 4ms/step - loss: 0.0106 - accuracy: 0.9961\n",
            "Epoch 42/100\n",
            "52/52 [==============================] - 0s 4ms/step - loss: 0.0098 - accuracy: 0.9961\n",
            "Epoch 43/100\n",
            "52/52 [==============================] - 0s 3ms/step - loss: 0.0139 - accuracy: 0.9922\n",
            "Epoch 44/100\n",
            "52/52 [==============================] - 0s 2ms/step - loss: 0.0094 - accuracy: 0.9980\n",
            "Epoch 45/100\n",
            "52/52 [==============================] - 0s 2ms/step - loss: 0.0142 - accuracy: 0.9941\n",
            "Epoch 46/100\n",
            "52/52 [==============================] - 0s 3ms/step - loss: 0.0093 - accuracy: 0.9980\n",
            "Epoch 47/100\n",
            "52/52 [==============================] - 0s 4ms/step - loss: 0.0139 - accuracy: 0.9922\n",
            "Epoch 48/100\n",
            "52/52 [==============================] - 0s 6ms/step - loss: 0.0135 - accuracy: 0.9961\n",
            "Epoch 49/100\n",
            "52/52 [==============================] - 0s 8ms/step - loss: 0.0084 - accuracy: 1.0000\n",
            "Epoch 50/100\n",
            "52/52 [==============================] - 0s 7ms/step - loss: 0.0102 - accuracy: 0.9980\n",
            "Epoch 51/100\n",
            "52/52 [==============================] - 0s 6ms/step - loss: 0.0091 - accuracy: 0.9980\n",
            "Epoch 52/100\n",
            "52/52 [==============================] - 0s 5ms/step - loss: 0.0130 - accuracy: 0.9922\n",
            "Epoch 53/100\n",
            "52/52 [==============================] - 0s 5ms/step - loss: 0.0104 - accuracy: 0.9961\n",
            "Epoch 54/100\n",
            "52/52 [==============================] - 0s 5ms/step - loss: 0.0058 - accuracy: 0.9980\n",
            "Epoch 55/100\n",
            "52/52 [==============================] - 0s 5ms/step - loss: 0.0085 - accuracy: 0.9980\n",
            "Epoch 56/100\n",
            "52/52 [==============================] - 0s 7ms/step - loss: 0.0083 - accuracy: 0.9961\n",
            "Epoch 57/100\n",
            "52/52 [==============================] - 0s 6ms/step - loss: 0.0129 - accuracy: 0.9922\n",
            "Epoch 58/100\n",
            "52/52 [==============================] - 0s 5ms/step - loss: 0.0120 - accuracy: 0.9980\n",
            "Epoch 59/100\n",
            "52/52 [==============================] - 0s 2ms/step - loss: 0.0074 - accuracy: 1.0000\n",
            "Epoch 60/100\n",
            "52/52 [==============================] - 0s 2ms/step - loss: 0.0159 - accuracy: 0.9961\n",
            "Epoch 61/100\n",
            "52/52 [==============================] - 0s 4ms/step - loss: 0.0091 - accuracy: 0.9961\n",
            "Epoch 62/100\n",
            "52/52 [==============================] - 0s 3ms/step - loss: 0.0153 - accuracy: 0.9941\n",
            "Epoch 63/100\n",
            "52/52 [==============================] - 0s 3ms/step - loss: 0.0153 - accuracy: 0.9941\n",
            "Epoch 64/100\n",
            "52/52 [==============================] - 0s 3ms/step - loss: 0.0082 - accuracy: 0.9980\n",
            "Epoch 65/100\n",
            "52/52 [==============================] - 0s 3ms/step - loss: 0.0152 - accuracy: 0.9961\n",
            "Epoch 66/100\n",
            "52/52 [==============================] - 0s 4ms/step - loss: 0.0089 - accuracy: 0.9961\n",
            "Epoch 67/100\n",
            "52/52 [==============================] - 0s 3ms/step - loss: 0.0096 - accuracy: 0.9941\n",
            "Epoch 68/100\n",
            "52/52 [==============================] - 0s 4ms/step - loss: 0.0200 - accuracy: 0.9961\n",
            "Epoch 69/100\n",
            "52/52 [==============================] - 0s 2ms/step - loss: 0.0099 - accuracy: 0.9961\n",
            "Epoch 70/100\n",
            "52/52 [==============================] - 0s 2ms/step - loss: 0.0089 - accuracy: 0.9961\n",
            "Epoch 71/100\n",
            "52/52 [==============================] - 0s 4ms/step - loss: 0.0083 - accuracy: 0.9961\n",
            "Epoch 72/100\n",
            "52/52 [==============================] - 0s 3ms/step - loss: 0.0129 - accuracy: 0.9980\n",
            "Epoch 73/100\n",
            "52/52 [==============================] - 0s 3ms/step - loss: 0.0130 - accuracy: 0.9961\n",
            "Epoch 74/100\n",
            "52/52 [==============================] - 0s 3ms/step - loss: 0.0189 - accuracy: 0.9902\n",
            "Epoch 75/100\n",
            "52/52 [==============================] - 0s 2ms/step - loss: 0.0120 - accuracy: 0.9961\n",
            "Epoch 76/100\n",
            "52/52 [==============================] - 0s 3ms/step - loss: 0.0078 - accuracy: 0.9961\n",
            "Epoch 77/100\n",
            "52/52 [==============================] - 0s 4ms/step - loss: 0.0023 - accuracy: 1.0000\n",
            "Epoch 78/100\n",
            "52/52 [==============================] - 0s 4ms/step - loss: 0.0061 - accuracy: 1.0000\n",
            "Epoch 79/100\n",
            "52/52 [==============================] - 0s 4ms/step - loss: 0.0108 - accuracy: 0.9980\n",
            "Epoch 80/100\n",
            "52/52 [==============================] - 0s 5ms/step - loss: 0.0077 - accuracy: 0.9980\n",
            "Epoch 81/100\n",
            "52/52 [==============================] - 0s 4ms/step - loss: 0.0032 - accuracy: 1.0000\n",
            "Epoch 82/100\n",
            "52/52 [==============================] - 0s 4ms/step - loss: 0.0044 - accuracy: 1.0000\n",
            "Epoch 83/100\n",
            "52/52 [==============================] - 0s 4ms/step - loss: 0.0085 - accuracy: 0.9961\n",
            "Epoch 84/100\n",
            "52/52 [==============================] - 0s 7ms/step - loss: 0.0120 - accuracy: 0.9961\n",
            "Epoch 85/100\n",
            "52/52 [==============================] - 0s 6ms/step - loss: 0.0100 - accuracy: 0.9980\n",
            "Epoch 86/100\n",
            "52/52 [==============================] - 0s 8ms/step - loss: 0.0061 - accuracy: 0.9980\n",
            "Epoch 87/100\n",
            "52/52 [==============================] - 0s 8ms/step - loss: 0.0048 - accuracy: 0.9980\n",
            "Epoch 88/100\n",
            "52/52 [==============================] - 0s 6ms/step - loss: 0.0168 - accuracy: 0.9922\n",
            "Epoch 89/100\n",
            "52/52 [==============================] - 0s 7ms/step - loss: 0.0041 - accuracy: 1.0000\n",
            "Epoch 90/100\n",
            "52/52 [==============================] - 0s 5ms/step - loss: 0.0069 - accuracy: 0.9961\n",
            "Epoch 91/100\n",
            "52/52 [==============================] - 0s 5ms/step - loss: 0.0044 - accuracy: 1.0000\n",
            "Epoch 92/100\n",
            "52/52 [==============================] - 0s 4ms/step - loss: 0.0102 - accuracy: 0.9961\n",
            "Epoch 93/100\n",
            "52/52 [==============================] - 0s 5ms/step - loss: 0.0065 - accuracy: 0.9980\n",
            "Epoch 94/100\n",
            "52/52 [==============================] - 0s 5ms/step - loss: 0.0041 - accuracy: 0.9980\n",
            "Epoch 95/100\n",
            "52/52 [==============================] - 0s 3ms/step - loss: 0.0115 - accuracy: 0.9961\n",
            "Epoch 96/100\n",
            "52/52 [==============================] - 0s 4ms/step - loss: 0.0024 - accuracy: 1.0000\n",
            "Epoch 97/100\n",
            "52/52 [==============================] - 0s 5ms/step - loss: 0.0055 - accuracy: 0.9980\n",
            "Epoch 98/100\n",
            "52/52 [==============================] - 0s 3ms/step - loss: 0.0022 - accuracy: 1.0000\n",
            "Epoch 99/100\n",
            "52/52 [==============================] - 0s 4ms/step - loss: 0.0051 - accuracy: 0.9980\n",
            "Epoch 100/100\n",
            "52/52 [==============================] - 0s 3ms/step - loss: 0.0081 - accuracy: 0.9961\n"
          ]
        },
        {
          "output_type": "execute_result",
          "data": {
            "text/plain": [
              "<keras.callbacks.History at 0x7f3011059050>"
            ]
          },
          "metadata": {},
          "execution_count": 81
        }
      ]
    },
    {
      "metadata": {
        "_uuid": "e700dd6d93bfc99f1fb10a1914c33764df95b79f",
        "_cell_guid": "91cb842e-c693-4ddc-938e-b25dd5fd8d64",
        "id": "OC-54IBHQzXi"
      },
      "cell_type": "markdown",
      "source": [
        "Batch size defines number of samples that going to be propagated through the network.\n",
        "\n",
        "An Epoch is a complete pass through all the training data."
      ]
    },
    {
      "metadata": {
        "_uuid": "2a668b12248656821e4797a95ed0a878a63d8ee1",
        "_cell_guid": "cc405d00-4e8c-4882-8251-d83d4b269895",
        "trusted": true,
        "colab": {
          "base_uri": "https://localhost:8080/"
        },
        "outputId": "42fa72b4-c5a6-434d-83f5-ed7ac31aad8e",
        "id": "ZTV1vQiwQzXi"
      },
      "cell_type": "code",
      "source": [
        "# Predicting the Test set results\n",
        "y_pred_e = classifier.predict(X_test)\n",
        "y_pred_e = (y_pred_e > 0.5)"
      ],
      "execution_count": 82,
      "outputs": [
        {
          "output_type": "stream",
          "name": "stdout",
          "text": [
            "2/2 [==============================] - 0s 6ms/step\n"
          ]
        }
      ]
    },
    {
      "metadata": {
        "_uuid": "b4c8343b16d7022ccb77f8e64f46e96ac5fbe41c",
        "_cell_guid": "22c127bd-8608-4d8e-909b-4b90b7e24fee",
        "trusted": true,
        "colab": {
          "base_uri": "https://localhost:8080/"
        },
        "outputId": "dcb82e9e-1181-4899-8666-f9a92b0fd82e",
        "id": "plvyFtQzQzXj"
      },
      "cell_type": "code",
      "source": [
        "cm_e = confusion_matrix(y_test, y_pred_e)\n",
        "cm_e"
      ],
      "execution_count": 83,
      "outputs": [
        {
          "output_type": "execute_result",
          "data": {
            "text/plain": [
              "array([[35,  0],\n",
              "       [ 0, 22]])"
            ]
          },
          "metadata": {},
          "execution_count": 83
        }
      ]
    },
    {
      "cell_type": "code",
      "source": [
        "sns.heatmap(cm_e,annot=True)\n",
        "plt.show"
      ],
      "metadata": {
        "colab": {
          "base_uri": "https://localhost:8080/",
          "height": 287
        },
        "outputId": "c7ea0c54-4929-4159-8103-a5e1272b5663",
        "id": "AEzTeOLyQzXj"
      },
      "execution_count": 84,
      "outputs": [
        {
          "output_type": "execute_result",
          "data": {
            "text/plain": [
              "<function matplotlib.pyplot.show(*args, **kw)>"
            ]
          },
          "metadata": {},
          "execution_count": 84
        },
        {
          "output_type": "display_data",
          "data": {
            "text/plain": [
              "<Figure size 432x288 with 2 Axes>"
            ],
            "image/png": "[encoded data removed]"
          },
          "metadata": {
            "needs_background": "light"
          }
        }
      ]
    },
    {
      "cell_type": "code",
      "source": [
        "# classification report\n",
        "\n",
        "print(classification_report(y_test, y_pred_e))"
      ],
      "metadata": {
        "colab": {
          "base_uri": "https://localhost:8080/"
        },
        "outputId": "465c8cba-b39b-4eed-eb3e-9604a916cb33",
        "id": "-FfeV4WEQzXj"
      },
      "execution_count": 85,
      "outputs": [
        {
          "output_type": "stream",
          "name": "stdout",
          "text": [
            "              precision    recall  f1-score   support\n",
            "\n",
            "           0       1.00      1.00      1.00        35\n",
            "           1       1.00      1.00      1.00        22\n",
            "\n",
            "    accuracy                           1.00        57\n",
            "   macro avg       1.00      1.00      1.00        57\n",
            "weighted avg       1.00      1.00      1.00        57\n",
            "\n"
          ]
        }
      ]
    },
    {
      "metadata": {
        "_uuid": "5ed1db854bfc4bc4fb49782e7adcaaf25fe9d41e",
        "_cell_guid": "2d631e23-de49-42ff-94e3-528f4131e97e",
        "trusted": true,
        "colab": {
          "base_uri": "https://localhost:8080/"
        },
        "outputId": "3a20238c-b661-472b-b4ca-8c9ea858876e",
        "id": "KEWL-I5wQzXj"
      },
      "cell_type": "code",
      "source": [
        "print(\"Our model's accuracy is {}%\".format(((cm_e[0][0] + cm_e[1][1])/57)*100))"
      ],
      "execution_count": 86,
      "outputs": [
        {
          "output_type": "stream",
          "name": "stdout",
          "text": [
            "Our model's accuracy is 100.0%\n"
          ]
        }
      ]
    },
    {
      "cell_type": "code",
      "source": [
        "y_pred_prob_e = np.array(list(map(predict_prob, classifier.predict(X_test))))\n",
        "y_pred_prob_e = np.argmax(y_pred_prob_e,axis=1)\n",
        "y_pred_prob_e"
      ],
      "metadata": {
        "colab": {
          "base_uri": "https://localhost:8080/"
        },
        "outputId": "e799509c-ab52-4cdd-f1cf-e7bdb4da9bf3",
        "id": "iMHJy6nIQzXj"
      },
      "execution_count": 87,
      "outputs": [
        {
          "output_type": "stream",
          "name": "stdout",
          "text": [
            "2/2 [==============================] - 0s 9ms/step\n"
          ]
        },
        {
          "output_type": "execute_result",
          "data": {
            "text/plain": [
              "array([0, 1, 1, 1, 1, 1, 1, 1, 1, 1, 1, 1, 1, 1, 1, 0, 1, 0, 0, 0, 0, 0,\n",
              "       1, 1, 0, 1, 1, 0, 1, 0, 1, 0, 1, 0, 1, 0, 1, 0, 1, 0, 0, 1, 0, 1,\n",
              "       1, 0, 1, 1, 1, 0, 0, 0, 0, 1, 1, 1, 1])"
            ]
          },
          "metadata": {},
          "execution_count": 87
        }
      ]
    },
    {
      "metadata": {
        "trusted": true,
        "_uuid": "837036fec6bd2c2ee831bd3232804b001e472678",
        "colab": {
          "base_uri": "https://localhost:8080/",
          "height": 295
        },
        "outputId": "25ccde87-2bb5-442b-a9f2-2ae06ab912ed",
        "id": "Ii6FUzSsQzXj"
      },
      "cell_type": "code",
      "source": [
        "%matplotlib inline\n",
        "fpr, tpr, thresholds = roc_curve(y_test, y_pred_prob_e)\n",
        "# create plot\n",
        "plt.plot(fpr, tpr, label='ROC curve')\n",
        "plt.plot([0, 1], [0, 1], 'k--', label='Random guess')\n",
        "_ = plt.xlabel('False Positive Rate')\n",
        "_ = plt.ylabel('True Positive Rate')\n",
        "_ = plt.title('ROC Curve')\n",
        "_ = plt.xlim([-0.02, 1])\n",
        "_ = plt.ylim([0, 1.02])\n",
        "_ = plt.legend(loc=\"lower right\")"
      ],
      "execution_count": 88,
      "outputs": [
        {
          "output_type": "display_data",
          "data": {
            "text/plain": [
              "<Figure size 432x288 with 1 Axes>"
            ],
            "image/png": "[encoded data removed]"
          },
          "metadata": {
            "needs_background": "light"
          }
        }
      ]
    },
    {
      "cell_type": "code",
      "source": [
        "roc_auc_score(y_test, y_pred_prob_e)"
      ],
      "metadata": {
        "colab": {
          "base_uri": "https://localhost:8080/"
        },
        "outputId": "f14614f1-d8b4-4249-e21c-4d8b3578b0cb",
        "id": "tDBhWa_mQzXj"
      },
      "execution_count": 89,
      "outputs": [
        {
          "output_type": "execute_result",
          "data": {
            "text/plain": [
              "0.0"
            ]
          },
          "metadata": {},
          "execution_count": 89
        }
      ]
    },
    {
      "cell_type": "markdown",
      "source": [
        "# Training New Model of Our Dataset into Train(70%) / Test data(30%)\n",
        "\n",
        "with batch_size=10 and epochs=100"
      ],
      "metadata": {
        "id": "wTWkNn_NSRs5"
      }
    },
    {
      "cell_type": "code",
      "source": [
        "train,test = train_test_split(data, test_size=0.3, random_state=42)\n",
        "print(\"Training Data :\",train.shape)\n",
        "print(\"Testing Data :\",test.shape)"
      ],
      "metadata": {
        "colab": {
          "base_uri": "https://localhost:8080/"
        },
        "id": "Xls7od2tSQ0c",
        "outputId": "ef9141fb-9938-4bd2-9fb9-2da63c943884"
      },
      "execution_count": 91,
      "outputs": [
        {
          "output_type": "stream",
          "name": "stdout",
          "text": [
            "Training Data : (398, 32)\n",
            "Testing Data : (171, 32)\n"
          ]
        }
      ]
    },
    {
      "cell_type": "code",
      "source": [
        "train_id = train['id']\n",
        "test_id = test['id']\n",
        "\n",
        "train_data = train.iloc[:,1:]\n",
        "test_data = test.iloc[:,1:]\n",
        "\n",
        "print(\"Training Data :\",train_data.shape)\n",
        "print(\"Testing Data :\",test_data.shape)"
      ],
      "metadata": {
        "colab": {
          "base_uri": "https://localhost:8080/"
        },
        "id": "VjkhRzccSni2",
        "outputId": "47b21877-9fe2-4e55-ccaf-fa3d5a567409"
      },
      "execution_count": 92,
      "outputs": [
        {
          "output_type": "stream",
          "name": "stdout",
          "text": [
            "Training Data : (398, 31)\n",
            "Testing Data : (171, 31)\n"
          ]
        }
      ]
    },
    {
      "cell_type": "code",
      "source": [
        "from sklearn.preprocessing import MinMaxScaler, Normalizer\n",
        "# Training Data\n",
        "train_x = train_data.iloc[:,1:]\n",
        "train_x = MinMaxScaler().fit_transform(train_x)\n",
        "print(\"Training Data :\", train_x.shape)\n",
        "\n",
        "# Testing Data\n",
        "test_x = test_data.iloc[:,1:]\n",
        "test_x = MinMaxScaler().fit_transform(test_x)\n",
        "print(\"Testing Data :\", test_x.shape)"
      ],
      "metadata": {
        "colab": {
          "base_uri": "https://localhost:8080/"
        },
        "id": "ObO7aNlMSt-k",
        "outputId": "130e1021-9660-4a3d-de14-1c9a5542d801"
      },
      "execution_count": 94,
      "outputs": [
        {
          "output_type": "stream",
          "name": "stdout",
          "text": [
            "Training Data : (398, 30)\n",
            "Testing Data : (171, 30)\n"
          ]
        }
      ]
    },
    {
      "cell_type": "code",
      "source": [
        "# Training Data\n",
        "train_y = train_data.iloc[:,:1]\n",
        "train_y[train_y=='M'] = 0\n",
        "train_y[train_y=='B'] = 1\n",
        "print(\"Training Data :\", train_y.shape)\n",
        "\n",
        "# Testing Data\n",
        "test_y = test_data.iloc[:,:1]\n",
        "test_y[test_y=='M'] = 0\n",
        "test_y[test_y=='B'] = 1\n",
        "print(\"Testing Data :\", test_y.shape)"
      ],
      "metadata": {
        "colab": {
          "base_uri": "https://localhost:8080/"
        },
        "id": "mRcNstFDS0S_",
        "outputId": "14ba9652-6810-4ee2-e0b1-036d86fb358f"
      },
      "execution_count": 96,
      "outputs": [
        {
          "output_type": "stream",
          "name": "stdout",
          "text": [
            "Training Data : (398, 1)\n",
            "Testing Data : (171, 1)\n"
          ]
        },
        {
          "output_type": "stream",
          "name": "stderr",
          "text": [
            "/usr/local/lib/python3.7/dist-packages/ipykernel_launcher.py:3: SettingWithCopyWarning: \n",
            "A value is trying to be set on a copy of a slice from a DataFrame.\n",
            "Try using .loc[row_indexer,col_indexer] = value instead\n",
            "\n",
            "See the caveats in the documentation: https://pandas.pydata.org/pandas-docs/stable/user_guide/indexing.html#returning-a-view-versus-a-copy\n",
            "  This is separate from the ipykernel package so we can avoid doing imports until\n",
            "/usr/local/lib/python3.7/dist-packages/ipykernel_launcher.py:4: SettingWithCopyWarning: \n",
            "A value is trying to be set on a copy of a slice from a DataFrame.\n",
            "Try using .loc[row_indexer,col_indexer] = value instead\n",
            "\n",
            "See the caveats in the documentation: https://pandas.pydata.org/pandas-docs/stable/user_guide/indexing.html#returning-a-view-versus-a-copy\n",
            "  after removing the cwd from sys.path.\n",
            "/usr/local/lib/python3.7/dist-packages/ipykernel_launcher.py:9: SettingWithCopyWarning: \n",
            "A value is trying to be set on a copy of a slice from a DataFrame.\n",
            "Try using .loc[row_indexer,col_indexer] = value instead\n",
            "\n",
            "See the caveats in the documentation: https://pandas.pydata.org/pandas-docs/stable/user_guide/indexing.html#returning-a-view-versus-a-copy\n",
            "  if __name__ == '__main__':\n",
            "/usr/local/lib/python3.7/dist-packages/ipykernel_launcher.py:10: SettingWithCopyWarning: \n",
            "A value is trying to be set on a copy of a slice from a DataFrame.\n",
            "Try using .loc[row_indexer,col_indexer] = value instead\n",
            "\n",
            "See the caveats in the documentation: https://pandas.pydata.org/pandas-docs/stable/user_guide/indexing.html#returning-a-view-versus-a-copy\n",
            "  # Remove the CWD from sys.path while we load stuff.\n"
          ]
        }
      ]
    },
    {
      "cell_type": "markdown",
      "source": [
        "We need to Convert a NumPy array to a Tensor"
      ],
      "metadata": {
        "id": "-5V3Ji68Toam"
      }
    },
    {
      "cell_type": "code",
      "source": [
        "train_x = np.asarray(train_x).astype(np.float32)\n",
        "train_y = np.asarray(train_y).astype(np.float32)\n",
        "test_x = np.asarray(test_x).astype(np.float32)\n",
        "test_y = np.asarray(test_y).astype(np.float32)"
      ],
      "metadata": {
        "id": "1AHOBCY5Tn6S"
      },
      "execution_count": 101,
      "outputs": []
    },
    {
      "cell_type": "code",
      "source": [
        "classifier.fit(train_x, train_y, batch_size=10, epochs=100)"
      ],
      "metadata": {
        "colab": {
          "base_uri": "https://localhost:8080/"
        },
        "id": "hTf3taeTS55c",
        "outputId": "b6991703-53f7-4cae-d436-475f9c572eb4"
      },
      "execution_count": 102,
      "outputs": [
        {
          "output_type": "stream",
          "name": "stdout",
          "text": [
            "Epoch 1/100\n",
            "40/40 [==============================] - 0s 2ms/step - loss: 0.0796 - accuracy: 0.9774\n",
            "Epoch 2/100\n",
            "40/40 [==============================] - 0s 2ms/step - loss: 0.1007 - accuracy: 0.9623\n",
            "Epoch 3/100\n",
            "40/40 [==============================] - 0s 2ms/step - loss: 0.1084 - accuracy: 0.9573\n",
            "Epoch 4/100\n",
            "40/40 [==============================] - 0s 2ms/step - loss: 0.0857 - accuracy: 0.9749\n",
            "Epoch 5/100\n",
            "40/40 [==============================] - 0s 2ms/step - loss: 0.0835 - accuracy: 0.9799\n",
            "Epoch 6/100\n",
            "40/40 [==============================] - 0s 2ms/step - loss: 0.0903 - accuracy: 0.9724\n",
            "Epoch 7/100\n",
            "40/40 [==============================] - 0s 2ms/step - loss: 0.0794 - accuracy: 0.9849\n",
            "Epoch 8/100\n",
            "40/40 [==============================] - 0s 2ms/step - loss: 0.0849 - accuracy: 0.9673\n",
            "Epoch 9/100\n",
            "40/40 [==============================] - 0s 2ms/step - loss: 0.0920 - accuracy: 0.9648\n",
            "Epoch 10/100\n",
            "40/40 [==============================] - 0s 2ms/step - loss: 0.0985 - accuracy: 0.9648\n",
            "Epoch 11/100\n",
            "40/40 [==============================] - 0s 2ms/step - loss: 0.0762 - accuracy: 0.9799\n",
            "Epoch 12/100\n",
            "40/40 [==============================] - 0s 2ms/step - loss: 0.0848 - accuracy: 0.9724\n",
            "Epoch 13/100\n",
            "40/40 [==============================] - 0s 2ms/step - loss: 0.0723 - accuracy: 0.9799\n",
            "Epoch 14/100\n",
            "40/40 [==============================] - 0s 2ms/step - loss: 0.0693 - accuracy: 0.9824\n",
            "Epoch 15/100\n",
            "40/40 [==============================] - 0s 2ms/step - loss: 0.0827 - accuracy: 0.9749\n",
            "Epoch 16/100\n",
            "40/40 [==============================] - 0s 2ms/step - loss: 0.0972 - accuracy: 0.9724\n",
            "Epoch 17/100\n",
            "40/40 [==============================] - 0s 2ms/step - loss: 0.0857 - accuracy: 0.9724\n",
            "Epoch 18/100\n",
            "40/40 [==============================] - 0s 2ms/step - loss: 0.0975 - accuracy: 0.9749\n",
            "Epoch 19/100\n",
            "40/40 [==============================] - 0s 2ms/step - loss: 0.0792 - accuracy: 0.9799\n",
            "Epoch 20/100\n",
            "40/40 [==============================] - 0s 2ms/step - loss: 0.0827 - accuracy: 0.9774\n",
            "Epoch 21/100\n",
            "40/40 [==============================] - 0s 2ms/step - loss: 0.0934 - accuracy: 0.9724\n",
            "Epoch 22/100\n",
            "40/40 [==============================] - 0s 2ms/step - loss: 0.0736 - accuracy: 0.9749\n",
            "Epoch 23/100\n",
            "40/40 [==============================] - 0s 2ms/step - loss: 0.0730 - accuracy: 0.9749\n",
            "Epoch 24/100\n",
            "40/40 [==============================] - 0s 2ms/step - loss: 0.0756 - accuracy: 0.9749\n",
            "Epoch 25/100\n",
            "40/40 [==============================] - 0s 2ms/step - loss: 0.0822 - accuracy: 0.9698\n",
            "Epoch 26/100\n",
            "40/40 [==============================] - 0s 2ms/step - loss: 0.1032 - accuracy: 0.9548\n",
            "Epoch 27/100\n",
            "40/40 [==============================] - 0s 2ms/step - loss: 0.0923 - accuracy: 0.9724\n",
            "Epoch 28/100\n",
            "40/40 [==============================] - 0s 2ms/step - loss: 0.0777 - accuracy: 0.9824\n",
            "Epoch 29/100\n",
            "40/40 [==============================] - 0s 2ms/step - loss: 0.0815 - accuracy: 0.9698\n",
            "Epoch 30/100\n",
            "40/40 [==============================] - 0s 2ms/step - loss: 0.0873 - accuracy: 0.9648\n",
            "Epoch 31/100\n",
            "40/40 [==============================] - 0s 2ms/step - loss: 0.0781 - accuracy: 0.9724\n",
            "Epoch 32/100\n",
            "40/40 [==============================] - 0s 2ms/step - loss: 0.0695 - accuracy: 0.9749\n",
            "Epoch 33/100\n",
            "40/40 [==============================] - 0s 2ms/step - loss: 0.0772 - accuracy: 0.9774\n",
            "Epoch 34/100\n",
            "40/40 [==============================] - 0s 2ms/step - loss: 0.0990 - accuracy: 0.9698\n",
            "Epoch 35/100\n",
            "40/40 [==============================] - 0s 2ms/step - loss: 0.0776 - accuracy: 0.9749\n",
            "Epoch 36/100\n",
            "40/40 [==============================] - 0s 2ms/step - loss: 0.0793 - accuracy: 0.9799\n",
            "Epoch 37/100\n",
            "40/40 [==============================] - 0s 2ms/step - loss: 0.0709 - accuracy: 0.9799\n",
            "Epoch 38/100\n",
            "40/40 [==============================] - 0s 2ms/step - loss: 0.0859 - accuracy: 0.9749\n",
            "Epoch 39/100\n",
            "40/40 [==============================] - 0s 2ms/step - loss: 0.0744 - accuracy: 0.9874\n",
            "Epoch 40/100\n",
            "40/40 [==============================] - 0s 2ms/step - loss: 0.0858 - accuracy: 0.9724\n",
            "Epoch 41/100\n",
            "40/40 [==============================] - 0s 2ms/step - loss: 0.0729 - accuracy: 0.9849\n",
            "Epoch 42/100\n",
            "40/40 [==============================] - 0s 2ms/step - loss: 0.0901 - accuracy: 0.9724\n",
            "Epoch 43/100\n",
            "40/40 [==============================] - 0s 2ms/step - loss: 0.0782 - accuracy: 0.9774\n",
            "Epoch 44/100\n",
            "40/40 [==============================] - 0s 2ms/step - loss: 0.0810 - accuracy: 0.9849\n",
            "Epoch 45/100\n",
            "40/40 [==============================] - 0s 2ms/step - loss: 0.0786 - accuracy: 0.9799\n",
            "Epoch 46/100\n",
            "40/40 [==============================] - 0s 2ms/step - loss: 0.0807 - accuracy: 0.9724\n",
            "Epoch 47/100\n",
            "40/40 [==============================] - 0s 2ms/step - loss: 0.0868 - accuracy: 0.9774\n",
            "Epoch 48/100\n",
            "40/40 [==============================] - 0s 2ms/step - loss: 0.0818 - accuracy: 0.9749\n",
            "Epoch 49/100\n",
            "40/40 [==============================] - 0s 2ms/step - loss: 0.0783 - accuracy: 0.9774\n",
            "Epoch 50/100\n",
            "40/40 [==============================] - 0s 2ms/step - loss: 0.0876 - accuracy: 0.9698\n",
            "Epoch 51/100\n",
            "40/40 [==============================] - 0s 2ms/step - loss: 0.0715 - accuracy: 0.9799\n",
            "Epoch 52/100\n",
            "40/40 [==============================] - 0s 2ms/step - loss: 0.0624 - accuracy: 0.9824\n",
            "Epoch 53/100\n",
            "40/40 [==============================] - 0s 2ms/step - loss: 0.0730 - accuracy: 0.9824\n",
            "Epoch 54/100\n",
            "40/40 [==============================] - 0s 2ms/step - loss: 0.0652 - accuracy: 0.9824\n",
            "Epoch 55/100\n",
            "40/40 [==============================] - 0s 2ms/step - loss: 0.0781 - accuracy: 0.9824\n",
            "Epoch 56/100\n",
            "40/40 [==============================] - 0s 2ms/step - loss: 0.0741 - accuracy: 0.9749\n",
            "Epoch 57/100\n",
            "40/40 [==============================] - 0s 2ms/step - loss: 0.0599 - accuracy: 0.9874\n",
            "Epoch 58/100\n",
            "40/40 [==============================] - 0s 2ms/step - loss: 0.0751 - accuracy: 0.9724\n",
            "Epoch 59/100\n",
            "40/40 [==============================] - 0s 2ms/step - loss: 0.0749 - accuracy: 0.9698\n",
            "Epoch 60/100\n",
            "40/40 [==============================] - 0s 2ms/step - loss: 0.0762 - accuracy: 0.9799\n",
            "Epoch 61/100\n",
            "40/40 [==============================] - 0s 2ms/step - loss: 0.0651 - accuracy: 0.9849\n",
            "Epoch 62/100\n",
            "40/40 [==============================] - 0s 2ms/step - loss: 0.0740 - accuracy: 0.9849\n",
            "Epoch 63/100\n",
            "40/40 [==============================] - 0s 2ms/step - loss: 0.0718 - accuracy: 0.9724\n",
            "Epoch 64/100\n",
            "40/40 [==============================] - 0s 2ms/step - loss: 0.0818 - accuracy: 0.9749\n",
            "Epoch 65/100\n",
            "40/40 [==============================] - 0s 2ms/step - loss: 0.0608 - accuracy: 0.9774\n",
            "Epoch 66/100\n",
            "40/40 [==============================] - 0s 2ms/step - loss: 0.0621 - accuracy: 0.9824\n",
            "Epoch 67/100\n",
            "40/40 [==============================] - 0s 2ms/step - loss: 0.0578 - accuracy: 0.9849\n",
            "Epoch 68/100\n",
            "40/40 [==============================] - 0s 2ms/step - loss: 0.0678 - accuracy: 0.9749\n",
            "Epoch 69/100\n",
            "40/40 [==============================] - 0s 2ms/step - loss: 0.0724 - accuracy: 0.9849\n",
            "Epoch 70/100\n",
            "40/40 [==============================] - 0s 2ms/step - loss: 0.0669 - accuracy: 0.9799\n",
            "Epoch 71/100\n",
            "40/40 [==============================] - 0s 2ms/step - loss: 0.0756 - accuracy: 0.9774\n",
            "Epoch 72/100\n",
            "40/40 [==============================] - 0s 2ms/step - loss: 0.0636 - accuracy: 0.9874\n",
            "Epoch 73/100\n",
            "40/40 [==============================] - 0s 2ms/step - loss: 0.0682 - accuracy: 0.9849\n",
            "Epoch 74/100\n",
            "40/40 [==============================] - 0s 2ms/step - loss: 0.0695 - accuracy: 0.9824\n",
            "Epoch 75/100\n",
            "40/40 [==============================] - 0s 2ms/step - loss: 0.0733 - accuracy: 0.9774\n",
            "Epoch 76/100\n",
            "40/40 [==============================] - 0s 2ms/step - loss: 0.0764 - accuracy: 0.9774\n",
            "Epoch 77/100\n",
            "40/40 [==============================] - 0s 2ms/step - loss: 0.0632 - accuracy: 0.9824\n",
            "Epoch 78/100\n",
            "40/40 [==============================] - 0s 2ms/step - loss: 0.0701 - accuracy: 0.9824\n",
            "Epoch 79/100\n",
            "40/40 [==============================] - 0s 2ms/step - loss: 0.0642 - accuracy: 0.9749\n",
            "Epoch 80/100\n",
            "40/40 [==============================] - 0s 2ms/step - loss: 0.0758 - accuracy: 0.9849\n",
            "Epoch 81/100\n",
            "40/40 [==============================] - 0s 2ms/step - loss: 0.0739 - accuracy: 0.9749\n",
            "Epoch 82/100\n",
            "40/40 [==============================] - 0s 2ms/step - loss: 0.0737 - accuracy: 0.9824\n",
            "Epoch 83/100\n",
            "40/40 [==============================] - 0s 2ms/step - loss: 0.0615 - accuracy: 0.9799\n",
            "Epoch 84/100\n",
            "40/40 [==============================] - 0s 2ms/step - loss: 0.0690 - accuracy: 0.9824\n",
            "Epoch 85/100\n",
            "40/40 [==============================] - 0s 2ms/step - loss: 0.0535 - accuracy: 0.9874\n",
            "Epoch 86/100\n",
            "40/40 [==============================] - 0s 2ms/step - loss: 0.0700 - accuracy: 0.9698\n",
            "Epoch 87/100\n",
            "40/40 [==============================] - 0s 2ms/step - loss: 0.0675 - accuracy: 0.9774\n",
            "Epoch 88/100\n",
            "40/40 [==============================] - 0s 2ms/step - loss: 0.0632 - accuracy: 0.9824\n",
            "Epoch 89/100\n",
            "40/40 [==============================] - 0s 2ms/step - loss: 0.0584 - accuracy: 0.9849\n",
            "Epoch 90/100\n",
            "40/40 [==============================] - 0s 2ms/step - loss: 0.0531 - accuracy: 0.9849\n",
            "Epoch 91/100\n",
            "40/40 [==============================] - 0s 2ms/step - loss: 0.0557 - accuracy: 0.9824\n",
            "Epoch 92/100\n",
            "40/40 [==============================] - 0s 2ms/step - loss: 0.0729 - accuracy: 0.9724\n",
            "Epoch 93/100\n",
            "40/40 [==============================] - 0s 2ms/step - loss: 0.0722 - accuracy: 0.9749\n",
            "Epoch 94/100\n",
            "40/40 [==============================] - 0s 2ms/step - loss: 0.0762 - accuracy: 0.9749\n",
            "Epoch 95/100\n",
            "40/40 [==============================] - 0s 2ms/step - loss: 0.0605 - accuracy: 0.9824\n",
            "Epoch 96/100\n",
            "40/40 [==============================] - 0s 2ms/step - loss: 0.0692 - accuracy: 0.9774\n",
            "Epoch 97/100\n",
            "40/40 [==============================] - 0s 2ms/step - loss: 0.0688 - accuracy: 0.9749\n",
            "Epoch 98/100\n",
            "40/40 [==============================] - 0s 2ms/step - loss: 0.0713 - accuracy: 0.9749\n",
            "Epoch 99/100\n",
            "40/40 [==============================] - 0s 2ms/step - loss: 0.0622 - accuracy: 0.9824\n",
            "Epoch 100/100\n",
            "40/40 [==============================] - 0s 2ms/step - loss: 0.0590 - accuracy: 0.9849\n"
          ]
        },
        {
          "output_type": "execute_result",
          "data": {
            "text/plain": [
              "<keras.callbacks.History at 0x7f301044c510>"
            ]
          },
          "metadata": {},
          "execution_count": 102
        }
      ]
    },
    {
      "cell_type": "code",
      "source": [
        "y_pred_d = classifier.predict(test_x)\n",
        "y_pred_d = (y_pred_d > 0.5)\n",
        "cm_d = confusion_matrix(test_y, y_pred_d)\n",
        "cm_d"
      ],
      "metadata": {
        "colab": {
          "base_uri": "https://localhost:8080/"
        },
        "id": "7w0qg6h-UA7F",
        "outputId": "b478223f-1e1f-4882-b044-df32f6394fc6"
      },
      "execution_count": 103,
      "outputs": [
        {
          "output_type": "stream",
          "name": "stdout",
          "text": [
            "6/6 [==============================] - 0s 2ms/step\n"
          ]
        },
        {
          "output_type": "execute_result",
          "data": {
            "text/plain": [
              "array([[63,  0],\n",
              "       [16, 92]])"
            ]
          },
          "metadata": {},
          "execution_count": 103
        }
      ]
    },
    {
      "cell_type": "code",
      "source": [
        "sns.heatmap(cm_d,annot=True)\n",
        "plt.show"
      ],
      "metadata": {
        "colab": {
          "base_uri": "https://localhost:8080/",
          "height": 283
        },
        "id": "EUNPd80nUhsU",
        "outputId": "826eda02-5ee1-483d-b9f7-04dc45253367"
      },
      "execution_count": 104,
      "outputs": [
        {
          "output_type": "execute_result",
          "data": {
            "text/plain": [
              "<function matplotlib.pyplot.show(*args, **kw)>"
            ]
          },
          "metadata": {},
          "execution_count": 104
        },
        {
          "output_type": "display_data",
          "data": {
            "text/plain": [
              "<Figure size 432x288 with 2 Axes>"
            ],
            "image/png": "[encoded data removed]"
          },
          "metadata": {
            "needs_background": "light"
          }
        }
      ]
    },
    {
      "cell_type": "code",
      "source": [
        "# classification report\n",
        "\n",
        "print(classification_report(test_y, y_pred_d))"
      ],
      "metadata": {
        "colab": {
          "base_uri": "https://localhost:8080/"
        },
        "id": "zLU6KqszUpT9",
        "outputId": "38e6fe14-7ded-4fc2-bf15-51e197d917ab"
      },
      "execution_count": 107,
      "outputs": [
        {
          "output_type": "stream",
          "name": "stdout",
          "text": [
            "              precision    recall  f1-score   support\n",
            "\n",
            "         0.0       0.80      1.00      0.89        63\n",
            "         1.0       1.00      0.85      0.92       108\n",
            "\n",
            "    accuracy                           0.91       171\n",
            "   macro avg       0.90      0.93      0.90       171\n",
            "weighted avg       0.93      0.91      0.91       171\n",
            "\n"
          ]
        }
      ]
    },
    {
      "cell_type": "code",
      "source": [
        "print(\"Our model's accuracy is {}%\".format(((cm_d[0][0] + cm_d[1][1])/171)*100))"
      ],
      "metadata": {
        "colab": {
          "base_uri": "https://localhost:8080/"
        },
        "id": "kKCbm3LkUtq4",
        "outputId": "9b6e18b6-c3e6-45ba-f87a-d2963cd1d2cc"
      },
      "execution_count": 111,
      "outputs": [
        {
          "output_type": "stream",
          "name": "stdout",
          "text": [
            "Our model's accuracy is 90.64327485380117%\n"
          ]
        }
      ]
    },
    {
      "cell_type": "code",
      "source": [
        "y_pred_prob_d = np.array(list(map(predict_prob, classifier.predict(test_x))))\n",
        "y_pred_prob_d = np.argmax(y_pred_prob_d,axis=1)\n",
        "y_pred_prob_d"
      ],
      "metadata": {
        "colab": {
          "base_uri": "https://localhost:8080/"
        },
        "id": "M1foCZrIYGbH",
        "outputId": "eb0a8536-2939-4214-c923-29a6955a8337"
      },
      "execution_count": 112,
      "outputs": [
        {
          "output_type": "stream",
          "name": "stdout",
          "text": [
            "6/6 [==============================] - 0s 2ms/step\n"
          ]
        },
        {
          "output_type": "execute_result",
          "data": {
            "text/plain": [
              "array([1, 1, 1, 0, 0, 1, 1, 1, 1, 0, 0, 1, 0, 1, 0, 1, 0, 0, 0, 1, 1, 0,\n",
              "       1, 0, 0, 0, 0, 0, 0, 1, 0, 0, 0, 0, 0, 0, 1, 0, 1, 1, 0, 1, 0, 0,\n",
              "       1, 0, 0, 0, 0, 0, 1, 1, 0, 0, 0, 0, 0, 1, 1, 0, 0, 1, 1, 0, 0, 0,\n",
              "       1, 1, 0, 0, 1, 1, 0, 1, 0, 0, 0, 1, 0, 0, 1, 0, 1, 1, 1, 1, 1, 1,\n",
              "       0, 0, 0, 1, 0, 0, 0, 0, 1, 1, 0, 1, 1, 0, 1, 1, 1, 1, 0, 1, 1, 1,\n",
              "       1, 0, 1, 1, 1, 1, 0, 0, 0, 1, 0, 0, 0, 1, 0, 1, 1, 0, 0, 1, 1, 1,\n",
              "       0, 0, 0, 1, 1, 1, 1, 1, 0, 1, 0, 0, 1, 0, 1, 1, 1, 0, 1, 0, 0, 1,\n",
              "       0, 1, 1, 0, 0, 0, 0, 0, 0, 0, 1, 0, 0, 1, 0, 1, 0])"
            ]
          },
          "metadata": {},
          "execution_count": 112
        }
      ]
    },
    {
      "cell_type": "code",
      "source": [
        "%matplotlib inline\n",
        "fpr, tpr, thresholds = roc_curve(test_y, y_pred_prob_d)\n",
        "# create plot\n",
        "plt.plot(fpr, tpr, label='ROC curve')\n",
        "plt.plot([0, 1], [0, 1], 'k--', label='Random guess')\n",
        "_ = plt.xlabel('False Positive Rate')\n",
        "_ = plt.ylabel('True Positive Rate')\n",
        "_ = plt.title('ROC Curve')\n",
        "_ = plt.xlim([-0.02, 1])\n",
        "_ = plt.ylim([0, 1.02])\n",
        "_ = plt.legend(loc=\"lower right\")"
      ],
      "metadata": {
        "colab": {
          "base_uri": "https://localhost:8080/",
          "height": 295
        },
        "id": "P-eTCG0hYTb_",
        "outputId": "1da67fbe-ab81-411e-e840-b473ce9dfff5"
      },
      "execution_count": 113,
      "outputs": [
        {
          "output_type": "display_data",
          "data": {
            "text/plain": [
              "<Figure size 432x288 with 1 Axes>"
            ],
            "image/png": "[encoded data removed]"
          },
          "metadata": {
            "needs_background": "light"
          }
        }
      ]
    },
    {
      "cell_type": "code",
      "source": [
        "roc_auc_score(test_y, y_pred_prob_d)"
      ],
      "metadata": {
        "colab": {
          "base_uri": "https://localhost:8080/"
        },
        "id": "4lwVQF3IYju6",
        "outputId": "0d25a1de-c823-4d26-fbea-c1653a7e06c5"
      },
      "execution_count": 115,
      "outputs": [
        {
          "output_type": "execute_result",
          "data": {
            "text/plain": [
              "0.07407407407407407"
            ]
          },
          "metadata": {},
          "execution_count": 115
        }
      ]
    }
  ],
  "metadata": {
    "language_info": {
      "name": "python",
      "version": "3.6.4",
      "mimetype": "text/x-python",
      "codemirror_mode": {
        "name": "ipython",
        "version": 3
      },
      "pygments_lexer": "ipython3",
      "nbconvert_exporter": "python",
      "file_extension": ".py"
    },
    "kernelspec": {
      "display_name": "Python 3",
      "language": "python",
      "name": "python3"
    },
    "colab": {
      "provenance": [],
      "collapsed_sections": [
        "ZNkT9EpbG1Lo",
        "WevbdvjcGjc8",
        "qsw4fvZ-Gjc-",
        "l-qSytfrOEYJ",
        "MM_OoK4DPg32",
        "Q6oaVkC1QNKY",
        "TUOXIGeQQzXd",
        "wTWkNn_NSRs5"
      ]
    }
  },
  "nbformat": 4,
  "nbformat_minor": 0
}