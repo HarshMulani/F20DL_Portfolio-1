{
  "cells": [
    {
      "cell_type": "code",
      "source": [
        "!wget https://www2.macs.hw.ac.uk/~js2001/data.csv --no-check-certificate"
      ],
      "metadata": {
        "colab": {
          "base_uri": "https://localhost:8080/"
        },
        "id": "ZDQpCY3dG5LY",
        "outputId": "b029aeca-91ee-48f3-d9d6-7980ee2ffe36"
      },
      "execution_count": 3,
      "outputs": [
        {
          "output_type": "stream",
          "name": "stdout",
          "text": [
            "--2022-11-14 21:46:52--  https://www2.macs.hw.ac.uk/~js2001/data.csv\n",
            "Resolving www2.macs.hw.ac.uk (www2.macs.hw.ac.uk)... 137.195.15.99\n",
            "Connecting to www2.macs.hw.ac.uk (www2.macs.hw.ac.uk)|137.195.15.99|:443... connected.\n",
            "WARNING: cannot verify www2.macs.hw.ac.uk's certificate, issued by ‘CN=GEANT OV RSA CA 4,O=GEANT Vereniging,C=NL’:\n",
            "  Unable to locally verify the issuer's authority.\n",
            "HTTP request sent, awaiting response... 200 OK\n",
            "Length: 125204 (122K) [text/csv]\n",
            "Saving to: ‘data.csv.1’\n",
            "\n",
            "data.csv.1          100%[===================>] 122.27K   414KB/s    in 0.3s    \n",
            "\n",
            "2022-11-14 21:46:53 (414 KB/s) - ‘data.csv.1’ saved [125204/125204]\n",
            "\n"
          ]
        }
      ]
    },
    {
      "metadata": {
        "_uuid": "e43e4e6f84cb95700e1d05f07f20fb740bcdfd31",
        "_cell_guid": "0de730e5-6631-4d4f-882e-4c34b4a0c37a",
        "id": "cRISxkE8Gjc7"
      },
      "cell_type": "markdown",
      "source": [
        "Attribute Information:\n",
        "\n",
        "All feature values are recoded with four significant digits.\n",
        "\n",
        "Missing attribute values: none\n",
        "\n",
        "Class distribution: 357 benign, 212 malignant"
      ]
    },
    {
      "metadata": {
        "_uuid": "6f747b567b4b89f9aaa48e503ddddabf214cb278",
        "_cell_guid": "466b1182-f052-4452-abb5-4fbe3cd92095",
        "trusted": true,
        "collapsed": true,
        "id": "tPLSHut4Gjc7"
      },
      "cell_type": "code",
      "source": [
        "# Importing libraries\n",
        "import pandas as pd\n",
        "import numpy as np\n",
        "import matplotlib.pyplot as plt\n",
        "import seaborn as sns\n",
        "\n",
        "# Importing data\n",
        "data = pd.read_csv('data.csv')\n",
        "del data['Unnamed: 32']"
      ],
      "execution_count": 4,
      "outputs": []
    },
    {
      "metadata": {
        "_uuid": "f6af18d53dcaabb44c49b50c13ba3dafe7bbae10",
        "_cell_guid": "962b3671-f704-438d-bd54-931767e877cf",
        "trusted": true,
        "collapsed": true,
        "id": "CnY6aBmWGjc8"
      },
      "cell_type": "code",
      "source": [
        "X = data.iloc[:, 2:].values\n",
        "y = data.iloc[:, 1].values\n",
        "\n",
        "# Encoding categorical data\n",
        "from sklearn.preprocessing import LabelEncoder\n",
        "labelencoder_X_1 = LabelEncoder()\n",
        "y = labelencoder_X_1.fit_transform(y)\n",
        "\n",
        "# Splitting the dataset into the Training set and Test set\n",
        "from sklearn.model_selection import train_test_split\n",
        "X_train, X_test, y_train, y_test = train_test_split(X, y, test_size = 0.1, random_state = 0)\n",
        "\n",
        "#Feature Scaling\n",
        "from sklearn.preprocessing import StandardScaler\n",
        "sc = StandardScaler()\n",
        "X_train = sc.fit_transform(X_train)\n",
        "X_test = sc.transform(X_test)"
      ],
      "execution_count": 5,
      "outputs": []
    },
    {
      "metadata": {
        "_uuid": "d9f057a42b57df5d2ad73b20fc6d81b5e33628e9",
        "_cell_guid": "a0d8f2ca-a51c-44e5-9399-345ec7f36509",
        "id": "WevbdvjcGjc8"
      },
      "cell_type": "markdown",
      "source": [
        "we will use Keras and its packages"
      ]
    },
    {
      "metadata": {
        "_uuid": "c01850e3c738b8a55146cce28e5f6fe82378032e",
        "_cell_guid": "51ab3d86-d1fd-40b6-a463-012e24a5c0a0",
        "trusted": true,
        "scrolled": false,
        "id": "5ILombVfGjc8"
      },
      "cell_type": "code",
      "source": [
        "import keras\n",
        "from keras.models import Sequential\n",
        "from keras.layers import Dense, Dropout"
      ],
      "execution_count": 6,
      "outputs": []
    },
    {
      "metadata": {
        "_uuid": "f07a3637824959ff96269ff3806b994c4f64d117",
        "_cell_guid": "5e19dee2-9602-42c9-bc3b-41d912e0aa1d",
        "trusted": true,
        "collapsed": true,
        "id": "ahLSoohqGjc9"
      },
      "cell_type": "code",
      "source": [
        "# Initialising the ANN\n",
        "classifier = Sequential()"
      ],
      "execution_count": 7,
      "outputs": []
    },
    {
      "metadata": {
        "_uuid": "cce53ac057db311d8221c027afe2d286bf0a5b51",
        "_cell_guid": "b1338309-a776-44b0-b04a-a8bdbf25d10e",
        "trusted": true,
        "id": "Dl2XIsh0Gjc9"
      },
      "cell_type": "code",
      "source": [
        "# Adding the input layer and the first hidden layer\n",
        "classifier.add(Dense(units=16, activation='relu', input_dim=30))\n",
        "# Adding dropout to prevent overfitting\n",
        "classifier.add(Dropout(0.1))"
      ],
      "execution_count": 23,
      "outputs": []
    },
    {
      "metadata": {
        "_uuid": "3d42817e7446a061dca811ea75ece45b15a4fdd9",
        "_cell_guid": "dd954d81-d773-4e90-aaa3-34d1dcb99e68",
        "id": "VbMyIjYvGjc9"
      },
      "cell_type": "markdown",
      "source": [
        "input_dim - number of columns of the dataset \n",
        "\n",
        "output_dim - number of outputs to be fed to the next layer, if any\n",
        "\n",
        "activation - activation function which is ReLU in this case\n",
        "\n",
        "init - the way in which weights should be provided to an ANN\n",
        " \n",
        "The **ReLU** function is f(x)=max(0,x). Usually this is applied element-wise to the output of some other function, such as a matrix-vector product. In MLP usages, rectifier units replace all other activation functions except perhaps the readout layer. But I suppose you could mix-and-match them if you'd like. One way ReLUs improve neural networks is by speeding up training. The gradient computation is very simple (either 0 or 1 depending on the sign of x). Also, the computational step of a ReLU is easy: any negative elements are set to 0.0 -- no exponentials, no multiplication or division operations. Gradients of logistic and hyperbolic tangent networks are smaller than the positive portion of the ReLU. This means that the positive portion is updated more rapidly as training progresses. However, this comes at a cost. The 0 gradient on the left-hand side is has its own problem, called \"dead neurons,\" in which a gradient update sets the incoming values to a ReLU such that the output is always zero; modified ReLU units such as ELU (or Leaky ReLU etc.) can minimize this. Source : [StackExchange](https://stats.stackexchange.com/questions/226923/why-do-we-use-relu-in-neural-networks-and-how-do-we-use-it)"
      ]
    },
    {
      "metadata": {
        "_uuid": "6105fb90265fdd6082648004657d55a43b187217",
        "_cell_guid": "7d6c2e16-5ffb-43b1-b238-c7434faa8808",
        "trusted": true,
        "id": "06Q8mdJQGjc9"
      },
      "cell_type": "code",
      "source": [
        "# Adding the second hidden layer\n",
        "classifier.add(Dense(units=16, activation='relu'))\n",
        "# Adding dropout to prevent overfitting\n",
        "classifier.add(Dropout(0.1))"
      ],
      "execution_count": 29,
      "outputs": []
    },
    {
      "metadata": {
        "_uuid": "ed51c97f1ea1a10af8bee99604de076b92cb2627",
        "_cell_guid": "628b8221-c76b-40bd-b5b9-b5aff04cbf31",
        "trusted": true,
        "id": "4d--vye-Gjc-"
      },
      "cell_type": "code",
      "source": [
        "# Adding the output layer\n",
        "classifier.add(Dense(units=1, activation='sigmoid'))"
      ],
      "execution_count": 30,
      "outputs": []
    },
    {
      "metadata": {
        "_uuid": "01ff691f323d264792730ae9d3af72a1e9106271",
        "collapsed": true,
        "_cell_guid": "9fc5ca11-edd6-4ddd-92b0-c5b6866abbec",
        "trusted": true,
        "id": "j_9O-ObzGjc-"
      },
      "cell_type": "code",
      "source": [
        "# Compiling the ANN\n",
        "classifier.compile(optimizer='adam', loss='binary_crossentropy', metrics=['accuracy'])"
      ],
      "execution_count": 31,
      "outputs": []
    },
    {
      "metadata": {
        "_uuid": "d198bbf1616b2bcd99d138f24559d0eff2a07d01",
        "_cell_guid": "6375e2f2-5cf5-42e4-a199-338dbc34a07a",
        "id": "qsw4fvZ-Gjc-"
      },
      "cell_type": "markdown",
      "source": [
        "Optimizer is chosen as adam for gradient descent.\n",
        "\n",
        "Binary_crossentropy is the loss function used. \n",
        "\n",
        "Cross-entropy loss, or log loss, measures the performance of a classification model whose output is a probability value between 0 and 1. Cross-entropy loss increases as the predicted probability diverges from the actual label. So predicting a probability of .012 when the actual observation label is 1 would be bad and result in a high loss value. A perfect model would have a log loss of 0. [More about this](http://ml-cheatsheet.readthedocs.io/en/latest/loss_functions.html)"
      ]
    },
    {
      "metadata": {
        "_uuid": "6e2d2d3f17102bc9c4e8f093c914c58412b28ee3",
        "trusted": true,
        "_cell_guid": "deb09534-714c-4fd2-bac5-d5dff9c474ef",
        "scrolled": true,
        "colab": {
          "base_uri": "https://localhost:8080/"
        },
        "id": "qYQmv8R9Gjc-",
        "outputId": "2eb2256b-bc38-4beb-f0c4-e759386b40f9"
      },
      "cell_type": "code",
      "source": [
        "# Fitting the ANN to the Training set\n",
        "classifier.fit(X_train, y_train, batch_size=100, epochs=150)\n",
        "# Long scroll ahead but worth\n",
        "# The batch size and number of epochs have been set using trial and error. Still looking for more efficient ways. Open to suggestions. "
      ],
      "execution_count": 34,
      "outputs": [
        {
          "output_type": "stream",
          "name": "stdout",
          "text": [
            "Epoch 1/150\n",
            "6/6 [==============================] - 0s 2ms/step - loss: 0.0030 - accuracy: 1.0000\n",
            "Epoch 2/150\n",
            "6/6 [==============================] - 0s 2ms/step - loss: 0.0023 - accuracy: 1.0000\n",
            "Epoch 3/150\n",
            "6/6 [==============================] - 0s 2ms/step - loss: 0.0032 - accuracy: 1.0000\n",
            "Epoch 4/150\n",
            "6/6 [==============================] - 0s 2ms/step - loss: 0.0042 - accuracy: 1.0000\n",
            "Epoch 5/150\n",
            "6/6 [==============================] - 0s 2ms/step - loss: 0.0023 - accuracy: 1.0000\n",
            "Epoch 6/150\n",
            "6/6 [==============================] - 0s 2ms/step - loss: 0.0021 - accuracy: 1.0000\n",
            "Epoch 7/150\n",
            "6/6 [==============================] - 0s 2ms/step - loss: 0.0019 - accuracy: 1.0000\n",
            "Epoch 8/150\n",
            "6/6 [==============================] - 0s 2ms/step - loss: 0.0011 - accuracy: 1.0000\n",
            "Epoch 9/150\n",
            "6/6 [==============================] - 0s 2ms/step - loss: 0.0023 - accuracy: 1.0000\n",
            "Epoch 10/150\n",
            "6/6 [==============================] - 0s 2ms/step - loss: 0.0011 - accuracy: 1.0000\n",
            "Epoch 11/150\n",
            "6/6 [==============================] - 0s 2ms/step - loss: 0.0010 - accuracy: 1.0000\n",
            "Epoch 12/150\n",
            "6/6 [==============================] - 0s 2ms/step - loss: 0.0015 - accuracy: 1.0000\n",
            "Epoch 13/150\n",
            "6/6 [==============================] - 0s 2ms/step - loss: 0.0011 - accuracy: 1.0000\n",
            "Epoch 14/150\n",
            "6/6 [==============================] - 0s 2ms/step - loss: 0.0019 - accuracy: 1.0000\n",
            "Epoch 15/150\n",
            "6/6 [==============================] - 0s 2ms/step - loss: 0.0019 - accuracy: 1.0000\n",
            "Epoch 16/150\n",
            "6/6 [==============================] - 0s 2ms/step - loss: 0.0017 - accuracy: 1.0000\n",
            "Epoch 17/150\n",
            "6/6 [==============================] - 0s 2ms/step - loss: 6.9892e-04 - accuracy: 1.0000\n",
            "Epoch 18/150\n",
            "6/6 [==============================] - 0s 2ms/step - loss: 0.0017 - accuracy: 1.0000\n",
            "Epoch 19/150\n",
            "6/6 [==============================] - 0s 2ms/step - loss: 0.0015 - accuracy: 1.0000\n",
            "Epoch 20/150\n",
            "6/6 [==============================] - 0s 2ms/step - loss: 0.0021 - accuracy: 1.0000\n",
            "Epoch 21/150\n",
            "6/6 [==============================] - 0s 2ms/step - loss: 5.0047e-04 - accuracy: 1.0000\n",
            "Epoch 22/150\n",
            "6/6 [==============================] - 0s 2ms/step - loss: 9.8322e-04 - accuracy: 1.0000\n",
            "Epoch 23/150\n",
            "6/6 [==============================] - 0s 2ms/step - loss: 8.5966e-04 - accuracy: 1.0000\n",
            "Epoch 24/150\n",
            "6/6 [==============================] - 0s 2ms/step - loss: 5.7068e-04 - accuracy: 1.0000\n",
            "Epoch 25/150\n",
            "6/6 [==============================] - 0s 2ms/step - loss: 9.6535e-04 - accuracy: 1.0000\n",
            "Epoch 26/150\n",
            "6/6 [==============================] - 0s 2ms/step - loss: 9.7941e-04 - accuracy: 1.0000\n",
            "Epoch 27/150\n",
            "6/6 [==============================] - 0s 2ms/step - loss: 9.9667e-04 - accuracy: 1.0000\n",
            "Epoch 28/150\n",
            "6/6 [==============================] - 0s 2ms/step - loss: 0.0017 - accuracy: 1.0000\n",
            "Epoch 29/150\n",
            "6/6 [==============================] - 0s 2ms/step - loss: 9.2011e-04 - accuracy: 1.0000\n",
            "Epoch 30/150\n",
            "6/6 [==============================] - 0s 4ms/step - loss: 0.0012 - accuracy: 1.0000\n",
            "Epoch 31/150\n",
            "6/6 [==============================] - 0s 4ms/step - loss: 0.0025 - accuracy: 1.0000\n",
            "Epoch 32/150\n",
            "6/6 [==============================] - 0s 2ms/step - loss: 6.8657e-04 - accuracy: 1.0000\n",
            "Epoch 33/150\n",
            "6/6 [==============================] - 0s 3ms/step - loss: 0.0016 - accuracy: 1.0000\n",
            "Epoch 34/150\n",
            "6/6 [==============================] - 0s 2ms/step - loss: 5.2592e-04 - accuracy: 1.0000\n",
            "Epoch 35/150\n",
            "6/6 [==============================] - 0s 2ms/step - loss: 7.9089e-04 - accuracy: 1.0000\n",
            "Epoch 36/150\n",
            "6/6 [==============================] - 0s 3ms/step - loss: 0.0019 - accuracy: 1.0000\n",
            "Epoch 37/150\n",
            "6/6 [==============================] - 0s 2ms/step - loss: 8.1677e-04 - accuracy: 1.0000\n",
            "Epoch 38/150\n",
            "6/6 [==============================] - 0s 2ms/step - loss: 4.0325e-04 - accuracy: 1.0000\n",
            "Epoch 39/150\n",
            "6/6 [==============================] - 0s 2ms/step - loss: 3.6895e-04 - accuracy: 1.0000\n",
            "Epoch 40/150\n",
            "6/6 [==============================] - 0s 2ms/step - loss: 8.2809e-04 - accuracy: 1.0000\n",
            "Epoch 41/150\n",
            "6/6 [==============================] - 0s 3ms/step - loss: 8.3624e-04 - accuracy: 1.0000\n",
            "Epoch 42/150\n",
            "6/6 [==============================] - 0s 2ms/step - loss: 6.9737e-04 - accuracy: 1.0000\n",
            "Epoch 43/150\n",
            "6/6 [==============================] - 0s 2ms/step - loss: 7.0323e-04 - accuracy: 1.0000\n",
            "Epoch 44/150\n",
            "6/6 [==============================] - 0s 2ms/step - loss: 4.2959e-04 - accuracy: 1.0000\n",
            "Epoch 45/150\n",
            "6/6 [==============================] - 0s 2ms/step - loss: 5.3749e-04 - accuracy: 1.0000\n",
            "Epoch 46/150\n",
            "6/6 [==============================] - 0s 2ms/step - loss: 0.0015 - accuracy: 1.0000\n",
            "Epoch 47/150\n",
            "6/6 [==============================] - 0s 2ms/step - loss: 4.6148e-04 - accuracy: 1.0000\n",
            "Epoch 48/150\n",
            "6/6 [==============================] - 0s 2ms/step - loss: 9.1996e-04 - accuracy: 1.0000\n",
            "Epoch 49/150\n",
            "6/6 [==============================] - 0s 3ms/step - loss: 0.0013 - accuracy: 1.0000\n",
            "Epoch 50/150\n",
            "6/6 [==============================] - 0s 2ms/step - loss: 7.4184e-04 - accuracy: 1.0000\n",
            "Epoch 51/150\n",
            "6/6 [==============================] - 0s 2ms/step - loss: 7.5716e-04 - accuracy: 1.0000\n",
            "Epoch 52/150\n",
            "6/6 [==============================] - 0s 4ms/step - loss: 3.7063e-04 - accuracy: 1.0000\n",
            "Epoch 53/150\n",
            "6/6 [==============================] - 0s 2ms/step - loss: 4.6562e-04 - accuracy: 1.0000\n",
            "Epoch 54/150\n",
            "6/6 [==============================] - 0s 3ms/step - loss: 6.1669e-04 - accuracy: 1.0000\n",
            "Epoch 55/150\n",
            "6/6 [==============================] - 0s 3ms/step - loss: 2.5378e-04 - accuracy: 1.0000\n",
            "Epoch 56/150\n",
            "6/6 [==============================] - 0s 2ms/step - loss: 5.3228e-04 - accuracy: 1.0000\n",
            "Epoch 57/150\n",
            "6/6 [==============================] - 0s 2ms/step - loss: 1.6146e-04 - accuracy: 1.0000\n",
            "Epoch 58/150\n",
            "6/6 [==============================] - 0s 3ms/step - loss: 5.5385e-04 - accuracy: 1.0000\n",
            "Epoch 59/150\n",
            "6/6 [==============================] - 0s 2ms/step - loss: 1.8140e-04 - accuracy: 1.0000\n",
            "Epoch 60/150\n",
            "6/6 [==============================] - 0s 2ms/step - loss: 5.2654e-04 - accuracy: 1.0000\n",
            "Epoch 61/150\n",
            "6/6 [==============================] - 0s 2ms/step - loss: 1.3955e-04 - accuracy: 1.0000\n",
            "Epoch 62/150\n",
            "6/6 [==============================] - 0s 2ms/step - loss: 9.7204e-04 - accuracy: 1.0000\n",
            "Epoch 63/150\n",
            "6/6 [==============================] - 0s 2ms/step - loss: 5.7046e-04 - accuracy: 1.0000\n",
            "Epoch 64/150\n",
            "6/6 [==============================] - 0s 2ms/step - loss: 3.0856e-04 - accuracy: 1.0000\n",
            "Epoch 65/150\n",
            "6/6 [==============================] - 0s 2ms/step - loss: 2.3074e-04 - accuracy: 1.0000\n",
            "Epoch 66/150\n",
            "6/6 [==============================] - 0s 2ms/step - loss: 4.0447e-04 - accuracy: 1.0000\n",
            "Epoch 67/150\n",
            "6/6 [==============================] - 0s 2ms/step - loss: 3.1449e-04 - accuracy: 1.0000\n",
            "Epoch 68/150\n",
            "6/6 [==============================] - 0s 2ms/step - loss: 6.5056e-04 - accuracy: 1.0000\n",
            "Epoch 69/150\n",
            "6/6 [==============================] - 0s 2ms/step - loss: 5.9183e-04 - accuracy: 1.0000\n",
            "Epoch 70/150\n",
            "6/6 [==============================] - 0s 2ms/step - loss: 1.9657e-04 - accuracy: 1.0000\n",
            "Epoch 71/150\n",
            "6/6 [==============================] - 0s 3ms/step - loss: 1.7343e-04 - accuracy: 1.0000\n",
            "Epoch 72/150\n",
            "6/6 [==============================] - 0s 2ms/step - loss: 2.3179e-04 - accuracy: 1.0000\n",
            "Epoch 73/150\n",
            "6/6 [==============================] - 0s 2ms/step - loss: 3.2737e-04 - accuracy: 1.0000\n",
            "Epoch 74/150\n",
            "6/6 [==============================] - 0s 2ms/step - loss: 3.3491e-04 - accuracy: 1.0000\n",
            "Epoch 75/150\n",
            "6/6 [==============================] - 0s 3ms/step - loss: 1.2923e-04 - accuracy: 1.0000\n",
            "Epoch 76/150\n",
            "6/6 [==============================] - 0s 3ms/step - loss: 2.8928e-04 - accuracy: 1.0000\n",
            "Epoch 77/150\n",
            "6/6 [==============================] - 0s 2ms/step - loss: 6.5572e-04 - accuracy: 1.0000\n",
            "Epoch 78/150\n",
            "6/6 [==============================] - 0s 3ms/step - loss: 2.8679e-04 - accuracy: 1.0000\n",
            "Epoch 79/150\n",
            "6/6 [==============================] - 0s 3ms/step - loss: 3.8466e-04 - accuracy: 1.0000\n",
            "Epoch 80/150\n",
            "6/6 [==============================] - 0s 3ms/step - loss: 7.6571e-04 - accuracy: 1.0000\n",
            "Epoch 81/150\n",
            "6/6 [==============================] - 0s 3ms/step - loss: 4.6910e-04 - accuracy: 1.0000\n",
            "Epoch 82/150\n",
            "6/6 [==============================] - 0s 3ms/step - loss: 7.7363e-04 - accuracy: 1.0000\n",
            "Epoch 83/150\n",
            "6/6 [==============================] - 0s 2ms/step - loss: 6.3055e-05 - accuracy: 1.0000\n",
            "Epoch 84/150\n",
            "6/6 [==============================] - 0s 2ms/step - loss: 6.9393e-04 - accuracy: 1.0000\n",
            "Epoch 85/150\n",
            "6/6 [==============================] - 0s 2ms/step - loss: 2.7721e-04 - accuracy: 1.0000\n",
            "Epoch 86/150\n",
            "6/6 [==============================] - 0s 2ms/step - loss: 8.5601e-05 - accuracy: 1.0000\n",
            "Epoch 87/150\n",
            "6/6 [==============================] - 0s 2ms/step - loss: 7.1249e-04 - accuracy: 1.0000\n",
            "Epoch 88/150\n",
            "6/6 [==============================] - 0s 2ms/step - loss: 2.7274e-04 - accuracy: 1.0000\n",
            "Epoch 89/150\n",
            "6/6 [==============================] - 0s 2ms/step - loss: 9.0422e-05 - accuracy: 1.0000\n",
            "Epoch 90/150\n",
            "6/6 [==============================] - 0s 2ms/step - loss: 4.7803e-04 - accuracy: 1.0000\n",
            "Epoch 91/150\n",
            "6/6 [==============================] - 0s 2ms/step - loss: 9.0987e-05 - accuracy: 1.0000\n",
            "Epoch 92/150\n",
            "6/6 [==============================] - 0s 2ms/step - loss: 3.2225e-04 - accuracy: 1.0000\n",
            "Epoch 93/150\n",
            "6/6 [==============================] - 0s 2ms/step - loss: 4.3228e-04 - accuracy: 1.0000\n",
            "Epoch 94/150\n",
            "6/6 [==============================] - 0s 2ms/step - loss: 2.3973e-04 - accuracy: 1.0000\n",
            "Epoch 95/150\n",
            "6/6 [==============================] - 0s 2ms/step - loss: 3.6395e-04 - accuracy: 1.0000\n",
            "Epoch 96/150\n",
            "6/6 [==============================] - 0s 2ms/step - loss: 1.8563e-04 - accuracy: 1.0000\n",
            "Epoch 97/150\n",
            "6/6 [==============================] - 0s 2ms/step - loss: 3.2026e-04 - accuracy: 1.0000\n",
            "Epoch 98/150\n",
            "6/6 [==============================] - 0s 2ms/step - loss: 1.2782e-04 - accuracy: 1.0000\n",
            "Epoch 99/150\n",
            "6/6 [==============================] - 0s 3ms/step - loss: 1.8576e-04 - accuracy: 1.0000\n",
            "Epoch 100/150\n",
            "6/6 [==============================] - 0s 2ms/step - loss: 4.2518e-05 - accuracy: 1.0000\n",
            "Epoch 101/150\n",
            "6/6 [==============================] - 0s 2ms/step - loss: 1.4213e-04 - accuracy: 1.0000\n",
            "Epoch 102/150\n",
            "6/6 [==============================] - 0s 2ms/step - loss: 1.5205e-04 - accuracy: 1.0000\n",
            "Epoch 103/150\n",
            "6/6 [==============================] - 0s 2ms/step - loss: 3.6480e-05 - accuracy: 1.0000\n",
            "Epoch 104/150\n",
            "6/6 [==============================] - 0s 2ms/step - loss: 9.0068e-05 - accuracy: 1.0000\n",
            "Epoch 105/150\n",
            "6/6 [==============================] - 0s 2ms/step - loss: 1.6360e-04 - accuracy: 1.0000\n",
            "Epoch 106/150\n",
            "6/6 [==============================] - 0s 2ms/step - loss: 4.4193e-04 - accuracy: 1.0000\n",
            "Epoch 107/150\n",
            "6/6 [==============================] - 0s 2ms/step - loss: 5.1070e-05 - accuracy: 1.0000\n",
            "Epoch 108/150\n",
            "6/6 [==============================] - 0s 2ms/step - loss: 1.5670e-04 - accuracy: 1.0000\n",
            "Epoch 109/150\n",
            "6/6 [==============================] - 0s 2ms/step - loss: 4.2204e-04 - accuracy: 1.0000\n",
            "Epoch 110/150\n",
            "6/6 [==============================] - 0s 2ms/step - loss: 9.5141e-05 - accuracy: 1.0000\n",
            "Epoch 111/150\n",
            "6/6 [==============================] - 0s 2ms/step - loss: 3.2266e-05 - accuracy: 1.0000\n",
            "Epoch 112/150\n",
            "6/6 [==============================] - 0s 2ms/step - loss: 3.9688e-04 - accuracy: 1.0000\n",
            "Epoch 113/150\n",
            "6/6 [==============================] - 0s 2ms/step - loss: 4.3018e-04 - accuracy: 1.0000\n",
            "Epoch 114/150\n",
            "6/6 [==============================] - 0s 2ms/step - loss: 4.0656e-04 - accuracy: 1.0000\n",
            "Epoch 115/150\n",
            "6/6 [==============================] - 0s 2ms/step - loss: 2.6262e-04 - accuracy: 1.0000\n",
            "Epoch 116/150\n",
            "6/6 [==============================] - 0s 2ms/step - loss: 8.8271e-05 - accuracy: 1.0000\n",
            "Epoch 117/150\n",
            "6/6 [==============================] - 0s 2ms/step - loss: 3.5392e-04 - accuracy: 1.0000\n",
            "Epoch 118/150\n",
            "6/6 [==============================] - 0s 2ms/step - loss: 2.5030e-05 - accuracy: 1.0000\n",
            "Epoch 119/150\n",
            "6/6 [==============================] - 0s 2ms/step - loss: 3.5788e-04 - accuracy: 1.0000\n",
            "Epoch 120/150\n",
            "6/6 [==============================] - 0s 2ms/step - loss: 4.7474e-04 - accuracy: 1.0000\n",
            "Epoch 121/150\n",
            "6/6 [==============================] - 0s 2ms/step - loss: 6.9983e-05 - accuracy: 1.0000\n",
            "Epoch 122/150\n",
            "6/6 [==============================] - 0s 2ms/step - loss: 6.2122e-05 - accuracy: 1.0000\n",
            "Epoch 123/150\n",
            "6/6 [==============================] - 0s 2ms/step - loss: 2.0965e-04 - accuracy: 1.0000\n",
            "Epoch 124/150\n",
            "6/6 [==============================] - 0s 2ms/step - loss: 6.7142e-05 - accuracy: 1.0000\n",
            "Epoch 125/150\n",
            "6/6 [==============================] - 0s 2ms/step - loss: 1.9668e-04 - accuracy: 1.0000\n",
            "Epoch 126/150\n",
            "6/6 [==============================] - 0s 2ms/step - loss: 1.0801e-04 - accuracy: 1.0000\n",
            "Epoch 127/150\n",
            "6/6 [==============================] - 0s 2ms/step - loss: 3.9587e-04 - accuracy: 1.0000\n",
            "Epoch 128/150\n",
            "6/6 [==============================] - 0s 2ms/step - loss: 7.0458e-05 - accuracy: 1.0000\n",
            "Epoch 129/150\n",
            "6/6 [==============================] - 0s 2ms/step - loss: 1.2958e-04 - accuracy: 1.0000\n",
            "Epoch 130/150\n",
            "6/6 [==============================] - 0s 2ms/step - loss: 1.4669e-05 - accuracy: 1.0000\n",
            "Epoch 131/150\n",
            "6/6 [==============================] - 0s 2ms/step - loss: 4.3201e-04 - accuracy: 1.0000\n",
            "Epoch 132/150\n",
            "6/6 [==============================] - 0s 3ms/step - loss: 7.3630e-05 - accuracy: 1.0000\n",
            "Epoch 133/150\n",
            "6/6 [==============================] - 0s 2ms/step - loss: 4.4500e-05 - accuracy: 1.0000\n",
            "Epoch 134/150\n",
            "6/6 [==============================] - 0s 2ms/step - loss: 3.3735e-04 - accuracy: 1.0000\n",
            "Epoch 135/150\n",
            "6/6 [==============================] - 0s 2ms/step - loss: 5.5014e-05 - accuracy: 1.0000\n",
            "Epoch 136/150\n",
            "6/6 [==============================] - 0s 2ms/step - loss: 3.9291e-05 - accuracy: 1.0000\n",
            "Epoch 137/150\n",
            "6/6 [==============================] - 0s 2ms/step - loss: 1.1860e-04 - accuracy: 1.0000\n",
            "Epoch 138/150\n",
            "6/6 [==============================] - 0s 3ms/step - loss: 3.2286e-05 - accuracy: 1.0000\n",
            "Epoch 139/150\n",
            "6/6 [==============================] - 0s 2ms/step - loss: 3.9299e-05 - accuracy: 1.0000\n",
            "Epoch 140/150\n",
            "6/6 [==============================] - 0s 3ms/step - loss: 4.6689e-05 - accuracy: 1.0000\n",
            "Epoch 141/150\n",
            "6/6 [==============================] - 0s 2ms/step - loss: 4.2848e-05 - accuracy: 1.0000\n",
            "Epoch 142/150\n",
            "6/6 [==============================] - 0s 2ms/step - loss: 3.0975e-05 - accuracy: 1.0000\n",
            "Epoch 143/150\n",
            "6/6 [==============================] - 0s 2ms/step - loss: 1.0278e-04 - accuracy: 1.0000\n",
            "Epoch 144/150\n",
            "6/6 [==============================] - 0s 2ms/step - loss: 5.6387e-05 - accuracy: 1.0000\n",
            "Epoch 145/150\n",
            "6/6 [==============================] - 0s 2ms/step - loss: 0.0013 - accuracy: 1.0000\n",
            "Epoch 146/150\n",
            "6/6 [==============================] - 0s 2ms/step - loss: 3.2596e-05 - accuracy: 1.0000\n",
            "Epoch 147/150\n",
            "6/6 [==============================] - 0s 3ms/step - loss: 0.0100 - accuracy: 0.9961\n",
            "Epoch 148/150\n",
            "6/6 [==============================] - 0s 3ms/step - loss: 0.0163 - accuracy: 0.9980\n",
            "Epoch 149/150\n",
            "6/6 [==============================] - 0s 2ms/step - loss: 0.0301 - accuracy: 0.9961\n",
            "Epoch 150/150\n",
            "6/6 [==============================] - 0s 2ms/step - loss: 0.0304 - accuracy: 0.9961\n"
          ]
        },
        {
          "output_type": "execute_result",
          "data": {
            "text/plain": [
              "<keras.callbacks.History at 0x7f3ad3d92d90>"
            ]
          },
          "metadata": {},
          "execution_count": 34
        }
      ]
    },
    {
      "metadata": {
        "_uuid": "e700dd6d93bfc99f1fb10a1914c33764df95b79f",
        "_cell_guid": "91cb842e-c693-4ddc-938e-b25dd5fd8d64",
        "id": "lDaGaz8RGjc_"
      },
      "cell_type": "markdown",
      "source": [
        "Batch size defines number of samples that going to be propagated through the network.\n",
        "\n",
        "An Epoch is a complete pass through all the training data."
      ]
    },
    {
      "metadata": {
        "_uuid": "2a668b12248656821e4797a95ed0a878a63d8ee1",
        "collapsed": true,
        "_cell_guid": "cc405d00-4e8c-4882-8251-d83d4b269895",
        "trusted": true,
        "colab": {
          "base_uri": "https://localhost:8080/"
        },
        "id": "hkwGoLOGGjc_",
        "outputId": "0ed0b0f8-8101-481c-f6cd-0a61e0b82727"
      },
      "cell_type": "code",
      "source": [
        "# Predicting the Test set results\n",
        "y_pred = classifier.predict(X_test)\n",
        "y_pred = (y_pred > 0.5)"
      ],
      "execution_count": 35,
      "outputs": [
        {
          "output_type": "stream",
          "name": "stdout",
          "text": [
            "2/2 [==============================] - 0s 4ms/step\n"
          ]
        }
      ]
    },
    {
      "metadata": {
        "_uuid": "b4c8343b16d7022ccb77f8e64f46e96ac5fbe41c",
        "collapsed": true,
        "_cell_guid": "22c127bd-8608-4d8e-909b-4b90b7e24fee",
        "trusted": true,
        "id": "XDVx1S0yGjc_"
      },
      "cell_type": "code",
      "source": [
        "# Making the Confusion Matrix\n",
        "from sklearn.metrics import confusion_matrix\n",
        "cm = confusion_matrix(y_test, y_pred)"
      ],
      "execution_count": 36,
      "outputs": []
    },
    {
      "metadata": {
        "_uuid": "5ed1db854bfc4bc4fb49782e7adcaaf25fe9d41e",
        "_cell_guid": "2d631e23-de49-42ff-94e3-528f4131e97e",
        "trusted": true,
        "colab": {
          "base_uri": "https://localhost:8080/"
        },
        "id": "TgRsHAjdGjc_",
        "outputId": "0aa98426-21a6-4ccc-b670-01f2a4991714"
      },
      "cell_type": "code",
      "source": [
        "print(\"Our accuracy is {}%\".format(((cm[0][0] + cm[1][1])/57)*100)) #??????? 100%???????"
      ],
      "execution_count": 37,
      "outputs": [
        {
          "output_type": "stream",
          "name": "stdout",
          "text": [
            "Our accuracy is 100.0%\n"
          ]
        }
      ]
    },
    {
      "metadata": {
        "trusted": true,
        "_uuid": "837036fec6bd2c2ee831bd3232804b001e472678",
        "colab": {
          "base_uri": "https://localhost:8080/",
          "height": 269
        },
        "id": "P_ZuokvoGjc_",
        "outputId": "f037217d-7ca8-40e2-e97a-49bbb5868a2f"
      },
      "cell_type": "code",
      "source": [
        "sns.heatmap(cm,annot=True)\n",
        "plt.savefig('h.png')"
      ],
      "execution_count": 38,
      "outputs": [
        {
          "output_type": "display_data",
          "data": {
            "text/plain": [
              "<Figure size 432x288 with 2 Axes>"
            ],
            "image/png": "[encoded data removed]"
          },
          "metadata": {
            "needs_background": "light"
          }
        }
      ]
    }
  ],
  "metadata": {
    "language_info": {
      "name": "python",
      "version": "3.6.4",
      "mimetype": "text/x-python",
      "codemirror_mode": {
        "name": "ipython",
        "version": 3
      },
      "pygments_lexer": "ipython3",
      "nbconvert_exporter": "python",
      "file_extension": ".py"
    },
    "kernelspec": {
      "display_name": "Python 3",
      "language": "python",
      "name": "python3"
    },
    "colab": {
      "provenance": [],
      "collapsed_sections": []
    }
  },
  "nbformat": 4,
  "nbformat_minor": 0
}