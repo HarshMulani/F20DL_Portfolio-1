{
  "cells": [
    {
      "cell_type": "code",
      "execution_count": null,
      "metadata": {
        "_cell_guid": "79c7e3d0-c299-4dcb-8224-4455121ee9b0",
        "_uuid": "d629ff2d2480ee46fbb7e2d37f6b5fab8052498a",
        "id": "sEwOL-l94m0m"
      },
      "outputs": [],
      "source": [
        "import numpy as np\n",
        "import pandas as pd\n",
        "from sklearn.model_selection import train_test_split\n",
        "\n",
        "# Model specific Library\n",
        "from sklearn.naive_bayes import GaussianNB\n",
        "from sklearn.naive_bayes import MultinomialNB\n",
        "from sklearn.naive_bayes import BernoulliNB\n",
        "from sklearn.naive_bayes import ComplementNB\n",
        "from sklearn.naive_bayes import CategoricalNB"
      ]
    },
    {
      "cell_type": "code",
      "execution_count": null,
      "metadata": {
        "id": "ep-4kWLk4m0n"
      },
      "outputs": [],
      "source": [
        "from sklearn.datasets import load_breast_cancer\n",
        "breast_cancer = load_breast_cancer()"
      ]
    },
    {
      "cell_type": "code",
      "execution_count": null,
      "metadata": {
        "id": "zA_LNyq44m0r"
      },
      "outputs": [],
      "source": [
        "df = pd.DataFrame(\n",
        "    np.c_[breast_cancer.data, breast_cancer.target], \n",
        "    columns = [list(breast_cancer.feature_names)+ ['target']]\n",
        "                 )"
      ]
    },
    {
      "cell_type": "code",
      "execution_count": null,
      "metadata": {
        "colab": {
          "base_uri": "https://localhost:8080/"
        },
        "id": "VNG9sTl84m0s",
        "outputId": "566deb75-b0c8-4e02-b1b5-70a8f384e299"
      },
      "outputs": [
        {
          "output_type": "execute_result",
          "data": {
            "text/plain": [
              "(569, 31)"
            ]
          },
          "metadata": {},
          "execution_count": 4
        }
      ],
      "source": [
        "df.shape"
      ]
    },
    {
      "cell_type": "code",
      "execution_count": null,
      "metadata": {
        "colab": {
          "base_uri": "https://localhost:8080/",
          "height": 428
        },
        "id": "coLoYbl54m0t",
        "outputId": "f7464142-bbeb-48fb-fc82-e446bc6e609c"
      },
      "outputs": [
        {
          "output_type": "execute_result",
          "data": {
            "text/plain": [
              "      mean radius mean texture mean perimeter    mean area mean smoothness  \\\n",
              "count  569.000000   569.000000     569.000000   569.000000      569.000000   \n",
              "mean    14.127292    19.289649      91.969033   654.889104        0.096360   \n",
              "std      3.524049     4.301036      24.298981   351.914129        0.014064   \n",
              "min      6.981000     9.710000      43.790000   143.500000        0.052630   \n",
              "25%     11.700000    16.170000      75.170000   420.300000        0.086370   \n",
              "50%     13.370000    18.840000      86.240000   551.100000        0.095870   \n",
              "75%     15.780000    21.800000     104.100000   782.700000        0.105300   \n",
              "max     28.110000    39.280000     188.500000  2501.000000        0.163400   \n",
              "\n",
              "      mean compactness mean concavity mean concave points mean symmetry  \\\n",
              "count       569.000000     569.000000          569.000000    569.000000   \n",
              "mean          0.104341       0.088799            0.048919      0.181162   \n",
              "std           0.052813       0.079720            0.038803      0.027414   \n",
              "min           0.019380       0.000000            0.000000      0.106000   \n",
              "25%           0.064920       0.029560            0.020310      0.161900   \n",
              "50%           0.092630       0.061540            0.033500      0.179200   \n",
              "75%           0.130400       0.130700            0.074000      0.195700   \n",
              "max           0.345400       0.426800            0.201200      0.304000   \n",
              "\n",
              "      mean fractal dimension  ... worst texture worst perimeter   worst area  \\\n",
              "count             569.000000  ...    569.000000      569.000000   569.000000   \n",
              "mean                0.062798  ...     25.677223      107.261213   880.583128   \n",
              "std                 0.007060  ...      6.146258       33.602542   569.356993   \n",
              "min                 0.049960  ...     12.020000       50.410000   185.200000   \n",
              "25%                 0.057700  ...     21.080000       84.110000   515.300000   \n",
              "50%                 0.061540  ...     25.410000       97.660000   686.500000   \n",
              "75%                 0.066120  ...     29.720000      125.400000  1084.000000   \n",
              "max                 0.097440  ...     49.540000      251.200000  4254.000000   \n",
              "\n",
              "      worst smoothness worst compactness worst concavity worst concave points  \\\n",
              "count       569.000000        569.000000      569.000000           569.000000   \n",
              "mean          0.132369          0.254265        0.272188             0.114606   \n",
              "std           0.022832          0.157336        0.208624             0.065732   \n",
              "min           0.071170          0.027290        0.000000             0.000000   \n",
              "25%           0.116600          0.147200        0.114500             0.064930   \n",
              "50%           0.131300          0.211900        0.226700             0.099930   \n",
              "75%           0.146000          0.339100        0.382900             0.161400   \n",
              "max           0.222600          1.058000        1.252000             0.291000   \n",
              "\n",
              "      worst symmetry worst fractal dimension      target  \n",
              "count     569.000000              569.000000  569.000000  \n",
              "mean        0.290076                0.083946    0.627417  \n",
              "std         0.061867                0.018061    0.483918  \n",
              "min         0.156500                0.055040    0.000000  \n",
              "25%         0.250400                0.071460    0.000000  \n",
              "50%         0.282200                0.080040    1.000000  \n",
              "75%         0.317900                0.092080    1.000000  \n",
              "max         0.663800                0.207500    1.000000  \n",
              "\n",
              "[8 rows x 31 columns]"
            ],
            "text/html": [
              "\n",
              "  <div id=\"df-d45caee0-2e42-4593-b803-264d57b4d011\">\n",
              "    <div class=\"colab-df-container\">\n",
              "      <div>\n",
              "<style scoped>\n",
              "    .dataframe tbody tr th:only-of-type {\n",
              "        vertical-align: middle;\n",
              "    }\n",
              "\n",
              "    .dataframe tbody tr th {\n",
              "        vertical-align: top;\n",
              "    }\n",
              "\n",
              "    .dataframe thead tr th {\n",
              "        text-align: left;\n",
              "    }\n",
              "</style>\n",
              "<table border=\"1\" class=\"dataframe\">\n",
              "  <thead>\n",
              "    <tr>\n",
              "      <th></th>\n",
              "      <th>mean radius</th>\n",
              "      <th>mean texture</th>\n",
              "      <th>mean perimeter</th>\n",
              "      <th>mean area</th>\n",
              "      <th>mean smoothness</th>\n",
              "      <th>mean compactness</th>\n",
              "      <th>mean concavity</th>\n",
              "      <th>mean concave points</th>\n",
              "      <th>mean symmetry</th>\n",
              "      <th>mean fractal dimension</th>\n",
              "      <th>...</th>\n",
              "      <th>worst texture</th>\n",
              "      <th>worst perimeter</th>\n",
              "      <th>worst area</th>\n",
              "      <th>worst smoothness</th>\n",
              "      <th>worst compactness</th>\n",
              "      <th>worst concavity</th>\n",
              "      <th>worst concave points</th>\n",
              "      <th>worst symmetry</th>\n",
              "      <th>worst fractal dimension</th>\n",
              "      <th>target</th>\n",
              "    </tr>\n",
              "  </thead>\n",
              "  <tbody>\n",
              "    <tr>\n",
              "      <th>count</th>\n",
              "      <td>569.000000</td>\n",
              "      <td>569.000000</td>\n",
              "      <td>569.000000</td>\n",
              "      <td>569.000000</td>\n",
              "      <td>569.000000</td>\n",
              "      <td>569.000000</td>\n",
              "      <td>569.000000</td>\n",
              "      <td>569.000000</td>\n",
              "      <td>569.000000</td>\n",
              "      <td>569.000000</td>\n",
              "      <td>...</td>\n",
              "      <td>569.000000</td>\n",
              "      <td>569.000000</td>\n",
              "      <td>569.000000</td>\n",
              "      <td>569.000000</td>\n",
              "      <td>569.000000</td>\n",
              "      <td>569.000000</td>\n",
              "      <td>569.000000</td>\n",
              "      <td>569.000000</td>\n",
              "      <td>569.000000</td>\n",
              "      <td>569.000000</td>\n",
              "    </tr>\n",
              "    <tr>\n",
              "      <th>mean</th>\n",
              "      <td>14.127292</td>\n",
              "      <td>19.289649</td>\n",
              "      <td>91.969033</td>\n",
              "      <td>654.889104</td>\n",
              "      <td>0.096360</td>\n",
              "      <td>0.104341</td>\n",
              "      <td>0.088799</td>\n",
              "      <td>0.048919</td>\n",
              "      <td>0.181162</td>\n",
              "      <td>0.062798</td>\n",
              "      <td>...</td>\n",
              "      <td>25.677223</td>\n",
              "      <td>107.261213</td>\n",
              "      <td>880.583128</td>\n",
              "      <td>0.132369</td>\n",
              "      <td>0.254265</td>\n",
              "      <td>0.272188</td>\n",
              "      <td>0.114606</td>\n",
              "      <td>0.290076</td>\n",
              "      <td>0.083946</td>\n",
              "      <td>0.627417</td>\n",
              "    </tr>\n",
              "    <tr>\n",
              "      <th>std</th>\n",
              "      <td>3.524049</td>\n",
              "      <td>4.301036</td>\n",
              "      <td>24.298981</td>\n",
              "      <td>351.914129</td>\n",
              "      <td>0.014064</td>\n",
              "      <td>0.052813</td>\n",
              "      <td>0.079720</td>\n",
              "      <td>0.038803</td>\n",
              "      <td>0.027414</td>\n",
              "      <td>0.007060</td>\n",
              "      <td>...</td>\n",
              "      <td>6.146258</td>\n",
              "      <td>33.602542</td>\n",
              "      <td>569.356993</td>\n",
              "      <td>0.022832</td>\n",
              "      <td>0.157336</td>\n",
              "      <td>0.208624</td>\n",
              "      <td>0.065732</td>\n",
              "      <td>0.061867</td>\n",
              "      <td>0.018061</td>\n",
              "      <td>0.483918</td>\n",
              "    </tr>\n",
              "    <tr>\n",
              "      <th>min</th>\n",
              "      <td>6.981000</td>\n",
              "      <td>9.710000</td>\n",
              "      <td>43.790000</td>\n",
              "      <td>143.500000</td>\n",
              "      <td>0.052630</td>\n",
              "      <td>0.019380</td>\n",
              "      <td>0.000000</td>\n",
              "      <td>0.000000</td>\n",
              "      <td>0.106000</td>\n",
              "      <td>0.049960</td>\n",
              "      <td>...</td>\n",
              "      <td>12.020000</td>\n",
              "      <td>50.410000</td>\n",
              "      <td>185.200000</td>\n",
              "      <td>0.071170</td>\n",
              "      <td>0.027290</td>\n",
              "      <td>0.000000</td>\n",
              "      <td>0.000000</td>\n",
              "      <td>0.156500</td>\n",
              "      <td>0.055040</td>\n",
              "      <td>0.000000</td>\n",
              "    </tr>\n",
              "    <tr>\n",
              "      <th>25%</th>\n",
              "      <td>11.700000</td>\n",
              "      <td>16.170000</td>\n",
              "      <td>75.170000</td>\n",
              "      <td>420.300000</td>\n",
              "      <td>0.086370</td>\n",
              "      <td>0.064920</td>\n",
              "      <td>0.029560</td>\n",
              "      <td>0.020310</td>\n",
              "      <td>0.161900</td>\n",
              "      <td>0.057700</td>\n",
              "      <td>...</td>\n",
              "      <td>21.080000</td>\n",
              "      <td>84.110000</td>\n",
              "      <td>515.300000</td>\n",
              "      <td>0.116600</td>\n",
              "      <td>0.147200</td>\n",
              "      <td>0.114500</td>\n",
              "      <td>0.064930</td>\n",
              "      <td>0.250400</td>\n",
              "      <td>0.071460</td>\n",
              "      <td>0.000000</td>\n",
              "    </tr>\n",
              "    <tr>\n",
              "      <th>50%</th>\n",
              "      <td>13.370000</td>\n",
              "      <td>18.840000</td>\n",
              "      <td>86.240000</td>\n",
              "      <td>551.100000</td>\n",
              "      <td>0.095870</td>\n",
              "      <td>0.092630</td>\n",
              "      <td>0.061540</td>\n",
              "      <td>0.033500</td>\n",
              "      <td>0.179200</td>\n",
              "      <td>0.061540</td>\n",
              "      <td>...</td>\n",
              "      <td>25.410000</td>\n",
              "      <td>97.660000</td>\n",
              "      <td>686.500000</td>\n",
              "      <td>0.131300</td>\n",
              "      <td>0.211900</td>\n",
              "      <td>0.226700</td>\n",
              "      <td>0.099930</td>\n",
              "      <td>0.282200</td>\n",
              "      <td>0.080040</td>\n",
              "      <td>1.000000</td>\n",
              "    </tr>\n",
              "    <tr>\n",
              "      <th>75%</th>\n",
              "      <td>15.780000</td>\n",
              "      <td>21.800000</td>\n",
              "      <td>104.100000</td>\n",
              "      <td>782.700000</td>\n",
              "      <td>0.105300</td>\n",
              "      <td>0.130400</td>\n",
              "      <td>0.130700</td>\n",
              "      <td>0.074000</td>\n",
              "      <td>0.195700</td>\n",
              "      <td>0.066120</td>\n",
              "      <td>...</td>\n",
              "      <td>29.720000</td>\n",
              "      <td>125.400000</td>\n",
              "      <td>1084.000000</td>\n",
              "      <td>0.146000</td>\n",
              "      <td>0.339100</td>\n",
              "      <td>0.382900</td>\n",
              "      <td>0.161400</td>\n",
              "      <td>0.317900</td>\n",
              "      <td>0.092080</td>\n",
              "      <td>1.000000</td>\n",
              "    </tr>\n",
              "    <tr>\n",
              "      <th>max</th>\n",
              "      <td>28.110000</td>\n",
              "      <td>39.280000</td>\n",
              "      <td>188.500000</td>\n",
              "      <td>2501.000000</td>\n",
              "      <td>0.163400</td>\n",
              "      <td>0.345400</td>\n",
              "      <td>0.426800</td>\n",
              "      <td>0.201200</td>\n",
              "      <td>0.304000</td>\n",
              "      <td>0.097440</td>\n",
              "      <td>...</td>\n",
              "      <td>49.540000</td>\n",
              "      <td>251.200000</td>\n",
              "      <td>4254.000000</td>\n",
              "      <td>0.222600</td>\n",
              "      <td>1.058000</td>\n",
              "      <td>1.252000</td>\n",
              "      <td>0.291000</td>\n",
              "      <td>0.663800</td>\n",
              "      <td>0.207500</td>\n",
              "      <td>1.000000</td>\n",
              "    </tr>\n",
              "  </tbody>\n",
              "</table>\n",
              "<p>8 rows × 31 columns</p>\n",
              "</div>\n",
              "      <button class=\"colab-df-convert\" onclick=\"convertToInteractive('df-d45caee0-2e42-4593-b803-264d57b4d011')\"\n",
              "              title=\"Convert this dataframe to an interactive table.\"\n",
              "              style=\"display:none;\">\n",
              "        \n",
              "  <svg xmlns=\"http://www.w3.org/2000/svg\" height=\"24px\"viewBox=\"0 0 24 24\"\n",
              "       width=\"24px\">\n",
              "    <path d=\"M0 0h24v24H0V0z\" fill=\"none\"/>\n",
              "    <path d=\"M18.56 5.44l.94 2.06.94-2.06 2.06-.94-2.06-.94-.94-2.06-.94 2.06-2.06.94zm-11 1L8.5 8.5l.94-2.06 2.06-.94-2.06-.94L8.5 2.5l-.94 2.06-2.06.94zm10 10l.94 2.06.94-2.06 2.06-.94-2.06-.94-.94-2.06-.94 2.06-2.06.94z\"/><path d=\"M17.41 7.96l-1.37-1.37c-.4-.4-.92-.59-1.43-.59-.52 0-1.04.2-1.43.59L10.3 9.45l-7.72 7.72c-.78.78-.78 2.05 0 2.83L4 21.41c.39.39.9.59 1.41.59.51 0 1.02-.2 1.41-.59l7.78-7.78 2.81-2.81c.8-.78.8-2.07 0-2.86zM5.41 20L4 18.59l7.72-7.72 1.47 1.35L5.41 20z\"/>\n",
              "  </svg>\n",
              "      </button>\n",
              "      \n",
              "  <style>\n",
              "    .colab-df-container {\n",
              "      display:flex;\n",
              "      flex-wrap:wrap;\n",
              "      gap: 12px;\n",
              "    }\n",
              "\n",
              "    .colab-df-convert {\n",
              "      background-color: #E8F0FE;\n",
              "      border: none;\n",
              "      border-radius: 50%;\n",
              "      cursor: pointer;\n",
              "      display: none;\n",
              "      fill: #1967D2;\n",
              "      height: 32px;\n",
              "      padding: 0 0 0 0;\n",
              "      width: 32px;\n",
              "    }\n",
              "\n",
              "    .colab-df-convert:hover {\n",
              "      background-color: #E2EBFA;\n",
              "      box-shadow: 0px 1px 2px rgba(60, 64, 67, 0.3), 0px 1px 3px 1px rgba(60, 64, 67, 0.15);\n",
              "      fill: #174EA6;\n",
              "    }\n",
              "\n",
              "    [theme=dark] .colab-df-convert {\n",
              "      background-color: #3B4455;\n",
              "      fill: #D2E3FC;\n",
              "    }\n",
              "\n",
              "    [theme=dark] .colab-df-convert:hover {\n",
              "      background-color: #434B5C;\n",
              "      box-shadow: 0px 1px 3px 1px rgba(0, 0, 0, 0.15);\n",
              "      filter: drop-shadow(0px 1px 2px rgba(0, 0, 0, 0.3));\n",
              "      fill: #FFFFFF;\n",
              "    }\n",
              "  </style>\n",
              "\n",
              "      <script>\n",
              "        const buttonEl =\n",
              "          document.querySelector('#df-d45caee0-2e42-4593-b803-264d57b4d011 button.colab-df-convert');\n",
              "        buttonEl.style.display =\n",
              "          google.colab.kernel.accessAllowed ? 'block' : 'none';\n",
              "\n",
              "        async function convertToInteractive(key) {\n",
              "          const element = document.querySelector('#df-d45caee0-2e42-4593-b803-264d57b4d011');\n",
              "          const dataTable =\n",
              "            await google.colab.kernel.invokeFunction('convertToInteractive',\n",
              "                                                     [key], {});\n",
              "          if (!dataTable) return;\n",
              "\n",
              "          const docLinkHtml = 'Like what you see? Visit the ' +\n",
              "            '<a target=\"_blank\" href=https://colab.research.google.com/notebooks/data_table.ipynb>data table notebook</a>'\n",
              "            + ' to learn more about interactive tables.';\n",
              "          element.innerHTML = '';\n",
              "          dataTable['output_type'] = 'display_data';\n",
              "          await google.colab.output.renderOutput(dataTable, element);\n",
              "          const docLink = document.createElement('div');\n",
              "          docLink.innerHTML = docLinkHtml;\n",
              "          element.appendChild(docLink);\n",
              "        }\n",
              "      </script>\n",
              "    </div>\n",
              "  </div>\n",
              "  "
            ]
          },
          "metadata": {},
          "execution_count": 5
        }
      ],
      "source": [
        "df.describe()"
      ]
    },
    {
      "cell_type": "code",
      "execution_count": null,
      "metadata": {
        "colab": {
          "base_uri": "https://localhost:8080/"
        },
        "id": "Xx1P-vO04m0t",
        "outputId": "b74fc79c-e89c-4a3d-b083-5c0d2344a54e"
      },
      "outputs": [
        {
          "output_type": "stream",
          "name": "stdout",
          "text": [
            "<class 'pandas.core.frame.DataFrame'>\n",
            "RangeIndex: 569 entries, 0 to 568\n",
            "Data columns (total 31 columns):\n",
            " #   Column                      Non-Null Count  Dtype  \n",
            "---  ------                      --------------  -----  \n",
            " 0   (mean radius,)              569 non-null    float64\n",
            " 1   (mean texture,)             569 non-null    float64\n",
            " 2   (mean perimeter,)           569 non-null    float64\n",
            " 3   (mean area,)                569 non-null    float64\n",
            " 4   (mean smoothness,)          569 non-null    float64\n",
            " 5   (mean compactness,)         569 non-null    float64\n",
            " 6   (mean concavity,)           569 non-null    float64\n",
            " 7   (mean concave points,)      569 non-null    float64\n",
            " 8   (mean symmetry,)            569 non-null    float64\n",
            " 9   (mean fractal dimension,)   569 non-null    float64\n",
            " 10  (radius error,)             569 non-null    float64\n",
            " 11  (texture error,)            569 non-null    float64\n",
            " 12  (perimeter error,)          569 non-null    float64\n",
            " 13  (area error,)               569 non-null    float64\n",
            " 14  (smoothness error,)         569 non-null    float64\n",
            " 15  (compactness error,)        569 non-null    float64\n",
            " 16  (concavity error,)          569 non-null    float64\n",
            " 17  (concave points error,)     569 non-null    float64\n",
            " 18  (symmetry error,)           569 non-null    float64\n",
            " 19  (fractal dimension error,)  569 non-null    float64\n",
            " 20  (worst radius,)             569 non-null    float64\n",
            " 21  (worst texture,)            569 non-null    float64\n",
            " 22  (worst perimeter,)          569 non-null    float64\n",
            " 23  (worst area,)               569 non-null    float64\n",
            " 24  (worst smoothness,)         569 non-null    float64\n",
            " 25  (worst compactness,)        569 non-null    float64\n",
            " 26  (worst concavity,)          569 non-null    float64\n",
            " 27  (worst concave points,)     569 non-null    float64\n",
            " 28  (worst symmetry,)           569 non-null    float64\n",
            " 29  (worst fractal dimension,)  569 non-null    float64\n",
            " 30  (target,)                   569 non-null    float64\n",
            "dtypes: float64(31)\n",
            "memory usage: 137.9 KB\n"
          ]
        }
      ],
      "source": [
        "df.info()"
      ]
    },
    {
      "cell_type": "markdown",
      "metadata": {
        "id": "Sf3gvvjL4m0u"
      },
      "source": [
        "# Split the data into X and y"
      ]
    },
    {
      "cell_type": "code",
      "execution_count": null,
      "metadata": {
        "id": "X3XZsbGh4m0u"
      },
      "outputs": [],
      "source": [
        "X = df.iloc[:, 0:-1]\n",
        "y = df.iloc[:,-1]"
      ]
    },
    {
      "cell_type": "code",
      "execution_count": null,
      "metadata": {
        "colab": {
          "base_uri": "https://localhost:8080/"
        },
        "id": "KlpOw5PW4m0u",
        "outputId": "c5b002df-9622-4c5d-e2a9-f1d0c1ef752f"
      },
      "outputs": [
        {
          "output_type": "execute_result",
          "data": {
            "text/plain": [
              "((569, 30), (569,))"
            ]
          },
          "metadata": {},
          "execution_count": 8
        }
      ],
      "source": [
        "X.shape, y.shape"
      ]
    },
    {
      "cell_type": "code",
      "execution_count": null,
      "metadata": {
        "id": "NZOhUBBt4m0u"
      },
      "outputs": [],
      "source": [
        "X_train, X_val, y_train, y_val = train_test_split(X, y, test_size = 0.2, random_state = 999)"
      ]
    },
    {
      "cell_type": "code",
      "execution_count": null,
      "metadata": {
        "colab": {
          "base_uri": "https://localhost:8080/"
        },
        "id": "rQEpBYI94m0u",
        "outputId": "4248d6b7-c130-4bfd-cdcf-f227481eea28"
      },
      "outputs": [
        {
          "output_type": "execute_result",
          "data": {
            "text/plain": [
              "((455, 30), (455,), (114, 30), (114,))"
            ]
          },
          "metadata": {},
          "execution_count": 10
        }
      ],
      "source": [
        "X_train.shape, y_train.shape, X_val.shape, y_val.shape"
      ]
    },
    {
      "cell_type": "markdown",
      "metadata": {
        "id": "I3cakCEe4m0v"
      },
      "source": [
        "## Gaussian Naive Bayes"
      ]
    },
    {
      "cell_type": "code",
      "execution_count": null,
      "metadata": {
        "colab": {
          "base_uri": "https://localhost:8080/"
        },
        "id": "nydnwgri4m0v",
        "outputId": "7a5e0f75-96fb-431b-b55e-45aa4e07892d"
      },
      "outputs": [
        {
          "output_type": "stream",
          "name": "stderr",
          "text": [
            "/usr/local/lib/python3.7/dist-packages/sklearn/utils/validation.py:1692: FutureWarning: Feature names only support names that are all strings. Got feature names with dtypes: ['tuple']. An error will be raised in 1.2.\n",
            "  FutureWarning,\n",
            "/usr/local/lib/python3.7/dist-packages/sklearn/utils/validation.py:1692: FutureWarning: Feature names only support names that are all strings. Got feature names with dtypes: ['tuple']. An error will be raised in 1.2.\n",
            "  FutureWarning,\n"
          ]
        },
        {
          "output_type": "execute_result",
          "data": {
            "text/plain": [
              "0.9210526315789473"
            ]
          },
          "metadata": {},
          "execution_count": 27
        }
      ],
      "source": [
        "clf = GaussianNB()\n",
        "clf.fit(X_train, y_train)\n",
        "clf.score(X_val, y_val)"
      ]
    },
    {
      "cell_type": "code",
      "source": [
        "from sklearn.metrics import confusion_matrix  \n",
        "y_pred = clf.predict(X_val)\n",
        "cm = confusion_matrix(y_val, y_pred)  \n",
        "print(cm)"
      ],
      "metadata": {
        "colab": {
          "base_uri": "https://localhost:8080/"
        },
        "id": "VRwFMQH3-Byj",
        "outputId": "6715220d-4d8d-4348-884a-564965e96143"
      },
      "execution_count": null,
      "outputs": [
        {
          "output_type": "stream",
          "name": "stdout",
          "text": [
            "[[44  7]\n",
            " [ 2 61]]\n"
          ]
        },
        {
          "output_type": "stream",
          "name": "stderr",
          "text": [
            "/usr/local/lib/python3.7/dist-packages/sklearn/utils/validation.py:1692: FutureWarning: Feature names only support names that are all strings. Got feature names with dtypes: ['tuple']. An error will be raised in 1.2.\n",
            "  FutureWarning,\n"
          ]
        }
      ]
    },
    {
      "cell_type": "markdown",
      "source": [
        "So we got:\n",
        "\n",
        "TP = 61\n",
        "FP = 7\n",
        "FN = 2\n",
        "TN = 44"
      ],
      "metadata": {
        "id": "RDCBuQLV_fCJ"
      }
    },
    {
      "cell_type": "markdown",
      "source": [
        "![image.png](data:image/png;base64,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)"
      ],
      "metadata": {
        "id": "UlUvjEqdAw9T"
      }
    },
    {
      "cell_type": "code",
      "source": [
        "from sklearn.metrics import classification_report\n",
        "\n",
        "print(classification_report(y_val, y_pred))"
      ],
      "metadata": {
        "colab": {
          "base_uri": "https://localhost:8080/"
        },
        "id": "YVqdrLlHCNSh",
        "outputId": "6bf7cb0a-2969-4ba1-ee00-0177cc8c8557"
      },
      "execution_count": null,
      "outputs": [
        {
          "output_type": "stream",
          "name": "stdout",
          "text": [
            "              precision    recall  f1-score   support\n",
            "\n",
            "         0.0       0.96      0.86      0.91        51\n",
            "         1.0       0.90      0.97      0.93        63\n",
            "\n",
            "    accuracy                           0.92       114\n",
            "   macro avg       0.93      0.92      0.92       114\n",
            "weighted avg       0.92      0.92      0.92       114\n",
            "\n"
          ]
        }
      ]
    },
    {
      "cell_type": "markdown",
      "source": [
        "![image.png](data:image/png;base64,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)\n",
        "\n",
        "![image.png](data:image/png;base64,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)"
      ],
      "metadata": {
        "id": "xbp31u1eCfkD"
      }
    },
    {
      "cell_type": "code",
      "source": [
        "from sklearn.metrics import roc_curve\n",
        "import matplotlib.pyplot as plt\n",
        "%matplotlib inline\n",
        "y_pred_prob = clf.predict_proba(X_val)[:,1]\n",
        "fpr, tpr, thresholds = roc_curve(y_val, y_pred_prob)\n",
        "# create plot\n",
        "plt.plot(fpr, tpr, label='ROC curve')\n",
        "plt.plot([0, 1], [0, 1], 'k--', label='Random guess')\n",
        "_ = plt.xlabel('False Positive Rate')\n",
        "_ = plt.ylabel('True Positive Rate')\n",
        "_ = plt.title('ROC Curve')\n",
        "_ = plt.xlim([-0.02, 1])\n",
        "_ = plt.ylim([0, 1.02])\n",
        "_ = plt.legend(loc=\"lower right\")"
      ],
      "metadata": {
        "colab": {
          "base_uri": "https://localhost:8080/",
          "height": 330
        },
        "id": "XOn5IUhzC24o",
        "outputId": "22d96edf-4c64-4df2-8264-457f8426a03e"
      },
      "execution_count": null,
      "outputs": [
        {
          "output_type": "stream",
          "name": "stderr",
          "text": [
            "/usr/local/lib/python3.7/dist-packages/sklearn/utils/validation.py:1692: FutureWarning: Feature names only support names that are all strings. Got feature names with dtypes: ['tuple']. An error will be raised in 1.2.\n",
            "  FutureWarning,\n"
          ]
        },
        {
          "output_type": "display_data",
          "data": {
            "text/plain": [
              "<Figure size 432x288 with 1 Axes>"
            ],
            "image/png": "[encoded data removed]"
          },
          "metadata": {
            "needs_background": "light"
          }
        }
      ]
    },
    {
      "cell_type": "code",
      "source": [
        "from sklearn.metrics import roc_auc_score\n",
        "\n",
        "roc_auc_score(y_val, y_pred_prob)"
      ],
      "metadata": {
        "colab": {
          "base_uri": "https://localhost:8080/"
        },
        "id": "qESWRHDXDRjG",
        "outputId": "36afc338-6470-4a9f-fcd1-6c6102fe20bc"
      },
      "execution_count": null,
      "outputs": [
        {
          "output_type": "execute_result",
          "data": {
            "text/plain": [
              "0.9859943977591037"
            ]
          },
          "metadata": {},
          "execution_count": 15
        }
      ]
    },
    {
      "cell_type": "markdown",
      "metadata": {
        "id": "hy1f_gU-4m0w"
      },
      "source": [
        "## Multinomial Naive Bayes"
      ]
    },
    {
      "cell_type": "code",
      "execution_count": null,
      "metadata": {
        "colab": {
          "base_uri": "https://localhost:8080/"
        },
        "id": "m5sNdnhh4m0w",
        "outputId": "3080d1e2-0a53-4728-f45f-7ec1b36051f2"
      },
      "outputs": [
        {
          "output_type": "stream",
          "name": "stderr",
          "text": [
            "/usr/local/lib/python3.7/dist-packages/sklearn/utils/validation.py:1692: FutureWarning: Feature names only support names that are all strings. Got feature names with dtypes: ['tuple']. An error will be raised in 1.2.\n",
            "  FutureWarning,\n",
            "/usr/local/lib/python3.7/dist-packages/sklearn/utils/validation.py:1692: FutureWarning: Feature names only support names that are all strings. Got feature names with dtypes: ['tuple']. An error will be raised in 1.2.\n",
            "  FutureWarning,\n"
          ]
        },
        {
          "output_type": "execute_result",
          "data": {
            "text/plain": [
              "0.8421052631578947"
            ]
          },
          "metadata": {},
          "execution_count": 16
        }
      ],
      "source": [
        "clf_mn = MultinomialNB()\n",
        "clf_mn.fit(X_train, y_train)\n",
        "clf_mn.score(X_val, y_val)"
      ]
    },
    {
      "cell_type": "code",
      "source": [
        "y_pred = clf_mn.predict(X_val)\n",
        "cm = confusion_matrix(y_val, y_pred)  \n",
        "print(cm)"
      ],
      "metadata": {
        "colab": {
          "base_uri": "https://localhost:8080/"
        },
        "id": "sPdmzXpK7dRx",
        "outputId": "570fdbf8-37ce-4393-ba39-da59bc686357"
      },
      "execution_count": null,
      "outputs": [
        {
          "output_type": "stream",
          "name": "stdout",
          "text": [
            "[[36 15]\n",
            " [ 3 60]]\n"
          ]
        },
        {
          "output_type": "stream",
          "name": "stderr",
          "text": [
            "/usr/local/lib/python3.7/dist-packages/sklearn/utils/validation.py:1692: FutureWarning: Feature names only support names that are all strings. Got feature names with dtypes: ['tuple']. An error will be raised in 1.2.\n",
            "  FutureWarning,\n"
          ]
        }
      ]
    },
    {
      "cell_type": "code",
      "source": [
        "print(classification_report(y_val, y_pred))"
      ],
      "metadata": {
        "colab": {
          "base_uri": "https://localhost:8080/"
        },
        "id": "2bWbdntT7nJS",
        "outputId": "24255543-0848-4929-99d9-10ea8591a8db"
      },
      "execution_count": null,
      "outputs": [
        {
          "output_type": "stream",
          "name": "stdout",
          "text": [
            "              precision    recall  f1-score   support\n",
            "\n",
            "         0.0       0.92      0.71      0.80        51\n",
            "         1.0       0.80      0.95      0.87        63\n",
            "\n",
            "    accuracy                           0.84       114\n",
            "   macro avg       0.86      0.83      0.83       114\n",
            "weighted avg       0.86      0.84      0.84       114\n",
            "\n"
          ]
        }
      ]
    },
    {
      "cell_type": "code",
      "source": [
        "y_pred_prob = clf_mn.predict_proba(X_val)[:,1]\n",
        "fpr, tpr, thresholds = roc_curve(y_val, y_pred_prob)\n",
        "# create plot\n",
        "plt.plot(fpr, tpr, label='ROC curve')\n",
        "plt.plot([0, 1], [0, 1], 'k--', label='Random guess')\n",
        "_ = plt.xlabel('False Positive Rate')\n",
        "_ = plt.ylabel('True Positive Rate')\n",
        "_ = plt.title('ROC Curve')\n",
        "_ = plt.xlim([-0.02, 1])\n",
        "_ = plt.ylim([0, 1.02])\n",
        "_ = plt.legend(loc=\"lower right\")"
      ],
      "metadata": {
        "colab": {
          "base_uri": "https://localhost:8080/",
          "height": 330
        },
        "id": "V6vIiHsy76zZ",
        "outputId": "64a3b8aa-cfb2-41cd-a547-4e8653a291e9"
      },
      "execution_count": null,
      "outputs": [
        {
          "output_type": "stream",
          "name": "stderr",
          "text": [
            "/usr/local/lib/python3.7/dist-packages/sklearn/utils/validation.py:1692: FutureWarning: Feature names only support names that are all strings. Got feature names with dtypes: ['tuple']. An error will be raised in 1.2.\n",
            "  FutureWarning,\n"
          ]
        },
        {
          "output_type": "display_data",
          "data": {
            "text/plain": [
              "<Figure size 432x288 with 1 Axes>"
            ],
            "image/png": "[encoded data removed]"
          },
          "metadata": {
            "needs_background": "light"
          }
        }
      ]
    },
    {
      "cell_type": "code",
      "source": [
        "roc_auc_score(y_val, y_pred_prob)"
      ],
      "metadata": {
        "colab": {
          "base_uri": "https://localhost:8080/"
        },
        "id": "Fa9tfOGp8Dgw",
        "outputId": "2ba79292-a256-49d3-e991-d859012d6f6f"
      },
      "execution_count": null,
      "outputs": [
        {
          "output_type": "execute_result",
          "data": {
            "text/plain": [
              "0.9369747899159664"
            ]
          },
          "metadata": {},
          "execution_count": 39
        }
      ]
    },
    {
      "cell_type": "markdown",
      "metadata": {
        "id": "WES7ViXV4m0x"
      },
      "source": [
        "## Bernoulli Naive Bayes"
      ]
    },
    {
      "cell_type": "code",
      "execution_count": null,
      "metadata": {
        "colab": {
          "base_uri": "https://localhost:8080/"
        },
        "id": "r3xR-Vm64m0x",
        "outputId": "b1a95980-2602-49cd-fc51-c3fbbad7a548"
      },
      "outputs": [
        {
          "output_type": "stream",
          "name": "stderr",
          "text": [
            "/usr/local/lib/python3.7/dist-packages/sklearn/utils/validation.py:1692: FutureWarning: Feature names only support names that are all strings. Got feature names with dtypes: ['tuple']. An error will be raised in 1.2.\n",
            "  FutureWarning,\n",
            "/usr/local/lib/python3.7/dist-packages/sklearn/utils/validation.py:1692: FutureWarning: Feature names only support names that are all strings. Got feature names with dtypes: ['tuple']. An error will be raised in 1.2.\n",
            "  FutureWarning,\n"
          ]
        },
        {
          "output_type": "execute_result",
          "data": {
            "text/plain": [
              "0.5526315789473685"
            ]
          },
          "metadata": {},
          "execution_count": 17
        }
      ],
      "source": [
        "clf_b = BernoulliNB()\n",
        "clf_b.fit(X_train, y_train)\n",
        "clf_b.score(X_val, y_val)"
      ]
    },
    {
      "cell_type": "code",
      "source": [
        "y_pred = clf_b.predict(X_val)\n",
        "cm = confusion_matrix(y_val, y_pred)  \n",
        "print(cm)"
      ],
      "metadata": {
        "colab": {
          "base_uri": "https://localhost:8080/"
        },
        "id": "gGUQVbDr8H14",
        "outputId": "547b3aea-0bcf-4413-8124-fe69e08239f9"
      },
      "execution_count": null,
      "outputs": [
        {
          "output_type": "stream",
          "name": "stdout",
          "text": [
            "[[ 0 51]\n",
            " [ 0 63]]\n"
          ]
        },
        {
          "output_type": "stream",
          "name": "stderr",
          "text": [
            "/usr/local/lib/python3.7/dist-packages/sklearn/utils/validation.py:1692: FutureWarning: Feature names only support names that are all strings. Got feature names with dtypes: ['tuple']. An error will be raised in 1.2.\n",
            "  FutureWarning,\n"
          ]
        }
      ]
    },
    {
      "cell_type": "code",
      "source": [
        "print(classification_report(y_val, y_pred))"
      ],
      "metadata": {
        "colab": {
          "base_uri": "https://localhost:8080/"
        },
        "id": "7lKEeM438Ob_",
        "outputId": "5cfbaab7-c3b3-4161-9cad-fbe3f9da7cb7"
      },
      "execution_count": null,
      "outputs": [
        {
          "output_type": "stream",
          "name": "stdout",
          "text": [
            "              precision    recall  f1-score   support\n",
            "\n",
            "         0.0       0.00      0.00      0.00        51\n",
            "         1.0       0.55      1.00      0.71        63\n",
            "\n",
            "    accuracy                           0.55       114\n",
            "   macro avg       0.28      0.50      0.36       114\n",
            "weighted avg       0.31      0.55      0.39       114\n",
            "\n"
          ]
        },
        {
          "output_type": "stream",
          "name": "stderr",
          "text": [
            "/usr/local/lib/python3.7/dist-packages/sklearn/metrics/_classification.py:1318: UndefinedMetricWarning: Precision and F-score are ill-defined and being set to 0.0 in labels with no predicted samples. Use `zero_division` parameter to control this behavior.\n",
            "  _warn_prf(average, modifier, msg_start, len(result))\n",
            "/usr/local/lib/python3.7/dist-packages/sklearn/metrics/_classification.py:1318: UndefinedMetricWarning: Precision and F-score are ill-defined and being set to 0.0 in labels with no predicted samples. Use `zero_division` parameter to control this behavior.\n",
            "  _warn_prf(average, modifier, msg_start, len(result))\n",
            "/usr/local/lib/python3.7/dist-packages/sklearn/metrics/_classification.py:1318: UndefinedMetricWarning: Precision and F-score are ill-defined and being set to 0.0 in labels with no predicted samples. Use `zero_division` parameter to control this behavior.\n",
            "  _warn_prf(average, modifier, msg_start, len(result))\n"
          ]
        }
      ]
    },
    {
      "cell_type": "code",
      "source": [
        "y_pred_prob = clf_b.predict_proba(X_val)[:,1]\n",
        "fpr, tpr, thresholds = roc_curve(y_val, y_pred_prob)\n",
        "# create plot\n",
        "plt.plot(fpr, tpr, label='ROC curve')\n",
        "plt.plot([0, 1], [0, 1], 'k--', label='Random guess')\n",
        "_ = plt.xlabel('False Positive Rate')\n",
        "_ = plt.ylabel('True Positive Rate')\n",
        "_ = plt.title('ROC Curve')\n",
        "_ = plt.xlim([-0.02, 1])\n",
        "_ = plt.ylim([0, 1.02])\n",
        "_ = plt.legend(loc=\"lower right\")"
      ],
      "metadata": {
        "colab": {
          "base_uri": "https://localhost:8080/",
          "height": 330
        },
        "id": "6POgYse48Pmp",
        "outputId": "3e2e9795-d210-4af8-c35c-742ec9871e39"
      },
      "execution_count": null,
      "outputs": [
        {
          "output_type": "stream",
          "name": "stderr",
          "text": [
            "/usr/local/lib/python3.7/dist-packages/sklearn/utils/validation.py:1692: FutureWarning: Feature names only support names that are all strings. Got feature names with dtypes: ['tuple']. An error will be raised in 1.2.\n",
            "  FutureWarning,\n"
          ]
        },
        {
          "output_type": "display_data",
          "data": {
            "text/plain": [
              "<Figure size 432x288 with 1 Axes>"
            ],
            "image/png": "[encoded data removed]"
          },
          "metadata": {
            "needs_background": "light"
          }
        }
      ]
    },
    {
      "cell_type": "code",
      "source": [
        "roc_auc_score(y_val, y_pred_prob)"
      ],
      "metadata": {
        "colab": {
          "base_uri": "https://localhost:8080/"
        },
        "id": "NTK63Bnf8Uug",
        "outputId": "cb20f877-39c4-4452-996e-5f2f76e5512f"
      },
      "execution_count": null,
      "outputs": [
        {
          "output_type": "execute_result",
          "data": {
            "text/plain": [
              "0.5317460317460317"
            ]
          },
          "metadata": {},
          "execution_count": 43
        }
      ]
    },
    {
      "cell_type": "markdown",
      "source": [
        "## Complement Naive Bayes\n"
      ],
      "metadata": {
        "id": "vA5jaJ-I6AWU"
      }
    },
    {
      "cell_type": "code",
      "source": [
        "clf_co = ComplementNB()\n",
        "clf_co.fit(X_train, y_train)\n",
        "clf_co.score(X_val, y_val)"
      ],
      "metadata": {
        "colab": {
          "base_uri": "https://localhost:8080/"
        },
        "id": "Qc9SsID36DTe",
        "outputId": "19226f69-5c10-4404-d75c-8250233e2576"
      },
      "execution_count": null,
      "outputs": [
        {
          "output_type": "stream",
          "name": "stderr",
          "text": [
            "/usr/local/lib/python3.7/dist-packages/sklearn/utils/validation.py:1692: FutureWarning: Feature names only support names that are all strings. Got feature names with dtypes: ['tuple']. An error will be raised in 1.2.\n",
            "  FutureWarning,\n",
            "/usr/local/lib/python3.7/dist-packages/sklearn/utils/validation.py:1692: FutureWarning: Feature names only support names that are all strings. Got feature names with dtypes: ['tuple']. An error will be raised in 1.2.\n",
            "  FutureWarning,\n"
          ]
        },
        {
          "output_type": "execute_result",
          "data": {
            "text/plain": [
              "0.8508771929824561"
            ]
          },
          "metadata": {},
          "execution_count": 21
        }
      ]
    },
    {
      "cell_type": "code",
      "source": [
        "y_pred = clf_co.predict(X_val)\n",
        "cm = confusion_matrix(y_val, y_pred)  \n",
        "print(cm)"
      ],
      "metadata": {
        "colab": {
          "base_uri": "https://localhost:8080/"
        },
        "id": "pl73pocw8WeQ",
        "outputId": "970a532f-871d-45bb-b3d2-b3dd80dfd168"
      },
      "execution_count": null,
      "outputs": [
        {
          "output_type": "stream",
          "name": "stdout",
          "text": [
            "[[37 14]\n",
            " [ 3 60]]\n"
          ]
        },
        {
          "output_type": "stream",
          "name": "stderr",
          "text": [
            "/usr/local/lib/python3.7/dist-packages/sklearn/utils/validation.py:1692: FutureWarning: Feature names only support names that are all strings. Got feature names with dtypes: ['tuple']. An error will be raised in 1.2.\n",
            "  FutureWarning,\n"
          ]
        }
      ]
    },
    {
      "cell_type": "code",
      "source": [
        "print(classification_report(y_val, y_pred))"
      ],
      "metadata": {
        "colab": {
          "base_uri": "https://localhost:8080/"
        },
        "id": "UlaZ7bjH8bXn",
        "outputId": "5ddb6f1c-fa81-43a5-9a95-1af37fd49e42"
      },
      "execution_count": null,
      "outputs": [
        {
          "output_type": "stream",
          "name": "stdout",
          "text": [
            "              precision    recall  f1-score   support\n",
            "\n",
            "         0.0       0.93      0.73      0.81        51\n",
            "         1.0       0.81      0.95      0.88        63\n",
            "\n",
            "    accuracy                           0.85       114\n",
            "   macro avg       0.87      0.84      0.84       114\n",
            "weighted avg       0.86      0.85      0.85       114\n",
            "\n"
          ]
        }
      ]
    },
    {
      "cell_type": "code",
      "source": [
        "y_pred_prob = clf_co.predict_proba(X_val)[:,1]\n",
        "fpr, tpr, thresholds = roc_curve(y_val, y_pred_prob)\n",
        "# create plot\n",
        "plt.plot(fpr, tpr, label='ROC curve')\n",
        "plt.plot([0, 1], [0, 1], 'k--', label='Random guess')\n",
        "_ = plt.xlabel('False Positive Rate')\n",
        "_ = plt.ylabel('True Positive Rate')\n",
        "_ = plt.title('ROC Curve')\n",
        "_ = plt.xlim([-0.02, 1])\n",
        "_ = plt.ylim([0, 1.02])\n",
        "_ = plt.legend(loc=\"lower right\")"
      ],
      "metadata": {
        "colab": {
          "base_uri": "https://localhost:8080/",
          "height": 330
        },
        "id": "vWA7sOgu8eyA",
        "outputId": "0e70acf3-53f5-41e9-e462-af470ec96a7b"
      },
      "execution_count": null,
      "outputs": [
        {
          "output_type": "stream",
          "name": "stderr",
          "text": [
            "/usr/local/lib/python3.7/dist-packages/sklearn/utils/validation.py:1692: FutureWarning: Feature names only support names that are all strings. Got feature names with dtypes: ['tuple']. An error will be raised in 1.2.\n",
            "  FutureWarning,\n"
          ]
        },
        {
          "output_type": "display_data",
          "data": {
            "text/plain": [
              "<Figure size 432x288 with 1 Axes>"
            ],
            "image/png": "[encoded data removed]"
          },
          "metadata": {
            "needs_background": "light"
          }
        }
      ]
    },
    {
      "cell_type": "code",
      "source": [
        "roc_auc_score(y_val, y_pred_prob)"
      ],
      "metadata": {
        "id": "mXVtzTMx8jLv",
        "outputId": "7ccf7c74-2fe2-49da-db71-350517dccc0a",
        "colab": {
          "base_uri": "https://localhost:8080/"
        }
      },
      "execution_count": null,
      "outputs": [
        {
          "output_type": "execute_result",
          "data": {
            "text/plain": [
              "0.9365079365079365"
            ]
          },
          "metadata": {},
          "execution_count": 48
        }
      ]
    },
    {
      "cell_type": "markdown",
      "source": [
        "## Categorical Naive Bayes"
      ],
      "metadata": {
        "id": "OXKiUO0P6yeU"
      }
    },
    {
      "cell_type": "code",
      "source": [
        "clf_ca = CategoricalNB()\n",
        "clf_ca.fit(X_train, y_train)\n",
        "clf_ca.score(X_val, y_val)"
      ],
      "metadata": {
        "colab": {
          "base_uri": "https://localhost:8080/",
          "height": 415
        },
        "id": "iFmSRs2M61AM",
        "outputId": "11a1546f-b9aa-4b0e-ca28-b8d4ed5ef5dd"
      },
      "execution_count": null,
      "outputs": [
        {
          "output_type": "stream",
          "name": "stderr",
          "text": [
            "/usr/local/lib/python3.7/dist-packages/sklearn/utils/validation.py:1692: FutureWarning: Feature names only support names that are all strings. Got feature names with dtypes: ['tuple']. An error will be raised in 1.2.\n",
            "  FutureWarning,\n",
            "/usr/local/lib/python3.7/dist-packages/sklearn/utils/validation.py:1692: FutureWarning: Feature names only support names that are all strings. Got feature names with dtypes: ['tuple']. An error will be raised in 1.2.\n",
            "  FutureWarning,\n"
          ]
        },
        {
          "output_type": "error",
          "ename": "IndexError",
          "evalue": "ignored",
          "traceback": [
            "\u001b[0;31m---------------------------------------------------------------------------\u001b[0m",
            "\u001b[0;31mIndexError\u001b[0m                                Traceback (most recent call last)",
            "\u001b[0;32m<ipython-input-34-44ea47ea777d>\u001b[0m in \u001b[0;36m<module>\u001b[0;34m\u001b[0m\n\u001b[1;32m      1\u001b[0m \u001b[0mclf_ca\u001b[0m \u001b[0;34m=\u001b[0m \u001b[0mCategoricalNB\u001b[0m\u001b[0;34m(\u001b[0m\u001b[0;34m)\u001b[0m\u001b[0;34m\u001b[0m\u001b[0;34m\u001b[0m\u001b[0m\n\u001b[1;32m      2\u001b[0m \u001b[0mclf_ca\u001b[0m\u001b[0;34m.\u001b[0m\u001b[0mfit\u001b[0m\u001b[0;34m(\u001b[0m\u001b[0mX_train\u001b[0m\u001b[0;34m,\u001b[0m \u001b[0my_train\u001b[0m\u001b[0;34m)\u001b[0m\u001b[0;34m\u001b[0m\u001b[0;34m\u001b[0m\u001b[0m\n\u001b[0;32m----> 3\u001b[0;31m \u001b[0mclf_ca\u001b[0m\u001b[0;34m.\u001b[0m\u001b[0mscore\u001b[0m\u001b[0;34m(\u001b[0m\u001b[0mX_val\u001b[0m\u001b[0;34m,\u001b[0m \u001b[0my_val\u001b[0m\u001b[0;34m)\u001b[0m\u001b[0;34m\u001b[0m\u001b[0;34m\u001b[0m\u001b[0m\n\u001b[0m",
            "\u001b[0;32m/usr/local/lib/python3.7/dist-packages/sklearn/base.py\u001b[0m in \u001b[0;36mscore\u001b[0;34m(self, X, y, sample_weight)\u001b[0m\n\u001b[1;32m    649\u001b[0m         \u001b[0;32mfrom\u001b[0m \u001b[0;34m.\u001b[0m\u001b[0mmetrics\u001b[0m \u001b[0;32mimport\u001b[0m \u001b[0maccuracy_score\u001b[0m\u001b[0;34m\u001b[0m\u001b[0;34m\u001b[0m\u001b[0m\n\u001b[1;32m    650\u001b[0m \u001b[0;34m\u001b[0m\u001b[0m\n\u001b[0;32m--> 651\u001b[0;31m         \u001b[0;32mreturn\u001b[0m \u001b[0maccuracy_score\u001b[0m\u001b[0;34m(\u001b[0m\u001b[0my\u001b[0m\u001b[0;34m,\u001b[0m \u001b[0mself\u001b[0m\u001b[0;34m.\u001b[0m\u001b[0mpredict\u001b[0m\u001b[0;34m(\u001b[0m\u001b[0mX\u001b[0m\u001b[0;34m)\u001b[0m\u001b[0;34m,\u001b[0m \u001b[0msample_weight\u001b[0m\u001b[0;34m=\u001b[0m\u001b[0msample_weight\u001b[0m\u001b[0;34m)\u001b[0m\u001b[0;34m\u001b[0m\u001b[0;34m\u001b[0m\u001b[0m\n\u001b[0m\u001b[1;32m    652\u001b[0m \u001b[0;34m\u001b[0m\u001b[0m\n\u001b[1;32m    653\u001b[0m     \u001b[0;32mdef\u001b[0m \u001b[0m_more_tags\u001b[0m\u001b[0;34m(\u001b[0m\u001b[0mself\u001b[0m\u001b[0;34m)\u001b[0m\u001b[0;34m:\u001b[0m\u001b[0;34m\u001b[0m\u001b[0;34m\u001b[0m\u001b[0m\n",
            "\u001b[0;32m/usr/local/lib/python3.7/dist-packages/sklearn/naive_bayes.py\u001b[0m in \u001b[0;36mpredict\u001b[0;34m(self, X)\u001b[0m\n\u001b[1;32m     81\u001b[0m         \u001b[0mcheck_is_fitted\u001b[0m\u001b[0;34m(\u001b[0m\u001b[0mself\u001b[0m\u001b[0;34m)\u001b[0m\u001b[0;34m\u001b[0m\u001b[0;34m\u001b[0m\u001b[0m\n\u001b[1;32m     82\u001b[0m         \u001b[0mX\u001b[0m \u001b[0;34m=\u001b[0m \u001b[0mself\u001b[0m\u001b[0;34m.\u001b[0m\u001b[0m_check_X\u001b[0m\u001b[0;34m(\u001b[0m\u001b[0mX\u001b[0m\u001b[0;34m)\u001b[0m\u001b[0;34m\u001b[0m\u001b[0;34m\u001b[0m\u001b[0m\n\u001b[0;32m---> 83\u001b[0;31m         \u001b[0mjll\u001b[0m \u001b[0;34m=\u001b[0m \u001b[0mself\u001b[0m\u001b[0;34m.\u001b[0m\u001b[0m_joint_log_likelihood\u001b[0m\u001b[0;34m(\u001b[0m\u001b[0mX\u001b[0m\u001b[0;34m)\u001b[0m\u001b[0;34m\u001b[0m\u001b[0;34m\u001b[0m\u001b[0m\n\u001b[0m\u001b[1;32m     84\u001b[0m         \u001b[0;32mreturn\u001b[0m \u001b[0mself\u001b[0m\u001b[0;34m.\u001b[0m\u001b[0mclasses_\u001b[0m\u001b[0;34m[\u001b[0m\u001b[0mnp\u001b[0m\u001b[0;34m.\u001b[0m\u001b[0margmax\u001b[0m\u001b[0;34m(\u001b[0m\u001b[0mjll\u001b[0m\u001b[0;34m,\u001b[0m \u001b[0maxis\u001b[0m\u001b[0;34m=\u001b[0m\u001b[0;36m1\u001b[0m\u001b[0;34m)\u001b[0m\u001b[0;34m]\u001b[0m\u001b[0;34m\u001b[0m\u001b[0;34m\u001b[0m\u001b[0m\n\u001b[1;32m     85\u001b[0m \u001b[0;34m\u001b[0m\u001b[0m\n",
            "\u001b[0;32m/usr/local/lib/python3.7/dist-packages/sklearn/naive_bayes.py\u001b[0m in \u001b[0;36m_joint_log_likelihood\u001b[0;34m(self, X)\u001b[0m\n\u001b[1;32m   1459\u001b[0m         \u001b[0;32mfor\u001b[0m \u001b[0mi\u001b[0m \u001b[0;32min\u001b[0m \u001b[0mrange\u001b[0m\u001b[0;34m(\u001b[0m\u001b[0mself\u001b[0m\u001b[0;34m.\u001b[0m\u001b[0mn_features_in_\u001b[0m\u001b[0;34m)\u001b[0m\u001b[0;34m:\u001b[0m\u001b[0;34m\u001b[0m\u001b[0;34m\u001b[0m\u001b[0m\n\u001b[1;32m   1460\u001b[0m             \u001b[0mindices\u001b[0m \u001b[0;34m=\u001b[0m \u001b[0mX\u001b[0m\u001b[0;34m[\u001b[0m\u001b[0;34m:\u001b[0m\u001b[0;34m,\u001b[0m \u001b[0mi\u001b[0m\u001b[0;34m]\u001b[0m\u001b[0;34m\u001b[0m\u001b[0;34m\u001b[0m\u001b[0m\n\u001b[0;32m-> 1461\u001b[0;31m             \u001b[0mjll\u001b[0m \u001b[0;34m+=\u001b[0m \u001b[0mself\u001b[0m\u001b[0;34m.\u001b[0m\u001b[0mfeature_log_prob_\u001b[0m\u001b[0;34m[\u001b[0m\u001b[0mi\u001b[0m\u001b[0;34m]\u001b[0m\u001b[0;34m[\u001b[0m\u001b[0;34m:\u001b[0m\u001b[0;34m,\u001b[0m \u001b[0mindices\u001b[0m\u001b[0;34m]\u001b[0m\u001b[0;34m.\u001b[0m\u001b[0mT\u001b[0m\u001b[0;34m\u001b[0m\u001b[0;34m\u001b[0m\u001b[0m\n\u001b[0m\u001b[1;32m   1462\u001b[0m         \u001b[0mtotal_ll\u001b[0m \u001b[0;34m=\u001b[0m \u001b[0mjll\u001b[0m \u001b[0;34m+\u001b[0m \u001b[0mself\u001b[0m\u001b[0;34m.\u001b[0m\u001b[0mclass_log_prior_\u001b[0m\u001b[0;34m\u001b[0m\u001b[0;34m\u001b[0m\u001b[0m\n\u001b[1;32m   1463\u001b[0m         \u001b[0;32mreturn\u001b[0m \u001b[0mtotal_ll\u001b[0m\u001b[0;34m\u001b[0m\u001b[0;34m\u001b[0m\u001b[0m\n",
            "\u001b[0;31mIndexError\u001b[0m: index 1 is out of bounds for axis 1 with size 1"
          ]
        }
      ]
    },
    {
      "cell_type": "markdown",
      "source": [
        "## Complex Bayes net (optional)"
      ],
      "metadata": {
        "id": "EKcNeZea7vY8"
      }
    },
    {
      "cell_type": "code",
      "source": [
        "clf_x = GaussianNB()\n",
        "clf_x.partial_fit(X_train, y_train, classes=np.unique(y_train))\n",
        "clf_x.score(X_val, y_val)"
      ],
      "metadata": {
        "colab": {
          "base_uri": "https://localhost:8080/"
        },
        "id": "uU7RVKHG72ud",
        "outputId": "8887e27b-66f1-4444-bd31-0a78242cbba7"
      },
      "execution_count": null,
      "outputs": [
        {
          "output_type": "stream",
          "name": "stderr",
          "text": [
            "/usr/local/lib/python3.7/dist-packages/sklearn/utils/validation.py:1692: FutureWarning: Feature names only support names that are all strings. Got feature names with dtypes: ['tuple']. An error will be raised in 1.2.\n",
            "  FutureWarning,\n",
            "/usr/local/lib/python3.7/dist-packages/sklearn/utils/validation.py:1692: FutureWarning: Feature names only support names that are all strings. Got feature names with dtypes: ['tuple']. An error will be raised in 1.2.\n",
            "  FutureWarning,\n"
          ]
        },
        {
          "output_type": "execute_result",
          "data": {
            "text/plain": [
              "0.9210526315789473"
            ]
          },
          "metadata": {},
          "execution_count": 22
        }
      ]
    }
  ],
  "metadata": {
    "kernelspec": {
      "display_name": "Python 3",
      "language": "python",
      "name": "python3"
    },
    "language_info": {
      "codemirror_mode": {
        "name": "ipython",
        "version": 3
      },
      "file_extension": ".py",
      "mimetype": "text/x-python",
      "name": "python",
      "nbconvert_exporter": "python",
      "pygments_lexer": "ipython3",
      "version": "3.7.6"
    },
    "colab": {
      "provenance": [],
      "collapsed_sections": []
    }
  },
  "nbformat": 4,
  "nbformat_minor": 0
}